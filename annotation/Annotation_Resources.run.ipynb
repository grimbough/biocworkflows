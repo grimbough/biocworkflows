{
 "cells": [
  {
   "cell_type": "markdown",
   "metadata": {},
   "source": [
    "<h1>\n",
    "Annotation Resources\n",
    "</h1>\n",
    "-   [Introduction](#introduction)\n",
    "-   [Set Up](#setup)\n",
    "-   [Using AnnotationHub](#AnnotationHub)\n",
    "    -   [AnnotationHub exercises](#AHEx)\n",
    "-   [OrgDb Objects](#OrgDb)\n",
    "    -   [OrgDb exercises](#OrgDbEx)\n",
    "-   [TxDb Objects](#TxDb)\n",
    "    -   [TxDb exercises](#TxDbEx)\n",
    "-   [OrganismDb Objects](#OrganismDb)\n",
    "    -   [OrganismDb exercises](#OrganismDbEx)\n",
    "-   [BSgenome Objects](#BSgenome)\n",
    "    -   [BSgenome exercises](#BSgenomeEx)\n",
    "-   [Using the biomaRt web service](#biomaRt)\n",
    "    -   [biomaRt exercises](#biomaRtEx)\n",
    "-   [Creating annotation objects](#creation)\n",
    "-   [Important considerations](#considerations)\n",
    "-   [sessionInfo()](#sessioninfo)\n",
    "-   [Acknowledgements](#acknowledgements)\n",
    "-   [References](#references)\n",
    "-   [Answers for exercises](#answers)\n",
    "\n",
    "<h2 id=\"introduction\">\n",
    "Introduction\n",
    "</h2>\n",
    "Annotation resources make up a significant proportion of the Bioconductor project\\[1\\]. And there are also a diverse set of online resources available which are accessed using specific packages. This walkthrough will describe the most popular of these resources and give some high level examples on how to use them.\n",
    "\n",
    "Bioconductor annotation resources have traditionally been used near the end of an analysis. After the bulk of the data analysis, annotations would be used interpretatively to learn about the most significant results. But increasingly, they are also used as a starting point or even as an intermediate step to help guide a study that is still in progress. In addition to this, what it means for something to be an annotation is also becoming less clear than it once was. It used to be clear that annotations were only those things that had been established after multiple different studies had been performed (such as the primary role of a gene product). But today many large data sets are treated by communities in much the same way that classic annotations once were: as a reference for additional comparisons.\n",
    "\n",
    "Another change that is underway with annotations in Bioconductor is in the way that they are obtained. In the past annotations existed almost exclusively as separate annotation packages\\[2,3,4\\]. Today packages are still an enormous source of annotations. The current [release repository](http://bioconductor.org/packages/release/BiocViews.html#___AnnotationData) contains over eight hundred annotation packages. This table summarizes some of the more important classes of annotation objects that are often accessed using packages:\n",
    "\n",
    "<style>\n",
    "table, th, td {\n",
    "    border-collapse: collapse;\n",
    "}\n",
    "th, td {\n",
    "    padding: 5px;\n",
    "}\n",
    "th {\n",
    "    text-align: left;\n",
    "    background-color: #D0D0D0;\n",
    "}\n",
    "</style>\n",
    "<table width=\"100%\">\n",
    "<tr>\n",
    "    <th> Object Type </th>\n",
    "    <th> Example Package Name </th>\n",
    "    <th> Contents </th>\n",
    "\n",
    "</tr>\n",
    "<tbody>\n",
    "    <tr>\n",
    "      <td> TxDb </td>\n",
    "      <td>\n",
    "        <a href =\n",
    "          \"http://bioconductor.org/packages/TxDb.Hsapiens.UCSC.hg19.knownGene/\">\n",
    "          <div> TxDb.Hsapiens.UCSC.hg19.knownGene </div>\n",
    "        </a>\n",
    "      </td>\n",
    "      <td> Transcriptome ranges for the known gene track of Homo sapiens,\n",
    "           e.g., introns, exons, UTR regions. </td>\n",
    "    </tr>\n",
    "    <tr>\n",
    "      <td> OrgDb </td>\n",
    "      <td> \n",
    "        <a href = \"http://bioconductor.org/packages/org.Hs.eg.db/\">\n",
    "        <div> org.Hs.eg.db </div>\n",
    "        </a>\n",
    "      </td>\n",
    "      <td> Gene-based information for Homo sapiens; useful for mapping between\n",
    "           gene IDs, Names, Symbols, GO and KEGG identifiers, etc. </td>\n",
    "    </tr>\n",
    "    <tr>\n",
    "      <td> BSgenome </td>\n",
    "      <td>\n",
    "        <a href =\n",
    "        \"http://bioconductor.org/packages/BSgenome.Hsapiens.UCSC.hg19/\">\n",
    "        <div> BSgenome.Hsapiens.UCSC.hg19 </div>\n",
    "        </a>\n",
    "      </td>\n",
    "      <td> Full genome sequence for Homo sapiens. </td>\n",
    "    </tr>\n",
    "    <tr>\n",
    "      <td> OrganismDb </td>\n",
    "      <td>\n",
    "        <a href = \"http://bioconductor.org/packages/Homo.sapiens/\">\n",
    "        <div> Homo.sapiens </div>\n",
    "        </a>\n",
    "      </td>\n",
    "      <td> Collection of multiple annotations for a common organism\n",
    "           and genome build. </td> \n",
    "    </tr>\n",
    "    <tr>\n",
    "      <td> AnnotationHub </td>\n",
    "      <td>\n",
    "        <a href = \"http://bioconductor.org/packages/AnnotationHub/\">\n",
    "        <div> AnnotationHub </div>\n",
    "        </a>\n",
    "      </td>\n",
    "      <td> Provides a convenient interface to annotations from many \n",
    "           different sources; objects are returned as fully parsed Bioconductor\n",
    "           data objects or as the name of a file on disk. </td>\n",
    "    </tr>\n",
    "\n",
    "</tbody>\n",
    "</table>\n",
    "But in spite of the popularity of annotation packages, annotations are increasingly also being pulled down from web services like biomaRt\\[5,6,7\\] or from the AnnotationHub\\[8\\]. And both of these represent enormous resources for annotation data.\n",
    "\n",
    "In part because of the rapidly evolving landscape, it is currently impossible in a single document to cover every possible annotation or even every kind of annotation present in Bioconductor. So here we will instead go over the most popular annotation resources and describe them in a way intended to expose common patterns used for accessing them. The hope is that a user with this information will be able to make educated guesses about how to find and use additional resources that will inevitably be added later. Topics that will be covered will include the following:\n",
    "\n",
    "<h2 id=\"setup\">\n",
    "Set Up\n",
    "</h2>\n",
    "In this chapter we make use of several Bioconductor packages. You can install them with biocLite():"
   ]
  },
  {
   "cell_type": "markdown",
   "metadata": {},
   "source": [
    "``` r\n",
    "## try http:// if https:// URLs are not supported\n",
    "source(\"https://bioconductor.org/biocLite.R\")\n",
    "biocLite(c(\"AnnotationHub\", \"Homo.sapiens\",\n",
    "           \"TxDb.Hsapiens.UCSC.hg19.knownGene\", \n",
    "           \"BSgenome.Hsapiens.UCSC.hg19\", \"biomaRt\",\n",
    "           \"TxDb.Athaliana.BioMart.plantsmart22\")) \n",
    "```"
   ]
  },
  {
   "cell_type": "markdown",
   "metadata": {},
   "source": [
    "The usage of the installed packages will be described in detail within the Usage section.\n",
    "\n",
    "<h2 id=\"AnnotationHub\">\n",
    "Using AnnotationHub\n",
    "</h2>\n",
    "The top of the list for learning about annotation resources is the relatively new AnnotationHub package\\[8\\]. The AnnotationHub was created to provide a convenient access point for end users to find a large range of different annotation objects for use with Bioconductor. Resources found in the AnnotationHub are easy to discover and are presented to the user as familiar Bioconductor data objects. Because it is a recent addition, the AnnotationHub allows access to a broad range of annotation like objects, some of which may not have been considered annotations even a few years ago. To get started with the AnnotationHub users only need to load the package and then create a local AnnotationHub object like this:"
   ]
  },
  {
   "cell_type": "markdown",
   "metadata": {},
   "source": [
    "``` r\n",
    "library(\"AnnotationHub\") \n",
    "ah <- AnnotationHub() \n",
    "```"
   ]
  },
  {
   "cell_type": "markdown",
   "metadata": {},
   "source": [
    "The very 1st time that you call the AnnotationHub, it will create a cache directory on your system and download the latest metadata for the hubs current contents. From that time forward, whenever you download one of the hubs data objects, it will also cache those files in the local directory so that if you request the information again, you will be able to access it quickly.\n",
    "\n",
    "The show method of an AnnotationHub object will tell you how many resources are currently accessible using that object as well as give a high level overview of the most common kinds of data present."
   ]
  },
  {
   "cell_type": "code",
   "execution_count": 1,
   "metadata": {},
   "outputs": [
    {
     "ename": "ERROR",
     "evalue": "Error in eval(expr, envir, enclos): object 'ah' not found\n",
     "output_type": "error",
     "traceback": [
      "Error in eval(expr, envir, enclos): object 'ah' not found\n"
     ]
    }
   ],
   "source": [
    "ah "
   ]
  },
  {
   "cell_type": "markdown",
   "metadata": {},
   "source": [
    "As you can see from the object above, there are a LOT of different resources available. So normally when you get an AnnotationHub object the 1st thing you want to do is to filter it to remove unwanted resources.\n",
    "\n",
    "Fortunately, the AnnotationHub has several different kinds of metadata that you can use for searching and subsetting. To see the different categories all you need to do is to type the name of your AnnotationHub object and then tab complete from the '$' operator. And to see all possible contents of one of these categories you can pass that value in to unique like this:"
   ]
  },
  {
   "cell_type": "code",
   "execution_count": 2,
   "metadata": {},
   "outputs": [
    {
     "ename": "ERROR",
     "evalue": "Error in unique(ah$dataprovider): object 'ah' not found\n",
     "output_type": "error",
     "traceback": [
      "Error in unique(ah$dataprovider): object 'ah' not found\n"
     ]
    }
   ],
   "source": [
    "unique(ah$dataprovider) "
   ]
  },
  {
   "cell_type": "markdown",
   "metadata": {},
   "source": [
    "One of the most valuable ways in which the data is labeled is according to the kind of R object that will be returned to you."
   ]
  },
  {
   "cell_type": "code",
   "execution_count": 3,
   "metadata": {},
   "outputs": [
    {
     "ename": "ERROR",
     "evalue": "Error in unique(ah$rdataclass): object 'ah' not found\n",
     "output_type": "error",
     "traceback": [
      "Error in unique(ah$rdataclass): object 'ah' not found\n"
     ]
    }
   ],
   "source": [
    "unique(ah$rdataclass) "
   ]
  },
  {
   "cell_type": "markdown",
   "metadata": {},
   "source": [
    "Once you have identified which sorts of metadata you would like to use to find your data of interest, you can then use the subset or query methods to reduce the size of the hub object to something more manageable. For example you could select only those records where the string 'GRanges' was in the metadata. As you can see GRanges are one of the more popular formats for data that comes from the AnnotationHub."
   ]
  },
  {
   "cell_type": "code",
   "execution_count": 4,
   "metadata": {},
   "outputs": [
    {
     "ename": "ERROR",
     "evalue": "Error in eval(expr, envir, enclos): could not find function \"query\"\n",
     "output_type": "error",
     "traceback": [
      "Error in eval(expr, envir, enclos): could not find function \"query\"\n"
     ]
    },
    {
     "ename": "ERROR",
     "evalue": "Error in eval(expr, envir, enclos): object 'grs' not found\n",
     "output_type": "error",
     "traceback": [
      "Error in eval(expr, envir, enclos): object 'grs' not found\n"
     ]
    }
   ],
   "source": [
    "grs <- query(ah, \"GRanges\") \n",
    "grs "
   ]
  },
  {
   "cell_type": "markdown",
   "metadata": {},
   "source": [
    "Or you can use subsetting to only select for matches on a specific field"
   ]
  },
  {
   "cell_type": "code",
   "execution_count": 5,
   "metadata": {},
   "outputs": [
    {
     "ename": "ERROR",
     "evalue": "Error in eval(expr, envir, enclos): object 'ah' not found\n",
     "output_type": "error",
     "traceback": [
      "Error in eval(expr, envir, enclos): object 'ah' not found\n"
     ]
    }
   ],
   "source": [
    "grs <- ah[ah$rdataclass == \"GRanges\",] "
   ]
  },
  {
   "cell_type": "markdown",
   "metadata": {},
   "source": [
    "The subset function is also provided."
   ]
  },
  {
   "cell_type": "code",
   "execution_count": 6,
   "metadata": {},
   "outputs": [
    {
     "ename": "ERROR",
     "evalue": "Error in subset(ah, ah$rdataclass == \"OrgDb\"): object 'ah' not found\n",
     "output_type": "error",
     "traceback": [
      "Error in subset(ah, ah$rdataclass == \"OrgDb\"): object 'ah' not found\n"
     ]
    },
    {
     "ename": "ERROR",
     "evalue": "Error in eval(expr, envir, enclos): object 'orgs' not found\n",
     "output_type": "error",
     "traceback": [
      "Error in eval(expr, envir, enclos): object 'orgs' not found\n"
     ]
    }
   ],
   "source": [
    "orgs <- subset(ah, ah$rdataclass == \"OrgDb\") \n",
    "orgs "
   ]
  },
  {
   "cell_type": "markdown",
   "metadata": {},
   "source": [
    "And if you really need access to all the metadata you can extract it as a DataFrame using mcols() like so:"
   ]
  },
  {
   "cell_type": "code",
   "execution_count": 7,
   "metadata": {},
   "outputs": [
    {
     "ename": "ERROR",
     "evalue": "Error in eval(expr, envir, enclos): could not find function \"mcols\"\n",
     "output_type": "error",
     "traceback": [
      "Error in eval(expr, envir, enclos): could not find function \"mcols\"\n"
     ]
    }
   ],
   "source": [
    "meta <- mcols(ah) "
   ]
  },
  {
   "cell_type": "markdown",
   "metadata": {},
   "source": [
    "Also if you are a fan of GUI's you can use the display method to look at your data in a browser and return selected rows back as a smaller AnnotationHub object like this:"
   ]
  },
  {
   "cell_type": "markdown",
   "metadata": {},
   "source": [
    "``` r\n",
    "sah <- display(ah) \n",
    "```"
   ]
  },
  {
   "cell_type": "markdown",
   "metadata": {},
   "source": [
    "Calling this method will produce a web based interface like the one pictured here:\n",
    "\n",
    "<img src=\"display.png\" width=\"100%\">\n",
    "\n",
    "Once you have the AnnotationHub object pared down to a reasonable size, and are sure about which records you want to retrieve, then you only need to use the '\\[\\[' operator to extract them. Using the '\\[\\[' operator, you can extract by numeric index (1,2,3) or by AnnotationHub ID. If you choose to use the former, you simply extract the element that you are interested in. So for our chain example, you might just want to 1st one like this:"
   ]
  },
  {
   "cell_type": "code",
   "execution_count": 8,
   "metadata": {},
   "outputs": [
    {
     "ename": "ERROR",
     "evalue": "Error in eval(expr, envir, enclos): object 'grs' not found\n",
     "output_type": "error",
     "traceback": [
      "Error in eval(expr, envir, enclos): object 'grs' not found\n"
     ]
    },
    {
     "ename": "ERROR",
     "evalue": "Error in head(res, n = 3): object 'res' not found\n",
     "output_type": "error",
     "traceback": [
      "Error in head(res, n = 3): object 'res' not found\n"
     ]
    }
   ],
   "source": [
    "res <- grs[[1]] \n",
    "head(res, n=3) "
   ]
  },
  {
   "cell_type": "markdown",
   "metadata": {},
   "source": [
    "Or you might have decided that you want to see the data for the green spotted pufferfish by that you spotted in the orgs subset under the name 'AH13961'. That data could also be extracted like this:"
   ]
  },
  {
   "cell_type": "code",
   "execution_count": 9,
   "metadata": {},
   "outputs": [
    {
     "ename": "ERROR",
     "evalue": "Error in eval(expr, envir, enclos): could not find function \"query\"\n",
     "output_type": "error",
     "traceback": [
      "Error in eval(expr, envir, enclos): could not find function \"query\"\n"
     ]
    },
    {
     "ename": "ERROR",
     "evalue": "Error in eval(expr, envir, enclos): object 'rabbit' not found\n",
     "output_type": "error",
     "traceback": [
      "Error in eval(expr, envir, enclos): object 'rabbit' not found\n"
     ]
    }
   ],
   "source": [
    "rabbit <- query(orgs, \"Oryctolagus\")[[1]] \n",
    "rabbit "
   ]
  },
  {
   "cell_type": "markdown",
   "metadata": {},
   "source": [
    "<h3 id=\"AHEx\">\n",
    "AnnotationHub exercises\n",
    "</h3>\n",
    "Exercise 1: Use the AnnotationHub to extract UCSC data that is from Homo sapiens and also specifically from the hg19 genome. What happens to the hub object as you filter data at each step?\n",
    "\n",
    "Exercise 2 Now that you have basically narrowed things down to the hg19 annotations from UCSC genome browser, lets get one of these annotations. Find the oreganno track and save it into a local variable.\n",
    "\n",
    "<p class=\"back_to_top\">\n",
    "\\[ <a href=\"#top\">Back to top</a> \\]\n",
    "</p>\n",
    "<h2 id=\"OrgDb\">\n",
    "OrgDb objects\n",
    "</h2>\n",
    "At this point you might be wondering: What is this OrgDb object about? OrgDb objects are one member of a family of annotation objects that all represent hidden data through a shared set of methods. So if you look closely at the rabbit object in the example above you can see that it contains data for the European rabbit Oryctolagus cuniculus (taxonomy ID = 9986). You can learn a little more about it by learning about the columns method."
   ]
  },
  {
   "cell_type": "code",
   "execution_count": 10,
   "metadata": {},
   "outputs": [
    {
     "ename": "ERROR",
     "evalue": "Error in eval(expr, envir, enclos): could not find function \"columns\"\n",
     "output_type": "error",
     "traceback": [
      "Error in eval(expr, envir, enclos): could not find function \"columns\"\n"
     ]
    }
   ],
   "source": [
    "columns(rabbit) "
   ]
  },
  {
   "cell_type": "markdown",
   "metadata": {},
   "source": [
    "The columns method gives you a vector of data types that can be retrieved from the object that you call it on. So the above call indicates that there are several different data types that can be retrieved from the tetra object.\n",
    "\n",
    "A very similar method is the keytypes method, which will list all the data types that can also be used as keys."
   ]
  },
  {
   "cell_type": "code",
   "execution_count": 11,
   "metadata": {},
   "outputs": [
    {
     "ename": "ERROR",
     "evalue": "Error in eval(expr, envir, enclos): could not find function \"keytypes\"\n",
     "output_type": "error",
     "traceback": [
      "Error in eval(expr, envir, enclos): could not find function \"keytypes\"\n"
     ]
    }
   ],
   "source": [
    "keytypes(rabbit) "
   ]
  },
  {
   "cell_type": "markdown",
   "metadata": {},
   "source": [
    "In many cases most of the things that are listed as columns will also come back from a keytypes call, but since these two things are not guaranteed to be identical, we maintain two separate methods.\n",
    "\n",
    "Now that you can see what kinds of things can be used as keys, you can call the keys method to extract out all the keys of a given key type."
   ]
  },
  {
   "cell_type": "code",
   "execution_count": 12,
   "metadata": {},
   "outputs": [
    {
     "ename": "ERROR",
     "evalue": "Error in head(keys(rabbit, keytype = \"ENTREZID\")): could not find function \"keys\"\n",
     "output_type": "error",
     "traceback": [
      "Error in head(keys(rabbit, keytype = \"ENTREZID\")): could not find function \"keys\"\n"
     ]
    }
   ],
   "source": [
    "head(keys(rabbit, keytype=\"ENTREZID\")) "
   ]
  },
  {
   "cell_type": "markdown",
   "metadata": {},
   "source": [
    "This is useful if you need to get all the IDs of a particular kind but the keys method has a few extra arguments that can make it even more flexible. For example, using the keys method you could also extract the gene SYMBOLS that contain \"COX\" like this:"
   ]
  },
  {
   "cell_type": "code",
   "execution_count": 13,
   "metadata": {},
   "outputs": [
    {
     "ename": "ERROR",
     "evalue": "Error in eval(expr, envir, enclos): could not find function \"keys\"\n",
     "output_type": "error",
     "traceback": [
      "Error in eval(expr, envir, enclos): could not find function \"keys\"\n"
     ]
    }
   ],
   "source": [
    "keys(rabbit, keytype=\"SYMBOL\", pattern=\"COX\") "
   ]
  },
  {
   "cell_type": "markdown",
   "metadata": {},
   "source": [
    "Or if you really needed an other keytype, you can use the column argument to extract the ENTREZ GENE IDs for those gene SYMBOLS that contain the string \"COX\":"
   ]
  },
  {
   "cell_type": "code",
   "execution_count": 14,
   "metadata": {},
   "outputs": [
    {
     "ename": "ERROR",
     "evalue": "Error in eval(expr, envir, enclos): could not find function \"keys\"\n",
     "output_type": "error",
     "traceback": [
      "Error in eval(expr, envir, enclos): could not find function \"keys\"\n"
     ]
    }
   ],
   "source": [
    "keys(rabbit, keytype=\"ENTREZID\", pattern=\"COX\", column=\"SYMBOL\") "
   ]
  },
  {
   "cell_type": "markdown",
   "metadata": {},
   "source": [
    "But often, you will really want to extract other data that matches a particular key or set of keys. For that there are two methods which you can use. The more powerful of these is probably select. Here is how you would look up the gene SYMBOL, and REFSEQ id for the entrez gene IDs \"808231\" and \"808233\"."
   ]
  },
  {
   "cell_type": "code",
   "execution_count": 15,
   "metadata": {},
   "outputs": [
    {
     "ename": "ERROR",
     "evalue": "Error in eval(expr, envir, enclos): could not find function \"select\"\n",
     "output_type": "error",
     "traceback": [
      "Error in eval(expr, envir, enclos): could not find function \"select\"\n"
     ]
    }
   ],
   "source": [
    "select(rabbit, keys=c(\"808231\",\"808233\"), columns=c(\"SYMBOL\",\"REFSEQ\"),\n",
    "       keytype=\"ENTREZID\") "
   ]
  },
  {
   "cell_type": "markdown",
   "metadata": {},
   "source": [
    "When you call it, select will return a data.frame that attempts to fill in matching values for all the columns you requested. However, if you ask select for things that have a many to one relationship to your keys it can result in an expansion of the data object that is returned. For example, watch what happens when we ask for the GO terms for the same entrez gene ID:"
   ]
  },
  {
   "cell_type": "code",
   "execution_count": 16,
   "metadata": {},
   "outputs": [
    {
     "ename": "ERROR",
     "evalue": "Error in eval(expr, envir, enclos): could not find function \"select\"\n",
     "output_type": "error",
     "traceback": [
      "Error in eval(expr, envir, enclos): could not find function \"select\"\n"
     ]
    }
   ],
   "source": [
    "select(rabbit, keys=\"808233\", columns=\"GO\", keytype=\"ENTREZID\") "
   ]
  },
  {
   "cell_type": "markdown",
   "metadata": {},
   "source": [
    "Because there are about 9 GO terms associated with the gene \"808233\", you end up with 9 rows in the data.frame... This can become problematic if you then ask for several columns that have a many to one relationship to the original key. If you were to do that, not only would the result multiply in size, it would also become really hard to use. A better strategy is to be selective when using select.\n",
    "\n",
    "Sometimes you might want to look up matching results in a way that is simpler than the data.frame object that select returns. This is especially true when you only want to look up one kind of value per key. For these cases, we recommend that you look at the mapIds method. Lets look at what happens if request the same basic information as in our recent select call, but instead using the mapIds method:"
   ]
  },
  {
   "cell_type": "code",
   "execution_count": 17,
   "metadata": {},
   "outputs": [
    {
     "ename": "ERROR",
     "evalue": "Error in eval(expr, envir, enclos): could not find function \"mapIds\"\n",
     "output_type": "error",
     "traceback": [
      "Error in eval(expr, envir, enclos): could not find function \"mapIds\"\n"
     ]
    }
   ],
   "source": [
    "mapIds(rabbit, keys=c(\"808231\",\"808233\"), column=\"GO\", keytype=\"ENTREZID\") "
   ]
  },
  {
   "cell_type": "markdown",
   "metadata": {},
   "source": [
    "As you can see, the mapIds method allows you to simplify the result that is returned. And by default, mapIds only returns the 1st matching element for each key. But what if you really need all those GO terms returned when you call mapIds? Well then you can make use of the mapIds multiVals argument. There are several options for this argument, we have already seen how by default you can return only the 'first' element. But you can also return a 'list' or 'CharacterList' object, or you can 'filter' out or return 'asNA' any keys that have multiple matches. You can even define your own rule (as a function) and pass that in as an argument to multiVals. Lets look at what happens when you return a list:"
   ]
  },
  {
   "cell_type": "code",
   "execution_count": 18,
   "metadata": {},
   "outputs": [
    {
     "ename": "ERROR",
     "evalue": "Error in eval(expr, envir, enclos): could not find function \"mapIds\"\n",
     "output_type": "error",
     "traceback": [
      "Error in eval(expr, envir, enclos): could not find function \"mapIds\"\n"
     ]
    }
   ],
   "source": [
    "mapIds(rabbit, keys=c(\"808231\",\"808233\"), column=\"GO\", \n",
    "       keytype=\"ENTREZID\", multiVals=\"list\") "
   ]
  },
  {
   "cell_type": "markdown",
   "metadata": {},
   "source": [
    "Now you know how to extract information from an OrgDb object, you might find it helpful to know that there is a whole family of other AnnotationDb derived objects that you can also use with these same five methods (keytypes(), columns(), keys(), select(), and mapIds()). For example there are ChipDb objects, InparanoidDb objects and TxDb objects which contain data about microarray probes, inparanoid homology partners or transcript range information respectively. And there are also more specialized objects like GODb or ReactomeDb objects which offer access to data from GO and reactome. In the next section, we will be looking at one of the more popular classes of these objects: the TxDb object.\n",
    "\n",
    "<h3 id=\"OrgDbEx\">\n",
    "OrgDb exercises\n",
    "</h3>\n",
    "Exercise 3: Look at the help page for the different columns and keytypes values with: help(\"SYMBOL\"). Now use this information and what we just described to look up the entrez gene and chromosome for the gene symbol \"MSX2\".\n",
    "\n",
    "Exercise 4: In the previous exercise we had to use gene symbols as keys. But in the past this kind of behavior has sometimes been inadvisable because some gene symbols are used as the official symbol for more than one gene. To learn if this is still happening take advantage of the fact that entrez gene ids are uniquely assigned, and extract all of the gene symbols and their associated entrez gene ids from the org.Hs.eg.db package. Then check the symbols for redundancy.\n",
    "\n",
    "<p class=\"back_to_top\">\n",
    "\\[ <a href=\"#top\">Back to top</a> \\]\n",
    "</p>\n",
    "<h2 id=\"TxDb\">\n",
    "TxDb Objects\n",
    "</h2>\n",
    "As mentioned before, TxDb objects can be accessed using the standard set of methods: keytypes(), columns(), keys(), select(), and mapIds(). But because these objects contain information about a transcriptome, they are often used to compare range based information to these important features of the genome\\[3,4\\]. As a result they also have specialized accessors for extracting out ranges that correspond to important transcriptome characteristics.\n",
    "\n",
    "Lets start by loading a TxDb object from an annotation package based on the UCSC ensembl genes track for Drosophila. A common practice when loading these is to shorten the long name to 'txdb' (just as a convenience)."
   ]
  },
  {
   "cell_type": "code",
   "execution_count": 19,
   "metadata": {},
   "outputs": [
    {
     "name": "stderr",
     "output_type": "stream",
     "text": [
      "Loading required package: GenomicFeatures\n",
      "Loading required package: BiocGenerics\n",
      "Loading required package: parallel\n",
      "\n",
      "Attaching package: ‘BiocGenerics’\n",
      "\n",
      "The following objects are masked from ‘package:parallel’:\n",
      "\n",
      "    clusterApply, clusterApplyLB, clusterCall, clusterEvalQ,\n",
      "    clusterExport, clusterMap, parApply, parCapply, parLapply,\n",
      "    parLapplyLB, parRapply, parSapply, parSapplyLB\n",
      "\n",
      "The following objects are masked from ‘package:stats’:\n",
      "\n",
      "    IQR, mad, xtabs\n",
      "\n",
      "The following objects are masked from ‘package:base’:\n",
      "\n",
      "    anyDuplicated, append, as.data.frame, as.vector, cbind, colnames,\n",
      "    do.call, duplicated, eval, evalq, Filter, Find, get, grep, grepl,\n",
      "    intersect, is.unsorted, lapply, lengths, Map, mapply, match, mget,\n",
      "    order, paste, pmax, pmax.int, pmin, pmin.int, Position, rank,\n",
      "    rbind, Reduce, rownames, sapply, setdiff, sort, table, tapply,\n",
      "    union, unique, unlist, unsplit\n",
      "\n",
      "Loading required package: S4Vectors\n",
      "Loading required package: stats4\n",
      "Loading required package: IRanges\n",
      "Loading required package: GenomeInfoDb\n",
      "Loading required package: GenomicRanges\n",
      "Loading required package: AnnotationDbi\n",
      "Loading required package: Biobase\n",
      "Welcome to Bioconductor\n",
      "\n",
      "    Vignettes contain introductory material; view with\n",
      "    'browseVignettes()'. To cite Bioconductor, see\n",
      "    'citation(\"Biobase\")', and for packages 'citation(\"pkgname\")'.\n",
      "\n"
     ]
    },
    {
     "data": {
      "text/plain": [
       "TxDb object:\n",
       "# Db type: TxDb\n",
       "# Supporting package: GenomicFeatures\n",
       "# Data source: UCSC\n",
       "# Genome: hg19\n",
       "# Organism: Homo sapiens\n",
       "# Taxonomy ID: 9606\n",
       "# UCSC Table: knownGene\n",
       "# Resource URL: http://genome.ucsc.edu/\n",
       "# Type of Gene ID: Entrez Gene ID\n",
       "# Full dataset: yes\n",
       "# miRBase build ID: GRCh37\n",
       "# transcript_nrow: 82960\n",
       "# exon_nrow: 289969\n",
       "# cds_nrow: 237533\n",
       "# Db created by: GenomicFeatures package from Bioconductor\n",
       "# Creation time: 2015-10-07 18:11:28 +0000 (Wed, 07 Oct 2015)\n",
       "# GenomicFeatures version at creation time: 1.21.30\n",
       "# RSQLite version at creation time: 1.0.0\n",
       "# DBSCHEMAVERSION: 1.1"
      ]
     },
     "execution_count": 19,
     "metadata": {},
     "output_type": "execute_result"
    }
   ],
   "source": [
    "library(\"TxDb.Hsapiens.UCSC.hg19.knownGene\")\n",
    "txdb <- TxDb.Hsapiens.UCSC.hg19.knownGene\n",
    "txdb"
   ]
  },
  {
   "cell_type": "markdown",
   "metadata": {},
   "source": [
    "Just by looking at the TxDb object, we can learn a lot about what data it contains including where the data came from, which build of the UCSC genome it was based on and the last time that the object was updated. One of the most common uses for a TxDb object is to extract various kinds of transcript data out of it. So for example you can extract all the transcripts out of the TxDb as a GRanges object like this:"
   ]
  },
  {
   "cell_type": "code",
   "execution_count": 20,
   "metadata": {},
   "outputs": [
    {
     "data": {
      "text/plain": [
       "GRanges object with 82960 ranges and 2 metadata columns:\n",
       "                seqnames           ranges strand   |     tx_id     tx_name\n",
       "                   <Rle>        <IRanges>  <Rle>   | <integer> <character>\n",
       "      [1]           chr1 [ 11874,  14409]      +   |         1  uc001aaa.3\n",
       "      [2]           chr1 [ 11874,  14409]      +   |         2  uc010nxq.1\n",
       "      [3]           chr1 [ 11874,  14409]      +   |         3  uc010nxr.1\n",
       "      [4]           chr1 [ 69091,  70008]      +   |         4  uc001aal.1\n",
       "      [5]           chr1 [321084, 321115]      +   |         5  uc001aaq.2\n",
       "      ...            ...              ...    ... ...       ...         ...\n",
       "  [82956] chrUn_gl000237   [    1,  2686]      -   |     82956  uc011mgu.1\n",
       "  [82957] chrUn_gl000241   [20433, 36875]      -   |     82957  uc011mgv.2\n",
       "  [82958] chrUn_gl000243   [11501, 11530]      +   |     82958  uc011mgw.1\n",
       "  [82959] chrUn_gl000243   [13608, 13637]      +   |     82959  uc022brq.1\n",
       "  [82960] chrUn_gl000247   [ 5787,  5816]      -   |     82960  uc022brr.1\n",
       "  -------\n",
       "  seqinfo: 93 sequences (1 circular) from hg19 genome"
      ]
     },
     "execution_count": 20,
     "metadata": {},
     "output_type": "execute_result"
    }
   ],
   "source": [
    "txs <- transcripts(txdb)\n",
    "txs"
   ]
  },
  {
   "cell_type": "markdown",
   "metadata": {},
   "source": [
    "Similarly, there are also extractors for exons(), cds(), genes() and promoters(). Which kind of feature you choose to extract just depends on what information you are after. These basic extractors are fine if you only want a flat representation of these data, but many of these features are inherently nested. So instead of extracting a flat GRanges object, you might choose instead to extract a GRangesList object that groups the transcripts by the genes that they are associated with like this:"
   ]
  },
  {
   "cell_type": "code",
   "execution_count": 21,
   "metadata": {},
   "outputs": [
    {
     "data": {
      "text/plain": [
       "GRangesList object of length 23459:\n",
       "$1 \n",
       "GRanges object with 2 ranges and 2 metadata columns:\n",
       "      seqnames               ranges strand |     tx_id     tx_name\n",
       "         <Rle>            <IRanges>  <Rle> | <integer> <character>\n",
       "  [1]    chr19 [58858172, 58864865]      - |     70455  uc002qsd.4\n",
       "  [2]    chr19 [58859832, 58874214]      - |     70456  uc002qsf.2\n",
       "\n",
       "$10 \n",
       "GRanges object with 1 range and 2 metadata columns:\n",
       "      seqnames               ranges strand | tx_id    tx_name\n",
       "  [1]     chr8 [18248755, 18258723]      + | 31944 uc003wyw.1\n",
       "\n",
       "$100 \n",
       "GRanges object with 1 range and 2 metadata columns:\n",
       "      seqnames               ranges strand | tx_id    tx_name\n",
       "  [1]    chr20 [43248163, 43280376]      - | 72132 uc002xmj.3\n",
       "\n",
       "...\n",
       "<23456 more elements>\n",
       "-------\n",
       "seqinfo: 93 sequences (1 circular) from hg19 genome"
      ]
     },
     "execution_count": 21,
     "metadata": {},
     "output_type": "execute_result"
    }
   ],
   "source": [
    "txby <- transcriptsBy(txdb, by=\"gene\")\n",
    "txby"
   ]
  },
  {
   "cell_type": "markdown",
   "metadata": {},
   "source": [
    "Just as with the flat extractors, there is a whole family of extractors available depending on what you want to extract and how you want it grouped. They include transcriptsBy(), exonsBy(), cdsBy(), intronsByTranscript(), fiveUTRsByTranscript() and threeUTRsByTranscript().\n",
    "\n",
    "When dealing with genomic data it is almost inevitable that you will run into problems with the way that different groups have adopted alternate ways of naming chromosomes. This is because almost every major repository has cooked up their own slightly different way of labeling these important features.\n",
    "\n",
    "To cope with this, the Seqinfo object was invented and is attached to TxDb objects as well as the GenomicRanges extracted from these objects. You can extract it using the seqinfo() method like this:"
   ]
  },
  {
   "cell_type": "code",
   "execution_count": 22,
   "metadata": {},
   "outputs": [
    {
     "data": {
      "text/plain": [
       "Seqinfo object with 93 sequences (1 circular) from hg19 genome:\n",
       "  seqnames       seqlengths isCircular genome\n",
       "  chr1            249250621       <NA>   hg19\n",
       "  chr2            243199373       <NA>   hg19\n",
       "  chr3            198022430       <NA>   hg19\n",
       "  chr4            191154276       <NA>   hg19\n",
       "  chr5            180915260       <NA>   hg19\n",
       "  ...                   ...        ...    ...\n",
       "  chrUn_gl000245      36651       <NA>   hg19\n",
       "  chrUn_gl000246      38154       <NA>   hg19\n",
       "  chrUn_gl000247      36422       <NA>   hg19\n",
       "  chrUn_gl000248      39786       <NA>   hg19\n",
       "  chrUn_gl000249      38502       <NA>   hg19"
      ]
     },
     "execution_count": 22,
     "metadata": {},
     "output_type": "execute_result"
    }
   ],
   "source": [
    "si <- seqinfo(txdb)\n",
    "si"
   ]
  },
  {
   "cell_type": "markdown",
   "metadata": {},
   "source": [
    "And since the seqinfo information is also attached to the GRanges objects produced by the TxDb extractors, you can also call seqinfo on the results of those methods like this:"
   ]
  },
  {
   "cell_type": "code",
   "execution_count": 23,
   "metadata": {},
   "outputs": [],
   "source": [
    "txby <- transcriptsBy(txdb, by=\"gene\")\n",
    "si <- seqinfo(txby)"
   ]
  },
  {
   "cell_type": "markdown",
   "metadata": {},
   "source": [
    "The Seqinfo object contains a lot of valuable data about which chromosome features are present, whether they are circular or linear, and how long each one is. It is also something that will be checked against if you try to do an operation like 'findOverlaps' to compute overlapping ranges etc. So it's a valuable way to make sure that the chromosomes and genome are the same for your annotations as the range that you are comparing them to. But sometimes you may have a situation where your annotation object contains data that is comparable to your data object, but where it is simply named with a different naming style. For those cases, there are helpers that you can use to discover what the current name style is for an object. And there is also a setter method to allow you to change the value to something more appropriate. So in the following example, we are going to change the seqlevelStyle from 'UCSC' to 'ensembl' based naming convention (and then back again)."
   ]
  },
  {
   "cell_type": "code",
   "execution_count": 24,
   "metadata": {},
   "outputs": [
    {
     "data": {
      "text/html": [
       "<ol class=list-inline>\n",
       "\t<li>'chr1'</li>\n",
       "\t<li>'chr2'</li>\n",
       "\t<li>'chr3'</li>\n",
       "\t<li>'chr4'</li>\n",
       "\t<li>'chr5'</li>\n",
       "\t<li>'chr6'</li>\n",
       "</ol>\n"
      ],
      "text/latex": [
       "\\begin{enumerate*}\n",
       "\\item 'chr1'\n",
       "\\item 'chr2'\n",
       "\\item 'chr3'\n",
       "\\item 'chr4'\n",
       "\\item 'chr5'\n",
       "\\item 'chr6'\n",
       "\\end{enumerate*}\n"
      ],
      "text/markdown": [
       "1. 'chr1'\n",
       "2. 'chr2'\n",
       "3. 'chr3'\n",
       "4. 'chr4'\n",
       "5. 'chr5'\n",
       "6. 'chr6'\n",
       "\n",
       "\n"
      ],
      "text/plain": [
       "[1] \"chr1\" \"chr2\" \"chr3\" \"chr4\" \"chr5\" \"chr6\""
      ]
     },
     "execution_count": 24,
     "metadata": {},
     "output_type": "execute_result"
    },
    {
     "data": {
      "text/html": [
       "'UCSC'"
      ],
      "text/latex": [
       "'UCSC'"
      ],
      "text/markdown": [
       "'UCSC'"
      ],
      "text/plain": [
       "[1] \"UCSC\""
      ]
     },
     "execution_count": 24,
     "metadata": {},
     "output_type": "execute_result"
    },
    {
     "data": {
      "text/html": [
       "<ol class=list-inline>\n",
       "\t<li>'1'</li>\n",
       "\t<li>'2'</li>\n",
       "\t<li>'3'</li>\n",
       "\t<li>'4'</li>\n",
       "\t<li>'5'</li>\n",
       "\t<li>'6'</li>\n",
       "</ol>\n"
      ],
      "text/latex": [
       "\\begin{enumerate*}\n",
       "\\item '1'\n",
       "\\item '2'\n",
       "\\item '3'\n",
       "\\item '4'\n",
       "\\item '5'\n",
       "\\item '6'\n",
       "\\end{enumerate*}\n"
      ],
      "text/markdown": [
       "1. '1'\n",
       "2. '2'\n",
       "3. '3'\n",
       "4. '4'\n",
       "5. '5'\n",
       "6. '6'\n",
       "\n",
       "\n"
      ],
      "text/plain": [
       "[1] \"1\" \"2\" \"3\" \"4\" \"5\" \"6\""
      ]
     },
     "execution_count": 24,
     "metadata": {},
     "output_type": "execute_result"
    },
    {
     "data": {
      "text/html": [
       "<ol class=list-inline>\n",
       "\t<li>'chr1'</li>\n",
       "\t<li>'chr2'</li>\n",
       "\t<li>'chr3'</li>\n",
       "\t<li>'chr4'</li>\n",
       "\t<li>'chr5'</li>\n",
       "\t<li>'chr6'</li>\n",
       "</ol>\n"
      ],
      "text/latex": [
       "\\begin{enumerate*}\n",
       "\\item 'chr1'\n",
       "\\item 'chr2'\n",
       "\\item 'chr3'\n",
       "\\item 'chr4'\n",
       "\\item 'chr5'\n",
       "\\item 'chr6'\n",
       "\\end{enumerate*}\n"
      ],
      "text/markdown": [
       "1. 'chr1'\n",
       "2. 'chr2'\n",
       "3. 'chr3'\n",
       "4. 'chr4'\n",
       "5. 'chr5'\n",
       "6. 'chr6'\n",
       "\n",
       "\n"
      ],
      "text/plain": [
       "[1] \"chr1\" \"chr2\" \"chr3\" \"chr4\" \"chr5\" \"chr6\""
      ]
     },
     "execution_count": 24,
     "metadata": {},
     "output_type": "execute_result"
    }
   ],
   "source": [
    "head(seqlevels(txdb))\n",
    "seqlevelsStyle(txdb)\n",
    "seqlevelsStyle(txdb) <- \"NCBI\"\n",
    "head(seqlevels(txdb))\n",
    "\n",
    "## then change it back\n",
    "seqlevelsStyle(txdb) <- \"UCSC\"\n",
    "head(seqlevels(txdb))"
   ]
  },
  {
   "cell_type": "markdown",
   "metadata": {},
   "source": [
    "In addition to being able to change the naming style used for an object with seqinfo data, you can also toggle which of the chromosomes are 'active' so that the software will ignore certain chromosomes. By default, all of the chromosomes are set to be 'active'."
   ]
  },
  {
   "cell_type": "code",
   "execution_count": 25,
   "metadata": {},
   "outputs": [
    {
     "data": {
      "text/html": [
       "<dl class=dl-horizontal>\n",
       "\t<dt>chr1</dt>\n",
       "\t\t<dd>TRUE</dd>\n",
       "\t<dt>chr2</dt>\n",
       "\t\t<dd>TRUE</dd>\n",
       "\t<dt>chr3</dt>\n",
       "\t\t<dd>TRUE</dd>\n",
       "\t<dt>chr4</dt>\n",
       "\t\t<dd>TRUE</dd>\n",
       "\t<dt>chr5</dt>\n",
       "\t\t<dd>TRUE</dd>\n",
       "\t<dt>chr6</dt>\n",
       "\t\t<dd>TRUE</dd>\n",
       "\t<dt>chr7</dt>\n",
       "\t\t<dd>TRUE</dd>\n",
       "\t<dt>chr8</dt>\n",
       "\t\t<dd>TRUE</dd>\n",
       "\t<dt>chr9</dt>\n",
       "\t\t<dd>TRUE</dd>\n",
       "\t<dt>chr10</dt>\n",
       "\t\t<dd>TRUE</dd>\n",
       "\t<dt>chr11</dt>\n",
       "\t\t<dd>TRUE</dd>\n",
       "\t<dt>chr12</dt>\n",
       "\t\t<dd>TRUE</dd>\n",
       "\t<dt>chr13</dt>\n",
       "\t\t<dd>TRUE</dd>\n",
       "\t<dt>chr14</dt>\n",
       "\t\t<dd>TRUE</dd>\n",
       "\t<dt>chr15</dt>\n",
       "\t\t<dd>TRUE</dd>\n",
       "\t<dt>chr16</dt>\n",
       "\t\t<dd>TRUE</dd>\n",
       "\t<dt>chr17</dt>\n",
       "\t\t<dd>TRUE</dd>\n",
       "\t<dt>chr18</dt>\n",
       "\t\t<dd>TRUE</dd>\n",
       "\t<dt>chr19</dt>\n",
       "\t\t<dd>TRUE</dd>\n",
       "\t<dt>chr20</dt>\n",
       "\t\t<dd>TRUE</dd>\n",
       "\t<dt>chr21</dt>\n",
       "\t\t<dd>TRUE</dd>\n",
       "\t<dt>chr22</dt>\n",
       "\t\t<dd>TRUE</dd>\n",
       "\t<dt>chrX</dt>\n",
       "\t\t<dd>TRUE</dd>\n",
       "\t<dt>chrY</dt>\n",
       "\t\t<dd>TRUE</dd>\n",
       "\t<dt>chrM</dt>\n",
       "\t\t<dd>TRUE</dd>\n",
       "\t<dt>chr1_gl000191_random</dt>\n",
       "\t\t<dd>TRUE</dd>\n",
       "\t<dt>chr1_gl000192_random</dt>\n",
       "\t\t<dd>TRUE</dd>\n",
       "\t<dt>chr4_ctg9_hap1</dt>\n",
       "\t\t<dd>TRUE</dd>\n",
       "\t<dt>chr4_gl000193_random</dt>\n",
       "\t\t<dd>TRUE</dd>\n",
       "\t<dt>chr4_gl000194_random</dt>\n",
       "\t\t<dd>TRUE</dd>\n",
       "</dl>\n"
      ],
      "text/latex": [
       "\\begin{description*}\n",
       "\\item[chr1] TRUE\n",
       "\\item[chr2] TRUE\n",
       "\\item[chr3] TRUE\n",
       "\\item[chr4] TRUE\n",
       "\\item[chr5] TRUE\n",
       "\\item[chr6] TRUE\n",
       "\\item[chr7] TRUE\n",
       "\\item[chr8] TRUE\n",
       "\\item[chr9] TRUE\n",
       "\\item[chr10] TRUE\n",
       "\\item[chr11] TRUE\n",
       "\\item[chr12] TRUE\n",
       "\\item[chr13] TRUE\n",
       "\\item[chr14] TRUE\n",
       "\\item[chr15] TRUE\n",
       "\\item[chr16] TRUE\n",
       "\\item[chr17] TRUE\n",
       "\\item[chr18] TRUE\n",
       "\\item[chr19] TRUE\n",
       "\\item[chr20] TRUE\n",
       "\\item[chr21] TRUE\n",
       "\\item[chr22] TRUE\n",
       "\\item[chrX] TRUE\n",
       "\\item[chrY] TRUE\n",
       "\\item[chrM] TRUE\n",
       "\\item[chr1_gl000191_random] TRUE\n",
       "\\item[chr1_gl000192_random] TRUE\n",
       "\\item[chr4_ctg9_hap1] TRUE\n",
       "\\item[chr4_gl000193_random] TRUE\n",
       "\\item[chr4_gl000194_random] TRUE\n",
       "\\end{description*}\n"
      ],
      "text/markdown": [
       "chr1\n",
       ":   TRUEchr2\n",
       ":   TRUEchr3\n",
       ":   TRUEchr4\n",
       ":   TRUEchr5\n",
       ":   TRUEchr6\n",
       ":   TRUEchr7\n",
       ":   TRUEchr8\n",
       ":   TRUEchr9\n",
       ":   TRUEchr10\n",
       ":   TRUEchr11\n",
       ":   TRUEchr12\n",
       ":   TRUEchr13\n",
       ":   TRUEchr14\n",
       ":   TRUEchr15\n",
       ":   TRUEchr16\n",
       ":   TRUEchr17\n",
       ":   TRUEchr18\n",
       ":   TRUEchr19\n",
       ":   TRUEchr20\n",
       ":   TRUEchr21\n",
       ":   TRUEchr22\n",
       ":   TRUEchrX\n",
       ":   TRUEchrY\n",
       ":   TRUEchrM\n",
       ":   TRUEchr1_gl000191_random\n",
       ":   TRUEchr1_gl000192_random\n",
       ":   TRUEchr4_ctg9_hap1\n",
       ":   TRUEchr4_gl000193_random\n",
       ":   TRUEchr4_gl000194_random\n",
       ":   TRUE\n",
       "\n"
      ],
      "text/plain": [
       "                chr1                 chr2                 chr3 \n",
       "                TRUE                 TRUE                 TRUE \n",
       "                chr4                 chr5                 chr6 \n",
       "                TRUE                 TRUE                 TRUE \n",
       "                chr7                 chr8                 chr9 \n",
       "                TRUE                 TRUE                 TRUE \n",
       "               chr10                chr11                chr12 \n",
       "                TRUE                 TRUE                 TRUE \n",
       "               chr13                chr14                chr15 \n",
       "                TRUE                 TRUE                 TRUE \n",
       "               chr16                chr17                chr18 \n",
       "                TRUE                 TRUE                 TRUE \n",
       "               chr19                chr20                chr21 \n",
       "                TRUE                 TRUE                 TRUE \n",
       "               chr22                 chrX                 chrY \n",
       "                TRUE                 TRUE                 TRUE \n",
       "                chrM chr1_gl000191_random chr1_gl000192_random \n",
       "                TRUE                 TRUE                 TRUE \n",
       "      chr4_ctg9_hap1 chr4_gl000193_random chr4_gl000194_random \n",
       "                TRUE                 TRUE                 TRUE "
      ]
     },
     "execution_count": 25,
     "metadata": {},
     "output_type": "execute_result"
    }
   ],
   "source": [
    "head(isActiveSeq(txdb), n=30)"
   ]
  },
  {
   "cell_type": "markdown",
   "metadata": {},
   "source": [
    "But sometimes you might wish to ignore some of them. For example, lets suppose that you wanted to ignore the Y chromosome from our txdb. You could do that like so:"
   ]
  },
  {
   "cell_type": "code",
   "execution_count": 26,
   "metadata": {},
   "outputs": [
    {
     "data": {
      "text/html": [
       "<dl class=dl-horizontal>\n",
       "\t<dt>chr1</dt>\n",
       "\t\t<dd>TRUE</dd>\n",
       "\t<dt>chr2</dt>\n",
       "\t\t<dd>TRUE</dd>\n",
       "\t<dt>chr3</dt>\n",
       "\t\t<dd>TRUE</dd>\n",
       "\t<dt>chr4</dt>\n",
       "\t\t<dd>TRUE</dd>\n",
       "\t<dt>chr5</dt>\n",
       "\t\t<dd>TRUE</dd>\n",
       "\t<dt>chr6</dt>\n",
       "\t\t<dd>TRUE</dd>\n",
       "\t<dt>chr7</dt>\n",
       "\t\t<dd>TRUE</dd>\n",
       "\t<dt>chr8</dt>\n",
       "\t\t<dd>TRUE</dd>\n",
       "\t<dt>chr9</dt>\n",
       "\t\t<dd>TRUE</dd>\n",
       "\t<dt>chr10</dt>\n",
       "\t\t<dd>TRUE</dd>\n",
       "\t<dt>chr11</dt>\n",
       "\t\t<dd>TRUE</dd>\n",
       "\t<dt>chr12</dt>\n",
       "\t\t<dd>TRUE</dd>\n",
       "\t<dt>chr13</dt>\n",
       "\t\t<dd>TRUE</dd>\n",
       "\t<dt>chr14</dt>\n",
       "\t\t<dd>TRUE</dd>\n",
       "\t<dt>chr15</dt>\n",
       "\t\t<dd>TRUE</dd>\n",
       "\t<dt>chr16</dt>\n",
       "\t\t<dd>TRUE</dd>\n",
       "\t<dt>chr17</dt>\n",
       "\t\t<dd>TRUE</dd>\n",
       "\t<dt>chr18</dt>\n",
       "\t\t<dd>TRUE</dd>\n",
       "\t<dt>chr19</dt>\n",
       "\t\t<dd>TRUE</dd>\n",
       "\t<dt>chr20</dt>\n",
       "\t\t<dd>TRUE</dd>\n",
       "\t<dt>chr21</dt>\n",
       "\t\t<dd>TRUE</dd>\n",
       "\t<dt>chr22</dt>\n",
       "\t\t<dd>TRUE</dd>\n",
       "\t<dt>chrX</dt>\n",
       "\t\t<dd>TRUE</dd>\n",
       "\t<dt>chrY</dt>\n",
       "\t\t<dd>FALSE</dd>\n",
       "\t<dt>chrM</dt>\n",
       "\t\t<dd>TRUE</dd>\n",
       "\t<dt>chr1_gl000191_random</dt>\n",
       "\t\t<dd>TRUE</dd>\n",
       "</dl>\n"
      ],
      "text/latex": [
       "\\begin{description*}\n",
       "\\item[chr1] TRUE\n",
       "\\item[chr2] TRUE\n",
       "\\item[chr3] TRUE\n",
       "\\item[chr4] TRUE\n",
       "\\item[chr5] TRUE\n",
       "\\item[chr6] TRUE\n",
       "\\item[chr7] TRUE\n",
       "\\item[chr8] TRUE\n",
       "\\item[chr9] TRUE\n",
       "\\item[chr10] TRUE\n",
       "\\item[chr11] TRUE\n",
       "\\item[chr12] TRUE\n",
       "\\item[chr13] TRUE\n",
       "\\item[chr14] TRUE\n",
       "\\item[chr15] TRUE\n",
       "\\item[chr16] TRUE\n",
       "\\item[chr17] TRUE\n",
       "\\item[chr18] TRUE\n",
       "\\item[chr19] TRUE\n",
       "\\item[chr20] TRUE\n",
       "\\item[chr21] TRUE\n",
       "\\item[chr22] TRUE\n",
       "\\item[chrX] TRUE\n",
       "\\item[chrY] FALSE\n",
       "\\item[chrM] TRUE\n",
       "\\item[chr1_gl000191_random] TRUE\n",
       "\\end{description*}\n"
      ],
      "text/markdown": [
       "chr1\n",
       ":   TRUEchr2\n",
       ":   TRUEchr3\n",
       ":   TRUEchr4\n",
       ":   TRUEchr5\n",
       ":   TRUEchr6\n",
       ":   TRUEchr7\n",
       ":   TRUEchr8\n",
       ":   TRUEchr9\n",
       ":   TRUEchr10\n",
       ":   TRUEchr11\n",
       ":   TRUEchr12\n",
       ":   TRUEchr13\n",
       ":   TRUEchr14\n",
       ":   TRUEchr15\n",
       ":   TRUEchr16\n",
       ":   TRUEchr17\n",
       ":   TRUEchr18\n",
       ":   TRUEchr19\n",
       ":   TRUEchr20\n",
       ":   TRUEchr21\n",
       ":   TRUEchr22\n",
       ":   TRUEchrX\n",
       ":   TRUEchrY\n",
       ":   FALSEchrM\n",
       ":   TRUEchr1_gl000191_random\n",
       ":   TRUE\n",
       "\n"
      ],
      "text/plain": [
       "                chr1                 chr2                 chr3 \n",
       "                TRUE                 TRUE                 TRUE \n",
       "                chr4                 chr5                 chr6 \n",
       "                TRUE                 TRUE                 TRUE \n",
       "                chr7                 chr8                 chr9 \n",
       "                TRUE                 TRUE                 TRUE \n",
       "               chr10                chr11                chr12 \n",
       "                TRUE                 TRUE                 TRUE \n",
       "               chr13                chr14                chr15 \n",
       "                TRUE                 TRUE                 TRUE \n",
       "               chr16                chr17                chr18 \n",
       "                TRUE                 TRUE                 TRUE \n",
       "               chr19                chr20                chr21 \n",
       "                TRUE                 TRUE                 TRUE \n",
       "               chr22                 chrX                 chrY \n",
       "                TRUE                 TRUE                FALSE \n",
       "                chrM chr1_gl000191_random \n",
       "                TRUE                 TRUE "
      ]
     },
     "execution_count": 26,
     "metadata": {},
     "output_type": "execute_result"
    }
   ],
   "source": [
    "isActiveSeq(txdb)[\"chrY\"] <- FALSE\n",
    "head(isActiveSeq(txdb), n=26)"
   ]
  },
  {
   "cell_type": "markdown",
   "metadata": {},
   "source": [
    "<h3 id=\"TxDbEx\">\n",
    "TxDb exercises\n",
    "</h3>\n",
    "Exercise 5: Use the accessors for the TxDb.Hsapiens.UCSC.hg19.knownGene package to retrieve the gene id, transcript name and transcript chromosome for all the transcripts. Do this using both the select() method and also using the transcripts() method. What is the difference in the output?\n",
    "\n",
    "Exercise 6: Load the TxDb.Athaliana.BioMart.plantsmart22 package. This package is not from UCSC and it is based on plantsmart. Now use select or one of the range based accessors to look at the gene ids from this TxDb object. How do they compare to what you saw in the TxDb.Hsapiens.UCSC.hg19.knownGene package?\n",
    "\n",
    "<p class=\"back_to_top\">\n",
    "\\[ <a href=\"#top\">Back to top</a> \\]\n",
    "</p>\n",
    "<h2 id=\"OrganismDb\">\n",
    "OrganismDb Objects\n",
    "</h2>\n",
    "So what happens if you have data from multiple different Annotation objects. For example, what if you had gene SYMBOLS (found in an OrgDb object) and you wanted to easily match those up with known gene transcript names from a UCSC based TxDb object? There is an ideal tool that can help with this kind of problem and it's called an OrganismDb object\\[9\\]. On the one hand OrganismDb objects can seem more complex than OrgDb, GODb or TxDb objects because they can allow you to access all three object sources at once. But in reality they are not that complicated. What they do is just query each of these resources for you and then merge the results back together in way that lets you pretend that you only have one source for all your annotations.\n",
    "\n",
    "To try one out lets load one that was made as an annotation package:"
   ]
  },
  {
   "cell_type": "code",
   "execution_count": 27,
   "metadata": {},
   "outputs": [
    {
     "name": "stderr",
     "output_type": "stream",
     "text": [
      "Loading required package: OrganismDbi\n",
      "Loading required package: GO.db\n",
      "Loading required package: DBI\n",
      "\n",
      "Loading required package: org.Hs.eg.db\n",
      "\n",
      "Now getting the GODb Object directly\n",
      "Now getting the OrgDb Object directly\n",
      "Now getting the TxDb Object directly\n"
     ]
    },
    {
     "data": {
      "text/plain": [
       "OrganismDb Object:\n",
       "# Includes GODb Object:  GO.db \n",
       "# With data about:  Gene Ontology \n",
       "# Includes OrgDb Object:  org.Hs.eg.db \n",
       "# Gene data about:  Homo sapiens \n",
       "# Taxonomy Id:  9606 \n",
       "# Includes TxDb Object:  TxDb.Hsapiens.UCSC.hg19.knownGene \n",
       "# Transcriptome data about:  Homo sapiens \n",
       "# Based on genome:  hg19 \n",
       "# The OrgDb gene id ENTREZID is mapped to the TxDb gene id GENEID ."
      ]
     },
     "execution_count": 27,
     "metadata": {},
     "output_type": "execute_result"
    }
   ],
   "source": [
    "library(\"Homo.sapiens\")\n",
    "Homo.sapiens"
   ]
  },
  {
   "cell_type": "markdown",
   "metadata": {},
   "source": [
    "And that's it. You can now use these objects in the same way that you use OrgDb or TxDb objects. It works the same as the base objects that it contains:"
   ]
  },
  {
   "cell_type": "code",
   "execution_count": 28,
   "metadata": {},
   "outputs": [
    {
     "name": "stderr",
     "output_type": "stream",
     "text": [
      "'select()' returned 1:1 mapping between keys and columns\n"
     ]
    },
    {
     "data": {
      "text/html": [
       "<table>\n",
       "<thead><tr><th></th><th scope=col>ENTREZID</th><th scope=col>SYMBOL</th><th scope=col>TXNAME</th></tr></thead>\n",
       "<tbody>\n",
       "\t<tr><th scope=row>1</th><td>4488</td><td>MSX2</td><td>uc003mcy.3</td></tr>\n",
       "</tbody>\n",
       "</table>\n"
      ],
      "text/latex": [
       "\\begin{tabular}{r|lll}\n",
       "  & ENTREZID & SYMBOL & TXNAME\\\\\n",
       "\\hline\n",
       "\t1 & 4488 & MSX2 & uc003mcy.3\\\\\n",
       "\\end{tabular}\n"
      ],
      "text/plain": [
       "  ENTREZID SYMBOL     TXNAME\n",
       "1     4488   MSX2 uc003mcy.3"
      ]
     },
     "execution_count": 28,
     "metadata": {},
     "output_type": "execute_result"
    }
   ],
   "source": [
    "select(Homo.sapiens, keys=\"4488\", columns=c(\"SYMBOL\",\"TXNAME\"), keytype=\"ENTREZID\")"
   ]
  },
  {
   "cell_type": "markdown",
   "metadata": {},
   "source": [
    "In fact the five methods that worked for all of the other Db objects that we have discussed (keytypes(), columns(), keys(), select(), and mapIds()) should all work for OrganismDb objects. And if the OrganismDb object was composed to include a TxDb, then the range based accessors should also work:"
   ]
  },
  {
   "cell_type": "code",
   "execution_count": 29,
   "metadata": {},
   "outputs": [
    {
     "name": "stderr",
     "output_type": "stream",
     "text": [
      "'select()' returned 1:1 mapping between keys and columns\n"
     ]
    },
    {
     "data": {
      "text/plain": [
       "GRanges object with 82508 ranges and 2 metadata columns:\n",
       "                seqnames           ranges strand   |          TXNAME\n",
       "                   <Rle>        <IRanges>  <Rle>   | <CharacterList>\n",
       "      [1]           chr1 [ 11874,  14409]      +   |      uc001aaa.3\n",
       "      [2]           chr1 [ 11874,  14409]      +   |      uc010nxq.1\n",
       "      [3]           chr1 [ 11874,  14409]      +   |      uc010nxr.1\n",
       "      [4]           chr1 [ 69091,  70008]      +   |      uc001aal.1\n",
       "      [5]           chr1 [321084, 321115]      +   |      uc001aaq.2\n",
       "      ...            ...              ...    ... ...             ...\n",
       "  [82504] chrUn_gl000237   [    1,  2686]      -   |      uc011mgu.1\n",
       "  [82505] chrUn_gl000241   [20433, 36875]      -   |      uc011mgv.2\n",
       "  [82506] chrUn_gl000243   [11501, 11530]      +   |      uc011mgw.1\n",
       "  [82507] chrUn_gl000243   [13608, 13637]      +   |      uc022brq.1\n",
       "  [82508] chrUn_gl000247   [ 5787,  5816]      -   |      uc022brr.1\n",
       "                   SYMBOL\n",
       "          <CharacterList>\n",
       "      [1]         DDX11L1\n",
       "      [2]         DDX11L1\n",
       "      [3]         DDX11L1\n",
       "      [4]           OR4F5\n",
       "      [5]              NA\n",
       "      ...             ...\n",
       "  [82504]              NA\n",
       "  [82505]              NA\n",
       "  [82506]              NA\n",
       "  [82507]              NA\n",
       "  [82508]              NA\n",
       "  -------\n",
       "  seqinfo: 92 sequences (1 circular) from hg19 genome"
      ]
     },
     "execution_count": 29,
     "metadata": {},
     "output_type": "execute_result"
    }
   ],
   "source": [
    "txs <- transcripts(Homo.sapiens, columns=c(\"TXNAME\",\"SYMBOL\"))\n",
    "txs"
   ]
  },
  {
   "cell_type": "markdown",
   "metadata": {},
   "source": [
    "But one key difference between the range accessors for a TxDb object when compared to an OrganismDb object is that the number of things that can be requested via columns is much greater for the compound object...\n",
    "\n",
    "<h3 id=\"OrganismDbEx\">\n",
    "OrganismDb exercises\n",
    "</h3>\n",
    "Exercise 7: Use the Homo.sapiens object to look up the gene symbol, transcript start and chromosome using select(). Then do the same thing using transcripts. You might expect that this call to transcripts will look the same as it did for the TxDb object, but (temporarily) it will not.\n",
    "\n",
    "Exercise 8: Look at the results from call the columns method on the Homo.sapiens object and compare that to what happens when you call columns on the org.Hs.eg.db object and then look at a call to columns on the TxDb.Hsapiens.UCSC.hg19.knownGene object. What is the difference between TXSTART and CHRLOC? Which one do you think you should use for transcripts or other genomic information?\n",
    "\n",
    "Exercise 9: Use the Homo.sapiens object with the keys method to look up the entrez gene IDs for all gene symbols that contain the letter \"X\".\n",
    "\n",
    "<p class=\"back_to_top\">\n",
    "\\[ <a href=\"#top\">Back to top</a> \\]\n",
    "</p>\n",
    "<h2 id=\"BSgenome\">\n",
    "BSgenome Objects\n",
    "</h2>\n",
    "Another important annotation resource type is a BSgenome package\\[10\\]. There are many BSgenome packages in the repository for you to choose from. And you can learn which organisms are already supported by using the available.genomes() function."
   ]
  },
  {
   "cell_type": "code",
   "execution_count": 30,
   "metadata": {},
   "outputs": [
    {
     "name": "stderr",
     "output_type": "stream",
     "text": [
      "Loading required package: Biostrings\n",
      "Loading required package: XVector\n",
      "Loading required package: rtracklayer\n"
     ]
    },
    {
     "data": {
      "text/html": [
       "<ol class=list-inline>\n",
       "\t<li>'BSgenome.Alyrata.JGI.v1'</li>\n",
       "\t<li>'BSgenome.Amellifera.BeeBase.assembly4'</li>\n",
       "\t<li>'BSgenome.Amellifera.UCSC.apiMel2'</li>\n",
       "\t<li>'BSgenome.Amellifera.UCSC.apiMel2.masked'</li>\n",
       "\t<li>'BSgenome.Athaliana.TAIR.04232008'</li>\n",
       "\t<li>'BSgenome.Athaliana.TAIR.TAIR9'</li>\n",
       "</ol>\n"
      ],
      "text/latex": [
       "\\begin{enumerate*}\n",
       "\\item 'BSgenome.Alyrata.JGI.v1'\n",
       "\\item 'BSgenome.Amellifera.BeeBase.assembly4'\n",
       "\\item 'BSgenome.Amellifera.UCSC.apiMel2'\n",
       "\\item 'BSgenome.Amellifera.UCSC.apiMel2.masked'\n",
       "\\item 'BSgenome.Athaliana.TAIR.04232008'\n",
       "\\item 'BSgenome.Athaliana.TAIR.TAIR9'\n",
       "\\end{enumerate*}\n"
      ],
      "text/markdown": [
       "1. 'BSgenome.Alyrata.JGI.v1'\n",
       "2. 'BSgenome.Amellifera.BeeBase.assembly4'\n",
       "3. 'BSgenome.Amellifera.UCSC.apiMel2'\n",
       "4. 'BSgenome.Amellifera.UCSC.apiMel2.masked'\n",
       "5. 'BSgenome.Athaliana.TAIR.04232008'\n",
       "6. 'BSgenome.Athaliana.TAIR.TAIR9'\n",
       "\n",
       "\n"
      ],
      "text/plain": [
       "[1] \"BSgenome.Alyrata.JGI.v1\"                \n",
       "[2] \"BSgenome.Amellifera.BeeBase.assembly4\"  \n",
       "[3] \"BSgenome.Amellifera.UCSC.apiMel2\"       \n",
       "[4] \"BSgenome.Amellifera.UCSC.apiMel2.masked\"\n",
       "[5] \"BSgenome.Athaliana.TAIR.04232008\"       \n",
       "[6] \"BSgenome.Athaliana.TAIR.TAIR9\"          "
      ]
     },
     "execution_count": 30,
     "metadata": {},
     "output_type": "execute_result"
    }
   ],
   "source": [
    "library(\"BSgenome\")\n",
    "head(available.genomes())"
   ]
  },
  {
   "cell_type": "markdown",
   "metadata": {},
   "source": [
    "Unlike the other resources that we have discussed here, these packages are meant to contain sequence data for a specific genome build of an organism. You can load one of these packages in the usual way. And each of them normally has an alias for the primary object that is shorter than the full package name (as a convenience):"
   ]
  },
  {
   "cell_type": "code",
   "execution_count": 31,
   "metadata": {},
   "outputs": [
    {
     "data": {
      "text/html": [
       "<ol class=list-inline>\n",
       "\t<li>'BSgenome.Hsapiens.UCSC.hg19'</li>\n",
       "\t<li>'Hsapiens'</li>\n",
       "</ol>\n"
      ],
      "text/latex": [
       "\\begin{enumerate*}\n",
       "\\item 'BSgenome.Hsapiens.UCSC.hg19'\n",
       "\\item 'Hsapiens'\n",
       "\\end{enumerate*}\n"
      ],
      "text/markdown": [
       "1. 'BSgenome.Hsapiens.UCSC.hg19'\n",
       "2. 'Hsapiens'\n",
       "\n",
       "\n"
      ],
      "text/plain": [
       "[1] \"BSgenome.Hsapiens.UCSC.hg19\" \"Hsapiens\"                   "
      ]
     },
     "execution_count": 31,
     "metadata": {},
     "output_type": "execute_result"
    },
    {
     "data": {
      "text/plain": [
       "Human genome:\n",
       "# organism: Homo sapiens (Human)\n",
       "# provider: UCSC\n",
       "# provider version: hg19\n",
       "# release date: Feb. 2009\n",
       "# release name: Genome Reference Consortium GRCh37\n",
       "# 93 sequences:\n",
       "#   chr1                  chr2                  chr3                 \n",
       "#   chr4                  chr5                  chr6                 \n",
       "#   chr7                  chr8                  chr9                 \n",
       "#   chr10                 chr11                 chr12                \n",
       "#   chr13                 chr14                 chr15                \n",
       "#   ...                   ...                   ...                  \n",
       "#   chrUn_gl000235        chrUn_gl000236        chrUn_gl000237       \n",
       "#   chrUn_gl000238        chrUn_gl000239        chrUn_gl000240       \n",
       "#   chrUn_gl000241        chrUn_gl000242        chrUn_gl000243       \n",
       "#   chrUn_gl000244        chrUn_gl000245        chrUn_gl000246       \n",
       "#   chrUn_gl000247        chrUn_gl000248        chrUn_gl000249       \n",
       "# (use 'seqnames()' to see all the sequence names, use the '$' or '[[' operator\n",
       "# to access a given sequence)"
      ]
     },
     "execution_count": 31,
     "metadata": {},
     "output_type": "execute_result"
    }
   ],
   "source": [
    "library(\"BSgenome.Hsapiens.UCSC.hg19\")\n",
    "ls(2)\n",
    "Hsapiens"
   ]
  },
  {
   "cell_type": "markdown",
   "metadata": {},
   "source": [
    "The getSeq method is a useful way of extracting data from these packages. This method takes several arguments but the important ones are the 1st two. The 1st argument specifies the BSgenome object to use and the second argument (names) specifies what data you want back out. So for example, if you call it and give a character vector that names the seqnames for the object then you will get the sequences from those chromosomes as a DNAStringSet object."
   ]
  },
  {
   "cell_type": "code",
   "execution_count": 32,
   "metadata": {},
   "outputs": [
    {
     "data": {
      "text/html": [
       "<ol class=list-inline>\n",
       "\t<li>'chr1'</li>\n",
       "\t<li>'chr2'</li>\n",
       "\t<li>'chr3'</li>\n",
       "\t<li>'chr4'</li>\n",
       "\t<li>'chr5'</li>\n",
       "\t<li>'chr6'</li>\n",
       "</ol>\n"
      ],
      "text/latex": [
       "\\begin{enumerate*}\n",
       "\\item 'chr1'\n",
       "\\item 'chr2'\n",
       "\\item 'chr3'\n",
       "\\item 'chr4'\n",
       "\\item 'chr5'\n",
       "\\item 'chr6'\n",
       "\\end{enumerate*}\n"
      ],
      "text/markdown": [
       "1. 'chr1'\n",
       "2. 'chr2'\n",
       "3. 'chr3'\n",
       "4. 'chr4'\n",
       "5. 'chr5'\n",
       "6. 'chr6'\n",
       "\n",
       "\n"
      ],
      "text/plain": [
       "[1] \"chr1\" \"chr2\" \"chr3\" \"chr4\" \"chr5\" \"chr6\""
      ]
     },
     "execution_count": 32,
     "metadata": {},
     "output_type": "execute_result"
    },
    {
     "data": {
      "text/plain": [
       "  A DNAStringSet instance of length 2\n",
       "        width seq\n",
       "[1] 249250621 NNNNNNNNNNNNNNNNNNNNNNNNNNNNNNNN...NNNNNNNNNNNNNNNNNNNNNNNNNNNNNNN\n",
       "[2] 243199373 NNNNNNNNNNNNNNNNNNNNNNNNNNNNNNNN...NNNNNNNNNNNNNNNNNNNNNNNNNNNNNNN"
      ]
     },
     "execution_count": 32,
     "metadata": {},
     "output_type": "execute_result"
    }
   ],
   "source": [
    "seqNms <- seqnames(Hsapiens)\n",
    "head(seqNms)\n",
    "getSeq(Hsapiens, seqNms[1:2])"
   ]
  },
  {
   "cell_type": "markdown",
   "metadata": {},
   "source": [
    "Whereas if you give the a GRanges object for the 2nd argument, you can instead get a DNAStringSet that corresponds to those ranges. This can be a powerful way to learn what sequence was present from a particular range. For example, here we can extract the range of a specific gene of interest like this."
   ]
  },
  {
   "cell_type": "code",
   "execution_count": 33,
   "metadata": {},
   "outputs": [
    {
     "data": {
      "text/plain": [
       "  A DNAStringSet instance of length 1\n",
       "    width seq\n",
       "[1]  6328 TCCCGTCTCCGCAGCAAAAAAGTTTGAGTCGCCG...TATTGCAGTAAAGTTTGTCCAAACTCACAATTA"
      ]
     },
     "execution_count": 33,
     "metadata": {},
     "output_type": "execute_result"
    }
   ],
   "source": [
    "txby <- transcriptsBy(txdb, by=\"gene\")\n",
    "geneOfInterest <- txby[[\"4488\"]]\n",
    "res <- getSeq(Hsapiens, geneOfInterest)\n",
    "res"
   ]
  },
  {
   "cell_type": "markdown",
   "metadata": {},
   "source": [
    "Additionally, the Biostrings\\[11\\] package has many useful functions for finding a pattern in a string set etc. You may not have noticed when it happened, but the Biostrings package was loaded when you loaded the BSgenome object, so these functions will already be available for you to explore.\n",
    "\n",
    "<h3 id=\"BSgenomeEx\">\n",
    "BSgenome exercises\n",
    "</h3>\n",
    "Exercise 10: Use what you have just learned to extract the sequence for the PTEN gene.\n",
    "\n",
    "<p class=\"back_to_top\">\n",
    "\\[ <a href=\"#top\">Back to top</a> \\]\n",
    "</p>\n",
    "<h2 id=\"biomaRt\">\n",
    "biomaRt\n",
    "</h2>\n",
    "Another great annotation resource is the biomaRt package\\[5,6,7\\]. The biomaRt package exposes a huge family of different online annotation resources called marts. Each mart is another of a set of online web resources that are following a convention that allows them to work with this package. So the first step in using biomaRt is always to load the package and then decide which \"mart\" you want to use. Once you have made your decision, you will then use the useMart() method to create a mart object in your R session. Here we are looking at the marts available and then choosing to use one of the most popular marts: the \"ensembl\"\" mart."
   ]
  },
  {
   "cell_type": "code",
   "execution_count": 34,
   "metadata": {},
   "outputs": [
    {
     "data": {
      "text/html": [
       "<table>\n",
       "<thead><tr><th></th><th scope=col>biomart</th><th scope=col>version</th></tr></thead>\n",
       "<tbody>\n",
       "\t<tr><th scope=row>1</th><td>ENSEMBL_MART_ENSEMBL</td><td>Ensembl Genes 83</td></tr>\n",
       "\t<tr><th scope=row>2</th><td>ENSEMBL_MART_SNP</td><td>Ensembl Variation 83</td></tr>\n",
       "\t<tr><th scope=row>3</th><td>ENSEMBL_MART_FUNCGEN</td><td>Ensembl Regulation 83</td></tr>\n",
       "\t<tr><th scope=row>4</th><td>ENSEMBL_MART_VEGA</td><td>Vega 63</td></tr>\n",
       "\t<tr><th scope=row>5</th><td>pride</td><td>PRIDE (EBI UK)</td></tr>\n",
       "</tbody>\n",
       "</table>\n"
      ],
      "text/latex": [
       "\\begin{tabular}{r|ll}\n",
       "  & biomart & version\\\\\n",
       "\\hline\n",
       "\t1 & ENSEMBL_MART_ENSEMBL & Ensembl Genes 83\\\\\n",
       "\t2 & ENSEMBL_MART_SNP & Ensembl Variation 83\\\\\n",
       "\t3 & ENSEMBL_MART_FUNCGEN & Ensembl Regulation 83\\\\\n",
       "\t4 & ENSEMBL_MART_VEGA & Vega 63\\\\\n",
       "\t5 & pride & PRIDE (EBI UK)\\\\\n",
       "\\end{tabular}\n"
      ],
      "text/plain": [
       "               biomart               version\n",
       "1 ENSEMBL_MART_ENSEMBL      Ensembl Genes 83\n",
       "2     ENSEMBL_MART_SNP  Ensembl Variation 83\n",
       "3 ENSEMBL_MART_FUNCGEN Ensembl Regulation 83\n",
       "4    ENSEMBL_MART_VEGA               Vega 63\n",
       "5                pride        PRIDE (EBI UK)"
      ]
     },
     "execution_count": 34,
     "metadata": {},
     "output_type": "execute_result"
    },
    {
     "data": {
      "text/plain": [
       "Object of class 'Mart':\n",
       " Using the ENSEMBL_MART_ENSEMBL BioMart database\n",
       " Using the  dataset"
      ]
     },
     "execution_count": 34,
     "metadata": {},
     "output_type": "execute_result"
    }
   ],
   "source": [
    "library(\"biomaRt\")\n",
    "head(listMarts())\n",
    "ensembl <- useMart(\"ensembl\")\n",
    "ensembl"
   ]
  },
  {
   "cell_type": "markdown",
   "metadata": {},
   "source": [
    "Each 'mart' can contain datasets for multiple different things. So the next step is that you need to decide on a dataset. Once you have chosen one, you will need to specify that dataset using the dataset argument when you call the useMart() constructor method. Here we will point to the dataset for humans."
   ]
  },
  {
   "cell_type": "code",
   "execution_count": 35,
   "metadata": {},
   "outputs": [
    {
     "data": {
      "text/html": [
       "<table>\n",
       "<thead><tr><th></th><th scope=col>dataset</th><th scope=col>description</th><th scope=col>version</th></tr></thead>\n",
       "<tbody>\n",
       "\t<tr><th scope=row>1</th><td>oanatinus_gene_ensembl</td><td>Ornithorhynchus anatinus genes (OANA5)</td><td>OANA5</td></tr>\n",
       "\t<tr><th scope=row>2</th><td>cporcellus_gene_ensembl</td><td>Cavia porcellus genes (cavPor3)</td><td>cavPor3</td></tr>\n",
       "\t<tr><th scope=row>3</th><td>gaculeatus_gene_ensembl</td><td>Gasterosteus aculeatus genes (BROADS1)</td><td>BROADS1</td></tr>\n",
       "\t<tr><th scope=row>4</th><td>lafricana_gene_ensembl</td><td>Loxodonta africana genes (loxAfr3)</td><td>loxAfr3</td></tr>\n",
       "\t<tr><th scope=row>5</th><td>itridecemlineatus_gene_ensembl</td><td>Ictidomys tridecemlineatus genes (spetri2)</td><td>spetri2</td></tr>\n",
       "\t<tr><th scope=row>6</th><td>choffmanni_gene_ensembl</td><td>Choloepus hoffmanni genes (choHof1)</td><td>choHof1</td></tr>\n",
       "</tbody>\n",
       "</table>\n"
      ],
      "text/latex": [
       "\\begin{tabular}{r|lll}\n",
       "  & dataset & description & version\\\\\n",
       "\\hline\n",
       "\t1 & oanatinus_gene_ensembl & Ornithorhynchus anatinus genes (OANA5) & OANA5\\\\\n",
       "\t2 & cporcellus_gene_ensembl & Cavia porcellus genes (cavPor3) & cavPor3\\\\\n",
       "\t3 & gaculeatus_gene_ensembl & Gasterosteus aculeatus genes (BROADS1) & BROADS1\\\\\n",
       "\t4 & lafricana_gene_ensembl & Loxodonta africana genes (loxAfr3) & loxAfr3\\\\\n",
       "\t5 & itridecemlineatus_gene_ensembl & Ictidomys tridecemlineatus genes (spetri2) & spetri2\\\\\n",
       "\t6 & choffmanni_gene_ensembl & Choloepus hoffmanni genes (choHof1) & choHof1\\\\\n",
       "\\end{tabular}\n"
      ],
      "text/plain": [
       "                         dataset                                description\n",
       "1         oanatinus_gene_ensembl     Ornithorhynchus anatinus genes (OANA5)\n",
       "2        cporcellus_gene_ensembl            Cavia porcellus genes (cavPor3)\n",
       "3        gaculeatus_gene_ensembl     Gasterosteus aculeatus genes (BROADS1)\n",
       "4         lafricana_gene_ensembl         Loxodonta africana genes (loxAfr3)\n",
       "5 itridecemlineatus_gene_ensembl Ictidomys tridecemlineatus genes (spetri2)\n",
       "6        choffmanni_gene_ensembl        Choloepus hoffmanni genes (choHof1)\n",
       "  version\n",
       "1   OANA5\n",
       "2 cavPor3\n",
       "3 BROADS1\n",
       "4 loxAfr3\n",
       "5 spetri2\n",
       "6 choHof1"
      ]
     },
     "execution_count": 35,
     "metadata": {},
     "output_type": "execute_result"
    },
    {
     "data": {
      "text/plain": [
       "Object of class 'Mart':\n",
       " Using the ENSEMBL_MART_ENSEMBL BioMart database\n",
       " Using the hsapiens_gene_ensembl dataset"
      ]
     },
     "execution_count": 35,
     "metadata": {},
     "output_type": "execute_result"
    }
   ],
   "source": [
    "head(listDatasets(ensembl))\n",
    "ensembl <- useMart(\"ensembl\",dataset=\"hsapiens_gene_ensembl\")\n",
    "ensembl"
   ]
  },
  {
   "cell_type": "markdown",
   "metadata": {},
   "source": [
    "Next we need to think about attributes, values and filters. Lets start with attributes. You can get a listing of the different kinds of attributes from biomaRt buy using the listAttributes method:"
   ]
  },
  {
   "cell_type": "code",
   "execution_count": 36,
   "metadata": {},
   "outputs": [
    {
     "data": {
      "text/html": [
       "<table>\n",
       "<thead><tr><th></th><th scope=col>name</th><th scope=col>description</th></tr></thead>\n",
       "<tbody>\n",
       "\t<tr><th scope=row>1</th><td>ensembl_gene_id</td><td>Ensembl Gene ID</td></tr>\n",
       "\t<tr><th scope=row>2</th><td>ensembl_transcript_id</td><td>Ensembl Transcript ID</td></tr>\n",
       "\t<tr><th scope=row>3</th><td>ensembl_peptide_id</td><td>Ensembl Protein ID</td></tr>\n",
       "\t<tr><th scope=row>4</th><td>ensembl_exon_id</td><td>Ensembl Exon ID</td></tr>\n",
       "\t<tr><th scope=row>5</th><td>description</td><td>Description</td></tr>\n",
       "\t<tr><th scope=row>6</th><td>chromosome_name</td><td>Chromosome Name</td></tr>\n",
       "</tbody>\n",
       "</table>\n"
      ],
      "text/latex": [
       "\\begin{tabular}{r|ll}\n",
       "  & name & description\\\\\n",
       "\\hline\n",
       "\t1 & ensembl_gene_id & Ensembl Gene ID\\\\\n",
       "\t2 & ensembl_transcript_id & Ensembl Transcript ID\\\\\n",
       "\t3 & ensembl_peptide_id & Ensembl Protein ID\\\\\n",
       "\t4 & ensembl_exon_id & Ensembl Exon ID\\\\\n",
       "\t5 & description & Description\\\\\n",
       "\t6 & chromosome_name & Chromosome Name\\\\\n",
       "\\end{tabular}\n"
      ],
      "text/plain": [
       "                   name           description\n",
       "1       ensembl_gene_id       Ensembl Gene ID\n",
       "2 ensembl_transcript_id Ensembl Transcript ID\n",
       "3    ensembl_peptide_id    Ensembl Protein ID\n",
       "4       ensembl_exon_id       Ensembl Exon ID\n",
       "5           description           Description\n",
       "6       chromosome_name       Chromosome Name"
      ]
     },
     "execution_count": 36,
     "metadata": {},
     "output_type": "execute_result"
    }
   ],
   "source": [
    "head(listAttributes(ensembl))"
   ]
  },
  {
   "cell_type": "markdown",
   "metadata": {},
   "source": [
    "And you can see what the values for a particular attribute are by using the getBM method:"
   ]
  },
  {
   "cell_type": "code",
   "execution_count": 37,
   "metadata": {},
   "outputs": [
    {
     "data": {
      "text/html": [
       "<table>\n",
       "<thead><tr><th></th><th scope=col>chromosome_name</th></tr></thead>\n",
       "<tbody>\n",
       "\t<tr><th scope=row>1</th><td>1</td></tr>\n",
       "\t<tr><th scope=row>2</th><td>10</td></tr>\n",
       "\t<tr><th scope=row>3</th><td>11</td></tr>\n",
       "\t<tr><th scope=row>4</th><td>12</td></tr>\n",
       "\t<tr><th scope=row>5</th><td>13</td></tr>\n",
       "\t<tr><th scope=row>6</th><td>14</td></tr>\n",
       "</tbody>\n",
       "</table>\n"
      ],
      "text/latex": [
       "\\begin{tabular}{r|l}\n",
       "  & chromosome_name\\\\\n",
       "\\hline\n",
       "\t1 & 1\\\\\n",
       "\t2 & 10\\\\\n",
       "\t3 & 11\\\\\n",
       "\t4 & 12\\\\\n",
       "\t5 & 13\\\\\n",
       "\t6 & 14\\\\\n",
       "\\end{tabular}\n"
      ],
      "text/plain": [
       "  chromosome_name\n",
       "1               1\n",
       "2              10\n",
       "3              11\n",
       "4              12\n",
       "5              13\n",
       "6              14"
      ]
     },
     "execution_count": 37,
     "metadata": {},
     "output_type": "execute_result"
    }
   ],
   "source": [
    "head(getBM(attributes=\"chromosome_name\", mart=ensembl))"
   ]
  },
  {
   "cell_type": "markdown",
   "metadata": {},
   "source": [
    "Attributes are the things that you can have returned from biomaRt. They are analogous to what you get when you use the columns method with other objects.\n",
    "\n",
    "In the biomaRt package, filters are things that can be used with values to restrict or choose what comes back. The 'values' here are treated as keys that you are passing in and which you would like to know more information about. In contrast, the filter represents the kind of key that you are searching for. So for example, you might choose a filter name of \"chromosome\\_name\" to go with specific value of \"1\". Together these two argument values would request whatever attributes matched things on the 1st chromosome. And just as there here is an accessor for attributes, there is also an accessor for filters:"
   ]
  },
  {
   "cell_type": "code",
   "execution_count": 38,
   "metadata": {},
   "outputs": [
    {
     "data": {
      "text/html": [
       "<table>\n",
       "<thead><tr><th></th><th scope=col>name</th><th scope=col>description</th></tr></thead>\n",
       "<tbody>\n",
       "\t<tr><th scope=row>1</th><td>chromosome_name</td><td>Chromosome name</td></tr>\n",
       "\t<tr><th scope=row>2</th><td>start</td><td>Gene Start (bp)</td></tr>\n",
       "\t<tr><th scope=row>3</th><td>end</td><td>Gene End (bp)</td></tr>\n",
       "\t<tr><th scope=row>4</th><td>band_start</td><td>Band Start</td></tr>\n",
       "\t<tr><th scope=row>5</th><td>band_end</td><td>Band End</td></tr>\n",
       "\t<tr><th scope=row>6</th><td>marker_start</td><td>Marker Start</td></tr>\n",
       "</tbody>\n",
       "</table>\n"
      ],
      "text/latex": [
       "\\begin{tabular}{r|ll}\n",
       "  & name & description\\\\\n",
       "\\hline\n",
       "\t1 & chromosome_name & Chromosome name\\\\\n",
       "\t2 & start & Gene Start (bp)\\\\\n",
       "\t3 & end & Gene End (bp)\\\\\n",
       "\t4 & band_start & Band Start\\\\\n",
       "\t5 & band_end & Band End\\\\\n",
       "\t6 & marker_start & Marker Start\\\\\n",
       "\\end{tabular}\n"
      ],
      "text/plain": [
       "             name     description\n",
       "1 chromosome_name Chromosome name\n",
       "2           start Gene Start (bp)\n",
       "3             end   Gene End (bp)\n",
       "4      band_start      Band Start\n",
       "5        band_end        Band End\n",
       "6    marker_start    Marker Start"
      ]
     },
     "execution_count": 38,
     "metadata": {},
     "output_type": "execute_result"
    }
   ],
   "source": [
    "head(listFilters(ensembl))"
   ]
  },
  {
   "cell_type": "markdown",
   "metadata": {},
   "source": [
    "So now you know about attributes, values and filters, you can call the getBM method to put it all together and request specific data from the mart. So for example, the following requests gene symbols and entrez gene IDs that are found on chromosome 1 of flies:"
   ]
  },
  {
   "cell_type": "code",
   "execution_count": 39,
   "metadata": {},
   "outputs": [
    {
     "data": {
      "text/html": [
       "<table>\n",
       "<thead><tr><th></th><th scope=col>hgnc_symbol</th><th scope=col>entrezgene</th></tr></thead>\n",
       "<tbody>\n",
       "\t<tr><th scope=row>1</th><td>MIIP</td><td>60672</td></tr>\n",
       "\t<tr><th scope=row>2</th><td></td><td>NA</td></tr>\n",
       "\t<tr><th scope=row>3</th><td>HYDIN2</td><td>NA</td></tr>\n",
       "\t<tr><th scope=row>4</th><td>SLC25A6P3</td><td>NA</td></tr>\n",
       "\t<tr><th scope=row>5</th><td>RNFT1P2</td><td>NA</td></tr>\n",
       "\t<tr><th scope=row>6</th><td>MUTYH</td><td>4595</td></tr>\n",
       "</tbody>\n",
       "</table>\n"
      ],
      "text/latex": [
       "\\begin{tabular}{r|ll}\n",
       "  & hgnc_symbol & entrezgene\\\\\n",
       "\\hline\n",
       "\t1 & MIIP & 60672\\\\\n",
       "\t2 &  & NA\\\\\n",
       "\t3 & HYDIN2 & NA\\\\\n",
       "\t4 & SLC25A6P3 & NA\\\\\n",
       "\t5 & RNFT1P2 & NA\\\\\n",
       "\t6 & MUTYH & 4595\\\\\n",
       "\\end{tabular}\n"
      ],
      "text/plain": [
       "  hgnc_symbol entrezgene\n",
       "1        MIIP      60672\n",
       "2                     NA\n",
       "3      HYDIN2         NA\n",
       "4   SLC25A6P3         NA\n",
       "5     RNFT1P2         NA\n",
       "6       MUTYH       4595"
      ]
     },
     "execution_count": 39,
     "metadata": {},
     "output_type": "execute_result"
    }
   ],
   "source": [
    "res <- getBM(attributes=c(\"hgnc_symbol\", \"entrezgene\"), \n",
    "                    filters = \"chromosome_name\", \n",
    "                    values = \"1\", mart = ensembl)\n",
    "head(res)"
   ]
  },
  {
   "cell_type": "markdown",
   "metadata": {},
   "source": [
    "Of course you may have noticed that a lot of the arguments for getBM are very similar to what you do when you call shsapienselect. So if it's your preference you can now also use the standard select methods with mart objects."
   ]
  },
  {
   "cell_type": "code",
   "execution_count": 40,
   "metadata": {},
   "outputs": [
    {
     "data": {
      "text/html": [
       "<ol class=list-inline>\n",
       "\t<li>'3_utr_end'</li>\n",
       "\t<li>'3_utr_end'</li>\n",
       "\t<li>'3_utr_start'</li>\n",
       "\t<li>'3_utr_start'</li>\n",
       "\t<li>'3utr'</li>\n",
       "\t<li>'5_utr_end'</li>\n",
       "</ol>\n"
      ],
      "text/latex": [
       "\\begin{enumerate*}\n",
       "\\item '3_utr_end'\n",
       "\\item '3_utr_end'\n",
       "\\item '3_utr_start'\n",
       "\\item '3_utr_start'\n",
       "\\item '3utr'\n",
       "\\item '5_utr_end'\n",
       "\\end{enumerate*}\n"
      ],
      "text/markdown": [
       "1. '3_utr_end'\n",
       "2. '3_utr_end'\n",
       "3. '3_utr_start'\n",
       "4. '3_utr_start'\n",
       "5. '3utr'\n",
       "6. '5_utr_end'\n",
       "\n",
       "\n"
      ],
      "text/plain": [
       "[1] \"3_utr_end\"   \"3_utr_end\"   \"3_utr_start\" \"3_utr_start\" \"3utr\"       \n",
       "[6] \"5_utr_end\"  "
      ]
     },
     "execution_count": 40,
     "metadata": {},
     "output_type": "execute_result"
    }
   ],
   "source": [
    "head(columns(ensembl))"
   ]
  },
  {
   "cell_type": "markdown",
   "metadata": {},
   "source": [
    "<h3 id=\"biomaRtEx\">\n",
    "biomaRt exercises\n",
    "</h3>\n",
    "Exercise 11: Pull down GO terms for entrez gene id \"1\" from human by using the ensembl \"hsapiens\\_gene\\_ensembl\" dataset.\n",
    "\n",
    "Exercise 12: Now compare the GO terms you just pulled down to the same GO terms from the org.Hs.eg.db package (which you can now retrieve using select()). What differences do you notice? Why do you suspect that is?\n",
    "\n",
    "<p class=\"back_to_top\">\n",
    "\\[ <a href=\"#top\">Back to top</a> \\]\n",
    "</p>\n",
    "<h2 id=\"creation\">\n",
    "Creating annotation objects\n",
    "</h2>\n",
    "By now you are aware that Bioconductor has a lot of annotation resources. But it is still completely impossible to have every annotation resource pre-packaged for every conceivable use. Because of this, almost all annotation objects have special functions that can be called to create those objects (or the packages that load them) from generalized data resources or specific file types. Below is a table with a few of the more popular options.\n",
    "\n",
    "<table style=\"width:106%;\">\n",
    "<colgroup>\n",
    "<col width=\"26%\" />\n",
    "<col width=\"36%\" />\n",
    "<col width=\"43%\" />\n",
    "</colgroup>\n",
    "<thead>\n",
    "<tr class=\"header\">\n",
    "<th align=\"left\">If you want this</th>\n",
    "<th align=\"left\">And you have this</th>\n",
    "<th align=\"left\">Then you could call this to help</th>\n",
    "</tr>\n",
    "</thead>\n",
    "<tbody>\n",
    "<tr class=\"odd\">\n",
    "<td align=\"left\">TxDb</td>\n",
    "<td align=\"left\">tracks from UCSC</td>\n",
    "<td align=\"left\">GenomicFeatures::makeTxDbPackageFromUCSC</td>\n",
    "</tr>\n",
    "<tr class=\"even\">\n",
    "<td align=\"left\">TxDb</td>\n",
    "<td align=\"left\">data from biomaRt</td>\n",
    "<td align=\"left\">GenomicFeatures::makeTxDbPackageFromBiomaRt</td>\n",
    "</tr>\n",
    "<tr class=\"odd\">\n",
    "<td align=\"left\">TxDb</td>\n",
    "<td align=\"left\">gff or gtf file</td>\n",
    "<td align=\"left\">GenomicFeatures::makeTxDbFromGFF</td>\n",
    "</tr>\n",
    "<tr class=\"even\">\n",
    "<td align=\"left\">OrgDb</td>\n",
    "<td align=\"left\">custom data.frames</td>\n",
    "<td align=\"left\">AnnotationForge::makeOrgPackage</td>\n",
    "</tr>\n",
    "<tr class=\"odd\">\n",
    "<td align=\"left\">OrgDb</td>\n",
    "<td align=\"left\">valid Taxonomy ID</td>\n",
    "<td align=\"left\">AnnotationForge::makeOrgPackageFromNCBI</td>\n",
    "</tr>\n",
    "<tr class=\"even\">\n",
    "<td align=\"left\">ChipDb</td>\n",
    "<td align=\"left\">org package &amp; data.frame</td>\n",
    "<td align=\"left\">AnnotationForge::makeChipPackage</td>\n",
    "</tr>\n",
    "<tr class=\"odd\">\n",
    "<td align=\"left\">BSgenome</td>\n",
    "<td align=\"left\">fasta or twobit sequence files</td>\n",
    "<td align=\"left\">BSgenome::forgeBSgenomeDataPkg</td>\n",
    "</tr>\n",
    "</tbody>\n",
    "</table>\n",
    "\n",
    "In most cases the output for resource creation functions will be an annotation package that you can install.\n",
    "\n",
    "And there is unfortunately not enough space to demonstrate how to call each of these functions here. But to do so is actually pretty straightforward and most such functions will be well documented with their associated manual pages and vignettes\\[3,4,10,12\\]. As usual, you can see the help page for any function right inside of R."
   ]
  },
  {
   "cell_type": "markdown",
   "metadata": {},
   "source": [
    "``` r\n",
    "help(\"makeTxDbPackageFromUCSC\")\n",
    "```"
   ]
  },
  {
   "cell_type": "markdown",
   "metadata": {},
   "source": [
    "If you plan to make use of these kinds of functions then you should expect to consult the associated documentation first. These kinds of functions tend to have a lot of arguments and most of them also require that their input data meet some fairly specific criteria. Finally, you should know that even after you have succeeded at creating an annotation package, you will also have to make use of the install.packages() function (with the repos argument=NULL) to install whatever package source directory has just been created.\n",
    "\n",
    "<h2 id=\"considerations\">\n",
    "Important considerations\n",
    "</h2>\n",
    "The bioconductor project represents a very large and active codebase from an active and engaged community. Because of this, you should expect that the software described in this walkthrough will change over time and often in dramatic ways. As an example, the getSeq function that is described in this chapter is expected to a big overhaul in the coming months. When this happens the older function will be deprecated for a full release cycle (6 months) and then labeled as defunct for another release cycle before it is removed. This cycle is in place so that active users can be warned about what is happening and where they should look for the appropriate replacement functionality. But obviously, this system cannot warn end users if they have not been vigilant about updating their software to the latest version. So please take the time to always update your software to the latest version.\n",
    "\n",
    "To stay abreast of new developments users are encouraged to explore the [bioconductor website](http://bioconductor.org/) which contains many current walkthroughs and vignettes. Also visit the [support site](https://support.bioconductor.org/) where you can ask questions and engage in discussions.\n",
    "\n",
    "<h2 id=\"sessioninfo\">\n",
    "sessionInfo()\n",
    "</h2>\n",
    "Package versions used in this tutorial:"
   ]
  },
  {
   "cell_type": "code",
   "execution_count": 41,
   "metadata": {},
   "outputs": [
    {
     "data": {
      "text/plain": [
       "R version 3.2.2 (2015-08-14)\n",
       "Platform: x86_64-pc-linux-gnu (64-bit)\n",
       "Running under: Ubuntu 14.04.3 LTS\n",
       "\n",
       "locale:\n",
       " [1] LC_CTYPE=en_US.UTF-8       LC_NUMERIC=C              \n",
       " [3] LC_TIME=en_US.UTF-8        LC_COLLATE=en_US.UTF-8    \n",
       " [5] LC_MONETARY=de_DE.UTF-8    LC_MESSAGES=en_US.UTF-8   \n",
       " [7] LC_PAPER=de_DE.UTF-8       LC_NAME=C                 \n",
       " [9] LC_ADDRESS=C               LC_TELEPHONE=C            \n",
       "[11] LC_MEASUREMENT=de_DE.UTF-8 LC_IDENTIFICATION=C       \n",
       "\n",
       "attached base packages:\n",
       "[1] stats4    parallel  stats     graphics  grDevices utils     datasets \n",
       "[8] methods   base     \n",
       "\n",
       "other attached packages:\n",
       " [1] biomaRt_2.26.1                         \n",
       " [2] BSgenome.Hsapiens.UCSC.hg19_1.4.0      \n",
       " [3] BSgenome_1.38.0                        \n",
       " [4] rtracklayer_1.30.1                     \n",
       " [5] Biostrings_2.38.2                      \n",
       " [6] XVector_0.10.0                         \n",
       " [7] Homo.sapiens_1.3.1                     \n",
       " [8] org.Hs.eg.db_3.2.3                     \n",
       " [9] GO.db_3.2.2                            \n",
       "[10] RSQLite_1.0.0                          \n",
       "[11] DBI_0.3.1                              \n",
       "[12] OrganismDbi_1.12.0                     \n",
       "[13] TxDb.Hsapiens.UCSC.hg19.knownGene_3.2.2\n",
       "[14] GenomicFeatures_1.22.6                 \n",
       "[15] AnnotationDbi_1.32.2                   \n",
       "[16] Biobase_2.30.0                         \n",
       "[17] GenomicRanges_1.22.2                   \n",
       "[18] GenomeInfoDb_1.6.1                     \n",
       "[19] IRanges_2.4.6                          \n",
       "[20] S4Vectors_0.8.5                        \n",
       "[21] BiocGenerics_0.16.1                    \n",
       "\n",
       "loaded via a namespace (and not attached):\n",
       " [1] BiocInstaller_1.20.1       futile.logger_1.4.1       \n",
       " [3] base64enc_0.1-3            bitops_1.0-6              \n",
       " [5] futile.options_1.0.0       tools_3.2.2               \n",
       " [7] zlibbioc_1.16.0            digest_0.6.8              \n",
       " [9] uuid_0.1-2                 jsonlite_0.9.19           \n",
       "[11] evaluate_0.8               graph_1.48.0              \n",
       "[13] IRdisplay_0.3              IRkernel_0.5              \n",
       "[15] rzmq_0.7.7                 repr_0.4                  \n",
       "[17] stringr_1.0.0              RBGL_1.46.0               \n",
       "[19] XML_3.98-1.3               BiocParallel_1.4.0        \n",
       "[21] lambda.r_1.1.7             magrittr_1.5              \n",
       "[23] Rsamtools_1.22.0           GenomicAlignments_1.6.1   \n",
       "[25] SummarizedExperiment_1.0.1 stringi_1.0-1             \n",
       "[27] RCurl_1.95-4.7            "
      ]
     },
     "execution_count": 41,
     "metadata": {},
     "output_type": "execute_result"
    }
   ],
   "source": [
    "sessionInfo()"
   ]
  },
  {
   "cell_type": "markdown",
   "metadata": {},
   "source": [
    "<h2 id=\"acknowledgements\">\n",
    "Acknowledgments\n",
    "</h2>\n",
    "Research reported in this chapter was supported by the National Human Genome Research Institute of the National Institutes of Health under Award Number U41HG004059 and by the National Cancer Institute of the National Institutes of Health under Award Number U24CA180996. We also want to thank the numerous institutions who produced and maintained the data that is used for generating and updating the annotation resources described here.\n",
    "\n",
    "<h2 id=\"references\">\n",
    "References\n",
    "</h2>\n",
    "1.  Wolfgang Huber, Vincent J Carey, Robert Gentleman, Simon Anders, Marc Carlson, Benilton S Carvalho, Hector Corrada Bravo, Sean Davis, Laurent Gatto, Thomas Girke, Raphael Gottardo, Florian Hahne, Kasper D Hansen, Rafael A Irizarry, Michael Lawrence, Michael I Love, James MacDonald, Valerie Obenchain, Andrzej K Oleś, Hervé Pagès, Alejandro Reyes, Paul Shannon, Gordon K Smyth, Dan Tenenbaum, Levi Waldron & Martin Morgan (2015) Orchestrating high-throughput genomic analysis with Bioconductor Nature Methods 12:115-121\n",
    "\n",
    "2.  Pages H, Carlson M, Falcon S and Li N. AnnotationDbi: Annotation Database Interface. R package version 1.30.0.\n",
    "\n",
    "3.  M. Carlson, H. Pages, P. Aboyoun, S. Falcon, M. Morgan, D. Sarkar, M. Lawrence GenomicFeatures: Tools for making and manipulating transcript centric annotations version 1.19.38.\n",
    "\n",
    "4.  Lawrence M, Huber W, Pagès H, Aboyoun P, Carlson M, Gentleman R, Morgan M and Carey V (2013). Software for Computing and Annotating Genomic Ranges. PLoS Computational Biology, 9. <http://dx.doi.org/10.1371/journal.pcbi.1003118>, <http://www.ploscompbiol.org/article/info%3Adoi%2F10.1371%2Fjournal.pcbi.1003118>\n",
    "\n",
    "5.  Steffen Durinck, Wolfgang Huber biomaRt: Interface to BioMart databases (e.g. Ensembl, COSMIC ,Wormbase and Gramene) version 2.23.5.\n",
    "\n",
    "6.  Durinck S, Spellman P, Birney E and Huber W (2009). Mapping identifiers for the integration of genomic datasets with the R/Bioconductor package biomaRt. Nature Protocols, 4, pp. 1184-1191.\n",
    "\n",
    "7.  Durinck S, Moreau Y, Kasprzyk A, Davis S, De Moor B, Brazma A and Huber W (2005). BioMart and Bioconductor: a powerful link between biological databases and microarray data analysis. Bioinformatics, 21, pp. 3439-3440.\n",
    "\n",
    "8.  Morgan M, Carlson M, Tenenbaum D and Arora S. AnnotationHub: Client to access AnnotationHub resources. R package version 2.0.1.\n",
    "\n",
    "9.  Carlson M, Pages H, Morgan M and Obenchain V. OrganismDbi: Software to enable the smooth interfacing of different database packages. R package version 1.10.0.\n",
    "\n",
    "10. Pages H. BSgenome: Infrastructure for Biostrings-based genome data packages. R package version 1.36.0.\n",
    "\n",
    "11. Pages H, Aboyoun P, Gentleman R and DebRoy S. Biostrings: String objects representing biological sequences, and matching algorithms. R package version 2.36.0.\n",
    "\n",
    "12. Carlson M, and Pages H. AnnotationForge: Code for Building Annotation Database Packages. R package version 1.10.0.\n",
    "\n",
    "<h2 id=\"answers\">\n",
    "Answers for exercises\n",
    "</h2>\n",
    "<h3>\n",
    "Exercise 1:\n",
    "</h3>\n",
    "The 1st thing you need to do is look for thing from UCSC"
   ]
  },
  {
   "cell_type": "code",
   "execution_count": 42,
   "metadata": {},
   "outputs": [
    {
     "ename": "ERROR",
     "evalue": "Error in eval(expr, envir, enclos): could not find function \"query\"\n",
     "output_type": "error",
     "traceback": [
      "Error in eval(expr, envir, enclos): could not find function \"query\"\n"
     ]
    }
   ],
   "source": [
    "ahs <- query(ah, \"UCSC\")"
   ]
  },
  {
   "cell_type": "markdown",
   "metadata": {},
   "source": [
    "Then you can look for Genome values that match 'hg19' and a species that matches 'Homo sapiens'."
   ]
  },
  {
   "cell_type": "code",
   "execution_count": 43,
   "metadata": {},
   "outputs": [
    {
     "ename": "ERROR",
     "evalue": "Error in subset(ahs, ahs$genome == \"hg19\"): error in evaluating the argument 'x' in selecting a method for function 'subset': Error: object 'ahs' not found\n\n",
     "output_type": "error",
     "traceback": [
      "Error in subset(ahs, ahs$genome == \"hg19\"): error in evaluating the argument 'x' in selecting a method for function 'subset': Error: object 'ahs' not found\n\n"
     ]
    },
    {
     "ename": "ERROR",
     "evalue": "Error in eval(expr, envir, enclos): object 'ahs' not found\n",
     "output_type": "error",
     "traceback": [
      "Error in eval(expr, envir, enclos): object 'ahs' not found\n"
     ]
    },
    {
     "ename": "ERROR",
     "evalue": "Error in subset(ahs, ahs$species == \"Homo sapiens\"): error in evaluating the argument 'x' in selecting a method for function 'subset': Error: object 'ahs' not found\n\n",
     "output_type": "error",
     "traceback": [
      "Error in subset(ahs, ahs$species == \"Homo sapiens\"): error in evaluating the argument 'x' in selecting a method for function 'subset': Error: object 'ahs' not found\n\n"
     ]
    },
    {
     "ename": "ERROR",
     "evalue": "Error in eval(expr, envir, enclos): object 'ahs' not found\n",
     "output_type": "error",
     "traceback": [
      "Error in eval(expr, envir, enclos): object 'ahs' not found\n"
     ]
    }
   ],
   "source": [
    "ahs <- subset(ahs, ahs$genome=='hg19')\n",
    "length(ahs)\n",
    "ahs <- subset(ahs, ahs$species=='Homo sapiens') \n",
    "length(ahs)"
   ]
  },
  {
   "cell_type": "markdown",
   "metadata": {},
   "source": [
    "You might notice that the last two filtering steps are redundant (IOW doing the 1st of them is the same as doing both of them.) If this were not the case, we might suspect that there was a problem with the metadata.\n",
    "\n",
    "<h3>\n",
    "Exercise 2:\n",
    "</h3>\n",
    "This pulls down the oreganno annotations. Which are described on the UCSC site thusly: \"This track displays literature-curated regulatory regions, transcription factor binding sites, and regulatory polymorphisms from ORegAnno (Open Regulatory Annotation). For more detailed information on a particular regulatory element, follow the link to ORegAnno from the details page.\""
   ]
  },
  {
   "cell_type": "code",
   "execution_count": 44,
   "metadata": {},
   "outputs": [
    {
     "ename": "ERROR",
     "evalue": "Error in eval(expr, envir, enclos): could not find function \"query\"\n",
     "output_type": "error",
     "traceback": [
      "Error in eval(expr, envir, enclos): could not find function \"query\"\n"
     ]
    },
    {
     "ename": "ERROR",
     "evalue": "Error in eval(expr, envir, enclos): object 'ahs' not found\n",
     "output_type": "error",
     "traceback": [
      "Error in eval(expr, envir, enclos): object 'ahs' not found\n"
     ]
    },
    {
     "ename": "ERROR",
     "evalue": "Error in eval(expr, envir, enclos): object 'ahs' not found\n",
     "output_type": "error",
     "traceback": [
      "Error in eval(expr, envir, enclos): object 'ahs' not found\n"
     ]
    },
    {
     "ename": "ERROR",
     "evalue": "Error in eval(expr, envir, enclos): object 'ahs' not found\n",
     "output_type": "error",
     "traceback": [
      "Error in eval(expr, envir, enclos): object 'ahs' not found\n"
     ]
    },
    {
     "ename": "ERROR",
     "evalue": "Error in eval(expr, envir, enclos): object 'oreg' not found\n",
     "output_type": "error",
     "traceback": [
      "Error in eval(expr, envir, enclos): object 'oreg' not found\n"
     ]
    }
   ],
   "source": [
    "ahs <- query(ah, 'oreganno')\n",
    "ahs\n",
    "ahs[1]\n",
    "oreg <- ahs[['AH5087']]\n",
    "oreg"
   ]
  },
  {
   "cell_type": "markdown",
   "metadata": {},
   "source": [
    "<h3>\n",
    "Exercise 3:\n",
    "</h3>"
   ]
  },
  {
   "cell_type": "code",
   "execution_count": 45,
   "metadata": {},
   "outputs": [
    {
     "name": "stderr",
     "output_type": "stream",
     "text": [
      "Warning message:\n",
      "In .deprecatedColsMessage(): Accessing gene location information via 'CHR','CHRLOC','CHRLOCEND' is\n",
      "  deprecated. Please use a range based accessor like genes(), or select()\n",
      "  with columns values like TXCHROM and TXSTART on a TxDb or OrganismDb\n",
      "  object instead.'select()' returned 1:1 mapping between keys and columns\n"
     ]
    },
    {
     "data": {
      "text/html": [
       "<table>\n",
       "<thead><tr><th></th><th scope=col>SYMBOL</th><th scope=col>ENTREZID</th><th scope=col>CHR</th></tr></thead>\n",
       "<tbody>\n",
       "\t<tr><th scope=row>1</th><td>MSX2</td><td>4488</td><td>5</td></tr>\n",
       "</tbody>\n",
       "</table>\n"
      ],
      "text/latex": [
       "\\begin{tabular}{r|lll}\n",
       "  & SYMBOL & ENTREZID & CHR\\\\\n",
       "\\hline\n",
       "\t1 & MSX2 & 4488 & 5\\\\\n",
       "\\end{tabular}\n"
      ],
      "text/plain": [
       "  SYMBOL ENTREZID CHR\n",
       "1   MSX2     4488   5"
      ]
     },
     "execution_count": 45,
     "metadata": {},
     "output_type": "execute_result"
    }
   ],
   "source": [
    "keys <- \"MSX2\"\n",
    "columns <- c(\"ENTREZID\", \"CHR\")\n",
    "select(org.Hs.eg.db, keys, columns, keytype=\"SYMBOL\")"
   ]
  },
  {
   "cell_type": "markdown",
   "metadata": {},
   "source": [
    "<h3>\n",
    "Exercise 4:\n",
    "</h3>"
   ]
  },
  {
   "cell_type": "code",
   "execution_count": 46,
   "metadata": {},
   "outputs": [
    {
     "name": "stderr",
     "output_type": "stream",
     "text": [
      "'select()' returned 1:many mapping between keys and columns\n"
     ]
    },
    {
     "data": {
      "text/html": [
       "59500"
      ],
      "text/latex": [
       "59500"
      ],
      "text/markdown": [
       "59500"
      ],
      "text/plain": [
       "[1] 59500"
      ]
     },
     "execution_count": 46,
     "metadata": {},
     "output_type": "execute_result"
    },
    {
     "data": {
      "text/html": [
       "59500"
      ],
      "text/latex": [
       "59500"
      ],
      "text/markdown": [
       "59500"
      ],
      "text/plain": [
       "[1] 59500"
      ]
     },
     "execution_count": 46,
     "metadata": {},
     "output_type": "execute_result"
    },
    {
     "data": {
      "text/html": [
       "59500"
      ],
      "text/latex": [
       "59500"
      ],
      "text/markdown": [
       "59500"
      ],
      "text/plain": [
       "[1] 59500"
      ]
     },
     "execution_count": 46,
     "metadata": {},
     "output_type": "execute_result"
    },
    {
     "data": {
      "text/html": [
       "59476"
      ],
      "text/latex": [
       "59476"
      ],
      "text/markdown": [
       "59476"
      ],
      "text/plain": [
       "[1] 59476"
      ]
     },
     "execution_count": 46,
     "metadata": {},
     "output_type": "execute_result"
    },
    {
     "name": "stderr",
     "output_type": "stream",
     "text": [
      "'select()' returned many:many mapping between keys and columns\n"
     ]
    },
    {
     "data": {
      "text/html": [
       "<table>\n",
       "<thead><tr><th></th><th scope=col>SYMBOL</th><th scope=col>ENTREZID</th></tr></thead>\n",
       "<tbody>\n",
       "\t<tr><th scope=row>1</th><td>FFAR2</td><td>2867</td></tr>\n",
       "\t<tr><th scope=row>2</th><td>FFAR2</td><td>105372382</td></tr>\n",
       "\t<tr><th scope=row>3</th><td>HBD</td><td>3045</td></tr>\n",
       "\t<tr><th scope=row>4</th><td>HBD</td><td>100187828</td></tr>\n",
       "\t<tr><th scope=row>5</th><td>RNR1</td><td>4549</td></tr>\n",
       "\t<tr><th scope=row>6</th><td>RNR1</td><td>6052</td></tr>\n",
       "\t<tr><th scope=row>7</th><td>RNR2</td><td>4550</td></tr>\n",
       "\t<tr><th scope=row>8</th><td>RNR2</td><td>6053</td></tr>\n",
       "\t<tr><th scope=row>9</th><td>SFPQ</td><td>6421</td></tr>\n",
       "\t<tr><th scope=row>10</th><td>SFPQ</td><td>654780</td></tr>\n",
       "\t<tr><th scope=row>11</th><td>TEC</td><td>7006</td></tr>\n",
       "\t<tr><th scope=row>12</th><td>TEC</td><td>100124696</td></tr>\n",
       "\t<tr><th scope=row>13</th><td>MEMO1</td><td>7795</td></tr>\n",
       "\t<tr><th scope=row>14</th><td>MEMO1</td><td>51072</td></tr>\n",
       "\t<tr><th scope=row>15</th><td>LRRC37A</td><td>9884</td></tr>\n",
       "\t<tr><th scope=row>16</th><td>LRRC37A</td><td>105376839</td></tr>\n",
       "\t<tr><th scope=row>17</th><td>LINC00470</td><td>56651</td></tr>\n",
       "\t<tr><th scope=row>18</th><td>LINC00470</td><td>105371954</td></tr>\n",
       "\t<tr><th scope=row>19</th><td>LINC00475</td><td>158314</td></tr>\n",
       "\t<tr><th scope=row>20</th><td>LINC00475</td><td>105379831</td></tr>\n",
       "\t<tr><th scope=row>21</th><td>EMX2OS</td><td>196047</td></tr>\n",
       "\t<tr><th scope=row>22</th><td>EMX2OS</td><td>105378503</td></tr>\n",
       "\t<tr><th scope=row>23</th><td>ZEB1-AS1</td><td>220930</td></tr>\n",
       "\t<tr><th scope=row>24</th><td>ZEB1-AS1</td><td>101929946</td></tr>\n",
       "\t<tr><th scope=row>25</th><td>MMD2</td><td>221938</td></tr>\n",
       "\t<tr><th scope=row>26</th><td>MMD2</td><td>100505381</td></tr>\n",
       "\t<tr><th scope=row>27</th><td>LINC00677</td><td>254299</td></tr>\n",
       "\t<tr><th scope=row>28</th><td>LINC00677</td><td>105370683</td></tr>\n",
       "\t<tr><th scope=row>29</th><td>OFCC1</td><td>266553</td></tr>\n",
       "\t<tr><th scope=row>30</th><td>OFCC1</td><td>105369145</td></tr>\n",
       "\t<tr><th scope=row>31</th><td>LINC00299</td><td>339789</td></tr>\n",
       "\t<tr><th scope=row>32</th><td>LINC00299</td><td>105373410</td></tr>\n",
       "\t<tr><th scope=row>33</th><td>LINC00649</td><td>400863</td></tr>\n",
       "\t<tr><th scope=row>34</th><td>LINC00649</td><td>100506334</td></tr>\n",
       "\t<tr><th scope=row>35</th><td>LINC00649</td><td>101928126</td></tr>\n",
       "\t<tr><th scope=row>36</th><td>LINC00649</td><td>400863</td></tr>\n",
       "\t<tr><th scope=row>37</th><td>LINC00649</td><td>100506334</td></tr>\n",
       "\t<tr><th scope=row>38</th><td>LINC00649</td><td>101928126</td></tr>\n",
       "\t<tr><th scope=row>39</th><td>TTLL11-IT1</td><td>401550</td></tr>\n",
       "\t<tr><th scope=row>40</th><td>TTLL11-IT1</td><td>105376261</td></tr>\n",
       "\t<tr><th scope=row>41</th><td>LINC00596</td><td>414767</td></tr>\n",
       "\t<tr><th scope=row>42</th><td>LINC00596</td><td>102724845</td></tr>\n",
       "\t<tr><th scope=row>43</th><td>HCG20</td><td>414774</td></tr>\n",
       "\t<tr><th scope=row>44</th><td>HCG20</td><td>105375013</td></tr>\n",
       "\t<tr><th scope=row>45</th><td>HCG21</td><td>414775</td></tr>\n",
       "\t<tr><th scope=row>46</th><td>HCG21</td><td>102723346</td></tr>\n",
       "\t<tr><th scope=row>47</th><td>LINC00092</td><td>100188953</td></tr>\n",
       "\t<tr><th scope=row>48</th><td>LINC00092</td><td>105376159</td></tr>\n",
       "\t<tr><th scope=row>49</th><td>LSAMP-AS1</td><td>100506708</td></tr>\n",
       "\t<tr><th scope=row>50</th><td>LSAMP-AS1</td><td>101926903</td></tr>\n",
       "</tbody>\n",
       "</table>\n"
      ],
      "text/latex": [
       "\\begin{tabular}{r|ll}\n",
       "  & SYMBOL & ENTREZID\\\\\n",
       "\\hline\n",
       "\t1 & FFAR2 & 2867\\\\\n",
       "\t2 & FFAR2 & 105372382\\\\\n",
       "\t3 & HBD & 3045\\\\\n",
       "\t4 & HBD & 100187828\\\\\n",
       "\t5 & RNR1 & 4549\\\\\n",
       "\t6 & RNR1 & 6052\\\\\n",
       "\t7 & RNR2 & 4550\\\\\n",
       "\t8 & RNR2 & 6053\\\\\n",
       "\t9 & SFPQ & 6421\\\\\n",
       "\t10 & SFPQ & 654780\\\\\n",
       "\t11 & TEC & 7006\\\\\n",
       "\t12 & TEC & 100124696\\\\\n",
       "\t13 & MEMO1 & 7795\\\\\n",
       "\t14 & MEMO1 & 51072\\\\\n",
       "\t15 & LRRC37A & 9884\\\\\n",
       "\t16 & LRRC37A & 105376839\\\\\n",
       "\t17 & LINC00470 & 56651\\\\\n",
       "\t18 & LINC00470 & 105371954\\\\\n",
       "\t19 & LINC00475 & 158314\\\\\n",
       "\t20 & LINC00475 & 105379831\\\\\n",
       "\t21 & EMX2OS & 196047\\\\\n",
       "\t22 & EMX2OS & 105378503\\\\\n",
       "\t23 & ZEB1-AS1 & 220930\\\\\n",
       "\t24 & ZEB1-AS1 & 101929946\\\\\n",
       "\t25 & MMD2 & 221938\\\\\n",
       "\t26 & MMD2 & 100505381\\\\\n",
       "\t27 & LINC00677 & 254299\\\\\n",
       "\t28 & LINC00677 & 105370683\\\\\n",
       "\t29 & OFCC1 & 266553\\\\\n",
       "\t30 & OFCC1 & 105369145\\\\\n",
       "\t31 & LINC00299 & 339789\\\\\n",
       "\t32 & LINC00299 & 105373410\\\\\n",
       "\t33 & LINC00649 & 400863\\\\\n",
       "\t34 & LINC00649 & 100506334\\\\\n",
       "\t35 & LINC00649 & 101928126\\\\\n",
       "\t36 & LINC00649 & 400863\\\\\n",
       "\t37 & LINC00649 & 100506334\\\\\n",
       "\t38 & LINC00649 & 101928126\\\\\n",
       "\t39 & TTLL11-IT1 & 401550\\\\\n",
       "\t40 & TTLL11-IT1 & 105376261\\\\\n",
       "\t41 & LINC00596 & 414767\\\\\n",
       "\t42 & LINC00596 & 102724845\\\\\n",
       "\t43 & HCG20 & 414774\\\\\n",
       "\t44 & HCG20 & 105375013\\\\\n",
       "\t45 & HCG21 & 414775\\\\\n",
       "\t46 & HCG21 & 102723346\\\\\n",
       "\t47 & LINC00092 & 100188953\\\\\n",
       "\t48 & LINC00092 & 105376159\\\\\n",
       "\t49 & LSAMP-AS1 & 100506708\\\\\n",
       "\t50 & LSAMP-AS1 & 101926903\\\\\n",
       "\\end{tabular}\n"
      ],
      "text/plain": [
       "       SYMBOL  ENTREZID\n",
       "1       FFAR2      2867\n",
       "2       FFAR2 105372382\n",
       "3         HBD      3045\n",
       "4         HBD 100187828\n",
       "5        RNR1      4549\n",
       "6        RNR1      6052\n",
       "7        RNR2      4550\n",
       "8        RNR2      6053\n",
       "9        SFPQ      6421\n",
       "10       SFPQ    654780\n",
       "11        TEC      7006\n",
       "12        TEC 100124696\n",
       "13      MEMO1      7795\n",
       "14      MEMO1     51072\n",
       "15    LRRC37A      9884\n",
       "16    LRRC37A 105376839\n",
       "17  LINC00470     56651\n",
       "18  LINC00470 105371954\n",
       "19  LINC00475    158314\n",
       "20  LINC00475 105379831\n",
       "21     EMX2OS    196047\n",
       "22     EMX2OS 105378503\n",
       "23   ZEB1-AS1    220930\n",
       "24   ZEB1-AS1 101929946\n",
       "25       MMD2    221938\n",
       "26       MMD2 100505381\n",
       "27  LINC00677    254299\n",
       "28  LINC00677 105370683\n",
       "29      OFCC1    266553\n",
       "30      OFCC1 105369145\n",
       "31  LINC00299    339789\n",
       "32  LINC00299 105373410\n",
       "33  LINC00649    400863\n",
       "34  LINC00649 100506334\n",
       "35  LINC00649 101928126\n",
       "36  LINC00649    400863\n",
       "37  LINC00649 100506334\n",
       "38  LINC00649 101928126\n",
       "39 TTLL11-IT1    401550\n",
       "40 TTLL11-IT1 105376261\n",
       "41  LINC00596    414767\n",
       "42  LINC00596 102724845\n",
       "43      HCG20    414774\n",
       "44      HCG20 105375013\n",
       "45      HCG21    414775\n",
       "46      HCG21 102723346\n",
       "47  LINC00092 100188953\n",
       "48  LINC00092 105376159\n",
       "49  LSAMP-AS1 100506708\n",
       "50  LSAMP-AS1 101926903"
      ]
     },
     "execution_count": 46,
     "metadata": {},
     "output_type": "execute_result"
    }
   ],
   "source": [
    "## 1st get all the gene symbols\n",
    "orgSymbols <- keys(org.Hs.eg.db, keytype=\"SYMBOL\")\n",
    "## and then use that to get all gene symbols matched to all entrez gene IDs\n",
    "egr <- select(org.Hs.eg.db, keys=orgSymbols, \"ENTREZID\", \"SYMBOL\")\n",
    "length(egr$ENTREZID)\n",
    "length(unique(egr$ENTREZID))\n",
    "## VS:\n",
    "length(egr$SYMBOL)\n",
    "length(unique(egr$SYMBOL))\n",
    "## So lets trap these symbols that are redundant and look more closely...\n",
    "redund <- egr$SYMBOL\n",
    "badSymbols <- redund[duplicated(redund)]\n",
    "select(org.Hs.eg.db, badSymbols, \"ENTREZID\", \"SYMBOL\")"
   ]
  },
  {
   "cell_type": "markdown",
   "metadata": {},
   "source": [
    "<h3>\n",
    "Exercise 5:\n",
    "</h3>\n",
    "So to retrieve this information using select you need to do it like this:"
   ]
  },
  {
   "cell_type": "code",
   "execution_count": 47,
   "metadata": {},
   "outputs": [
    {
     "name": "stderr",
     "output_type": "stream",
     "text": [
      "'select()' returned 1:1 mapping between keys and columns\n"
     ]
    },
    {
     "data": {
      "text/html": [
       "<table>\n",
       "<thead><tr><th></th><th scope=col>TXID</th><th scope=col>GENEID</th><th scope=col>TXNAME</th><th scope=col>TXCHROM</th></tr></thead>\n",
       "<tbody>\n",
       "\t<tr><th scope=row>1</th><td>1</td><td>100287102</td><td>uc001aaa.3</td><td>chr1</td></tr>\n",
       "\t<tr><th scope=row>2</th><td>2</td><td>100287102</td><td>uc010nxq.1</td><td>chr1</td></tr>\n",
       "\t<tr><th scope=row>3</th><td>3</td><td>100287102</td><td>uc010nxr.1</td><td>chr1</td></tr>\n",
       "\t<tr><th scope=row>4</th><td>4</td><td>79501</td><td>uc001aal.1</td><td>chr1</td></tr>\n",
       "\t<tr><th scope=row>5</th><td>5</td><td>NA</td><td>uc001aaq.2</td><td>chr1</td></tr>\n",
       "\t<tr><th scope=row>6</th><td>6</td><td>NA</td><td>uc001aar.2</td><td>chr1</td></tr>\n",
       "</tbody>\n",
       "</table>\n"
      ],
      "text/latex": [
       "\\begin{tabular}{r|llll}\n",
       "  & TXID & GENEID & TXNAME & TXCHROM\\\\\n",
       "\\hline\n",
       "\t1 & 1 & 100287102 & uc001aaa.3 & chr1\\\\\n",
       "\t2 & 2 & 100287102 & uc010nxq.1 & chr1\\\\\n",
       "\t3 & 3 & 100287102 & uc010nxr.1 & chr1\\\\\n",
       "\t4 & 4 & 79501 & uc001aal.1 & chr1\\\\\n",
       "\t5 & 5 & NA & uc001aaq.2 & chr1\\\\\n",
       "\t6 & 6 & NA & uc001aar.2 & chr1\\\\\n",
       "\\end{tabular}\n"
      ],
      "text/plain": [
       "  TXID    GENEID     TXNAME TXCHROM\n",
       "1    1 100287102 uc001aaa.3    chr1\n",
       "2    2 100287102 uc010nxq.1    chr1\n",
       "3    3 100287102 uc010nxr.1    chr1\n",
       "4    4     79501 uc001aal.1    chr1\n",
       "5    5      <NA> uc001aaq.2    chr1\n",
       "6    6      <NA> uc001aar.2    chr1"
      ]
     },
     "execution_count": 47,
     "metadata": {},
     "output_type": "execute_result"
    }
   ],
   "source": [
    "res1 <- select(TxDb.Hsapiens.UCSC.hg19.knownGene, \n",
    "               keys(TxDb.Hsapiens.UCSC.hg19.knownGene, keytype=\"TXID\"),\n",
    "               columns=c(\"GENEID\",\"TXNAME\",\"TXCHROM\"), keytype=\"TXID\")\n",
    "\n",
    "head(res1)"
   ]
  },
  {
   "cell_type": "markdown",
   "metadata": {},
   "source": [
    "And to do it using transcripts you do it like this:"
   ]
  },
  {
   "cell_type": "code",
   "execution_count": 48,
   "metadata": {},
   "outputs": [
    {
     "data": {
      "text/plain": [
       "GRanges object with 6 ranges and 2 metadata columns:\n",
       "      seqnames           ranges strand |         gene_id     tx_name\n",
       "         <Rle>        <IRanges>  <Rle> | <CharacterList> <character>\n",
       "  [1]     chr1 [ 11874,  14409]      + |       100287102  uc001aaa.3\n",
       "  [2]     chr1 [ 11874,  14409]      + |       100287102  uc010nxq.1\n",
       "  [3]     chr1 [ 11874,  14409]      + |       100287102  uc010nxr.1\n",
       "  [4]     chr1 [ 69091,  70008]      + |           79501  uc001aal.1\n",
       "  [5]     chr1 [321084, 321115]      + |                  uc001aaq.2\n",
       "  [6]     chr1 [321146, 321207]      + |                  uc001aar.2\n",
       "  -------\n",
       "  seqinfo: 92 sequences (1 circular) from hg19 genome"
      ]
     },
     "execution_count": 48,
     "metadata": {},
     "output_type": "execute_result"
    }
   ],
   "source": [
    "res2 <- transcripts(TxDb.Hsapiens.UCSC.hg19.knownGene, \n",
    "                    columns = c(\"gene_id\",\"tx_name\")) \n",
    "head(res2)"
   ]
  },
  {
   "cell_type": "markdown",
   "metadata": {},
   "source": [
    "Notice that in the 2nd case we don't have to ask for the chromosome, as transcripts() returns a GRanges object, so the chromosome will automatically be returned as part of the object.\n",
    "\n",
    "<h3>\n",
    "Exercise 6:\n",
    "</h3>"
   ]
  },
  {
   "cell_type": "code",
   "execution_count": 49,
   "metadata": {},
   "outputs": [],
   "source": [
    "library(TxDb.Athaliana.BioMart.plantsmart22)\n",
    "res <- transcripts(TxDb.Athaliana.BioMart.plantsmart22, columns = c(\"gene_id\")) "
   ]
  },
  {
   "cell_type": "markdown",
   "metadata": {},
   "source": [
    "You will notice that the gene ids for this package are TAIR locus IDs and are NOT entrez gene IDs like what you saw in the TxDb.Hsapiens.UCSC.hg19.knownGene package. It's important to always pay attention to the kind of gene id is being used by the TxDb you are looking at.\n",
    "\n",
    "<h3>\n",
    "Exercise 7:\n",
    "</h3>"
   ]
  },
  {
   "cell_type": "markdown",
   "metadata": {},
   "source": [
    "``` r\n",
    "library(Homo.sapiens)\n",
    "keys <- keys(Homo.sapiens, keytype=\"TXID\")\n",
    "res1 <- select(Homo.sapiens, \n",
    "               keys= keys,\n",
    "               columns=c(\"SYMBOL\",\"TXSTART\",\"TXCHROM\"), keytype=\"TXID\")\n",
    "\n",
    "head(res1)\n",
    "```"
   ]
  },
  {
   "cell_type": "markdown",
   "metadata": {},
   "source": [
    "And to do it using transcripts you do it like this:"
   ]
  },
  {
   "cell_type": "code",
   "execution_count": 50,
   "metadata": {},
   "outputs": [
    {
     "name": "stderr",
     "output_type": "stream",
     "text": [
      "'select()' returned 1:1 mapping between keys and columns\n"
     ]
    },
    {
     "data": {
      "text/plain": [
       "GRanges object with 6 ranges and 1 metadata column:\n",
       "      seqnames           ranges strand |          SYMBOL\n",
       "         <Rle>        <IRanges>  <Rle> | <CharacterList>\n",
       "  [1]     chr1 [ 11874,  14409]      + |         DDX11L1\n",
       "  [2]     chr1 [ 11874,  14409]      + |         DDX11L1\n",
       "  [3]     chr1 [ 11874,  14409]      + |         DDX11L1\n",
       "  [4]     chr1 [ 69091,  70008]      + |           OR4F5\n",
       "  [5]     chr1 [321084, 321115]      + |              NA\n",
       "  [6]     chr1 [321146, 321207]      + |              NA\n",
       "  -------\n",
       "  seqinfo: 92 sequences (1 circular) from hg19 genome"
      ]
     },
     "execution_count": 50,
     "metadata": {},
     "output_type": "execute_result"
    }
   ],
   "source": [
    "library(Homo.sapiens)\n",
    "res2 <- transcripts(Homo.sapiens, columns=\"SYMBOL\") \n",
    "head(res2)"
   ]
  },
  {
   "cell_type": "markdown",
   "metadata": {},
   "source": [
    "<h3>\n",
    "Exercise 8:\n",
    "</h3>"
   ]
  },
  {
   "cell_type": "code",
   "execution_count": 51,
   "metadata": {},
   "outputs": [
    {
     "data": {
      "text/html": [
       "<ol class=list-inline>\n",
       "\t<li>'ACCNUM'</li>\n",
       "\t<li>'ALIAS'</li>\n",
       "\t<li>'CDSCHROM'</li>\n",
       "\t<li>'CDSEND'</li>\n",
       "\t<li>'CDSID'</li>\n",
       "\t<li>'CDSNAME'</li>\n",
       "\t<li>'CDSSTART'</li>\n",
       "\t<li>'CDSSTRAND'</li>\n",
       "\t<li>'DEFINITION'</li>\n",
       "\t<li>'ENSEMBL'</li>\n",
       "\t<li>'ENSEMBLPROT'</li>\n",
       "\t<li>'ENSEMBLTRANS'</li>\n",
       "\t<li>'ENTREZID'</li>\n",
       "\t<li>'ENZYME'</li>\n",
       "\t<li>'EVIDENCE'</li>\n",
       "\t<li>'EVIDENCEALL'</li>\n",
       "\t<li>'EXONCHROM'</li>\n",
       "\t<li>'EXONEND'</li>\n",
       "\t<li>'EXONID'</li>\n",
       "\t<li>'EXONNAME'</li>\n",
       "\t<li>'EXONRANK'</li>\n",
       "\t<li>'EXONSTART'</li>\n",
       "\t<li>'EXONSTRAND'</li>\n",
       "\t<li>'GENEID'</li>\n",
       "\t<li>'GENENAME'</li>\n",
       "\t<li>'GO'</li>\n",
       "\t<li>'GOALL'</li>\n",
       "\t<li>'GOID'</li>\n",
       "\t<li>'IPI'</li>\n",
       "\t<li>'MAP'</li>\n",
       "\t<li>'OMIM'</li>\n",
       "\t<li>'ONTOLOGY'</li>\n",
       "\t<li>'ONTOLOGYALL'</li>\n",
       "\t<li>'PATH'</li>\n",
       "\t<li>'PFAM'</li>\n",
       "\t<li>'PMID'</li>\n",
       "\t<li>'PROSITE'</li>\n",
       "\t<li>'REFSEQ'</li>\n",
       "\t<li>'SYMBOL'</li>\n",
       "\t<li>'TERM'</li>\n",
       "\t<li>'TXCHROM'</li>\n",
       "\t<li>'TXEND'</li>\n",
       "\t<li>'TXID'</li>\n",
       "\t<li>'TXNAME'</li>\n",
       "\t<li>'TXSTART'</li>\n",
       "\t<li>'TXSTRAND'</li>\n",
       "\t<li>'TXTYPE'</li>\n",
       "\t<li>'UCSCKG'</li>\n",
       "\t<li>'UNIGENE'</li>\n",
       "\t<li>'UNIPROT'</li>\n",
       "</ol>\n"
      ],
      "text/latex": [
       "\\begin{enumerate*}\n",
       "\\item 'ACCNUM'\n",
       "\\item 'ALIAS'\n",
       "\\item 'CDSCHROM'\n",
       "\\item 'CDSEND'\n",
       "\\item 'CDSID'\n",
       "\\item 'CDSNAME'\n",
       "\\item 'CDSSTART'\n",
       "\\item 'CDSSTRAND'\n",
       "\\item 'DEFINITION'\n",
       "\\item 'ENSEMBL'\n",
       "\\item 'ENSEMBLPROT'\n",
       "\\item 'ENSEMBLTRANS'\n",
       "\\item 'ENTREZID'\n",
       "\\item 'ENZYME'\n",
       "\\item 'EVIDENCE'\n",
       "\\item 'EVIDENCEALL'\n",
       "\\item 'EXONCHROM'\n",
       "\\item 'EXONEND'\n",
       "\\item 'EXONID'\n",
       "\\item 'EXONNAME'\n",
       "\\item 'EXONRANK'\n",
       "\\item 'EXONSTART'\n",
       "\\item 'EXONSTRAND'\n",
       "\\item 'GENEID'\n",
       "\\item 'GENENAME'\n",
       "\\item 'GO'\n",
       "\\item 'GOALL'\n",
       "\\item 'GOID'\n",
       "\\item 'IPI'\n",
       "\\item 'MAP'\n",
       "\\item 'OMIM'\n",
       "\\item 'ONTOLOGY'\n",
       "\\item 'ONTOLOGYALL'\n",
       "\\item 'PATH'\n",
       "\\item 'PFAM'\n",
       "\\item 'PMID'\n",
       "\\item 'PROSITE'\n",
       "\\item 'REFSEQ'\n",
       "\\item 'SYMBOL'\n",
       "\\item 'TERM'\n",
       "\\item 'TXCHROM'\n",
       "\\item 'TXEND'\n",
       "\\item 'TXID'\n",
       "\\item 'TXNAME'\n",
       "\\item 'TXSTART'\n",
       "\\item 'TXSTRAND'\n",
       "\\item 'TXTYPE'\n",
       "\\item 'UCSCKG'\n",
       "\\item 'UNIGENE'\n",
       "\\item 'UNIPROT'\n",
       "\\end{enumerate*}\n"
      ],
      "text/markdown": [
       "1. 'ACCNUM'\n",
       "2. 'ALIAS'\n",
       "3. 'CDSCHROM'\n",
       "4. 'CDSEND'\n",
       "5. 'CDSID'\n",
       "6. 'CDSNAME'\n",
       "7. 'CDSSTART'\n",
       "8. 'CDSSTRAND'\n",
       "9. 'DEFINITION'\n",
       "10. 'ENSEMBL'\n",
       "11. 'ENSEMBLPROT'\n",
       "12. 'ENSEMBLTRANS'\n",
       "13. 'ENTREZID'\n",
       "14. 'ENZYME'\n",
       "15. 'EVIDENCE'\n",
       "16. 'EVIDENCEALL'\n",
       "17. 'EXONCHROM'\n",
       "18. 'EXONEND'\n",
       "19. 'EXONID'\n",
       "20. 'EXONNAME'\n",
       "21. 'EXONRANK'\n",
       "22. 'EXONSTART'\n",
       "23. 'EXONSTRAND'\n",
       "24. 'GENEID'\n",
       "25. 'GENENAME'\n",
       "26. 'GO'\n",
       "27. 'GOALL'\n",
       "28. 'GOID'\n",
       "29. 'IPI'\n",
       "30. 'MAP'\n",
       "31. 'OMIM'\n",
       "32. 'ONTOLOGY'\n",
       "33. 'ONTOLOGYALL'\n",
       "34. 'PATH'\n",
       "35. 'PFAM'\n",
       "36. 'PMID'\n",
       "37. 'PROSITE'\n",
       "38. 'REFSEQ'\n",
       "39. 'SYMBOL'\n",
       "40. 'TERM'\n",
       "41. 'TXCHROM'\n",
       "42. 'TXEND'\n",
       "43. 'TXID'\n",
       "44. 'TXNAME'\n",
       "45. 'TXSTART'\n",
       "46. 'TXSTRAND'\n",
       "47. 'TXTYPE'\n",
       "48. 'UCSCKG'\n",
       "49. 'UNIGENE'\n",
       "50. 'UNIPROT'\n",
       "\n",
       "\n"
      ],
      "text/plain": [
       " [1] \"ACCNUM\"       \"ALIAS\"        \"CDSCHROM\"     \"CDSEND\"       \"CDSID\"       \n",
       " [6] \"CDSNAME\"      \"CDSSTART\"     \"CDSSTRAND\"    \"DEFINITION\"   \"ENSEMBL\"     \n",
       "[11] \"ENSEMBLPROT\"  \"ENSEMBLTRANS\" \"ENTREZID\"     \"ENZYME\"       \"EVIDENCE\"    \n",
       "[16] \"EVIDENCEALL\"  \"EXONCHROM\"    \"EXONEND\"      \"EXONID\"       \"EXONNAME\"    \n",
       "[21] \"EXONRANK\"     \"EXONSTART\"    \"EXONSTRAND\"   \"GENEID\"       \"GENENAME\"    \n",
       "[26] \"GO\"           \"GOALL\"        \"GOID\"         \"IPI\"          \"MAP\"         \n",
       "[31] \"OMIM\"         \"ONTOLOGY\"     \"ONTOLOGYALL\"  \"PATH\"         \"PFAM\"        \n",
       "[36] \"PMID\"         \"PROSITE\"      \"REFSEQ\"       \"SYMBOL\"       \"TERM\"        \n",
       "[41] \"TXCHROM\"      \"TXEND\"        \"TXID\"         \"TXNAME\"       \"TXSTART\"     \n",
       "[46] \"TXSTRAND\"     \"TXTYPE\"       \"UCSCKG\"       \"UNIGENE\"      \"UNIPROT\"     "
      ]
     },
     "execution_count": 51,
     "metadata": {},
     "output_type": "execute_result"
    },
    {
     "data": {
      "text/html": [
       "<ol class=list-inline>\n",
       "\t<li>'ACCNUM'</li>\n",
       "\t<li>'ALIAS'</li>\n",
       "\t<li>'ENSEMBL'</li>\n",
       "\t<li>'ENSEMBLPROT'</li>\n",
       "\t<li>'ENSEMBLTRANS'</li>\n",
       "\t<li>'ENTREZID'</li>\n",
       "\t<li>'ENZYME'</li>\n",
       "\t<li>'EVIDENCE'</li>\n",
       "\t<li>'EVIDENCEALL'</li>\n",
       "\t<li>'GENENAME'</li>\n",
       "\t<li>'GO'</li>\n",
       "\t<li>'GOALL'</li>\n",
       "\t<li>'IPI'</li>\n",
       "\t<li>'MAP'</li>\n",
       "\t<li>'OMIM'</li>\n",
       "\t<li>'ONTOLOGY'</li>\n",
       "\t<li>'ONTOLOGYALL'</li>\n",
       "\t<li>'PATH'</li>\n",
       "\t<li>'PFAM'</li>\n",
       "\t<li>'PMID'</li>\n",
       "\t<li>'PROSITE'</li>\n",
       "\t<li>'REFSEQ'</li>\n",
       "\t<li>'SYMBOL'</li>\n",
       "\t<li>'UCSCKG'</li>\n",
       "\t<li>'UNIGENE'</li>\n",
       "\t<li>'UNIPROT'</li>\n",
       "</ol>\n"
      ],
      "text/latex": [
       "\\begin{enumerate*}\n",
       "\\item 'ACCNUM'\n",
       "\\item 'ALIAS'\n",
       "\\item 'ENSEMBL'\n",
       "\\item 'ENSEMBLPROT'\n",
       "\\item 'ENSEMBLTRANS'\n",
       "\\item 'ENTREZID'\n",
       "\\item 'ENZYME'\n",
       "\\item 'EVIDENCE'\n",
       "\\item 'EVIDENCEALL'\n",
       "\\item 'GENENAME'\n",
       "\\item 'GO'\n",
       "\\item 'GOALL'\n",
       "\\item 'IPI'\n",
       "\\item 'MAP'\n",
       "\\item 'OMIM'\n",
       "\\item 'ONTOLOGY'\n",
       "\\item 'ONTOLOGYALL'\n",
       "\\item 'PATH'\n",
       "\\item 'PFAM'\n",
       "\\item 'PMID'\n",
       "\\item 'PROSITE'\n",
       "\\item 'REFSEQ'\n",
       "\\item 'SYMBOL'\n",
       "\\item 'UCSCKG'\n",
       "\\item 'UNIGENE'\n",
       "\\item 'UNIPROT'\n",
       "\\end{enumerate*}\n"
      ],
      "text/markdown": [
       "1. 'ACCNUM'\n",
       "2. 'ALIAS'\n",
       "3. 'ENSEMBL'\n",
       "4. 'ENSEMBLPROT'\n",
       "5. 'ENSEMBLTRANS'\n",
       "6. 'ENTREZID'\n",
       "7. 'ENZYME'\n",
       "8. 'EVIDENCE'\n",
       "9. 'EVIDENCEALL'\n",
       "10. 'GENENAME'\n",
       "11. 'GO'\n",
       "12. 'GOALL'\n",
       "13. 'IPI'\n",
       "14. 'MAP'\n",
       "15. 'OMIM'\n",
       "16. 'ONTOLOGY'\n",
       "17. 'ONTOLOGYALL'\n",
       "18. 'PATH'\n",
       "19. 'PFAM'\n",
       "20. 'PMID'\n",
       "21. 'PROSITE'\n",
       "22. 'REFSEQ'\n",
       "23. 'SYMBOL'\n",
       "24. 'UCSCKG'\n",
       "25. 'UNIGENE'\n",
       "26. 'UNIPROT'\n",
       "\n",
       "\n"
      ],
      "text/plain": [
       " [1] \"ACCNUM\"       \"ALIAS\"        \"ENSEMBL\"      \"ENSEMBLPROT\"  \"ENSEMBLTRANS\"\n",
       " [6] \"ENTREZID\"     \"ENZYME\"       \"EVIDENCE\"     \"EVIDENCEALL\"  \"GENENAME\"    \n",
       "[11] \"GO\"           \"GOALL\"        \"IPI\"          \"MAP\"          \"OMIM\"        \n",
       "[16] \"ONTOLOGY\"     \"ONTOLOGYALL\"  \"PATH\"         \"PFAM\"         \"PMID\"        \n",
       "[21] \"PROSITE\"      \"REFSEQ\"       \"SYMBOL\"       \"UCSCKG\"       \"UNIGENE\"     \n",
       "[26] \"UNIPROT\"     "
      ]
     },
     "execution_count": 51,
     "metadata": {},
     "output_type": "execute_result"
    },
    {
     "data": {
      "text/html": [
       "<ol class=list-inline>\n",
       "\t<li>'CDSCHROM'</li>\n",
       "\t<li>'CDSEND'</li>\n",
       "\t<li>'CDSID'</li>\n",
       "\t<li>'CDSNAME'</li>\n",
       "\t<li>'CDSSTART'</li>\n",
       "\t<li>'CDSSTRAND'</li>\n",
       "\t<li>'EXONCHROM'</li>\n",
       "\t<li>'EXONEND'</li>\n",
       "\t<li>'EXONID'</li>\n",
       "\t<li>'EXONNAME'</li>\n",
       "\t<li>'EXONRANK'</li>\n",
       "\t<li>'EXONSTART'</li>\n",
       "\t<li>'EXONSTRAND'</li>\n",
       "\t<li>'GENEID'</li>\n",
       "\t<li>'TXCHROM'</li>\n",
       "\t<li>'TXEND'</li>\n",
       "\t<li>'TXID'</li>\n",
       "\t<li>'TXNAME'</li>\n",
       "\t<li>'TXSTART'</li>\n",
       "\t<li>'TXSTRAND'</li>\n",
       "\t<li>'TXTYPE'</li>\n",
       "</ol>\n"
      ],
      "text/latex": [
       "\\begin{enumerate*}\n",
       "\\item 'CDSCHROM'\n",
       "\\item 'CDSEND'\n",
       "\\item 'CDSID'\n",
       "\\item 'CDSNAME'\n",
       "\\item 'CDSSTART'\n",
       "\\item 'CDSSTRAND'\n",
       "\\item 'EXONCHROM'\n",
       "\\item 'EXONEND'\n",
       "\\item 'EXONID'\n",
       "\\item 'EXONNAME'\n",
       "\\item 'EXONRANK'\n",
       "\\item 'EXONSTART'\n",
       "\\item 'EXONSTRAND'\n",
       "\\item 'GENEID'\n",
       "\\item 'TXCHROM'\n",
       "\\item 'TXEND'\n",
       "\\item 'TXID'\n",
       "\\item 'TXNAME'\n",
       "\\item 'TXSTART'\n",
       "\\item 'TXSTRAND'\n",
       "\\item 'TXTYPE'\n",
       "\\end{enumerate*}\n"
      ],
      "text/markdown": [
       "1. 'CDSCHROM'\n",
       "2. 'CDSEND'\n",
       "3. 'CDSID'\n",
       "4. 'CDSNAME'\n",
       "5. 'CDSSTART'\n",
       "6. 'CDSSTRAND'\n",
       "7. 'EXONCHROM'\n",
       "8. 'EXONEND'\n",
       "9. 'EXONID'\n",
       "10. 'EXONNAME'\n",
       "11. 'EXONRANK'\n",
       "12. 'EXONSTART'\n",
       "13. 'EXONSTRAND'\n",
       "14. 'GENEID'\n",
       "15. 'TXCHROM'\n",
       "16. 'TXEND'\n",
       "17. 'TXID'\n",
       "18. 'TXNAME'\n",
       "19. 'TXSTART'\n",
       "20. 'TXSTRAND'\n",
       "21. 'TXTYPE'\n",
       "\n",
       "\n"
      ],
      "text/plain": [
       " [1] \"CDSCHROM\"   \"CDSEND\"     \"CDSID\"      \"CDSNAME\"    \"CDSSTART\"  \n",
       " [6] \"CDSSTRAND\"  \"EXONCHROM\"  \"EXONEND\"    \"EXONID\"     \"EXONNAME\"  \n",
       "[11] \"EXONRANK\"   \"EXONSTART\"  \"EXONSTRAND\" \"GENEID\"     \"TXCHROM\"   \n",
       "[16] \"TXEND\"      \"TXID\"       \"TXNAME\"     \"TXSTART\"    \"TXSTRAND\"  \n",
       "[21] \"TXTYPE\"    "
      ]
     },
     "execution_count": 51,
     "metadata": {},
     "output_type": "execute_result"
    },
    {
     "name": "stderr",
     "output_type": "stream",
     "text": [
      "'select()' returned 1:1 mapping between keys and columns\n"
     ]
    },
    {
     "data": {
      "text/plain": [
       "GRanges object with 82508 ranges and 1 metadata column:\n",
       "                seqnames           ranges strand   |          SYMBOL\n",
       "                   <Rle>        <IRanges>  <Rle>   | <CharacterList>\n",
       "      [1]           chr1 [ 11874,  14409]      +   |         DDX11L1\n",
       "      [2]           chr1 [ 11874,  14409]      +   |         DDX11L1\n",
       "      [3]           chr1 [ 11874,  14409]      +   |         DDX11L1\n",
       "      [4]           chr1 [ 69091,  70008]      +   |           OR4F5\n",
       "      [5]           chr1 [321084, 321115]      +   |              NA\n",
       "      ...            ...              ...    ... ...             ...\n",
       "  [82504] chrUn_gl000237   [    1,  2686]      -   |              NA\n",
       "  [82505] chrUn_gl000241   [20433, 36875]      -   |              NA\n",
       "  [82506] chrUn_gl000243   [11501, 11530]      +   |              NA\n",
       "  [82507] chrUn_gl000243   [13608, 13637]      +   |              NA\n",
       "  [82508] chrUn_gl000247   [ 5787,  5816]      -   |              NA\n",
       "  -------\n",
       "  seqinfo: 92 sequences (1 circular) from hg19 genome"
      ]
     },
     "execution_count": 51,
     "metadata": {},
     "output_type": "execute_result"
    }
   ],
   "source": [
    "columns(Homo.sapiens)\n",
    "columns(org.Hs.eg.db)\n",
    "columns(TxDb.Hsapiens.UCSC.hg19.knownGene)\n",
    "## You might also want to look at this:\n",
    "transcripts(Homo.sapiens, columns=c(\"SYMBOL\",\"CHRLOC\"))"
   ]
  },
  {
   "cell_type": "markdown",
   "metadata": {},
   "source": [
    "The key difference is that the TXSTART refers to the start of a transcript and originates in the TxDb object from the TxDb.Hsapiens.UCSC.hg19.knownGene package, while the CHRLOC refers to the same thing but originates in the OrgDb object from the org.Hs.eg.db package. The point of origin is significant because the TxDb object represents a transcriptome from UCSC and the OrgDb is primarily gene centric data that originates at NCBI. The upshot is that CHRLOC will not have as many regions represented as TXSTART, since there has to be an official gene for there to even be a record. The CHRLOC data is also locked in for org.Hs.eg.db as data for hg19, whereas you can swap in a different TxDb object to match the genome you are using to make it hg18 etc. For these reasons, we strongly recommend using TXSTART instead of CHRLOC. Howeverm CHRLOC still remains in the org packages for historical reasons.\n",
    "\n",
    "<h3>\n",
    "Exercise 9\n",
    "</h3>\n",
    "To find the keys that match, make use of the pattern and column arguments."
   ]
  },
  {
   "cell_type": "code",
   "execution_count": 52,
   "metadata": {},
   "outputs": [
    {
     "data": {
      "text/html": [
       "<ol class=list-inline>\n",
       "\t<li>'51'</li>\n",
       "\t<li>'179'</li>\n",
       "\t<li>'189'</li>\n",
       "\t<li>'239'</li>\n",
       "\t<li>'240'</li>\n",
       "\t<li>'241'</li>\n",
       "</ol>\n"
      ],
      "text/latex": [
       "\\begin{enumerate*}\n",
       "\\item '51'\n",
       "\\item '179'\n",
       "\\item '189'\n",
       "\\item '239'\n",
       "\\item '240'\n",
       "\\item '241'\n",
       "\\end{enumerate*}\n"
      ],
      "text/markdown": [
       "1. '51'\n",
       "2. '179'\n",
       "3. '189'\n",
       "4. '239'\n",
       "5. '240'\n",
       "6. '241'\n",
       "\n",
       "\n"
      ],
      "text/plain": [
       "[1] \"51\"  \"179\" \"189\" \"239\" \"240\" \"241\""
      ]
     },
     "execution_count": 52,
     "metadata": {},
     "output_type": "execute_result"
    }
   ],
   "source": [
    "library(Homo.sapiens)\n",
    "xk = head(keys(Homo.sapiens, keytype=\"ENTREZID\", pattern=\"X\", column=\"SYMBOL\"))\n",
    "xk"
   ]
  },
  {
   "cell_type": "markdown",
   "metadata": {},
   "source": [
    "select verifies the results"
   ]
  },
  {
   "cell_type": "code",
   "execution_count": 53,
   "metadata": {},
   "outputs": [
    {
     "name": "stderr",
     "output_type": "stream",
     "text": [
      "'select()' returned 1:1 mapping between keys and columns\n"
     ]
    },
    {
     "data": {
      "text/html": [
       "<table>\n",
       "<thead><tr><th></th><th scope=col>ENTREZID</th><th scope=col>SYMBOL</th></tr></thead>\n",
       "<tbody>\n",
       "\t<tr><th scope=row>1</th><td>51</td><td>ACOX1</td></tr>\n",
       "\t<tr><th scope=row>2</th><td>179</td><td>AGMX2</td></tr>\n",
       "\t<tr><th scope=row>3</th><td>189</td><td>AGXT</td></tr>\n",
       "\t<tr><th scope=row>4</th><td>239</td><td>ALOX12</td></tr>\n",
       "\t<tr><th scope=row>5</th><td>240</td><td>ALOX5</td></tr>\n",
       "\t<tr><th scope=row>6</th><td>241</td><td>ALOX5AP</td></tr>\n",
       "</tbody>\n",
       "</table>\n"
      ],
      "text/latex": [
       "\\begin{tabular}{r|ll}\n",
       "  & ENTREZID & SYMBOL\\\\\n",
       "\\hline\n",
       "\t1 & 51 & ACOX1\\\\\n",
       "\t2 & 179 & AGMX2\\\\\n",
       "\t3 & 189 & AGXT\\\\\n",
       "\t4 & 239 & ALOX12\\\\\n",
       "\t5 & 240 & ALOX5\\\\\n",
       "\t6 & 241 & ALOX5AP\\\\\n",
       "\\end{tabular}\n"
      ],
      "text/plain": [
       "  ENTREZID  SYMBOL\n",
       "1       51   ACOX1\n",
       "2      179   AGMX2\n",
       "3      189    AGXT\n",
       "4      239  ALOX12\n",
       "5      240   ALOX5\n",
       "6      241 ALOX5AP"
      ]
     },
     "execution_count": 53,
     "metadata": {},
     "output_type": "execute_result"
    }
   ],
   "source": [
    "select(Homo.sapiens, xk, \"SYMBOL\", \"ENTREZID\")"
   ]
  },
  {
   "cell_type": "markdown",
   "metadata": {},
   "source": [
    "<h3>\n",
    "Exercise 10:\n",
    "</h3>"
   ]
  },
  {
   "cell_type": "code",
   "execution_count": 54,
   "metadata": {},
   "outputs": [
    {
     "name": "stderr",
     "output_type": "stream",
     "text": [
      "'select()' returned 1:1 mapping between keys and columns\n"
     ]
    },
    {
     "data": {
      "text/html": [
       "<table>\n",
       "<thead><tr><th></th><th scope=col>SYMBOL</th><th scope=col>ENTREZID</th></tr></thead>\n",
       "<tbody>\n",
       "\t<tr><th scope=row>1</th><td>PTEN</td><td>5728</td></tr>\n",
       "</tbody>\n",
       "</table>\n"
      ],
      "text/latex": [
       "\\begin{tabular}{r|ll}\n",
       "  & SYMBOL & ENTREZID\\\\\n",
       "\\hline\n",
       "\t1 & PTEN & 5728\\\\\n",
       "\\end{tabular}\n"
      ],
      "text/plain": [
       "  SYMBOL ENTREZID\n",
       "1   PTEN     5728"
      ]
     },
     "execution_count": 54,
     "metadata": {},
     "output_type": "execute_result"
    },
    {
     "data": {
      "text/plain": [
       "  A DNAStringSet instance of length 2\n",
       "     width seq\n",
       "[1] 105338 CCTCCCCTCGCCCGGCGCGGTCCCGTCCGCCTC...CACTTAAAACTGATTAAAGTCTCATTCTTGTCA\n",
       "[2] 105338 CCTCCCCTCGCCCGGCGCGGTCCCGTCCGCCTC...CACTTAAAACTGATTAAAGTCTCATTCTTGTCA"
      ]
     },
     "execution_count": 54,
     "metadata": {},
     "output_type": "execute_result"
    }
   ],
   "source": [
    "library(\"BSgenome.Hsapiens.UCSC.hg19\")\n",
    "## Get the transcript ranges grouped by gene\n",
    "txby <- transcriptsBy(Homo.sapiens, by=\"gene\")\n",
    "## look up the entrez ID for the gene symbol 'PTEN'\n",
    "select(Homo.sapiens, keys='PTEN', columns='ENTREZID', keytype='SYMBOL')\n",
    "## subset that genes transcripts\n",
    "geneOfInterest <- txby[[\"5728\"]]\n",
    "## extract the sequence\n",
    "res <- getSeq(Hsapiens, geneOfInterest)\n",
    "res"
   ]
  },
  {
   "cell_type": "markdown",
   "metadata": {},
   "source": [
    "<h3>\n",
    "Exercise 11:\n",
    "</h3>"
   ]
  },
  {
   "cell_type": "code",
   "execution_count": 55,
   "metadata": {},
   "outputs": [
    {
     "data": {
      "text/html": [
       "<table>\n",
       "<thead><tr><th></th><th scope=col>go_id</th><th scope=col>entrezgene</th></tr></thead>\n",
       "<tbody>\n",
       "\t<tr><th scope=row>1</th><td>GO:0005615</td><td>1</td></tr>\n",
       "\t<tr><th scope=row>2</th><td>GO:0005576</td><td>1</td></tr>\n",
       "\t<tr><th scope=row>3</th><td>GO:0005515</td><td>1</td></tr>\n",
       "\t<tr><th scope=row>4</th><td>GO:0003674</td><td>1</td></tr>\n",
       "\t<tr><th scope=row>5</th><td>GO:0008150</td><td>1</td></tr>\n",
       "\t<tr><th scope=row>6</th><td>GO:0072562</td><td>1</td></tr>\n",
       "\t<tr><th scope=row>7</th><td>GO:0070062</td><td>1</td></tr>\n",
       "</tbody>\n",
       "</table>\n"
      ],
      "text/latex": [
       "\\begin{tabular}{r|ll}\n",
       "  & go_id & entrezgene\\\\\n",
       "\\hline\n",
       "\t1 & GO:0005615 & 1\\\\\n",
       "\t2 & GO:0005576 & 1\\\\\n",
       "\t3 & GO:0005515 & 1\\\\\n",
       "\t4 & GO:0003674 & 1\\\\\n",
       "\t5 & GO:0008150 & 1\\\\\n",
       "\t6 & GO:0072562 & 1\\\\\n",
       "\t7 & GO:0070062 & 1\\\\\n",
       "\\end{tabular}\n"
      ],
      "text/plain": [
       "       go_id entrezgene\n",
       "1 GO:0005615          1\n",
       "2 GO:0005576          1\n",
       "3 GO:0005515          1\n",
       "4 GO:0003674          1\n",
       "5 GO:0008150          1\n",
       "6 GO:0072562          1\n",
       "7 GO:0070062          1"
      ]
     },
     "execution_count": 55,
     "metadata": {},
     "output_type": "execute_result"
    }
   ],
   "source": [
    "library(\"biomaRt\")\n",
    "ensembl <- useMart(\"ensembl\",dataset=\"hsapiens_gene_ensembl\")\n",
    "ids=c(\"1\")\n",
    "getBM(attributes=c('go_id', 'entrezgene'), \n",
    "            filters = 'entrezgene',\n",
    "                    values = ids, mart = ensembl)"
   ]
  },
  {
   "cell_type": "markdown",
   "metadata": {},
   "source": [
    "<h3>\n",
    "Exercise 12:\n",
    "</h3>"
   ]
  },
  {
   "cell_type": "code",
   "execution_count": 56,
   "metadata": {},
   "outputs": [
    {
     "name": "stderr",
     "output_type": "stream",
     "text": [
      "'select()' returned 1:many mapping between keys and columns\n"
     ]
    },
    {
     "data": {
      "text/html": [
       "<table>\n",
       "<thead><tr><th></th><th scope=col>ENTREZID</th><th scope=col>GO</th><th scope=col>EVIDENCE</th><th scope=col>ONTOLOGY</th></tr></thead>\n",
       "<tbody>\n",
       "\t<tr><th scope=row>1</th><td>1</td><td>GO:0003674</td><td>ND</td><td>MF</td></tr>\n",
       "\t<tr><th scope=row>2</th><td>1</td><td>GO:0005576</td><td>IDA</td><td>CC</td></tr>\n",
       "\t<tr><th scope=row>3</th><td>1</td><td>GO:0005615</td><td>IDA</td><td>CC</td></tr>\n",
       "\t<tr><th scope=row>4</th><td>1</td><td>GO:0008150</td><td>ND</td><td>BP</td></tr>\n",
       "\t<tr><th scope=row>5</th><td>1</td><td>GO:0070062</td><td>IDA</td><td>CC</td></tr>\n",
       "\t<tr><th scope=row>6</th><td>1</td><td>GO:0072562</td><td>IDA</td><td>CC</td></tr>\n",
       "</tbody>\n",
       "</table>\n"
      ],
      "text/latex": [
       "\\begin{tabular}{r|llll}\n",
       "  & ENTREZID & GO & EVIDENCE & ONTOLOGY\\\\\n",
       "\\hline\n",
       "\t1 & 1 & GO:0003674 & ND & MF\\\\\n",
       "\t2 & 1 & GO:0005576 & IDA & CC\\\\\n",
       "\t3 & 1 & GO:0005615 & IDA & CC\\\\\n",
       "\t4 & 1 & GO:0008150 & ND & BP\\\\\n",
       "\t5 & 1 & GO:0070062 & IDA & CC\\\\\n",
       "\t6 & 1 & GO:0072562 & IDA & CC\\\\\n",
       "\\end{tabular}\n"
      ],
      "text/plain": [
       "  ENTREZID         GO EVIDENCE ONTOLOGY\n",
       "1        1 GO:0003674       ND       MF\n",
       "2        1 GO:0005576      IDA       CC\n",
       "3        1 GO:0005615      IDA       CC\n",
       "4        1 GO:0008150       ND       BP\n",
       "5        1 GO:0070062      IDA       CC\n",
       "6        1 GO:0072562      IDA       CC"
      ]
     },
     "execution_count": 56,
     "metadata": {},
     "output_type": "execute_result"
    }
   ],
   "source": [
    "library(org.Hs.eg.db)\n",
    "ids=c(\"1\")\n",
    "select(org.Hs.eg.db, keys=ids, columns=\"GO\", keytype=\"ENTREZID\")"
   ]
  },
  {
   "cell_type": "markdown",
   "metadata": {},
   "source": [
    "When this exercise was written, there was a different number of GO terms returned from biomaRt than from org.Hs.eg.db. This may not always be true in the future though as both of these resources are updated. It is expected however that this web service, (which is updated continuously) will fall in and out of sync with the org.Hs.eg.db package (which is updated twice a year). This is an important difference as each approach has different advantages and disadvantages. The advantage to updating continuously is that you always have the very latest annotations which are frequently different for something like GO terms. The advantage to using a package is that the results are frozen to a release of Bioconductor. And this can help you to get the same answers that you get today (reproducibility), a few years from now.\n",
    "\n",
    "<p class=\"back_to_top\">\n",
    "\\[ <a href=\"#top\">Back to top</a> \\]\n",
    "</p>"
   ]
  }
 ],
 "metadata": {
  "kernelspec": {
   "display_name": "R",
   "language": "R",
   "name": "ir"
  }
 },
 "nbformat": 4,
 "nbformat_minor": 0
}
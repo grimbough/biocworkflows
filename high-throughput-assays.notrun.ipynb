{
 "cells": [
  {
   "cell_type": "markdown",
   "metadata": {

   },
   "source": [
    "-   [Using Bioconductor for High Throughput\n",
    "    Assays](#using-bioconductor-for-high-throughput-assays)\n",
    "    -   [Flow Cytometry](#flow-cytometry)\n",
    "    -   [Cell-based Assays](#cell-based-assays)\n",
    "    -   [High-throughput qPCR Assays](#high-throughput-qpcr-assays)\n",
    "    -   [Mass Spectrometry and Proteomics\n",
    "        data](#mass-spectrometry-and-proteomics-data)\n",
    "    -   [Imaging Based Assays](#imaging-based-assays)\n",
    "\n",
    "Using Bioconductor for High Throughput Assays\n",
    "=============================================\n",
    "\n",
    "Bioconductor includes packages for analysis of diverse areas of high-throughput assays such as flow cytometry, quantitative real-time PCR, mass spectrometry, proteomics and other cell-based data.\n",
    "\n",
    "-   [Sample Workflow](#sample-workflow)\n",
    "-   [Installation and Use](#install-and-use)\n",
    "-   [Exploring Package Content](#exploring-package-content)\n",
    "-   [Diverse Assays Resources](#diverse-assays-resources)\n",
    "\n",
    "<h2 id=\"sample-workflow\">\n",
    "Sample Workflow\n",
    "</h2>\n",
    "The following psuedo-code illustrates a typical R / Bioconductor session. It makes use of the flow cytometry packages to load, transform and visualize the flow data and gate certain populations in the dataset.\n",
    "\n",
    "The workflow loads the `flowCore`, `flowStats` and `flowViz` packages and its dependencies. It loads the ITN data with 15 samples, each of which includes, in addition to FSC and SSC, 5 fluorescence channels: CD3, CD4, CD8, CD69 and HLADR."
   ]
  },
  {
   "cell_type": "code",
   "execution_count": null,
   "metadata": {

   },
   "outputs": [

   ],
   "source": [
    "## Load packages\n",
    "library(flowCore)\n",
    "library(flowStats)\n",
    "library(flowViz) # for flow data visualization\n",
    "\n",
    "## Load data\n",
    "data(ITN)\n",
    "ITN"
   ]
  },
  {
   "cell_type": "markdown",
   "metadata": {

   },
   "source": "First, we need to transform all the fluorescence channels. Using a `workFlow` object can help to keep track of our progress."
  },
  {
   "cell_type": "code",
   "execution_count": null,
   "metadata": {

   },
   "outputs": [

   ],
   "source": [
    "## Create a workflow instance and transform data using asinh\n",
    "wf <- workFlow(ITN)\n",
    "asinh <- arcsinhTransform()\n",
    "tl <- transformList(colnames(ITN)[3:7], asinh, \n",
    "                      transformationId = \"asinh\")\n",
    "add(wf, tl)"
   ]
  },
  {
   "cell_type": "markdown",
   "metadata": {

   },
   "source": "Next we use the `lymphGate` function to find the T-cells in the CD3/SSC projection."
  },
  {
   "cell_type": "markdown",
   "metadata": {

   },
   "source": [
    "``` r\n",
    "lg <- lymphGate(Data(wf[[\"asinh\"]]), channels=c(\"SSC\", \"CD3\"),\n",
    "         preselection=\"CD4\", filterId=\"TCells\", eval=FALSE,\n",
    "         scale=2.5)\n",
    "add(wf, lg$n2gate, parent=\"asinh\")\n",
    "print(xyplot(SSC ~ CD3| PatientID, wf[[\"TCells+\"]],\n",
    "             par.settings=list(gate=list(col=\"red\", \n",
    "             fill=\"red\", alpha=0.3))))",
    "\n```"
   ]
  },
  {
   "cell_type": "markdown",
   "metadata": {

   },
   "source": [
    "A typical workflow for flow cytometry data analysis in Bioconductor flow packages include data transformation, normalization, filtering, manual gating, semi-automatic gating and automatic clustering if desired. Details can be found in [flowWorkFlow.pdf](flowWorkFlow.pdf) or the vignettes of the [flow cytometry packages](#diverse-assays-resources).\n",
    "\n",
    "<p class=\"back_to_top\">\n",
    "\\[ <a href=\"#top\">Back to top</a> \\]\n",
    "</p>\n",
    "<h2 id=\"install-and-use\">\n",
    "Installation and Use\n",
    "</h2>\n",
    "Follow [installation instructions](/install/) to start using these packages. To install the `flowCore` package and all of its dependencies, evaluate the commands"
   ]
  },
  {
   "cell_type": "code",
   "execution_count": null,
   "metadata": {

   },
   "outputs": [

   ],
   "source": [
    "## try http:// if https:// URLs are not supported\n",
    "source(\"https://bioconductor.org/biocLite.R\")\n",
    "biocLite(\"flowCore\")"
   ]
  },
  {
   "cell_type": "markdown",
   "metadata": {

   },
   "source": [
    "Package installation is required only once per R installation. View a full list of [available packages](/packages/release/bioc/).\n",
    "\n",
    "To use the `flowCore` package, evaluate the command"
   ]
  },
  {
   "cell_type": "code",
   "execution_count": null,
   "metadata": {

   },
   "outputs": [

   ],
   "source": "library(\"flowCore\")"
  },
  {
   "cell_type": "markdown",
   "metadata": {

   },
   "source": [
    "This instruction is required once in each R session.\n",
    "\n",
    "<p class=\"back_to_top\">\n",
    "\\[ <a href=\"#top\">Back to top</a> \\]\n",
    "</p>\n",
    "<h2 id=\"exploring-package-content\">\n",
    "Exploring Package Content\n",
    "</h2>\n",
    "Packages have extensive help pages, and include vignettes highlighting common use cases. The help pages and vignettes are available from within R. After loading a package, use syntax like"
   ]
  },
  {
   "cell_type": "code",
   "execution_count": null,
   "metadata": {

   },
   "outputs": [

   ],
   "source": [
    "help(package=\"flowCore\")\n",
    "?read.FCS"
   ]
  },
  {
   "cell_type": "markdown",
   "metadata": {

   },
   "source": "to obtain an overview of help on the `flowCore` package, and the `read.FCS` function, and"
  },
  {
   "cell_type": "code",
   "execution_count": null,
   "metadata": {

   },
   "outputs": [

   ],
   "source": "browseVignettes(package=\"flowCore\")"
  },
  {
   "cell_type": "markdown",
   "metadata": {

   },
   "source": "to view vignettes (providing a more comprehensive introduction to package functionality) in the `flowCore` package. Use"
  },
  {
   "cell_type": "code",
   "execution_count": null,
   "metadata": {

   },
   "outputs": [

   ],
   "source": "help.start()"
  },
  {
   "cell_type": "markdown",
   "metadata": {

   },
   "source": [
    "to open a web page containing comprehensive help resources.\n",
    "\n",
    "<p class=\"back_to_top\">\n",
    "\\[ <a href=\"#top\">Back to top</a> \\]\n",
    "</p>\n",
    "<h2 id=\"diverse-assays-resources\">\n",
    "Diverse Assays Resources\n",
    "</h2>\n",
    "The following provide a brief overview of packages useful for analysis of high-throughput assays. More comprehensive workflows can be found in documentation (available from [package descriptions](/packages/release/bioc/)) and in Bioconductor [publications](/help/publications/).\n",
    "\n",
    "### Flow Cytometry\n",
    "\n",
    "These packages use standard FCS files, including infrastructure, utilities, visualization and semi-autogating methods for the analysis of flow cytometry data.\n",
    "\n",
    "[flowCore](/packages/release/bioc/html/flowCore.html), [flowViz](/packages/release/bioc/html/flowViz.html), [flowQ](/packages/release/bioc/html/flowQ.html), [flowStats](/packages/release/bioc/html/flowStats.html), [flowUtils](/packages/release/bioc/html/flowUtils.html), [flowFP](/packages/release/bioc/html/flowFP.html), [flowTrans](/packages/release/bioc/html/flowTrans.html),\n",
    "\n",
    "Algorithms for clustering flow cytometry data are found in these packages:\n",
    "\n",
    "[flowClust](/packages/release/bioc/html/flowClust.html), [flowMeans](/packages/release/bioc/html/flowMeans.html), [flowMerge](/packages/release/bioc/html/flowMerge.html), [SamSPECTRAL](/packages/release/bioc/html/SamSPECTRAL.html)\n",
    "\n",
    "A typical workflow using the packages `flowCore`, `flowViz`, `flowQ` and `flowStats` is described in detail in [flowWorkFlow.pdf](flowWorkFlow.pdf). The data files used in the workflow can be downloaded from [here](dataFiles.tar).\n",
    "\n",
    "### Cell-based Assays\n",
    "\n",
    "These packages provide data structures and algorithms for cell-based high-throughput screens (HTS).\n",
    "\n",
    "[cellHTS2](/packages/release/bioc/html/cellHTS2.html), [RNAither](/packages/release/bioc/html/RNAither.html)\n",
    "\n",
    "This package supports the xCELLigence system which contains a series of real-time cell analyzer (RTCA).\n",
    "\n",
    "[RTCA](/packages/release/bioc/html/RTCA.html)\n",
    "\n",
    "### High-throughput qPCR Assays\n",
    "\n",
    "These package provide algorithm for the analysis of cycle threshold (Ct) from quantitative real-time PCR data.\n",
    "\n",
    "[HTqPCR](/packages/release/bioc/html/HTqPCR.html), [ddCt](/packages/release/bioc/html/ddCt.html), [qpcrNorm](/packages/release/bioc/html/qpcrNorm.html)\n",
    "\n",
    "### Mass Spectrometry and Proteomics data\n",
    "\n",
    "These packages provide framework for processing, visualization, and statistical analysis of mass spectral and proteomics data.\n",
    "\n",
    "[clippda](/packages/release/bioc/html/clippda.html), [MassArray](/packages/release/bioc/html/MassArray.html), [MassSpecWavelet](/packages/release/bioc/html/MassSpecWavelet.html), [PROcess](/packages/release/bioc/html/PROcess.html), [flagme](/packages/release/bioc/html/flagme.html), [xcms](/packages/release/bioc/html/xcms.html)\n",
    "\n",
    "### Imaging Based Assays\n",
    "\n",
    "These packages provide infrastructure for image-based phenotyping and automation of other image-related tasks:\n",
    "\n",
    "[EBImage](/packages/release/bioc/html/EBImage.html)\n",
    "\n",
    "<p class=\"back_to_top\">\n",
    "\\[ <a href=\"#top\">Back to top</a> \\]\n",
    "</p>"
   ]
  },
  {
   "cell_type": "code",
   "execution_count": null,
   "metadata": {

   },
   "outputs": [

   ],
   "source": "sessionInfo()"
  },
  {
   "cell_type": "markdown",
   "metadata": {

   },
   "source": [
    "<p class=\"back_to_top\">\n",
    "\\[ <a href=\"#top\">Back to top</a> \\]\n",
    "</p>"
   ]
  }
 ],
 "metadata": {
  "kernelspec": {
   "display_name": "R",
   "language": "R",
   "name": "ir"
  }
 },
 "nbformat": 4,
 "nbformat_minor": 0
}

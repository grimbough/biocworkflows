{
 "cells": [
  {
   "cell_type": "markdown",
   "metadata": {

   },
   "source": [
    "-   [Introduction to Bioconductor for Sequence\n",
    "    Data](#introduction-to-bioconductor-for-sequence-data)\n",
    "\n",
    "<script type=\"text/javascript\">\n",
    "document.addEventListener(\"DOMContentLoaded\", function() {\n",
    "  document.querySelector(\"h1\").className = \"title\";\n",
    "});\n",
    "</script>\n",
    "<script type=\"text/javascript\">\n",
    "document.addEventListener(\"DOMContentLoaded\", function() {\n",
    "  var links = document.links;  \n",
    "  for (var i = 0, linksLength = links.length; i < linksLength; i++)\n",
    "    if (links[i].hostname != window.location.hostname)\n",
    "      links[i].target = '_blank';\n",
    "});\n",
    "</script>"
   ]
  },
  {
   "cell_type": "code",
   "execution_count": null,
   "metadata": {

   },
   "outputs": [

   ],
   "source": [
    "## setting Jupyter plotting size\n",
    "options(repr.plot.width=6,repr.plot.height=4)"
   ]
  },
  {
   "cell_type": "markdown",
   "metadata": {

   },
   "source": [
    "Introduction to Bioconductor for Sequence Data\n",
    "==============================================\n",
    "\n",
    "*Bioconductor* enables the analysis and comprehension of high- throughput genomic data. We have a vast number of packages that allow rigorous statistical analysis of large data while keeping technological artifacts in mind. Bioconductor helps users place their analytic results into biological context, with rich opportunities for visualization. Reproducibility is an important goal in *Bioconductor* analyses. Different types of analysis can be carried out using *Bioconductor*, for example\n",
    "\n",
    "-   Sequencing : RNASeq, ChIPSeq, variants, copy number..\n",
    "-   Microarrays: expression, SNP, ...\n",
    "-   Domain specific analysis : Flow cytometry, Proteomics ..\n",
    "\n",
    "For these analyses, one typically imports and works with diverse sequence-related file types, including fasta, fastq, BAM, gtf, bed, and wig files, among others. *Bioconductor* packages support import, common and advanced sequence manipulation operations such as trimming, transformation, and alignment including quality assessment.\n",
    "\n",
    "<h2 id=\"contents\">\n",
    "Contents\n",
    "</h2>\n",
    "-   [Sequencing Resources](#pkgs)\n",
    "-   [Ranges Infrastructure](#range)\n",
    "-   [DNA or amino acid sequences from FASTA files](#fasta)\n",
    "-   [Reads from FASTQ files](#fastq)\n",
    "-   [Aligned Reads from BAM files](#bam)\n",
    "-   [Called Variants from VCF files](#vcf)\n",
    "-   [Genome Annotations from BED, WIG, GTF etc files](#rtracklayer)\n",
    "\n",
    "<h2 id=\"pkgs\">\n",
    "Sequencing Resources\n",
    "</h2>\n",
    "Here is a illustrative description elaborating the different file types at various stages in a typical analysis, with the package names (in pink boxes) that one will use for each stage.\n",
    "\n",
    "<p>\n",
    "<img src=\"sequencepkg.png\" width=\"500\" height=\"400\"/>\n",
    "</p>\n",
    "The following packages illustrate the diversity of functionality available; all are in the release version of *Bioconductor*.\n",
    "\n",
    "-   *[IRanges](http://bioconductor.org/packages/IRanges)* and *[GenomicRanges](http://bioconductor.org/packages/GenomicRanges)* for range-based (e.g., chromosomal regions) calculation, data manipulation, and general-purpose data representation. *[Biostrings](http://bioconductor.org/packages/Biostrings)* for DNA and amino acid sequence representation, alignment, pattern matching (e.g., primer removal), and data manipulation of large biological sequences or sets of sequences. *[ShortRead](http://bioconductor.org/packages/ShortRead)* for working with FASTQ files of short reads and their quality scores.\n",
    "\n",
    "-   *[Rsamtools](http://bioconductor.org/packages/Rsamtools)* and *[GenomicAlignments](http://bioconductor.org/packages/GenomicAlignments)* for aligned read (BAM file) I/O and data manipulation. *[rtracklayer](http://bioconductor.org/packages/rtracklayer)* for import and export of diverse data formats (e.g., BED, WIG, bigWig, GTF, GFF) and manipualtion of tracks on the UCSC genome browser.\n",
    "\n",
    "-   *[BSgenome](http://bioconductor.org/packages/BSgenome)* for accessing and manipulating curated whole-genome representations. *[GenomicFeatures](http://bioconductor.org/packages/GenomicFeatures)* for annotation of sequence features across common genomes, *[biomaRt](http://bioconductor.org/packages/biomaRt)* for access to Biomart databases.\n",
    "\n",
    "-   *[SRAdb](http://bioconductor.org/packages/SRAdb)* for querying and retrieving data from the Sequence Read Archive.\n",
    "\n",
    "*Bioconductor* packages are organized by [biocViews](http://bioconductor.org/packages/biocViews). Some of the entries under [Sequencing](http://bioconductor.org/packages/biocViews.html#__Sequencing) and other terms, and representative packages, include:\n",
    "\n",
    "-   [RNASeq](http://bioconductor.org/packages/biocViews.html#__RNASeq), e.g., *[edgeR](http://bioconductor.org/packages/edgeR)*, *[DESeq2](http://bioconductor.org/packages/DESeq2)*, *[edgeR](http://bioconductor.org/packages/edgeR)*, *[derfinder](http://bioconductor.org/packages/derfinder)*, and *[QuasR](http://bioconductor.org/packages/QuasR)*.\n",
    "\n",
    "-   [ChIPSeq](http://bioconductor.org/packages/biocViews.html#__ChIPSeq), e.g.,*[DiffBind](http://bioconductor.org/packages/DiffBind)*, *[csaw](http://bioconductor.org/packages/csaw)*, *[ChIPseeker](http://bioconductor.org/packages/ChIPseeker)*, *[ChIPQC](http://bioconductor.org/packages/ChIPQC)*.\n",
    "\n",
    "-   [SNPs](http://bioconductor.org/packages/biocViews.html#__SNP) and other variants, e.g., *[VariantAnnotation](http://bioconductor.org/packages/VariantAnnotation)*, *[VariantFiltering](http://bioconductor.org/packages/VariantFiltering)*, *[h5vc](http://bioconductor.org/packages/h5vc)*.\n",
    "\n",
    "-   [CopyNumberVariation](http://bioconductor.org/packages/biocViews.html#__CopyNumberVariation) e.g., *[DNAcopy](http://bioconductor.org/packages/DNAcopy)*, *[crlmm](http://bioconductor.org/packages/crlmm)*, *[fastseg](http://bioconductor.org/packages/fastseg)*.\n",
    "\n",
    "-   [Microbiome](http://bioconductor.org/packages/biocViews.html#__Microbiome) and metagenome sequencing, e.g., *[metagenomeSeq](http://bioconductor.org/packages/metagenomeSeq)*, *[phyloseq](http://bioconductor.org/packages/phyloseq)*, *[DirichletMultinomial](http://bioconductor.org/packages/DirichletMultinomial)*.\n",
    "\n",
    "<h2 id=\"range\">\n",
    "Ranges Infrastructure</i>\n",
    "</h2>\n",
    "Many *Bioconductor* packages rely heavily on the *IRanges* / *GenomicRanges* infrastructure. Thus we will begin with a quick introduction to these and then cover different file types.\n",
    "\n",
    "The *[GenomicRanges](http://bioconductor.org/packages/GenomicRanges)* package allows us to associate a range of chromosome coordinates with a sequence name (e.g., chromosome) and a strand. Such genomic ranges are very useful for describing both data (e.g., the coordinates of aligned reads, called ChIP peaks, SNPs, or copy number variants) and annotations (e.g., gene models, Roadmap Epigenomics regulatory elements, known clinically relevant variants from dbSNP). `GRanges` is an object representing a vector of genomic locations and associated annotations. Each element in the vector is comprised of a sequence name, a range, a strand, and optional metadata (e.g. score, GC content, etc.)."
   ]
  },
  {
   "cell_type": "code",
   "execution_count": null,
   "metadata": {
    "attributes": {
     "classes": "[r",
     "id": ""
    }
   },
   "outputs": [

   ],
   "source": [
    "library(GenomicRanges)\n",
    "GRanges(seqnames=Rle(c('chr1', 'chr2', 'chr3'), c(3, 3, 4)),\n",
    "      IRanges(1:10, width=5), strand='-',\n",
    "      score=101:110, GC = runif(10))"
   ]
  },
  {
   "cell_type": "markdown",
   "metadata": {

   },
   "source": "Genomic ranges can be created 'by hand', as above, but are often the result of importing data (e.g., via `GenomicAlignments::readGAlignments()`) or annotation (e.g., via `GenomicFeatures::select()` or `rtracklayer::import()` of BED, WIG, GTF, and other common file formats). Use `help()` to list the help pages in the *[GenomicRanges](http://bioconductor.org/packages/GenomicRanges)* package, and `vignettes()` to view and access available vignettes."
  },
  {
   "cell_type": "markdown",
   "metadata": {

   },
   "source": [
    "``` r\n",
    "help(package=\"GenomicRanges\")\n",
    "vignette(package=\"GenomicRanges\")",
    "\n```"
   ]
  },
  {
   "cell_type": "markdown",
   "metadata": {

   },
   "source": [
    "Some of the common operations on `GRanges` include `findOverlaps(query, subject)` and `nearest(query, subject)`, which identify the ranges in `query` that overlap ranges in `subject`, or the range in `subject` nearest to \\`query. These operations are useful both in data analysis (e.g., counting overlaps between aligned reads and gene models in RNAseq) and comprehension (e.g., annotating genes near ChIP binding sites).\n",
    "\n",
    "<h2 id=\"fasta\">\n",
    "DNA /amino acid sequence from FASTA files\n",
    "</h2>\n",
    "*[Biostrings](http://bioconductor.org/packages/Biostrings)* classes (e.g., `DNAStringSet`) are used to represent DNA or amino acid sequences. In the example below we will construct a DNAString and show some manipulations."
   ]
  },
  {
   "cell_type": "code",
   "execution_count": null,
   "metadata": {

   },
   "outputs": [

   ],
   "source": [
    "library(Biostrings)\n",
    "d <- DNAString(\"TTGAAAA-CTC-N\")\n",
    "length(d)  #no of letters in the DNAString"
   ]
  },
  {
   "cell_type": "markdown",
   "metadata": {

   },
   "source": "We will download all *Homo sapiens* cDNA sequences from the FASTA file 'Homo\\_sapiens.GRCh38.cdna.all.fa' from Ensembl using *[AnnotationHub](http://bioconductor.org/packages/AnnotationHub)*."
  },
  {
   "cell_type": "markdown",
   "metadata": {

   },
   "source": [
    "``` r\n",
    "library(AnnotationHub)\n",
    "ah <- AnnotationHub()",
    "\n```"
   ]
  },
  {
   "cell_type": "markdown",
   "metadata": {

   },
   "source": "This file is downloaded as a FaFile which can be read in using `readFasta()` from the *[ShortRead](http://bioconductor.org/packages/ShortRead)* package"
  },
  {
   "cell_type": "code",
   "execution_count": null,
   "metadata": {

   },
   "outputs": [

   ],
   "source": [
    "ah2 <- query(ah, c(\"fasta\", \"homo sapiens\", \"Ensembl\"))\n",
    "fa <- ah2[[\"AH18522\"]]\n",
    "fa"
   ]
  },
  {
   "cell_type": "markdown",
   "metadata": {

   },
   "source": "We will open the file and get the sequences and widths of the records in the the fasta file using *[Rsamtools](http://bioconductor.org/packages/Rsamtools)*."
  },
  {
   "cell_type": "code",
   "execution_count": null,
   "metadata": {

   },
   "outputs": [

   ],
   "source": [
    "library(Rsamtools)\n",
    "idx <- scanFaIndex(fa)\n",
    "idx"
   ]
  },
  {
   "cell_type": "markdown",
   "metadata": {

   },
   "source": "The information is returned as a *GRanges* object. `getSeq()` returns the sequences indicated by param as a DNAStringSet instance."
  },
  {
   "cell_type": "code",
   "execution_count": null,
   "metadata": {

   },
   "outputs": [

   ],
   "source": [
    "long <- idx[width(idx) > 82000]\n",
    "getSeq(fa, param=long)"
   ]
  },
  {
   "cell_type": "markdown",
   "metadata": {

   },
   "source": "*[BSgenome](http://bioconductor.org/packages/BSgenome)* packages inside *Bioconductor* contain whole genome sequences as distributed by ENSEMBL, NCBI and others. In this next example we will load the whole genome sequence for *Homo sapiens* from UCSC's `hg19` build, and calculate the GC content across chromosome 14."
  },
  {
   "cell_type": "code",
   "execution_count": null,
   "metadata": {

   },
   "outputs": [

   ],
   "source": [
    "library(BSgenome.Hsapiens.UCSC.hg19)\n",
    "\n",
    "chr14_range = GRanges(\"chr14\", IRanges(1, seqlengths(Hsapiens)[\"chr14\"]))\n",
    "chr14_dna <- getSeq(Hsapiens, chr14_range)\n",
    "letterFrequency(chr14_dna, \"GC\", as.prob=TRUE)"
   ]
  },
  {
   "cell_type": "markdown",
   "metadata": {

   },
   "source": [
    "<h2 id=\"fastq\">\n",
    "Reads from FASTQ files\n",
    "</h2>\n",
    "*[ShortRead](http://bioconductor.org/packages/ShortRead)* package from *Bioconductor* can be used for working with fastq files. Here we illustrate a quick example where one can read in multiple fasta files, collect some statistics and generate a report about the same.\n",
    "\n",
    "*[BiocParallel](http://bioconductor.org/packages/BiocParallel)* is another package from *Bioconductor* which parallelizes this task and speeds up the process."
   ]
  },
  {
   "cell_type": "markdown",
   "metadata": {

   },
   "source": [
    "``` r\n",
    "## 1. attach ShortRead and BiocParallel\n",
    "library(ShortRead)\n",
    "library(BiocParallel)\n",
    "\n",
    "## 2. create a vector of file paths\n",
    "fls <- dir(\"~/fastq\", pattern=\"*fastq\", full=TRUE)\n",
    "\n",
    "## 3. collect statistics\n",
    "stats0 <- qa(fls)\n",
    "\n",
    "## 4. generate and browse the report\n",
    "if (interactive())\n",
    "    browseURL(report(stats0))",
    "\n```"
   ]
  },
  {
   "cell_type": "markdown",
   "metadata": {

   },
   "source": [
    "Two useful functions in *[ShortRead](http://bioconductor.org/packages/ShortRead)* are `trimTails()` for processing FASTQ files, and `FastqStreamer()` for iterating through FASTQ files in manageable chunks (e.g., 1,000,000 records at a time).\n",
    "\n",
    "<h2 id=\"bam\">\n",
    "Aligned Reads from BAM files\n",
    "</h2>\n",
    "The *[GenomicAlignments](http://bioconductor.org/packages/GenomicAlignments)* package is used to input reads aligned to a reference genome.\n",
    "\n",
    "In this next example, we will read in a BAM file and specifically read in reads supporting an apparent exon splice junction spanning position 19653773 of chromosome 14.\n",
    "\n",
    "The package *[RNAseqData.HNRNPC.bam.chr14\\_BAMFILES](http://bioconductor.org/packages/RNAseqData.HNRNPC.bam.chr14_BAMFILES)* contains 8 BAM files. We will use only the first BAM file. We will load the software packages and the data package, construct a *GRanges* with our region of interest, and use `summarizeJunctions()` to find reads in our region of interest."
   ]
  },
  {
   "cell_type": "code",
   "execution_count": null,
   "metadata": {

   },
   "outputs": [

   ],
   "source": [
    "## 1. load software packages\n",
    "library(GenomicRanges)\n",
    "library(GenomicAlignments)\n",
    "\n",
    "## 2. load sample data\n",
    "library('RNAseqData.HNRNPC.bam.chr14')\n",
    "bf <- BamFile(RNAseqData.HNRNPC.bam.chr14_BAMFILES[[1]], asMates=TRUE)\n",
    "\n",
    "## 3. define our 'region of interest'\n",
    "roi <- GRanges(\"chr14\", IRanges(19653773, width=1)) \n",
    "\n",
    "## 4. alignments, junctions, overlapping our roi\n",
    "paln <- readGAlignmentsList(bf)\n",
    "j <- summarizeJunctions(paln, with.revmap=TRUE)\n",
    "j_overlap <- j[j %over% roi]\n",
    "\n",
    "## 5. supporting reads\n",
    "paln[j_overlap$revmap[[1]]]"
   ]
  },
  {
   "cell_type": "markdown",
   "metadata": {

   },
   "source": [
    "For a detailed tutorial on working with BAM files do check out this detailed [Overlap Encodings](http://bioconductor.org/packages/release/bioc/vignettes/GenomicAlignments/inst/doc/OverlapEncodings.pdf) vignette of GenomicAlignments.\n",
    "\n",
    "<h2 id=\"vcf\">\n",
    "Called Variants from VCF files\n",
    "</h2>\n",
    "VCF (Variant Call Files) describe SNP and other variants. The files contain meta-information lines, a header line with column names, and then (many!) data lines, each with information about a position in the genome, and optional genotype information on samples for each position.\n",
    "\n",
    "Data are parsed into a VCF object with `readVcf()` from *[VariantAnnoation](http://bioconductor.org/packages/VariantAnnoation)*"
   ]
  },
  {
   "cell_type": "code",
   "execution_count": null,
   "metadata": {

   },
   "outputs": [

   ],
   "source": [
    "library(VariantAnnotation)\n",
    "fl <- system.file(\"extdata\", \"chr22.vcf.gz\", package=\"VariantAnnotation\")\n",
    "vcf <- readVcf(fl, \"hg19\")"
   ]
  },
  {
   "cell_type": "markdown",
   "metadata": {

   },
   "source": [
    "An excellent workflow on working with Variants can be found [here](http://bioconductor.org/help/workflows/variants/). In particular it is possible to read in specific components of the VCF file (e.g., `readInfo()`, `readGeno()`) and parts of the VCF at specific genomic locations (using *GRanges* and the `param = ScanVcfParam()` argument to input functions).\n",
    "\n",
    "<h2 id=\"rtracklayer\">\n",
    "Genome Annotations from BED, WIG, GTF etc files\n",
    "</h2>\n",
    "*[rtracklayer](http://bioconductor.org/packages/rtracklayer)* import and export functions can read in many common file types, e.g., BED, WIG, GTF, …, in addition to querying and navigating the UCSC genome browser.\n",
    "\n",
    "*[rtracklayer](http://bioconductor.org/packages/rtracklayer)* contains a 'test' BED file which we will read in here"
   ]
  },
  {
   "cell_type": "code",
   "execution_count": null,
   "metadata": {

   },
   "outputs": [

   ],
   "source": [
    "library(rtracklayer)\n",
    "test_path <- system.file(\"tests\", package = \"rtracklayer\")\n",
    "test_bed <- file.path(test_path, \"test.bed\")\n",
    "  \n",
    "test <- import(test_bed, format = \"bed\")\n",
    "test"
   ]
  },
  {
   "cell_type": "markdown",
   "metadata": {

   },
   "source": [
    "The file is returned to the user as a *GRanges* instance. A more detailed tutorial can be found [here](http://bioconductor.org/packages/devel/bioc/vignettes/rtracklayer/inst/doc/rtracklayer.pdf)\n",
    "\n",
    "*[AnnotationHub](http://bioconductor.org/packages/AnnotationHub)* also contains a variety of genomic annotation files (eg BED, GTF, BigWig) which use import() from rtracklayer behind the scenes. For a detailed tutorial the user is referred to [Annotation workflow](http://bioconductor.org/help/workflows/annotation/annotation/) and [AnnotationHub HOW TO vignette](http://bioconductor.org/packages/devel/bioc/vignettes/AnnotationHub/inst/doc/AnnotationHub-HOWTO.html)"
   ]
  },
  {
   "cell_type": "code",
   "execution_count": null,
   "metadata": {

   },
   "outputs": [

   ],
   "source": "sessionInfo()"
  }
 ],
 "metadata": {
  "kernelspec": {
   "display_name": "R",
   "language": "R",
   "name": "ir"
  }
 },
 "nbformat": 4,
 "nbformat_minor": 0
}

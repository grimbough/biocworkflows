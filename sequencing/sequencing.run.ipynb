{
 "cells": [
  {
   "cell_type": "markdown",
   "metadata": {},
   "source": [
    "-   [Introduction to Bioconductor for Sequence\n",
    "    Data](#introduction-to-bioconductor-for-sequence-data)"
   ]
  },
  {
   "cell_type": "code",
   "execution_count": 1,
   "metadata": {},
   "outputs": [],
   "source": [
    "## This code chunk was hidden in the original document, but was executed in the background\n",
    "knitr::opts_chunk$set(results=\"hide\", message=FALSE, warning=FALSE, fig.show=\"hide\", echo=TRUE)"
   ]
  },
  {
   "cell_type": "code",
   "execution_count": 2,
   "metadata": {},
   "outputs": [
    {
     "name": "stdout",
     "output_type": "stream",
     "text": [
      "<script type=\"text/javascript\">\n",
      "document.addEventListener(\"DOMContentLoaded\", function() {\n",
      "  document.querySelector(\"h1\").className = \"title\";\n",
      "});\n",
      "</script>\n",
      "<script type=\"text/javascript\">\n",
      "document.addEventListener(\"DOMContentLoaded\", function() {\n",
      "  var links = document.links;  \n",
      "  for (var i = 0, linksLength = links.length; i < linksLength; i++)\n",
      "    if (links[i].hostname != window.location.hostname)\n",
      "      links[i].target = '_blank';\n",
      "});\n",
      "</script>\n",
      "<style type=\"text/css\" scoped>\n",
      "body, td {\n",
      "   font-family: sans-serif;\n",
      "   background-color: white;\n",
      "   font-size: 13px;\n",
      "}\n",
      "\n",
      "body {\n",
      "  max-width: 800px;\n",
      "  margin: 0 auto;\n",
      "  padding: 1em 1em 2em;\n",
      "  line-height: 20px;\n",
      "}\n",
      "\n",
      "/* Table of contents style */\n",
      "\n",
      "div#TOC li {\n",
      "    list-style:none;\n",
      "    background-image:none;\n",
      "    background-repeat:none;\n",
      "    background-position:0;\n",
      "}\n",
      "\n",
      "/* element spacing */\n",
      "\n",
      "p, pre { \n",
      "  margin: 0em 0em 1em;\n",
      "}\n",
      "\n",
      "/* center images and tables */\n",
      "img, table {\n",
      "  margin: 0em auto 1em;\n",
      "}\n",
      "\n",
      "p {\n",
      "  text-align: justify;\n",
      "}\n",
      "\n",
      "tt, code, pre {\n",
      "   font-family: 'DejaVu Sans Mono', 'Droid Sans Mono', 'Lucida Console', Consolas, Monaco, monospace;\n",
      "}\n",
      "\n",
      "h1, h2, h3, h4, h5, h6 { \n",
      "  font-family: Helvetica, Arial, sans-serif;\n",
      "  margin: 1.2em 0em 0.6em 0em;\n",
      "  font-weight: bold;\n",
      "}\n",
      "\n",
      "h1.title {\n",
      "  font-size: 250%;\n",
      "  font-weight: normal;\n",
      "  color: #87b13f;\n",
      "  line-height: 1.1em;\n",
      "  margin-top: 0px;\n",
      "  border-bottom: 0px;\n",
      "}\n",
      "\n",
      "h1 {\n",
      "  font-size: 160%;\n",
      "  font-weight: normal;\n",
      "  line-height: 1.4em;\n",
      "  border-bottom: 1px #1a81c2 solid;\n",
      "}\n",
      "\n",
      "h2 {\n",
      "  font-size: 130%;  \n",
      "}\n",
      "\n",
      "h1, h2, h3 {\n",
      "  color: #1a81c2;\n",
      "}\n",
      "\n",
      "h3, h4, h5, h6 {\n",
      "  font-size:115%;\n",
      "} /* not expecting to dive deeper than four levels on a single page */\n",
      "\n",
      "/* links are simply blue, hovering slightly less blue */\n",
      "a { color: #1a81c2; }\n",
      "a:active { outline: none; }\n",
      "a:visited { color: #1a81c2; }\n",
      "a:hover { color: #4c94c2; }\n",
      "\n",
      "pre, img {\n",
      "  max-width: 100%;\n",
      "  display: block;\n",
      "}\n",
      "\n",
      "pre {\n",
      "  border: 0px none;\n",
      "  background-color: #F8F8F8;\n",
      "  white-space: pre;\n",
      "  overflow-x: auto;\n",
      "}\n",
      "\n",
      "pre code {\n",
      "  border: 1px #aaa dashed;\n",
      "  background-color: white;\n",
      "  display: block;\n",
      "  padding: 1em;  \n",
      "  color: #111;\n",
      "  overflow-x: inherit;\n",
      "}\n",
      "\n",
      "/* markdown v1 */\n",
      "pre code[class] {\n",
      "  background-color: inherit;\n",
      "}\n",
      "\n",
      "/* markdown v2 */\n",
      "pre[class] code {\n",
      "  background-color: inherit;\n",
      "}\n",
      "\n",
      "/* formatting of inline code */\n",
      "code { \n",
      "  background-color: transparent;\n",
      "  color: #87b13f;\n",
      "  font-size: 92%;\n",
      "}\n",
      "\n",
      "/* formatting of tables */\n",
      "\n",
      "table, td, th {\n",
      "  border: none;\n",
      "  padding: 0 0.5em;\n",
      "}\n",
      "\n",
      "/* alternating row colors */\n",
      "tbody tr:nth-child(odd) td {\n",
      "  background-color: #F8F8F8;\n",
      "}\n",
      "\n",
      "blockquote {\n",
      "   color:#666666;\n",
      "   margin:0;\n",
      "   padding-left: 1em;\n",
      "   border-left: 0.5em #EEE solid;\n",
      "}\n",
      "\n",
      "hr {\n",
      "   height: 0px;\n",
      "   border-bottom: none;\n",
      "   border-top-width: thin;\n",
      "   border-top-style: dotted;\n",
      "   border-top-color: #999999;\n",
      "}\n",
      "\n",
      "span.header-section-number {\n",
      "  padding-right: 1em;\n",
      "}\n",
      "\n",
      "span.toc-section-number::after {\n",
      "    content: \"  \";\n",
      "    white-space: pre;\n",
      "}\n",
      "\n",
      "@media print {\n",
      "   * {\n",
      "      background: transparent !important;\n",
      "      color: black !important;\n",
      "      filter:none !important;\n",
      "      -ms-filter: none !important;\n",
      "   }\n",
      "\n",
      "   body {\n",
      "      font-size:12pt;\n",
      "      max-width:100%;\n",
      "   }\n",
      "\n",
      "   a, a:visited {\n",
      "      text-decoration: underline;\n",
      "   }\n",
      "\n",
      "   hr {\n",
      "      visibility: hidden;\n",
      "      page-break-before: always;\n",
      "   }\n",
      "\n",
      "   pre, blockquote {\n",
      "      padding-right: 1em;\n",
      "      page-break-inside: avoid;\n",
      "   }\n",
      "\n",
      "   tr, img {\n",
      "      page-break-inside: avoid;\n",
      "   }\n",
      "\n",
      "   img {\n",
      "      max-width: 100% !important;\n",
      "   }\n",
      "\n",
      "   @page :left {\n",
      "      margin: 15mm 20mm 15mm 10mm;\n",
      "   }\n",
      "\n",
      "   @page :right {\n",
      "      margin: 15mm 10mm 15mm 20mm;\n",
      "   }\n",
      "\n",
      "   p, h2, h3 {\n",
      "      orphans: 3; widows: 3;\n",
      "   }\n",
      "\n",
      "   h2, h3 {\n",
      "      page-break-after: avoid;\n",
      "   }\n",
      "}\n",
      "</style>\n"
     ]
    }
   ],
   "source": [
    "## This code chunk was hidden in the original document, but was executed in the background\n",
    "options(width=100)\n",
    "knitr::opts_chunk$set(message = FALSE, error = FALSE, warning = FALSE,\n",
    "fig.width=6, fig.height=4)\n",
    "BiocStyle::markdown()"
   ]
  },
  {
   "cell_type": "markdown",
   "metadata": {},
   "source": [
    "<script type=\"text/javascript\">\n",
    "document.addEventListener(\"DOMContentLoaded\", function() {\n",
    "  document.querySelector(\"h1\").className = \"title\";\n",
    "});\n",
    "</script>\n",
    "<script type=\"text/javascript\">\n",
    "document.addEventListener(\"DOMContentLoaded\", function() {\n",
    "  var links = document.links;  \n",
    "  for (var i = 0, linksLength = links.length; i < linksLength; i++)\n",
    "    if (links[i].hostname != window.location.hostname)\n",
    "      links[i].target = '_blank';\n",
    "});\n",
    "</script>"
   ]
  },
  {
   "cell_type": "code",
   "execution_count": 3,
   "metadata": {},
   "outputs": [],
   "source": [
    "## setting Jupyter plotting size\n",
    "options(repr.plot.width=6,repr.plot.height=4)"
   ]
  },
  {
   "cell_type": "code",
   "execution_count": 4,
   "metadata": {},
   "outputs": [
    {
     "name": "stderr",
     "output_type": "stream",
     "text": [
      "snapshotDate(): 2015-12-29\n"
     ]
    }
   ],
   "source": [
    "## This code chunk was hidden in the original document, but was executed in the background\n",
    "suppressPackageStartupMessages({\n",
    "   library(GenomicRanges)\n",
    "   library(GenomicAlignments) \n",
    "   library(Biostrings)\n",
    "   library(Rsamtools)\n",
    "   library(ShortRead)\n",
    "   library(BiocParallel)\n",
    "   library(rtracklayer)\n",
    "   library(VariantAnnotation)\n",
    "   library(AnnotationHub)\n",
    "   library(BSgenome.Hsapiens.UCSC.hg19)\n",
    "   library(RNAseqData.HNRNPC.bam.chr14)\n",
    "})\n",
    "ah = AnnotationHub()"
   ]
  },
  {
   "cell_type": "markdown",
   "metadata": {},
   "source": [
    "Introduction to Bioconductor for Sequence Data\n",
    "==============================================\n",
    "\n",
    "*Bioconductor* enables the analysis and comprehension of high- throughput genomic data. We have a vast number of packages that allow rigorous statistical analysis of large data while keeping technological artifacts in mind. Bioconductor helps users place their analytic results into biological context, with rich opportunities for visualization. Reproducibility is an important goal in *Bioconductor* analyses. Different types of analysis can be carried out using *Bioconductor*, for example\n",
    "\n",
    "-   Sequencing : RNASeq, ChIPSeq, variants, copy number..\n",
    "-   Microarrays: expression, SNP, ...\n",
    "-   Domain specific analysis : Flow cytometry, Proteomics ..\n",
    "\n",
    "For these analyses, one typically imports and works with diverse sequence-related file types, including fasta, fastq, BAM, gtf, bed, and wig files, among others. *Bioconductor* packages support import, common and advanced sequence manipulation operations such as trimming, transformation, and alignment including quality assessment.\n",
    "\n",
    "<h2 id=\"contents\">\n",
    "Contents\n",
    "</h2>\n",
    "-   [Sequencing Resources](#pkgs)\n",
    "-   [Ranges Infrastructure](#range)\n",
    "-   [DNA or amino acid sequences from FASTA files](#fasta)\n",
    "-   [Reads from FASTQ files](#fastq)\n",
    "-   [Aligned Reads from BAM files](#bam)\n",
    "-   [Called Variants from VCF files](#vcf)\n",
    "-   [Genome Annotations from BED, WIG, GTF etc files](#rtracklayer)\n",
    "\n",
    "<h2 id=\"pkgs\">\n",
    "Sequencing Resources\n",
    "</h2>\n",
    "Here is a illustrative description elaborating the different file types at various stages in a typical analysis, with the package names (in pink boxes) that one will use for each stage.\n",
    "\n",
    "<p>\n",
    "<img src=\"sequencepkg.png\" width=\"500\" height=\"400\"/>\n",
    "</p>\n",
    "The following packages illustrate the diversity of functionality available; all are in the release version of *Bioconductor*.\n",
    "\n",
    "-   *[IRanges](http://bioconductor.org/packages/IRanges)* and *[GenomicRanges](http://bioconductor.org/packages/GenomicRanges)* for range-based (e.g., chromosomal regions) calculation, data manipulation, and general-purpose data representation. *[Biostrings](http://bioconductor.org/packages/Biostrings)* for DNA and amino acid sequence representation, alignment, pattern matching (e.g., primer removal), and data manipulation of large biological sequences or sets of sequences. *[ShortRead](http://bioconductor.org/packages/ShortRead)* for working with FASTQ files of short reads and their quality scores.\n",
    "\n",
    "-   *[Rsamtools](http://bioconductor.org/packages/Rsamtools)* and *[GenomicAlignments](http://bioconductor.org/packages/GenomicAlignments)* for aligned read (BAM file) I/O and data manipulation. *[rtracklayer](http://bioconductor.org/packages/rtracklayer)* for import and export of diverse data formats (e.g., BED, WIG, bigWig, GTF, GFF) and manipualtion of tracks on the UCSC genome browser.\n",
    "\n",
    "-   *[BSgenome](http://bioconductor.org/packages/BSgenome)* for accessing and manipulating curated whole-genome representations. *[GenomicFeatures](http://bioconductor.org/packages/GenomicFeatures)* for annotation of sequence features across common genomes, *[biomaRt](http://bioconductor.org/packages/biomaRt)* for access to Biomart databases.\n",
    "\n",
    "-   *[SRAdb](http://bioconductor.org/packages/SRAdb)* for querying and retrieving data from the Sequence Read Archive.\n",
    "\n",
    "*Bioconductor* packages are organized by [biocViews](http://bioconductor.org/packages/biocViews). Some of the entries under [Sequencing](http://bioconductor.org/packages/biocViews.html#__Sequencing) and other terms, and representative packages, include:\n",
    "\n",
    "-   [RNASeq](http://bioconductor.org/packages/biocViews.html#__RNASeq), e.g., *[edgeR](http://bioconductor.org/packages/edgeR)*, *[DESeq2](http://bioconductor.org/packages/DESeq2)*, *[edgeR](http://bioconductor.org/packages/edgeR)*, *[derfinder](http://bioconductor.org/packages/derfinder)*, and *[QuasR](http://bioconductor.org/packages/QuasR)*.\n",
    "\n",
    "-   [ChIPSeq](http://bioconductor.org/packages/biocViews.html#__ChIPSeq), e.g.,*[DiffBind](http://bioconductor.org/packages/DiffBind)*, *[csaw](http://bioconductor.org/packages/csaw)*, *[ChIPseeker](http://bioconductor.org/packages/ChIPseeker)*, *[ChIPQC](http://bioconductor.org/packages/ChIPQC)*.\n",
    "\n",
    "-   [SNPs](http://bioconductor.org/packages/biocViews.html#__SNP) and other variants, e.g., *[VariantAnnotation](http://bioconductor.org/packages/VariantAnnotation)*, *[VariantFiltering](http://bioconductor.org/packages/VariantFiltering)*, *[h5vc](http://bioconductor.org/packages/h5vc)*.\n",
    "\n",
    "-   [CopyNumberVariation](http://bioconductor.org/packages/biocViews.html#__CopyNumberVariation) e.g., *[DNAcopy](http://bioconductor.org/packages/DNAcopy)*, *[crlmm](http://bioconductor.org/packages/crlmm)*, *[fastseg](http://bioconductor.org/packages/fastseg)*.\n",
    "\n",
    "-   [Microbiome](http://bioconductor.org/packages/biocViews.html#__Microbiome) and metagenome sequencing, e.g., *[metagenomeSeq](http://bioconductor.org/packages/metagenomeSeq)*, *[phyloseq](http://bioconductor.org/packages/phyloseq)*, *[DirichletMultinomial](http://bioconductor.org/packages/DirichletMultinomial)*.\n",
    "\n",
    "<h2 id=\"range\">\n",
    "Ranges Infrastructure</i>\n",
    "</h2>\n",
    "Many *Bioconductor* packages rely heavily on the *IRanges* / *GenomicRanges* infrastructure. Thus we will begin with a quick introduction to these and then cover different file types.\n",
    "\n",
    "The *[GenomicRanges](http://bioconductor.org/packages/GenomicRanges)* package allows us to associate a range of chromosome coordinates with a sequence name (e.g., chromosome) and a strand. Such genomic ranges are very useful for describing both data (e.g., the coordinates of aligned reads, called ChIP peaks, SNPs, or copy number variants) and annotations (e.g., gene models, Roadmap Epigenomics regulatory elements, known clinically relevant variants from dbSNP). `GRanges` is an object representing a vector of genomic locations and associated annotations. Each element in the vector is comprised of a sequence name, a range, a strand, and optional metadata (e.g. score, GC content, etc.)."
   ]
  },
  {
   "cell_type": "code",
   "execution_count": 5,
   "metadata": {
    "attributes": {
     "classes": "[r",
     "id": ""
    }
   },
   "outputs": [
    {
     "data": {
      "text/plain": [
       "GRanges object with 10 ranges and 2 metadata columns:\n",
       "       seqnames    ranges strand |     score                 GC\n",
       "          <Rle> <IRanges>  <Rle> | <integer>          <numeric>\n",
       "   [1]     chr1  [ 1,  5]      - |       101  0.529652300290763\n",
       "   [2]     chr1  [ 2,  6]      - |       102  0.130439928499982\n",
       "   [3]     chr1  [ 3,  7]      - |       103  0.272499366663396\n",
       "   [4]     chr2  [ 4,  8]      - |       104  0.177697096252814\n",
       "   [5]     chr2  [ 5,  9]      - |       105   0.62862026062794\n",
       "   [6]     chr2  [ 6, 10]      - |       106 0.0371753352228552\n",
       "   [7]     chr3  [ 7, 11]      - |       107  0.756324509857222\n",
       "   [8]     chr3  [ 8, 12]      - |       108  0.943023171275854\n",
       "   [9]     chr3  [ 9, 13]      - |       109  0.974193535977975\n",
       "  [10]     chr3  [10, 14]      - |       110  0.552024099277332\n",
       "  -------\n",
       "  seqinfo: 3 sequences from an unspecified genome; no seqlengths"
      ]
     },
     "execution_count": 5,
     "metadata": {},
     "output_type": "execute_result"
    }
   ],
   "source": [
    "library(GenomicRanges)\n",
    "GRanges(seqnames=Rle(c('chr1', 'chr2', 'chr3'), c(3, 3, 4)),\n",
    "      IRanges(1:10, width=5), strand='-',\n",
    "      score=101:110, GC = runif(10))"
   ]
  },
  {
   "cell_type": "markdown",
   "metadata": {},
   "source": [
    "Genomic ranges can be created 'by hand', as above, but are often the result of importing data (e.g., via `GenomicAlignments::readGAlignments()`) or annotation (e.g., via `GenomicFeatures::select()` or `rtracklayer::import()` of BED, WIG, GTF, and other common file formats). Use `help()` to list the help pages in the *[GenomicRanges](http://bioconductor.org/packages/GenomicRanges)* package, and `vignettes()` to view and access available vignettes."
   ]
  },
  {
   "cell_type": "markdown",
   "metadata": {},
   "source": [
    "``` r\n",
    "help(package=\"GenomicRanges\")\n",
    "vignette(package=\"GenomicRanges\")\n",
    "```"
   ]
  },
  {
   "cell_type": "markdown",
   "metadata": {},
   "source": [
    "Some of the common operations on `GRanges` include `findOverlaps(query, subject)` and `nearest(query, subject)`, which identify the ranges in `query` that overlap ranges in `subject`, or the range in `subject` nearest to \\`query. These operations are useful both in data analysis (e.g., counting overlaps between aligned reads and gene models in RNAseq) and comprehension (e.g., annotating genes near ChIP binding sites).\n",
    "\n",
    "<h2 id=\"fasta\">\n",
    "DNA /amino acid sequence from FASTA files\n",
    "</h2>\n",
    "*[Biostrings](http://bioconductor.org/packages/Biostrings)* classes (e.g., `DNAStringSet`) are used to represent DNA or amino acid sequences. In the example below we will construct a DNAString and show some manipulations."
   ]
  },
  {
   "cell_type": "code",
   "execution_count": 6,
   "metadata": {},
   "outputs": [
    {
     "data": {
      "text/html": [
       "13"
      ],
      "text/latex": [
       "13"
      ],
      "text/markdown": [
       "13"
      ],
      "text/plain": [
       "[1] 13"
      ]
     },
     "execution_count": 6,
     "metadata": {},
     "output_type": "execute_result"
    }
   ],
   "source": [
    "library(Biostrings)\n",
    "d <- DNAString(\"TTGAAAA-CTC-N\")\n",
    "length(d)  #no of letters in the DNAString"
   ]
  },
  {
   "cell_type": "markdown",
   "metadata": {},
   "source": [
    "We will download all *Homo sapiens* cDNA sequences from the FASTA file 'Homo\\_sapiens.GRCh38.cdna.all.fa' from Ensembl using *[AnnotationHub](http://bioconductor.org/packages/AnnotationHub)*."
   ]
  },
  {
   "cell_type": "markdown",
   "metadata": {},
   "source": [
    "``` r\n",
    "library(AnnotationHub)\n",
    "ah <- AnnotationHub()\n",
    "```"
   ]
  },
  {
   "cell_type": "markdown",
   "metadata": {},
   "source": [
    "This file is downloaded as a FaFile which can be read in using `readFasta()` from the *[ShortRead](http://bioconductor.org/packages/ShortRead)* package"
   ]
  },
  {
   "cell_type": "code",
   "execution_count": 7,
   "metadata": {},
   "outputs": [
    {
     "name": "stderr",
     "output_type": "stream",
     "text": [
      "loading from cache ‘/home/msmith/.AnnotationHub/22617’\n",
      "    ‘/home/msmith/.AnnotationHub/25666’\n"
     ]
    },
    {
     "data": {
      "text/plain": [
       "class: FaFile \n",
       "path: /home/msmith/.AnnotationHub/22617\n",
       "index: /home/msmith/.AnnotationHub/25666\n",
       "isOpen: FALSE \n",
       "yieldSize: NA "
      ]
     },
     "execution_count": 7,
     "metadata": {},
     "output_type": "execute_result"
    }
   ],
   "source": [
    "ah2 <- query(ah, c(\"fasta\", \"homo sapiens\", \"Ensembl\"))\n",
    "fa <- ah2[[\"AH18522\"]]\n",
    "fa"
   ]
  },
  {
   "cell_type": "markdown",
   "metadata": {},
   "source": [
    "We will open the file and get the sequences and widths of the records in the the fasta file using *[Rsamtools](http://bioconductor.org/packages/Rsamtools)*."
   ]
  },
  {
   "cell_type": "code",
   "execution_count": 8,
   "metadata": {},
   "outputs": [
    {
     "data": {
      "text/plain": [
       "GRanges object with 170893 ranges and 0 metadata columns:\n",
       "                  seqnames    ranges strand\n",
       "                     <Rle> <IRanges>  <Rle>\n",
       "       [1] ENST00000434970   [1,  9]      *\n",
       "       [2] ENST00000415118   [1,  8]      *\n",
       "       [3] ENST00000448914   [1, 13]      *\n",
       "       [4] ENST00000431870   [1, 16]      *\n",
       "       [5] ENST00000414852   [1, 16]      *\n",
       "       ...             ...       ...    ...\n",
       "  [170889] ENST00000444082 [1, 3808]      *\n",
       "  [170890] ENST00000615390 [1,  859]      *\n",
       "  [170891] ENST00000512197 [1,  115]      *\n",
       "  [170892] ENST00000414573 [1,  204]      *\n",
       "  [170893] ENST00000428912 [1,  797]      *\n",
       "  -------\n",
       "  seqinfo: 170893 sequences from an unspecified genome"
      ]
     },
     "execution_count": 8,
     "metadata": {},
     "output_type": "execute_result"
    }
   ],
   "source": [
    "library(Rsamtools)\n",
    "idx <- scanFaIndex(fa)\n",
    "idx"
   ]
  },
  {
   "cell_type": "markdown",
   "metadata": {},
   "source": [
    "The information is returned as a *GRanges* object. `getSeq()` returns the sequences indicated by param as a DNAStringSet instance."
   ]
  },
  {
   "cell_type": "code",
   "execution_count": 9,
   "metadata": {},
   "outputs": [
    {
     "data": {
      "text/plain": [
       "  A DNAStringSet instance of length 7\n",
       "     width seq                                                                  names               \n",
       "[1] 101518 GCAGTCGTGCATTCCCAGCCTCGCCTCGGGTGT...ACAAAATAAAGCAAGCTATCTGCACCTCAAAA ENST00000342992\n",
       "[2]  82029 GAGCAGTCGTGCATTCCCAGCCTCGCCTCGGGT...ACAAAATAAAGCAAGCTATCTGCACCTCAAAA ENST00000460472\n",
       "[3] 109224 GAGCAGTCGTGCATTCCCAGCCTCGCCTCGGGT...ACAAAATAAAGCAAGCTATCTGCACCTCAAAA ENST00000589042\n",
       "[4] 104301 GAGCAGTCGTGCATTCCCAGCCTCGCCTCGGGT...ACAAAATAAAGCAAGCTATCTGCACCTCAAAA ENST00000591111\n",
       "[5] 104301 GAGCAGTCGTGCATTCCCAGCCTCGCCTCGGGT...ACAAAATAAAGCAAGCTATCTGCACCTCAAAA ENST00000615779\n",
       "[6]  82605 GAGCAGTCGTGCATTCCCAGCCTCGCCTCGGGT...ACAAAATAAAGCAAGCTATCTGCACCTCAAAA ENST00000342175\n",
       "[7]  82404 GAGCAGTCGTGCATTCCCAGCCTCGCCTCGGGT...ACAAAATAAAGCAAGCTATCTGCACCTCAAAA ENST00000359218"
      ]
     },
     "execution_count": 9,
     "metadata": {},
     "output_type": "execute_result"
    }
   ],
   "source": [
    "long <- idx[width(idx) > 82000]\n",
    "getSeq(fa, param=long)"
   ]
  },
  {
   "cell_type": "markdown",
   "metadata": {},
   "source": [
    "*[BSgenome](http://bioconductor.org/packages/BSgenome)* packages inside *Bioconductor* contain whole genome sequences as distributed by ENSEMBL, NCBI and others. In this next example we will load the whole genome sequence for *Homo sapiens* from UCSC's `hg19` build, and calculate the GC content across chromosome 14."
   ]
  },
  {
   "cell_type": "code",
   "execution_count": 10,
   "metadata": {},
   "outputs": [
    {
     "data": {
      "text/html": [
       "<table>\n",
       "<thead><tr><th scope=col>G|C</th></tr></thead>\n",
       "<tbody>\n",
       "\t<tr><td>0.336276</td></tr>\n",
       "</tbody>\n",
       "</table>\n"
      ],
      "text/latex": [
       "\\begin{tabular}{l}\n",
       " G|C\\\\\n",
       "\\hline\n",
       "\t 0.336276\\\\\n",
       "\\end{tabular}\n"
      ],
      "text/markdown": [
       "0.336276047386882"
      ],
      "text/plain": [
       "          G|C\n",
       "[1,] 0.336276"
      ]
     },
     "execution_count": 10,
     "metadata": {},
     "output_type": "execute_result"
    }
   ],
   "source": [
    "library(BSgenome.Hsapiens.UCSC.hg19)\n",
    "\n",
    "chr14_range = GRanges(\"chr14\", IRanges(1, seqlengths(Hsapiens)[\"chr14\"]))\n",
    "chr14_dna <- getSeq(Hsapiens, chr14_range)\n",
    "letterFrequency(chr14_dna, \"GC\", as.prob=TRUE)"
   ]
  },
  {
   "cell_type": "markdown",
   "metadata": {},
   "source": [
    "<h2 id=\"fastq\">\n",
    "Reads from FASTQ files\n",
    "</h2>\n",
    "*[ShortRead](http://bioconductor.org/packages/ShortRead)* package from *Bioconductor* can be used for working with fastq files. Here we illustrate a quick example where one can read in multiple fasta files, collect some statistics and generate a report about the same.\n",
    "\n",
    "*[BiocParallel](http://bioconductor.org/packages/BiocParallel)* is another package from *Bioconductor* which parallelizes this task and speeds up the process."
   ]
  },
  {
   "cell_type": "markdown",
   "metadata": {},
   "source": [
    "``` r\n",
    "## 1. attach ShortRead and BiocParallel\n",
    "library(ShortRead)\n",
    "library(BiocParallel)\n",
    "\n",
    "## 2. create a vector of file paths\n",
    "fls <- dir(\"~/fastq\", pattern=\"*fastq\", full=TRUE)\n",
    "\n",
    "## 3. collect statistics\n",
    "stats0 <- qa(fls)\n",
    "\n",
    "## 4. generate and browse the report\n",
    "if (interactive())\n",
    "    browseURL(report(stats0))\n",
    "```"
   ]
  },
  {
   "cell_type": "markdown",
   "metadata": {},
   "source": [
    "Two useful functions in *[ShortRead](http://bioconductor.org/packages/ShortRead)* are `trimTails()` for processing FASTQ files, and `FastqStreamer()` for iterating through FASTQ files in manageable chunks (e.g., 1,000,000 records at a time).\n",
    "\n",
    "<h2 id=\"bam\">\n",
    "Aligned Reads from BAM files\n",
    "</h2>\n",
    "The *[GenomicAlignments](http://bioconductor.org/packages/GenomicAlignments)* package is used to input reads aligned to a reference genome.\n",
    "\n",
    "In this next example, we will read in a BAM file and specifically read in reads supporting an apparent exon splice junction spanning position 19653773 of chromosome 14.\n",
    "\n",
    "The package *[RNAseqData.HNRNPC.bam.chr14\\_BAMFILES](http://bioconductor.org/packages/RNAseqData.HNRNPC.bam.chr14_BAMFILES)* contains 8 BAM files. We will use only the first BAM file. We will load the software packages and the data package, construct a *GRanges* with our region of interest, and use `summarizeJunctions()` to find reads in our region of interest."
   ]
  },
  {
   "cell_type": "code",
   "execution_count": 11,
   "metadata": {},
   "outputs": [
    {
     "data": {
      "text/plain": [
       "GAlignmentsList object of length 8:\n",
       "[[1]] \n",
       "GAlignments object with 2 alignments and 0 metadata columns:\n",
       "      seqnames strand      cigar qwidth    start      end width njunc\n",
       "  [1]    chr14      -  66M120N6M     72 19653707 19653898   192     1\n",
       "  [2]    chr14      + 7M1270N65M     72 19652348 19653689  1342     1\n",
       "\n",
       "[[2]] \n",
       "GAlignments object with 2 alignments and 0 metadata columns:\n",
       "      seqnames strand     cigar qwidth    start      end width njunc\n",
       "  [1]    chr14      - 66M120N6M     72 19653707 19653898   192     1\n",
       "  [2]    chr14      +       72M     72 19653686 19653757    72     0\n",
       "\n",
       "[[3]] \n",
       "GAlignments object with 2 alignments and 0 metadata columns:\n",
       "      seqnames strand     cigar qwidth    start      end width njunc\n",
       "  [1]    chr14      +       72M     72 19653675 19653746    72     0\n",
       "  [2]    chr14      - 65M120N7M     72 19653708 19653899   192     1\n",
       "\n",
       "...\n",
       "<5 more elements>\n",
       "-------\n",
       "seqinfo: 93 sequences from an unspecified genome"
      ]
     },
     "execution_count": 11,
     "metadata": {},
     "output_type": "execute_result"
    }
   ],
   "source": [
    "## 1. load software packages\n",
    "library(GenomicRanges)\n",
    "library(GenomicAlignments)\n",
    "\n",
    "## 2. load sample data\n",
    "library('RNAseqData.HNRNPC.bam.chr14')\n",
    "bf <- BamFile(RNAseqData.HNRNPC.bam.chr14_BAMFILES[[1]], asMates=TRUE)\n",
    "\n",
    "## 3. define our 'region of interest'\n",
    "roi <- GRanges(\"chr14\", IRanges(19653773, width=1)) \n",
    "\n",
    "## 4. alignments, junctions, overlapping our roi\n",
    "paln <- readGAlignmentsList(bf)\n",
    "j <- summarizeJunctions(paln, with.revmap=TRUE)\n",
    "j_overlap <- j[j %over% roi]\n",
    "\n",
    "## 5. supporting reads\n",
    "paln[j_overlap$revmap[[1]]]"
   ]
  },
  {
   "cell_type": "markdown",
   "metadata": {},
   "source": [
    "For a detailed tutorial on working with BAM files do check out this detailed [Overlap Encodings](http://bioconductor.org/packages/release/bioc/vignettes/GenomicAlignments/inst/doc/OverlapEncodings.pdf) vignette of GenomicAlignments.\n",
    "\n",
    "<h2 id=\"vcf\">\n",
    "Called Variants from VCF files\n",
    "</h2>\n",
    "VCF (Variant Call Files) describe SNP and other variants. The files contain meta-information lines, a header line with column names, and then (many!) data lines, each with information about a position in the genome, and optional genotype information on samples for each position.\n",
    "\n",
    "Data are parsed into a VCF object with `readVcf()` from *[VariantAnnoation](http://bioconductor.org/packages/VariantAnnoation)*"
   ]
  },
  {
   "cell_type": "code",
   "execution_count": 12,
   "metadata": {},
   "outputs": [],
   "source": [
    "library(VariantAnnotation)\n",
    "fl <- system.file(\"extdata\", \"chr22.vcf.gz\", package=\"VariantAnnotation\")\n",
    "vcf <- readVcf(fl, \"hg19\")"
   ]
  },
  {
   "cell_type": "markdown",
   "metadata": {},
   "source": [
    "An excellent workflow on working with Variants can be found [here](http://bioconductor.org/help/workflows/variants/). In particular it is possible to read in specific components of the VCF file (e.g., `readInfo()`, `readGeno()`) and parts of the VCF at specific genomic locations (using *GRanges* and the `param = ScanVcfParam()` argument to input functions).\n",
    "\n",
    "<h2 id=\"rtracklayer\">\n",
    "Genome Annotations from BED, WIG, GTF etc files\n",
    "</h2>\n",
    "*[rtracklayer](http://bioconductor.org/packages/rtracklayer)* import and export functions can read in many common file types, e.g., BED, WIG, GTF, …, in addition to querying and navigating the UCSC genome browser.\n",
    "\n",
    "*[rtracklayer](http://bioconductor.org/packages/rtracklayer)* contains a 'test' BED file which we will read in here"
   ]
  },
  {
   "cell_type": "code",
   "execution_count": 13,
   "metadata": {},
   "outputs": [
    {
     "data": {
      "text/plain": [
       "UCSC track 'ItemRGBDemo'\n",
       "UCSCData object with 5 ranges and 5 metadata columns:\n",
       "      seqnames                 ranges strand |        name     score     itemRgb\n",
       "         <Rle>              <IRanges>  <Rle> | <character> <numeric> <character>\n",
       "  [1]     chr7 [127471197, 127472363]      + |        Pos1         0     #FF0000\n",
       "  [2]     chr7 [127472364, 127473530]      + |        Pos2         2     #FF0000\n",
       "  [3]     chr7 [127473531, 127474697]      - |        Neg1         0     #FF0000\n",
       "  [4]     chr9 [127474698, 127475864]      + |        Pos3         5     #FF0000\n",
       "  [5]     chr9 [127475865, 127477031]      - |        Neg2         5     #0000FF\n",
       "                       thick                                 blocks\n",
       "                   <IRanges>                          <IRangesList>\n",
       "  [1] [127471197, 127472363] [   1,  300] [ 501,  700] [1068, 1167]\n",
       "  [2] [127472364, 127473530]                [  1,  250] [668, 1167]\n",
       "  [3] [127473531, 127474697]                              [1, 1167]\n",
       "  [4] [127474698, 127475864]                              [1, 1167]\n",
       "  [5] [127475865, 127477031]                              [1, 1167]\n",
       "  -------\n",
       "  seqinfo: 2 sequences from an unspecified genome; no seqlengths"
      ]
     },
     "execution_count": 13,
     "metadata": {},
     "output_type": "execute_result"
    }
   ],
   "source": [
    "library(rtracklayer)\n",
    "test_path <- system.file(\"tests\", package = \"rtracklayer\")\n",
    "test_bed <- file.path(test_path, \"test.bed\")\n",
    "  \n",
    "test <- import(test_bed, format = \"bed\")\n",
    "test"
   ]
  },
  {
   "cell_type": "markdown",
   "metadata": {},
   "source": [
    "The file is returned to the user as a *GRanges* instance. A more detailed tutorial can be found [here](http://bioconductor.org/packages/devel/bioc/vignettes/rtracklayer/inst/doc/rtracklayer.pdf)\n",
    "\n",
    "*[AnnotationHub](http://bioconductor.org/packages/AnnotationHub)* also contains a variety of genomic annotation files (eg BED, GTF, BigWig) which use import() from rtracklayer behind the scenes. For a detailed tutorial the user is referred to [Annotation workflow](http://bioconductor.org/help/workflows/annotation/annotation/) and [AnnotationHub HOW TO vignette](http://bioconductor.org/packages/devel/bioc/vignettes/AnnotationHub/inst/doc/AnnotationHub-HOWTO.html)"
   ]
  },
  {
   "cell_type": "code",
   "execution_count": 14,
   "metadata": {},
   "outputs": [
    {
     "data": {
      "text/plain": [
       "R version 3.2.2 (2015-08-14)\n",
       "Platform: x86_64-pc-linux-gnu (64-bit)\n",
       "Running under: Ubuntu 14.04.3 LTS\n",
       "\n",
       "locale:\n",
       " [1] LC_CTYPE=en_US.UTF-8       LC_NUMERIC=C               LC_TIME=en_US.UTF-8       \n",
       " [4] LC_COLLATE=en_US.UTF-8     LC_MONETARY=de_DE.UTF-8    LC_MESSAGES=en_US.UTF-8   \n",
       " [7] LC_PAPER=de_DE.UTF-8       LC_NAME=C                  LC_ADDRESS=C              \n",
       "[10] LC_TELEPHONE=C             LC_MEASUREMENT=de_DE.UTF-8 LC_IDENTIFICATION=C       \n",
       "\n",
       "attached base packages:\n",
       "[1] stats4    parallel  stats     graphics  grDevices utils     datasets  methods   base     \n",
       "\n",
       "other attached packages:\n",
       " [1] RNAseqData.HNRNPC.bam.chr14_0.8.0 BSgenome.Hsapiens.UCSC.hg19_1.4.0\n",
       " [3] BSgenome_1.38.0                   AnnotationHub_2.2.2              \n",
       " [5] VariantAnnotation_1.16.4          rtracklayer_1.30.1               \n",
       " [7] ShortRead_1.28.0                  BiocParallel_1.4.0               \n",
       " [9] GenomicAlignments_1.6.1           Rsamtools_1.22.0                 \n",
       "[11] Biostrings_2.38.2                 XVector_0.10.0                   \n",
       "[13] SummarizedExperiment_1.0.1        Biobase_2.30.0                   \n",
       "[15] GenomicRanges_1.22.2              GenomeInfoDb_1.6.1               \n",
       "[17] IRanges_2.4.6                     S4Vectors_0.8.5                  \n",
       "[19] BiocGenerics_0.16.1               BiocStyle_1.8.0                  \n",
       "\n",
       "loaded via a namespace (and not attached):\n",
       " [1] Rcpp_0.12.2                  BiocInstaller_1.20.1         RColorBrewer_1.1-2          \n",
       " [4] futile.logger_1.4.1          GenomicFeatures_1.22.6       base64enc_0.1-3             \n",
       " [7] bitops_1.0-6                 futile.options_1.0.0         tools_3.2.2                 \n",
       "[10] zlibbioc_1.16.0              biomaRt_2.26.1               digest_0.6.8                \n",
       "[13] uuid_0.1-2                   RSQLite_1.0.0                jsonlite_0.9.19             \n",
       "[16] evaluate_0.8                 lattice_0.20-33              shiny_0.12.2                \n",
       "[19] DBI_0.3.1                    IRdisplay_0.3                curl_0.9.4                  \n",
       "[22] IRkernel_0.5                 rzmq_0.7.7                   httr_1.0.0                  \n",
       "[25] repr_0.4                     stringr_1.0.0                hwriter_1.3.2               \n",
       "[28] knitr_1.11                   grid_3.2.2                   R6_2.1.1                    \n",
       "[31] AnnotationDbi_1.32.2         XML_3.98-1.3                 latticeExtra_0.6-26         \n",
       "[34] lambda.r_1.1.7               magrittr_1.5                 htmltools_0.2.6             \n",
       "[37] xtable_1.8-0                 mime_0.4                     interactiveDisplayBase_1.8.0\n",
       "[40] httpuv_1.3.3                 stringi_1.0-1                RCurl_1.95-4.7              "
      ]
     },
     "execution_count": 14,
     "metadata": {},
     "output_type": "execute_result"
    }
   ],
   "source": [
    "sessionInfo()"
   ]
  }
 ],
 "metadata": {
  "kernelspec": {
   "display_name": "R",
   "language": "R",
   "name": "ir"
  }
 },
 "nbformat": 4,
 "nbformat_minor": 0
}
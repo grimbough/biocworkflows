{
 "cells": [
  {
   "cell_type": "markdown",
   "metadata": {

   },
   "source": [
    "-   [Mass spectrometry and proteomics data\n",
    "    analysis](#mass-spectrometry-and-proteomics-data-analysis)\n",
    "    -   [Setup](#setup)\n",
    "    -   [Introduction](#introduction)\n",
    "    -   [Exploring available\n",
    "        infrastructure](#exploring-available-infrastructure)\n",
    "    -   [Mass spectrometry data](#mass-spectrometry-data)\n",
    "    -   [Getting data from proteomics\n",
    "        repositories](#getting-data-from-proteomics-repositories)\n",
    "    -   [Handling raw MS data](#handling-raw-ms-data)\n",
    "    -   [Handling identification data](#handling-identification-data)\n",
    "    -   [MS/MS database search](#msms-database-search)\n",
    "    -   [Analysing search results](#analysing-search-results)\n",
    "    -   [High-level data interface](#high-level-data-interface)\n",
    "    -   [Quantitative proteomics](#quantitative-proteomics)\n",
    "    -   [Importing third-party quantitation\n",
    "        data](#importing-third-party-quantitation-data)\n",
    "    -   [Data processing and analysis](#data-processing-and-analysis)\n",
    "        -   [Raw data processing](#raw-data-processing)\n",
    "        -   [Processing and\n",
    "            normalisation](#processing-and-normalisation)\n",
    "    -   [Statistical analysis](#statistical-analysis)\n",
    "        -   [Classification](#classification)\n",
    "        -   [Clustering](#clustering)\n",
    "    -   [Annotation](#annotation)\n",
    "    -   [Other relevant\n",
    "        packages/pipelines](#other-relevant-packagespipelines)\n",
    "    -   [Session information](#session-information)\n",
    "\n",
    "Mass spectrometry and proteomics data analysis\n",
    "==============================================\n",
    "\n",
    "Setup\n",
    "-----\n",
    "\n",
    "The follow packages will be used throughout this documents. R version `3.1.1` or higher is required to install all the packages using `BiocInstaller::biocLite`."
   ]
  },
  {
   "cell_type": "code",
   "execution_count": null,
   "metadata": {

   },
   "outputs": [

   ],
   "source": [
    "library(\"mzR\")\n",
    "library(\"mzID\")\n",
    "library(\"MSnID\")\n",
    "library(\"MSnbase\")\n",
    "library(\"rpx\")\n",
    "library(\"MLInterfaces\")\n",
    "library(\"pRoloc\")\n",
    "library(\"pRolocdata\")\n",
    "library(\"MSGFplus\")\n",
    "library(\"rols\")\n",
    "library(\"hpar\")"
   ]
  },
  {
   "cell_type": "markdown",
   "metadata": {

   },
   "source": "The most convenient way to install all the tutorials requirement (and more related content), is to install [`RforProteomics`](http://www.bioconductor.org/packages/release/data/experiment/html/RforProteomics.html) with all its dependencies."
  },
  {
   "cell_type": "markdown",
   "metadata": {

   },
   "source": [
    "``` r\n",
    "library(\"BiocInstaller\")\n",
    "biocLite(\"RforProteomics\", dependencies = TRUE)",
    "\n```"
   ]
  },
  {
   "cell_type": "markdown",
   "metadata": {

   },
   "source": [
    "Other packages of interest, such as [`rTANDEM`](http://www.bioconductor.org/packages/release/bioc/html/rTANDEM.html) or [`MSGFgui`](http://www.bioconductor.org/packages/release/bioc/html/MSGFgui.html) will be described later in the document but are not required to execute the code in this workflow.\n",
    "\n",
    "Introduction\n",
    "------------\n",
    "\n",
    "This workflow illustrates R / Bioconductor infrastructure for proteomics. Topics covered focus on support for open community-driven formats for raw data and identification results, packages for peptide-spectrum matching, data processing and analysis:\n",
    "\n",
    "-   Exploring available infrastructure\n",
    "-   Mass spectrometry data\n",
    "-   Getting data from proteomics repositories\n",
    "-   Handling raw MS data\n",
    "-   Handling identification data\n",
    "-   MS/MS database search\n",
    "-   Analysing search results\n",
    "-   High-level data interface\n",
    "-   Quantitative proteomics\n",
    "-   Importing third-party quantitation data\n",
    "-   Data processing and analysis\n",
    "-   Statistical analysis\n",
    "-   Machine learning\n",
    "-   Annotation\n",
    "-   Other relevant packages/pipelines\n",
    "\n",
    "Links to other packages and references are also documented. In particular, the vignettes included in the [`RforProteomics`](http://www.bioconductor.org/packages/release/data/experiment/html/RforProteomics.html) package also contains relevant material.\n",
    "\n",
    "Exploring available infrastructure\n",
    "----------------------------------\n",
    "\n",
    "In Bioconductor version 3.2, there are respectively 79 [proteomics](http://bioconductor.org/packages/release/BiocViews.html#___Proteomics), 55 [mass spectrometry software packages](http://bioconductor.org/packages/release/BiocViews.html#___MassSpectrometry) and 12 [mass spectrometry experiment packages](http://bioconductor.org/packages/release/BiocViews.html#___MassSpectrometryData). These respective packages can be extracted with the `proteomicsPackages()`, `massSpectrometryPackages()` and `massSpectrometryDataPackages()` and explored interactively."
   ]
  },
  {
   "cell_type": "markdown",
   "metadata": {

   },
   "source": [
    "``` r\n",
    "library(\"RforProteomics\")\n",
    "pp <- proteomicsPackages()\n",
    "display(pp)",
    "\n```"
   ]
  },
  {
   "cell_type": "markdown",
   "metadata": {

   },
   "source": [
    "Mass spectrometry data\n",
    "----------------------\n",
    "\n",
    "Most community-driven formats are supported in `R`, as detailed in the table below.\n",
    "\n",
    "| Type           | Format                      | Package                                                                                                                                                       |\n",
    "|:---------------|:----------------------------|:--------------------------------------------------------------------------------------------------------------------------------------------------------------|\n",
    "| raw            | mzML, mzXML, netCDF, mzData | [`mzR`](http://bioconductor.org/packages/release/bioc/html/mzR.html) (read)                                                                                   |\n",
    "| identification | mzIdentML                   | [`mzR`](http://bioconductor.org/packages/release/bioc/html/mzR.html) (read) and [`mzID`](http://bioconductor.org/packages/release/bioc/html/mzID.html) (read) |\n",
    "| quantitation   | mzQuantML                   |                                                                                                                                                               |\n",
    "| peak lists     | mgf                         | [`MSnbase`](http://bioconductor.org/packages/release/bioc/html/MSnbase.html) (read/write)                                                                     |\n",
    "| other          | mzTab                       | [`MSnbase`](http://bioconductor.org/packages/release/bioc/html/MSnbase.html) (read/write)                                                                     |\n",
    "\n",
    "Getting data from proteomics repositories\n",
    "-----------------------------------------\n",
    "\n",
    "MS-based proteomics data is disseminated through the [ProteomeXchange](http://www.proteomexchange.org/) infrastructure, which centrally coordinates submission, storage and dissemination through multiple data repositories, such as the [PRIDE](https://www.ebi.ac.uk/pride/archive/) data base at the EBI for MS/MS experiments, [PASSEL](http://www.peptideatlas.org/passel/) at the ISB for SRM data and the [MassIVE](http://massive.ucsd.edu/ProteoSAFe/static/massive.jsp) resource. The [`rpx`](http://www.bioconductor.org/packages/release/bioc/html/rpx.html) is an interface to ProteomeXchange and provides a basic access to PX data."
   ]
  },
  {
   "cell_type": "code",
   "execution_count": null,
   "metadata": {

   },
   "outputs": [

   ],
   "source": [
    "library(\"rpx\")\n",
    "pxannounced()"
   ]
  },
  {
   "cell_type": "markdown",
   "metadata": {

   },
   "source": "Using the unique `PXD000001` identifier, we can retrieve the relevant metadata that will be stored in a `PXDataset` object. The names of the files available in this data can be retrieved with the `pxfiles` accessor function."
  },
  {
   "cell_type": "code",
   "execution_count": null,
   "metadata": {

   },
   "outputs": [

   ],
   "source": [
    "px <- PXDataset(\"PXD000001\")\n",
    "px\n",
    "pxfiles(px)"
   ]
  },
  {
   "cell_type": "markdown",
   "metadata": {

   },
   "source": "Other metadata for the `px` data set:"
  },
  {
   "cell_type": "code",
   "execution_count": null,
   "metadata": {

   },
   "outputs": [

   ],
   "source": [
    "pxtax(px)\n",
    "pxurl(px)\n",
    "pxref(px)"
   ]
  },
  {
   "cell_type": "markdown",
   "metadata": {

   },
   "source": "Data files can then be downloaded with the `pxget` function. Below, we retrieve the sixth file, TMT\\_Erwinia\\_1uLSike\\_Top10HCD\\_isol2\\_45stepped\\_60min\\_01-20141210.mzML. The file is downloaded in the working directory and the name of the file is return by the function and stored in the `mzf` variable for later use."
  },
  {
   "cell_type": "code",
   "execution_count": null,
   "metadata": {

   },
   "outputs": [

   ],
   "source": [
    "mzf <- pxget(px, pxfiles(px)[6])\n",
    "mzf"
   ]
  },
  {
   "cell_type": "markdown",
   "metadata": {

   },
   "source": [
    "Handling raw MS data\n",
    "--------------------\n",
    "\n",
    "The `mzR` package provides an interface to the [proteowizard](http://proteowizard.sourceforge.net/) C/C++ code base to access various raw data files, such as `mzML`, `mzXML`, `netCDF`, and `mzData`. The data is accessed on-disk, i.e it is not loaded entirely in memory by default but only when explicitly requested. The three main functions are `openMSfile` to create a file handle to a raw data file, `header` to extract metadata about the spectra contained in the file and `peaks` to extract one or multiple spectra of interest. Other functions such as `instrumentInfo`, or `runInfo` can be used to gather general information about a run.\n",
    "\n",
    "Below, we access the raw data file downloaded in the previous section and open a file handle that will allow us to extract data and metadata of interest."
   ]
  },
  {
   "cell_type": "code",
   "execution_count": null,
   "metadata": {

   },
   "outputs": [

   ],
   "source": [
    "library(\"mzR\")\n",
    "ms <- openMSfile(mzf)\n",
    "ms"
   ]
  },
  {
   "cell_type": "markdown",
   "metadata": {

   },
   "source": "The `header` function returns the metadata of all available peaks:"
  },
  {
   "cell_type": "code",
   "execution_count": null,
   "metadata": {

   },
   "outputs": [

   ],
   "source": [
    "hd <- header(ms)\n",
    "dim(hd)\n",
    "names(hd)"
   ]
  },
  {
   "cell_type": "markdown",
   "metadata": {

   },
   "source": "We can extract metadata and scan data for scan 1000 as follows:"
  },
  {
   "cell_type": "code",
   "execution_count": null,
   "metadata": {

   },
   "outputs": [

   ],
   "source": [
    "hd[1000, ]\n",
    "head(peaks(ms, 1000))\n",
    "plot(peaks(ms, 1000), type = \"h\")"
   ]
  },
  {
   "cell_type": "markdown",
   "metadata": {

   },
   "source": "Below we reproduce the example from the `MSmap` function from the `MSnbase` package to plot a specific slice of the raw data using the `mzR` functions we have just described."
  },
  {
   "cell_type": "code",
   "execution_count": null,
   "metadata": {

   },
   "outputs": [

   ],
   "source": [
    "## a set of spectra of interest: MS1 spectra eluted\n",
    "## between 30 and 35 minutes retention time\n",
    "ms1 <- which(hd$msLevel == 1)\n",
    "rtsel <- hd$retentionTime[ms1] / 60 > 30 &\n",
    "    hd$retentionTime[ms1] / 60 < 35\n",
    "\n",
    "## the map\n",
    "M <- MSmap(ms, ms1[rtsel], 521, 523, .005, hd)\n",
    "\n",
    "plot(M, aspect = 1, allTicks = FALSE)"
   ]
  },
  {
   "cell_type": "code",
   "execution_count": null,
   "metadata": {

   },
   "outputs": [

   ],
   "source": "plot3D(M)"
  },
  {
   "cell_type": "code",
   "execution_count": null,
   "metadata": {

   },
   "outputs": [

   ],
   "source": [
    "## With some MS2 spectra\n",
    "i <- ms1[which(rtsel)][1]\n",
    "j <- ms1[which(rtsel)][2]\n",
    "M2 <- MSmap(ms, i:j, 100, 1000, 1, hd)\n",
    "plot3D(M2)"
   ]
  },
  {
   "cell_type": "markdown",
   "metadata": {

   },
   "source": [
    "Handling identification data\n",
    "----------------------------\n",
    "\n",
    "The `RforProteomics` package distributes a small identification result file (see `?TMT_Erwinia_1uLSike_Top10HCD_isol2_45stepped_60min_01.mzid`) that we load and parse using infrastructure from the [`mzID`](http://bioconductor.org/packages/release/bioc/html/mzID.html) package."
   ]
  },
  {
   "cell_type": "code",
   "execution_count": null,
   "metadata": {

   },
   "outputs": [

   ],
   "source": [
    "library(\"mzID\")\n",
    "f <- dir(system.file(\"extdata\", package = \"RforProteomics\"),\n",
    "         pattern = \"mzid\", full.names=TRUE)\n",
    "basename(f)\n",
    "id <- mzID(f)\n",
    "id"
   ]
  },
  {
   "cell_type": "markdown",
   "metadata": {

   },
   "source": [
    "Various data can be extracted from the `mzID` object, using one the accessor functions such as `database`, `scans`, `peptides`, ... The object can also be converted into a `data.frame` using the `flatten` function.\n",
    "\n",
    "The `mzR` package also provides support fast parsing `mzIdentML` files with the `openIDfile` function. As for raw data, the underlying C/C++ code comes from the [proteowizard](http://proteowizard.sourceforge.net/)."
   ]
  },
  {
   "cell_type": "code",
   "execution_count": null,
   "metadata": {

   },
   "outputs": [

   ],
   "source": [
    "library(\"mzR\")\n",
    "f <- dir(system.file(\"extdata\", package = \"RforProteomics\"),\n",
    "         pattern = \"mzid\", full.names=TRUE)\n",
    "\n",
    "id1 <- openIDfile(f)\n",
    "fid1 <- mzR::psms(id1)\n",
    "\n",
    "head(fid1)"
   ]
  },
  {
   "cell_type": "markdown",
   "metadata": {

   },
   "source": [
    "MS/MS database search\n",
    "---------------------\n",
    "\n",
    "While searches are generally performed using third-party software independently of R or can be started from R using a `system` call, the [`rTANDEM`](http://www.bioconductor.org/packages/release/bioc/html/rTANDEM.html) package allows one to execute such searches using the X!Tandem engine. The [`shinyTANDEM`](http://www.bioconductor.org/packages/release/bioc/html/shinyTANDEM.html) provides an experimental interactive interface to explore the search results."
   ]
  },
  {
   "cell_type": "markdown",
   "metadata": {

   },
   "source": [
    "``` r\n",
    "library(\"rTANDEM\")\n",
    "?rtandem\n",
    "library(\"shinyTANDEM\")\n",
    "?shinyTANDEM",
    "\n```"
   ]
  },
  {
   "cell_type": "markdown",
   "metadata": {

   },
   "source": [
    "Similarly, the [`MSGFplus`](http://www.bioconductor.org/packages/release/bioc/html/MSGFplus.html) package enables to perform a search using the MSGF+ engine, as illustrated below.\n",
    "\n",
    "We search the TMT\\_Erwinia\\_1uLSike\\_Top10HCD\\_isol2\\_45stepped\\_60min\\_01-20141210.mzML file against the fasta file from `PXD000001` using `MSGFplus`.\n",
    "\n",
    "We first download the fasta files:"
   ]
  },
  {
   "cell_type": "code",
   "execution_count": null,
   "metadata": {

   },
   "outputs": [

   ],
   "source": [
    "fas <- pxget(px, pxfiles(px)[10])\n",
    "basename(fas)"
   ]
  },
  {
   "cell_type": "code",
   "execution_count": null,
   "metadata": {

   },
   "outputs": [

   ],
   "source": [
    "library(\"MSGFplus\")\n",
    "msgfpar <- msgfPar(database = fas,\n",
    "                   instrument = 'HighRes',\n",
    "                   tda = TRUE,\n",
    "                   enzyme = 'Trypsin',\n",
    "                   protocol = 'iTRAQ')\n",
    "idres <- runMSGF(msgfpar, mzf, memory=1000)\n",
    "idres\n",
    "## identification file (needed below)\n",
    "basename(mzID::files(idres)$id)"
   ]
  },
  {
   "cell_type": "markdown",
   "metadata": {

   },
   "source": [
    "(Note that in the `runMSGF` call above, I explicitly reduce the memory allocated to the java virtual machine to 3.5GB. In general, there is no need to specify this argument, unless you experience an error regarding the *maximum heap size*).\n",
    "\n",
    "A graphical interface to perform the search the data and explore the results is also available:"
   ]
  },
  {
   "cell_type": "markdown",
   "metadata": {

   },
   "source": [
    "``` r\n",
    "library(\"MSGFgui\")\n",
    "MSGFgui()",
    "\n```"
   ]
  },
  {
   "cell_type": "markdown",
   "metadata": {

   },
   "source": [
    "Analysing search results\n",
    "------------------------\n",
    "\n",
    "The [`MSnID`](http://bioconductor.org/packages/release/bioc/html/MSnID.html) package can be used for post-search filtering of MS/MS identifications. One starts with the construction of an `MSnID` object that is populated with identification results that can be imported from a `data.frame` or from `mzIdenML` files."
   ]
  },
  {
   "cell_type": "code",
   "execution_count": null,
   "metadata": {

   },
   "outputs": [

   ],
   "source": [
    "library(\"MSnID\")\n",
    "msnid <- MSnID(\".\")\n",
    "msnid <- read_mzIDs(msnid,\n",
    "                    basename(mzID::files(idres)$id))\n",
    "show(msnid)"
   ]
  },
  {
   "cell_type": "markdown",
   "metadata": {

   },
   "source": "The package then enables to define, optimise and apply filtering based for example on missed cleavages, identification scores, precursor mass errors, etc. and assess PSM, peptide and protein FDR levels. Below, we start by apply a correction of monoisotopic peaks (see `?correct_peak_selection` for details) and define two variables to be used for identification filtering."
  },
  {
   "cell_type": "code",
   "execution_count": null,
   "metadata": {

   },
   "outputs": [

   ],
   "source": [
    "msnid <- correct_peak_selection(msnid)\n",
    "msnid$msmsScore <- -log10(msnid$`MS-GF:SpecEValue`)\n",
    "msnid$absParentMassErrorPPM <- abs(mass_measurement_error(msnid))"
   ]
  },
  {
   "cell_type": "markdown",
   "metadata": {

   },
   "source": [
    "As shown below, this particular spiked-in data set displays few high scoring non-decoy hits\n",
    "\n",
    "We define a filter object, assigning arbitrary threshold and evaluate it on the `msnid` data"
   ]
  },
  {
   "cell_type": "code",
   "execution_count": null,
   "metadata": {

   },
   "outputs": [

   ],
   "source": [
    "filtObj <- MSnIDFilter(msnid)\n",
    "filtObj$absParentMassErrorPPM <- list(comparison=\"<\", threshold=5.0)\n",
    "filtObj$msmsScore <- list(comparison=\">\", threshold=8.0)\n",
    "filtObj\n",
    "\n",
    "evaluate_filter(msnid, filtObj)"
   ]
  },
  {
   "cell_type": "markdown",
   "metadata": {

   },
   "source": "We can also optimise the filtering with a target protein FDR value of 0.01"
  },
  {
   "cell_type": "code",
   "execution_count": null,
   "metadata": {

   },
   "outputs": [

   ],
   "source": [
    "filtObj.grid <- optimize_filter(filtObj, msnid, fdr.max=0.01,\n",
    "                                method=\"Grid\", level=\"PSM\",\n",
    "                                n.iter=50000)\n",
    "filtObj.grid\n",
    "evaluate_filter(msnid, filtObj.grid)"
   ]
  },
  {
   "cell_type": "markdown",
   "metadata": {

   },
   "source": "We can now apply the filter to the data"
  },
  {
   "cell_type": "code",
   "execution_count": null,
   "metadata": {

   },
   "outputs": [

   ],
   "source": [
    "msnid <- apply_filter(msnid, filtObj.grid)\n",
    "msnid"
   ]
  },
  {
   "cell_type": "markdown",
   "metadata": {

   },
   "source": [
    "The resulting data can be exported to a `data.frame` or to a dedicated `MSnSet` data structure for quantitative MS data, described below, and further processed and analyses using appropriate statistical tests.\n",
    "\n",
    "High-level data interface\n",
    "-------------------------\n",
    "\n",
    "The above sections introduced low-level interfaces to raw and identification results. The [`MSnbase`](http://bioconductor.org/packages/release/bioc/html/MSnbase.html) package provides abstractions for raw data through the `MSnExp` class and containers for quantification data via the `MSnSet` class. Both store\n",
    "\n",
    "1.  the actual assay data (spectra or quantitation matrix, see below), accessed with `spectra` (or the `[`, `[[` operators) or `exprs`;\n",
    "2.  sample metadata, accessed as a `data.frame` with `pData`;\n",
    "3.  feature metadata, accessed as a `data.frame` with `fData`.\n",
    "\n",
    "<!-- `]]`, `]` -->\n",
    "Another useful slot is `processingData`, accessed with `processingData(.)`, that records all the processing that objects have undergone since their creation (see examples below).\n",
    "\n",
    "The `readMSData` will parse the raw data, extract the MS2 spectra (by default) and construct an MS experiment object of class `MSnExp`.\n",
    "\n",
    "(Note that while `readMSData` supports MS1 data, this is currently not convenient as all the data is read into memory.)"
   ]
  },
  {
   "cell_type": "code",
   "execution_count": null,
   "metadata": {

   },
   "outputs": [

   ],
   "source": [
    "library(\"MSnbase\")\n",
    "rawFile <- dir(system.file(package = \"MSnbase\", dir = \"extdata\"),\n",
    "               full.name = TRUE, pattern = \"mzXML$\")\n",
    "basename(rawFile)\n",
    "msexp <- readMSData(rawFile, verbose = FALSE)\n",
    "msexp"
   ]
  },
  {
   "cell_type": "markdown",
   "metadata": {

   },
   "source": "MS2 spectra can be extracted as a list of `Spectrum2` objects with the `spectra` accessor or as a subset of the original `MSnExp` data with the `[` operator. Individual spectra can be accessed with `[[`."
  },
  {
   "cell_type": "code",
   "execution_count": null,
   "metadata": {

   },
   "outputs": [

   ],
   "source": [
    "length(msexp)\n",
    "msexp[1:2]\n",
    "msexp[[2]]"
   ]
  },
  {
   "cell_type": "markdown",
   "metadata": {

   },
   "source": "The identification results stemming from the same raw data file can then be used to add PSM matches."
  },
  {
   "cell_type": "code",
   "execution_count": null,
   "metadata": {

   },
   "outputs": [

   ],
   "source": [
    "fData(msexp)\n",
    "## find path to a mzIdentML file\n",
    "identFile <- dir(system.file(package = \"MSnbase\", dir = \"extdata\"),\n",
    "                 full.name = TRUE, pattern = \"dummyiTRAQ.mzid\")\n",
    "basename(identFile)\n",
    "msexp <- addIdentificationData(msexp, identFile)\n",
    "fData(msexp)"
   ]
  },
  {
   "cell_type": "markdown",
   "metadata": {

   },
   "source": [
    "The `readMSData` and `addIdentificationData` make use of `mzR` and `mzID` packages to access the raw and identification data.\n",
    "\n",
    "Spectra and (parts of) experiments can be extracted and plotted."
   ]
  },
  {
   "cell_type": "code",
   "execution_count": null,
   "metadata": {

   },
   "outputs": [

   ],
   "source": [
    "msexp[[1]]\n",
    "plot(msexp[[1]], full=TRUE)"
   ]
  },
  {
   "cell_type": "code",
   "execution_count": null,
   "metadata": {

   },
   "outputs": [

   ],
   "source": [
    "msexp[1:3]\n",
    "plot(msexp[1:3], full=TRUE)"
   ]
  },
  {
   "cell_type": "markdown",
   "metadata": {

   },
   "source": [
    "Quantitative proteomics\n",
    "-----------------------\n",
    "\n",
    "There are a wide range of proteomics quantitation techniques that can broadly be classified as labelled vs. label-free, depending whether the features are labelled prior the MS acquisition and the MS level at which quantitation is inferred, namely MS1 or MS2.\n",
    "\n",
    "|     | Label-free | Labelled   |\n",
    "|-----|:-----------|:-----------|\n",
    "| MS1 | XIC        | SILAC, 15N |\n",
    "| MS2 | Counting   | iTRAQ, TMT |\n",
    "\n",
    "In terms of raw data quantitation, most efforts have been devoted to MS2-level quantitation. Label-free XIC quantitation has however been addressed in the frame of metabolomics data processing by the [`xcms`](http://bioconductor.org/packages/release/bioc/html/xcms.html) infrastructure.\n",
    "\n",
    "An `MSnExp` is converted to an `MSnSet` by the `quantitation` method. Below, we use the iTRAQ 4-plex isobaric tagging strategy (defined by the `iTRAQ4` parameter; other tags are available) and the `trapezoidation` method to calculate the area under the isobaric reporter peaks."
   ]
  },
  {
   "cell_type": "code",
   "execution_count": null,
   "metadata": {

   },
   "outputs": [

   ],
   "source": "plot(msexp[[1]], full=TRUE, reporters = iTRAQ4)"
  },
  {
   "cell_type": "code",
   "execution_count": null,
   "metadata": {

   },
   "outputs": [

   ],
   "source": [
    "msset <- quantify(msexp, method = \"trap\", reporters = iTRAQ4, verbose=FALSE)\n",
    "exprs(msset)\n",
    "processingData(msset)"
   ]
  },
  {
   "cell_type": "markdown",
   "metadata": {

   },
   "source": "Other MS2 quantitation methods available in `quantify` include the (normalised) spectral index `SI` and (normalised) spectral abundance factor `SAF` or simply a simple count method."
  },
  {
   "cell_type": "code",
   "execution_count": null,
   "metadata": {

   },
   "outputs": [

   ],
   "source": [
    "exprs(si <- quantify(msexp, method = \"SIn\"))     \n",
    "exprs(saf <- quantify(msexp, method = \"NSAF\"))"
   ]
  },
  {
   "cell_type": "markdown",
   "metadata": {

   },
   "source": [
    "Note that spectra that have not been assigned any peptide (`NA`) or that match non-unique peptides (`npsm > 1`) are discarded in the counting process.\n",
    "\n",
    "**See also** The [`isobar`](http://www.bioconductor.org/packages/release/bioc/html/isobar.html) package supports quantitation from centroided `mgf` peak lists or its own tab-separated files that can be generated from Mascot and Phenyx vendor files.\n",
    "\n",
    "Importing third-party quantitation data\n",
    "---------------------------------------\n",
    "\n",
    "The PSI `mzTab` file format is aimed at providing a simpler (than XML formats) and more accessible file format to the wider community. It is composed of a key-value metadata section and peptide/protein/small molecule tabular sections."
   ]
  },
  {
   "cell_type": "code",
   "execution_count": null,
   "metadata": {

   },
   "outputs": [

   ],
   "source": [
    "mztf <- pxget(px, pxfiles(px)[2])\n",
    "(mzt <- readMzTabData(mztf, what = \"PEP\"))"
   ]
  },
  {
   "cell_type": "markdown",
   "metadata": {

   },
   "source": "It is also possible to import arbitrary spreadsheets as `MSnSet` objects into R with the `readMSnSet2` function. The main 2 arguments of the function are (1) a text-based spreadsheet and (2) column names of indices that identify the quantitation data. The latter can be queried with the `getEcols` function."
  },
  {
   "cell_type": "code",
   "execution_count": null,
   "metadata": {

   },
   "outputs": [

   ],
   "source": [
    "csv <- dir(system.file (\"extdata\" , package = \"pRolocdata\"),\n",
    "           full.names = TRUE, pattern = \"pr800866n_si_004-rep1.csv\")\n",
    "getEcols(csv, split = \",\")\n",
    "ecols <- 7:10\n",
    "res <- readMSnSet2(csv, ecols)\n",
    "head(exprs(res))\n",
    "head(fData(res))"
   ]
  },
  {
   "cell_type": "markdown",
   "metadata": {

   },
   "source": [
    "Data processing and analysis\n",
    "----------------------------\n",
    "\n",
    "### Raw data processing\n",
    "\n",
    "For raw data processing look at `MSnbase`'s `clean`, `smooth`, `pickPeaks`, `removePeaks` and `trimMz` for `MSnExp` and spectra processing methods.\n",
    "\n",
    "The [`MALDIquant`](http://cran.r-project.org/web/packages/MALDIquant/index.html) and [`xcms`](http://bioconductor.org/packages/release/bioc/html/xcms.html) packages also features a wide range of raw data processing methods on their own ad hoc data instance types.\n",
    "\n",
    "### Processing and normalisation\n",
    "\n",
    "Each different types of quantitative data will require their own pre-processing and normalisation steps. Both `isobar` and `MSnbase` allow to correct for isobaric tag impurities normalise the quantitative data."
   ]
  },
  {
   "cell_type": "code",
   "execution_count": null,
   "metadata": {

   },
   "outputs": [

   ],
   "source": [
    "data(itraqdata)\n",
    "qnt <- quantify(itraqdata, method = \"trap\",\n",
    "                reporters = iTRAQ4, verbose = FALSE)\n",
    "impurities <- matrix(c(0.929,0.059,0.002,0.000,\n",
    "                       0.020,0.923,0.056,0.001,\n",
    "                       0.000,0.030,0.924,0.045,\n",
    "                       0.000,0.001,0.040,0.923),\n",
    "                     nrow=4, byrow = TRUE)\n",
    "## or, using makeImpuritiesMatrix()\n",
    "## impurities <- makeImpuritiesMatrix(4)\n",
    "qnt.crct <- purityCorrect(qnt, impurities)\n",
    "processingData(qnt.crct)"
   ]
  },
  {
   "cell_type": "markdown",
   "metadata": {

   },
   "source": "Various normalisation methods can be applied the `MSnSet` instances using the `normalise` method: variance stabilisation (`vsn`), quantile (`quantiles`), median or mean centring (`center.media` or `center.mean`), ..."
  },
  {
   "cell_type": "code",
   "execution_count": null,
   "metadata": {

   },
   "outputs": [

   ],
   "source": "qnt.crct.nrm <- normalise(qnt.crct, \"quantiles\") "
  },
  {
   "cell_type": "markdown",
   "metadata": {

   },
   "source": "The `combineFeatures` method combines spectra/peptides quantitation values into protein data. The grouping is defined by the `groupBy` parameter, which is generally taken from the feature metadata (protein accessions, for example)."
  },
  {
   "cell_type": "code",
   "execution_count": null,
   "metadata": {

   },
   "outputs": [

   ],
   "source": [
    "## arbitraty grouping\n",
    "g <- factor(c(rep(1, 25), rep(2, 15), rep(3, 15)))\n",
    "g\n",
    "prt <- combineFeatures(qnt.crct.nrm, groupBy = g, fun = \"sum\")\n",
    "processingData(prt)"
   ]
  },
  {
   "cell_type": "markdown",
   "metadata": {

   },
   "source": [
    "Finally, proteomics data analysis is generally hampered by missing values. Missing data imputation is a sensitive operation whose success will be guided by many factors, such as degree and (non-)random nature of the missingness.\n",
    "\n",
    "Below, missing values are randomly assigned to our test data and visualised on a heatmap."
   ]
  },
  {
   "cell_type": "code",
   "execution_count": null,
   "metadata": {

   },
   "outputs": [

   ],
   "source": [
    "set.seed(1)\n",
    "qnt0 <- qnt\n",
    "exprs(qnt0)[sample(prod(dim(qnt0)), 10)] <- NA\n",
    "table(is.na(qnt0))\n",
    "image(qnt0)"
   ]
  },
  {
   "cell_type": "markdown",
   "metadata": {

   },
   "source": "Missing value in `MSnSet` instances can be filtered out and imputed using the `filterNA` and `impute` functions."
  },
  {
   "cell_type": "code",
   "execution_count": null,
   "metadata": {

   },
   "outputs": [

   ],
   "source": [
    "## remove features with missing values\n",
    "qnt00 <- filterNA(qnt0)\n",
    "dim(qnt00)\n",
    "any(is.na(qnt00))"
   ]
  },
  {
   "cell_type": "code",
   "execution_count": null,
   "metadata": {

   },
   "outputs": [

   ],
   "source": [
    "## impute missing values using knn imputation\n",
    "qnt.imp <- impute(qnt0, method = \"knn\")\n",
    "dim(qnt.imp)\n",
    "any(is.na(qnt.imp))"
   ]
  },
  {
   "cell_type": "markdown",
   "metadata": {

   },
   "source": [
    "There are various methods to perform data imputation, as described in `?impute`.\n",
    "\n",
    "Statistical analysis\n",
    "--------------------\n",
    "\n",
    "R in general and Bioconductor in particular are well suited for the statistical analysis of data. Several packages provide dedicated resources for proteomics data:\n",
    "\n",
    "-   [`MSstats`](http://www.bioconductor.org/packages/release/bioc/html/MSstats.html): A set of tools for statistical relative protein significance analysis in DDA, SRM and DIA experiments. Data stored in `data.frame` or `MSnSet` objects can be used as input.\n",
    "\n",
    "-   [`msmsTest`](http://www.bioconductor.org/packages/release/bioc/html/msmsTests.html): Statistical tests for label-free LC-MS/MS data by spectral counts, to discover differentially expressed proteins between two biological conditions. Three tests are available: Poisson GLM regression, quasi-likelihood GLM regression, and the negative binomial of the [`edgeR`](http://www.bioconductor.org/packages/release/bioc/html/edgeR.html) package. All can be readily applied on `MSnSet` instances produced, for example by `MSnID`.\n",
    "\n",
    "-   [`isobar`](http://www.bioconductor.org/packages/release/bioc/html/isobar.html) also provides dedicated infrastructure for the statistical analysis of isobaric data.\n",
    "\n",
    "n\\#\\# Machine learning\n",
    "\n",
    "The [`MLInterfaces`](http://www.bioconductor.org/packages/release/bioc/html/MLInterfaces.html) package provides a unified interface to a wide range of machine learning algorithms. Initially developed for microarray and `ExpressionSet` instances, the [`pRoloc`](http://www.bioconductor.org/packages/release/bioc/html/pRoloc.html) package enables application of these algorithms to `MSnSet` data.\n",
    "\n",
    "### Classification\n",
    "\n",
    "The example below uses `knn` with the 5 closest neighbours as an illustration to classify proteins of unknown sub-cellular localisation to one of 9 possible organelles."
   ]
  },
  {
   "cell_type": "code",
   "execution_count": null,
   "metadata": {

   },
   "outputs": [

   ],
   "source": [
    "library(\"MLInterfaces\")\n",
    "library(\"pRoloc\")\n",
    "library(\"pRolocdata\")\n",
    "data(dunkley2006)\n",
    "traininds <- which(fData(dunkley2006)$markers != \"unknown\")\n",
    "ans <- MLearn(markers ~ ., data = t(dunkley2006), knnI(k = 5), traininds)\n",
    "ans"
   ]
  },
  {
   "cell_type": "markdown",
   "metadata": {

   },
   "source": [
    "### Clustering\n",
    "\n",
    "#### kmeans"
   ]
  },
  {
   "cell_type": "code",
   "execution_count": null,
   "metadata": {

   },
   "outputs": [

   ],
   "source": [
    "kcl <- MLearn( ~ ., data = dunkley2006, kmeansI, centers = 12)\n",
    "kcl\n",
    "plot(kcl, exprs(dunkley2006))"
   ]
  },
  {
   "cell_type": "markdown",
   "metadata": {

   },
   "source": [
    "A wide range of classification and clustering algorithms are also available, as described in the `?MLearn` documentation page. The `pRoloc` package also uses `MSnSet` instances as input and ,while being conceived with the analysis of spatial/organelle proteomics data in mind, is applicable many use cases.\n",
    "\n",
    "Annotation\n",
    "----------\n",
    "\n",
    "All the [Bioconductor annotation infrastructure](http://bioconductor.org/help/workflows/annotation/annotation/), such as [`biomaRt`](http://bioconductor.org/packages/release/bioc/html/biomaRt.html), [`GO.db`](http://www.bioconductor.org/packages/release/data/annotation/html/GO.db.html), organism specific annotations, .. are directly relevant to the analysis of proteomics data. A total of 93 ontologies, including some proteomics-centred annotations such as the PSI Mass Spectrometry Ontology, Molecular Interaction (PSI MI 2.5) or Protein Modifications are available through the [`rols`](http://www.bioconductor.org/packages/release/bioc/html/rols.html)."
   ]
  },
  {
   "cell_type": "code",
   "execution_count": null,
   "metadata": {

   },
   "outputs": [

   ],
   "source": [
    "library(\"rols\")\n",
    "olsQuery(\"ESI\", \"MS\")"
   ]
  },
  {
   "cell_type": "markdown",
   "metadata": {

   },
   "source": [
    "Data from the [Human Protein Atlas](http://www.proteinatlas.org/) is available via the [`hpar`](http://www.bioconductor.org/packages/release/bioc/html/hpar.html) package.\n",
    "\n",
    "Other relevant packages/pipelines\n",
    "---------------------------------\n",
    "\n",
    "-   Analysis of post translational modification with [`isobar`](http://www.bioconductor.org/packages/release/bioc/html/isobar.html).\n",
    "-   Analysis of label-free data from a Synapt G2 (including ion mobility) with [`synapter`](http://www.bioconductor.org/packages/release/bioc/html/synapter.html).\n",
    "-   Analysis of spatial proteomics data with [`pRoloc`](http://www.bioconductor.org/packages/release/bioc/html/pRoloc.html).\n",
    "-   Analysis of MALDI data with the [`MALDIquant`](http://cran.r-project.org/web/packages/MALDIquant/index.html) package.\n",
    "-   Access to the Proteomics Standard Initiative Common QUery InterfaCe with the [`PSICQUIC`](http://www.bioconductor.org/packages/release/bioc/html/PSICQUIC.html) package.\n",
    "\n",
    "Additional relevant packages are described in the [`RforProteomics`](http://www.bioconductor.org/packages/release/data/experiment/html/RforProteomics.html) vignettes.\n",
    "\n",
    "Session information\n",
    "-------------------"
   ]
  }
 ],
 "metadata": {
  "kernelspec": {
   "display_name": "R",
   "language": "R",
   "name": "ir"
  }
 },
 "nbformat": 4,
 "nbformat_minor": 0
}

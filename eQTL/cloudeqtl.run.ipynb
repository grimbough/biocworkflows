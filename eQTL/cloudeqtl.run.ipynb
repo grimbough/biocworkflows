{
 "cells": [
  {
   "cell_type": "markdown",
   "metadata": {},
   "source": [
    "<script type=\"text/javascript\"\n",
    "  src=\"http://cdn.mathjax.org/mathjax/latest/MathJax.js?config=TeX-AMS-MML_HTMLorMML\">\n",
    "</script>\n",
    "<h1>\n",
    "Cloud-enabled cis-eQTL searches with GGtools 4.10+\n",
    "</h1>\n",
    "-   [Background](#background-sec)\n",
    "-   [Objectives](#objectives-sec)\n",
    "    -   [Basic reporting](#reporting-sec)\n",
    "    -   [Visualization](#viz-sec)\n",
    "-   [Raw materials: structuring expression, genotype, and sample data](#rawdata-sec)\n",
    "-   [Cluster management with starcluster](#starcluster-sec)\n",
    "-   [Programming the parallel search: various strategies](#parallel-sec)\n",
    "    -   [High-level, socket-based cluster: ciseqByCluster](#hilev-sec)\n",
    "    -   [BatchJobs-based approach](#batj-sec)\n",
    "-   [Working with the results](#results-sec)\n",
    "    -   [Overview QQ-plot](#ovplot-sec)\n",
    "    -   [Sensitivity analysis of tuning the search](#sens-sec)\n",
    "    -   [Visualizing results for a gene](#gviz-sec)\n",
    "    -   [Statistical characteristics of search results](#stats-sec)\n",
    "\n",
    "<h2 id=\"background-sec\">\n",
    "Background\n",
    "</h2>\n",
    "Numerous studies have employed genome-wide measures of mRNA abundance (typically assayed using DNA microarrays, and more recently RNA-seq) in combination with high-resolution genotyping (often supplemented with statistical imputation to loci not directly assayed, leading to genotype calls with quantified uncertainty) to search for genetic determinants of variation in gene expression. Key references in human applications include Cheung, Spielman, Ewens, Weber, Morley, and Burdick (2005), Majewski and Pastinen (2011), and Gaffney, Veyrieras, Degner, Pique-Regi, Pai, Crawford, Stephens, Gilad, and Pritchard (2012); Shabalin (2012) addresses computational concerns.\n",
    "\n",
    "This document focuses on searches for eQTL <emph>in cis</emph>, so that DNA variants local to the gene assayed for expression are tested for association.\n",
    "\n",
    "A typical report describes tuning of the search (including, for example, boundaries on minor allele frequencies of variants to be tested, approach to correction for batch effects and other forms of confounding, scope of search in terms of distance from gene coding region), enumerates variants with evidence of association to expression variation in nearby genes, and then characterizes the biological roles of the discovered variants.\n",
    "\n",
    "N.B. The gQTLstats package will supersede GGtools for scalable eQTL analysis; look for a revised workflow 2016Q1.\n",
    "\n",
    "<h2 id=\"objectives-sec\">\n",
    "Objectives\n",
    "</h2>\n",
    "Suppose there are \\\\(N\\\\) independently sampled individuals with gene expression measures on \\\\(G\\\\) genes or probes. Each individual is genotyped (or has genotype statistically imputed) at \\\\(S\\\\) DNA locations, catalogued by NCBI dbSNP or 1000 genomes. We are given a \\\\(G N\\\\) matrix of expression assay results, and \\\\(N S\\\\) genotyping results in the form of the number of B alleles (or expected number of B alleles) for each of the loci. Select the search radius \\\\(\\\\) (for example, 100kb) and for each gene \\\\(g\\\\), determine the search neighborhoods \\\\(N\\_g = N\\_{g,} = \\[a\\_g-, b\\_g+\\]\\\\), where \\\\(a\\_g\\\\) denotes the genomic coordinate of the 5' end of the transcript region for gene \\\\(g\\\\), and \\\\(b\\_g\\\\) is the coordinate at the 3' end. Let \\\\(|N\\_g|\\\\) denote the number of SNP in that neighborhood. Key objectives are\n",
    "\n",
    "-   For each gene, compute the \\\\(|N\\_g|\\\\) test statistics measuring association of SNPs in \\\\(N\\_g\\\\) with mean expression of gene \\\\(g\\\\);\n",
    "-   Obtain a measure of statistical significance for each test statistic;\n",
    "-   Support adjustment and assessment of sensitivity analysis of statistical tests (e.g., adjustment for batch effects, effects of filtering on gene expression variation or SNP minor allele frequency);\n",
    "-   Provide the test results in a format for ready interrogation using various types of search key;\n",
    "-   Support visualization of associations at various scales.\n",
    "\n",
    "<h3 id=\"reporting-sec\">\n",
    "Basic execution/reporting structure\n",
    "</h3>\n",
    "The code in the example for the GGtools function All.cis() yields an example of a sharply restricted search for cis eQTL on chr21, using data on the HapMap CEU population."
   ]
  },
  {
   "cell_type": "markdown",
   "metadata": {},
   "source": [
    "``` r\n",
    "cc = new(\"CisConfig\") # take a default configuration\n",
    "chrnames(cc) = \"21\"   # confine to chr21\n",
    "estimates(cc) = FALSE # no point estimates neede\n",
    "f1 <- All.cis( cc )   # compute the tests; can be slow without attendance\n",
    "                      # to parallelization\n",
    "```"
   ]
  },
  {
   "cell_type": "markdown",
   "metadata": {},
   "source": [
    "The result of the function inherits from GRanges, and includes metadata concerning its generation."
   ]
  },
  {
   "cell_type": "code",
   "execution_count": 1,
   "metadata": {},
   "outputs": [
    {
     "ename": "ERROR",
     "evalue": "Error in eval(expr, envir, enclos): object 'f1' not found\n",
     "output_type": "error",
     "traceback": [
      "Error in eval(expr, envir, enclos): object 'f1' not found\n"
     ]
    },
    {
     "ename": "ERROR",
     "evalue": "Error in eval(expr, envir, enclos): object 'f1' not found\n",
     "output_type": "error",
     "traceback": [
      "Error in eval(expr, envir, enclos): object 'f1' not found\n"
     ]
    },
    {
     "ename": "ERROR",
     "evalue": "Error in eval(expr, envir, enclos): could not find function \"metadata\"\n",
     "output_type": "error",
     "traceback": [
      "Error in eval(expr, envir, enclos): could not find function \"metadata\"\n"
     ]
    }
   ],
   "source": [
    "length(f1)\n",
    "f1[1:3]\n",
    "metadata(f1)"
   ]
  },
  {
   "cell_type": "markdown",
   "metadata": {},
   "source": [
    "Use of GRanges for the organization of association test statistics allows easy amalgamation of findings with other forms of genomic annotation. Retention of the association scores achieved under permutation allows recomputation of plug-in FDR after combination or filtering.\n",
    "\n",
    "<h3 id=\"viz=sec\">\n",
    "Visualization examples\n",
    "</h3>\n",
    "Targeted visualization of association is supported with the plot\\_EvG function in GGBase. To obtain the figure on the right, the expression matrix has been transformed by removing the principal components corresponding to the 10 largest eigenvalues. This is a crude approach to reducing \\`\\`expression heterogeneity'', a main concern of eQTL analyses to date (Leek and Storey, 2007)."
   ]
  },
  {
   "cell_type": "code",
   "execution_count": 2,
   "metadata": {},
   "outputs": [],
   "source": [
    "## setting Jupyter plotting size\n",
    "options(repr.plot.width=7,repr.plot.height=4)"
   ]
  },
  {
   "cell_type": "markdown",
   "metadata": {},
   "source": [
    "``` r\n",
    "plot_EvG(probeId(\"o67h4JQSuEa02CJJIQ\"), rsid(\"rs2259928\"), c20f,\n",
    "  main=\"10 expr. PC removed\")\n",
    "```"
   ]
  },
  {
   "cell_type": "markdown",
   "metadata": {},
   "source": [
    "Above we have a single SNP-gene association.\n",
    "The family of associations observed cis to ABHD12 can also be visualized in conjunction with the transcript models.\n",
    "\n",
    "<img src=\"abhd12.png\">\n",
    "\n",
    "<h2 id=\"rawdata-sec\">\n",
    "Raw materials: structuring expression, genotype, and sample data\n",
    "</h2>\n",
    "<h3 id=\"SnpMatrix-sec\">\n",
    "SnpMatrix from snpStats for called and imputed genotypes\n",
    "</h3>\n",
    "As of November 2013, a reasonably efficient representation of expression, sample and genotype data is defined using an R package containing\n",
    "\n",
    "-   an ExpressionSet instance, and\n",
    "-   a folder inst/parts containing genotype data as SnpMatrix instances, as defined in the snpStats package.\n",
    "\n",
    "Elements of the sampleNames of the ExpressionSet instance must coincide with elements of the row names of the SnpMatrix instances. At time of analysis, warnings will be issued and harmonization attempts will be made when the coincidence is not exact.\n",
    "\n",
    "The SnpMatrix instances make use of a byte code for (potentially) imputed genotypes. Each element of the code defines a point on the simplex displayed below, allowing a discrete but rich set of the key quantities of interest, the expected number of B alleles."
   ]
  },
  {
   "cell_type": "code",
   "execution_count": 3,
   "metadata": {},
   "outputs": [],
   "source": [
    "## setting Jupyter plotting size\n",
    "options(repr.plot.width=4,repr.plot.height=4)"
   ]
  },
  {
   "cell_type": "markdown",
   "metadata": {},
   "source": [
    "Note that the nucleotide codes are not carried in this representation. Typically for a diallelic SNP, B denotes the alphabetically later nucleotide.\n",
    "\n",
    "<h3 id=\"smlSet-sec\">\n",
    "smlSet for coordinating genotype, expression, and sample-level data\n",
    "</h3>\n",
    "We can illustrate the basic operations with this overall structure, using data collected on Yoruban (YRI) HapMap cell lines. Expression data were obtained at ArrayExpression E-MTAB-264 (Stranger, Montgomery, Dimas, Parts, Stegle, Ingle, Sekowska, Smith, Evans, Gutierrez-Arcelus, Price, Raj, Nisbett, Nica, Beazley, Durbin, Deloukas, and Dermitzakis, 2012)."
   ]
  },
  {
   "cell_type": "code",
   "execution_count": 4,
   "metadata": {},
   "outputs": [
    {
     "name": "stderr",
     "output_type": "stream",
     "text": [
      "Loading required package: GGBase\n",
      "Loading required package: snpStats\n",
      "Loading required package: survival\n",
      "Loading required package: Matrix\n",
      "Loading required package: data.table\n",
      "Loading required package: parallel\n",
      "No methods found in \"IRanges\" for requests: aggregate\n",
      "\n",
      "Attaching package: ‘GGtools’\n",
      "\n",
      "The following object is masked from ‘package:stats’:\n",
      "\n",
      "    getCall\n",
      "\n",
      "To get a tailored smlSet, use getSS(\"yri1kgv\", [chrvec])\n",
      "\n",
      "available chromosomes are named chr1, chr10, ..., chr8, chr9\n",
      "\n",
      "Loading required package: AnnotationDbi\n",
      "Loading required package: stats4\n",
      "Loading required package: BiocGenerics\n",
      "\n",
      "Attaching package: ‘BiocGenerics’\n",
      "\n",
      "The following objects are masked from ‘package:parallel’:\n",
      "\n",
      "    clusterApply, clusterApplyLB, clusterCall, clusterEvalQ,\n",
      "    clusterExport, clusterMap, parApply, parCapply, parLapply,\n",
      "    parLapplyLB, parRapply, parSapply, parSapplyLB\n",
      "\n",
      "The following object is masked from ‘package:Matrix’:\n",
      "\n",
      "    as.vector\n",
      "\n",
      "The following objects are masked from ‘package:stats’:\n",
      "\n",
      "    IQR, mad, xtabs\n",
      "\n",
      "The following objects are masked from ‘package:base’:\n",
      "\n",
      "    anyDuplicated, append, as.data.frame, as.vector, cbind, colnames,\n",
      "    do.call, duplicated, eval, evalq, Filter, Find, get, grep, grepl,\n",
      "    intersect, is.unsorted, lapply, lengths, Map, mapply, match, mget,\n",
      "    order, paste, pmax, pmax.int, pmin, pmin.int, Position, rank,\n",
      "    rbind, Reduce, rownames, sapply, setdiff, sort, table, tapply,\n",
      "    union, unique, unlist, unsplit\n",
      "\n",
      "Loading required package: Biobase\n",
      "Welcome to Bioconductor\n",
      "\n",
      "    Vignettes contain introductory material; view with\n",
      "    'browseVignettes()'. To cite Bioconductor, see\n",
      "    'citation(\"Biobase\")', and for packages 'citation(\"pkgname\")'.\n",
      "\n",
      "Loading required package: IRanges\n",
      "Loading required package: S4Vectors\n",
      "\n",
      "Attaching package: ‘IRanges’\n",
      "\n",
      "The following object is masked from ‘package:data.table’:\n",
      "\n",
      "    shift\n",
      "\n",
      "The following object is masked from ‘package:Matrix’:\n",
      "\n",
      "    expand\n",
      "\n",
      "Loading required package: org.Hs.eg.db\n",
      "Loading required package: DBI\n",
      "\n",
      "\n",
      "lumiHumanAll.db is using or is likely to need access to special nuID\n",
      "  identifiers.  Users can learn about these identifiers from vignette\n",
      "  documentation provided with the lumi package.\n",
      "\n",
      "harmonizeSamples TRUE and sampleNames for es not coincident with rownames(sml[[1]]); harmonizing...[not a warning]\n"
     ]
    },
    {
     "data": {
      "text/plain": [
       "SnpMatrix-based genotype set:\n",
       "number of samples:  79 \n",
       "number of chromosomes present:  1 \n",
       "annotation: lumiHumanAll.db \n",
       "Expression data dims: 21800 x 79 \n",
       "Total number of SNP: 494322 \n",
       "Phenodata: An object of class 'AnnotatedDataFrame'\n",
       "  sampleNames: NA18486 NA18487 ... NA19257 (79 total)\n",
       "  varLabels: Source.Name Material.Type ... Factor.Value.SIGNAL. (26\n",
       "    total)\n",
       "  varMetadata: labelDescription"
      ]
     },
     "execution_count": 4,
     "metadata": {},
     "output_type": "execute_result"
    },
    {
     "data": {
      "text/html": [
       "<ol class=list-inline>\n",
       "\t<li>21800</li>\n",
       "\t<li>79</li>\n",
       "</ol>\n"
      ],
      "text/latex": [
       "\\begin{enumerate*}\n",
       "\\item 21800\n",
       "\\item 79\n",
       "\\end{enumerate*}\n"
      ],
      "text/markdown": [
       "1. 21800\n",
       "2. 79\n",
       "\n",
       "\n"
      ],
      "text/plain": [
       "[1] 21800    79"
      ]
     },
     "execution_count": 4,
     "metadata": {},
     "output_type": "execute_result"
    }
   ],
   "source": [
    "library(GGtools)\n",
    "library(yri1kgv)\n",
    "library(lumiHumanAll.db)\n",
    "if (!exists(\"y22\")) y22 = getSS(\"yri1kgv\", \"chr22\")\n",
    "y22\n",
    "dim(exprs(y22))\n",
    "fn = featureNames(y22)[1:5]"
   ]
  },
  {
   "cell_type": "markdown",
   "metadata": {},
   "source": [
    "The annotation of expression features can be explored in several directions. First, the probe names themselves encode the 50mers on the chip."
   ]
  },
  {
   "cell_type": "code",
   "execution_count": 5,
   "metadata": {},
   "outputs": [
    {
     "name": "stderr",
     "output_type": "stream",
     "text": [
      "Setting options('download.file.method.GEOquery'='auto')\n",
      "Setting options('GEOquery.inmemory.gpl'=FALSE)\n"
     ]
    },
    {
     "data": {
      "text/html": [
       "<dl class=dl-horizontal>\n",
       "\t<dt>NQqs8dKRwVSgI4SRPk</dt>\n",
       "\t\t<dd>'CAAGGGGTATTACTCAGGCACTAACCCCAGGAAAGATGACAGCACATTGC'</dd>\n",
       "\t<dt>BvIpQQ9yzp__kCLnEU</dt>\n",
       "\t\t<dd>'GTTAGAGGCCAACAATTCTAGTATGGCTTGTTGGCAAAGAGTGCTACACC'</dd>\n",
       "\t<dt>NH1MoTHk7CULTog3nk</dt>\n",
       "\t\t<dd>'ACTTCCATAGGACATACTGCATGTAAGCCAAGTCATGGAGAATCTGCTGC'</dd>\n",
       "\t<dt>KNJlVFShMX1UoyIkRc</dt>\n",
       "\t\t<dd>'ATCAGCGCCCCCACCCAGGACATACCTTCCCCAGGATAGAGAGCACACCT'</dd>\n",
       "\t<dt>fuplG2R3erO3QrujDk</dt>\n",
       "\t\t<dd>'GTGGGCGCCACGTCGCACTCTCTGGGTATGTCTCAAGGTGTGGATAATGC'</dd>\n",
       "</dl>\n"
      ],
      "text/latex": [
       "\\begin{description*}\n",
       "\\item[NQqs8dKRwVSgI4SRPk] 'CAAGGGGTATTACTCAGGCACTAACCCCAGGAAAGATGACAGCACATTGC'\n",
       "\\item[BvIpQQ9yzp__kCLnEU] 'GTTAGAGGCCAACAATTCTAGTATGGCTTGTTGGCAAAGAGTGCTACACC'\n",
       "\\item[NH1MoTHk7CULTog3nk] 'ACTTCCATAGGACATACTGCATGTAAGCCAAGTCATGGAGAATCTGCTGC'\n",
       "\\item[KNJlVFShMX1UoyIkRc] 'ATCAGCGCCCCCACCCAGGACATACCTTCCCCAGGATAGAGAGCACACCT'\n",
       "\\item[fuplG2R3erO3QrujDk] 'GTGGGCGCCACGTCGCACTCTCTGGGTATGTCTCAAGGTGTGGATAATGC'\n",
       "\\end{description*}\n"
      ],
      "text/markdown": [
       "NQqs8dKRwVSgI4SRPk\n",
       ":   'CAAGGGGTATTACTCAGGCACTAACCCCAGGAAAGATGACAGCACATTGC'BvIpQQ9yzp__kCLnEU\n",
       ":   'GTTAGAGGCCAACAATTCTAGTATGGCTTGTTGGCAAAGAGTGCTACACC'NH1MoTHk7CULTog3nk\n",
       ":   'ACTTCCATAGGACATACTGCATGTAAGCCAAGTCATGGAGAATCTGCTGC'KNJlVFShMX1UoyIkRc\n",
       ":   'ATCAGCGCCCCCACCCAGGACATACCTTCCCCAGGATAGAGAGCACACCT'fuplG2R3erO3QrujDk\n",
       ":   'GTGGGCGCCACGTCGCACTCTCTGGGTATGTCTCAAGGTGTGGATAATGC'\n",
       "\n"
      ],
      "text/plain": [
       "                                  NQqs8dKRwVSgI4SRPk \n",
       "\"CAAGGGGTATTACTCAGGCACTAACCCCAGGAAAGATGACAGCACATTGC\" \n",
       "                                  BvIpQQ9yzp__kCLnEU \n",
       "\"GTTAGAGGCCAACAATTCTAGTATGGCTTGTTGGCAAAGAGTGCTACACC\" \n",
       "                                  NH1MoTHk7CULTog3nk \n",
       "\"ACTTCCATAGGACATACTGCATGTAAGCCAAGTCATGGAGAATCTGCTGC\" \n",
       "                                  KNJlVFShMX1UoyIkRc \n",
       "\"ATCAGCGCCCCCACCCAGGACATACCTTCCCCAGGATAGAGAGCACACCT\" \n",
       "                                  fuplG2R3erO3QrujDk \n",
       "\"GTGGGCGCCACGTCGCACTCTCTGGGTATGTCTCAAGGTGTGGATAATGC\" "
      ]
     },
     "execution_count": 5,
     "metadata": {},
     "output_type": "execute_result"
    }
   ],
   "source": [
    "library(lumi)\n",
    "id2seq(fn) # get the 50mer for each probe\n",
    "# and some annotation"
   ]
  },
  {
   "cell_type": "markdown",
   "metadata": {},
   "source": [
    "Second, the mapping to institutionally curated gene identifiers is available."
   ]
  },
  {
   "cell_type": "code",
   "execution_count": 6,
   "metadata": {},
   "outputs": [
    {
     "name": "stderr",
     "output_type": "stream",
     "text": [
      "Warning message:\n",
      "In .deprecatedColsMessage(): Accessing gene location information via 'CHR','CHRLOC','CHRLOCEND' is\n",
      "  deprecated. Please use a range based accessor like genes(), or select()\n",
      "  with columns values like TXCHROM and TXSTART on a TxDb or OrganismDb\n",
      "  object instead.'select()' returned 1:1 mapping between keys and columns\n"
     ]
    },
    {
     "data": {
      "text/html": [
       "<table>\n",
       "<thead><tr><th></th><th scope=col>PROBEID</th><th scope=col>SYMBOL</th><th scope=col>CHR</th><th scope=col>ENTREZID</th></tr></thead>\n",
       "<tbody>\n",
       "\t<tr><th scope=row>1</th><td>NQqs8dKRwVSgI4SRPk</td><td>THBS3</td><td>1</td><td>7059</td></tr>\n",
       "\t<tr><th scope=row>2</th><td>BvIpQQ9yzp__kCLnEU</td><td>SLC38A2</td><td>12</td><td>54407</td></tr>\n",
       "\t<tr><th scope=row>3</th><td>NH1MoTHk7CULTog3nk</td><td>CCNB1</td><td>5</td><td>891</td></tr>\n",
       "\t<tr><th scope=row>4</th><td>KNJlVFShMX1UoyIkRc</td><td>ZNF496</td><td>1</td><td>84838</td></tr>\n",
       "\t<tr><th scope=row>5</th><td>fuplG2R3erO3QrujDk</td><td>LOC100130238</td><td>12</td><td>100130238</td></tr>\n",
       "</tbody>\n",
       "</table>\n"
      ],
      "text/latex": [
       "\\begin{tabular}{r|llll}\n",
       "  & PROBEID & SYMBOL & CHR & ENTREZID\\\\\n",
       "\\hline\n",
       "\t1 & NQqs8dKRwVSgI4SRPk & THBS3 & 1 & 7059\\\\\n",
       "\t2 & BvIpQQ9yzp__kCLnEU & SLC38A2 & 12 & 54407\\\\\n",
       "\t3 & NH1MoTHk7CULTog3nk & CCNB1 & 5 & 891\\\\\n",
       "\t4 & KNJlVFShMX1UoyIkRc & ZNF496 & 1 & 84838\\\\\n",
       "\t5 & fuplG2R3erO3QrujDk & LOC100130238 & 12 & 100130238\\\\\n",
       "\\end{tabular}\n"
      ],
      "text/plain": [
       "             PROBEID       SYMBOL CHR  ENTREZID\n",
       "1 NQqs8dKRwVSgI4SRPk        THBS3   1      7059\n",
       "2 BvIpQQ9yzp__kCLnEU      SLC38A2  12     54407\n",
       "3 NH1MoTHk7CULTog3nk        CCNB1   5       891\n",
       "4 KNJlVFShMX1UoyIkRc       ZNF496   1     84838\n",
       "5 fuplG2R3erO3QrujDk LOC100130238  12 100130238"
      ]
     },
     "execution_count": 6,
     "metadata": {},
     "output_type": "execute_result"
    }
   ],
   "source": [
    "select( lumiHumanAll.db, keys=fn, keytype=\"PROBEID\", columns=c(\"SYMBOL\", \"CHR\", \"ENTREZID\"))"
   ]
  },
  {
   "cell_type": "markdown",
   "metadata": {},
   "source": [
    "Finally, we can look at the genotype information. This can be voluminous and is managed in an environment to reduce potential copying expenses."
   ]
  },
  {
   "cell_type": "code",
   "execution_count": 7,
   "metadata": {},
   "outputs": [
    {
     "data": {
      "text/html": [
       "<table>\n",
       "<thead><tr><th></th><th scope=col>rs149201999</th><th scope=col>rs146752890</th><th scope=col>rs139377059</th><th scope=col>rs188945759</th><th scope=col>rs6518357</th></tr></thead>\n",
       "<tbody>\n",
       "\t<tr><th scope=row>NA18486</th><td>A/A</td><td>A/A</td><td>A/A</td><td>A/A</td><td>A/A</td></tr>\n",
       "\t<tr><th scope=row>NA18487</th><td>A/A</td><td>A/A</td><td>A/A</td><td>A/A</td><td>A/A</td></tr>\n",
       "\t<tr><th scope=row>NA18489</th><td>A/A</td><td>A/A</td><td>A/A</td><td>A/A</td><td>A/A</td></tr>\n",
       "\t<tr><th scope=row>NA18498</th><td>A/A</td><td>A/A</td><td>A/A</td><td>A/A</td><td>A/A</td></tr>\n",
       "\t<tr><th scope=row>NA18499</th><td>A/A</td><td>A/A</td><td>A/A</td><td>A/A</td><td>A/A</td></tr>\n",
       "</tbody>\n",
       "</table>\n"
      ],
      "text/latex": [
       "\\begin{tabular}{r|lllll}\n",
       "  & rs149201999 & rs146752890 & rs139377059 & rs188945759 & rs6518357\\\\\n",
       "\\hline\n",
       "\tNA18486 & A/A & A/A & A/A & A/A & A/A\\\\\n",
       "\tNA18487 & A/A & A/A & A/A & A/A & A/A\\\\\n",
       "\tNA18489 & A/A & A/A & A/A & A/A & A/A\\\\\n",
       "\tNA18498 & A/A & A/A & A/A & A/A & A/A\\\\\n",
       "\tNA18499 & A/A & A/A & A/A & A/A & A/A\\\\\n",
       "\\end{tabular}\n"
      ],
      "text/markdown": [
       "1. 'A/A'\n",
       "2. 'A/A'\n",
       "3. 'A/A'\n",
       "4. 'A/A'\n",
       "5. 'A/A'\n",
       "6. 'A/A'\n",
       "7. 'A/A'\n",
       "8. 'A/A'\n",
       "9. 'A/A'\n",
       "10. 'A/A'\n",
       "11. 'A/A'\n",
       "12. 'A/A'\n",
       "13. 'A/A'\n",
       "14. 'A/A'\n",
       "15. 'A/A'\n",
       "16. 'A/A'\n",
       "17. 'A/A'\n",
       "18. 'A/A'\n",
       "19. 'A/A'\n",
       "20. 'A/A'\n",
       "21. 'A/A'\n",
       "22. 'A/A'\n",
       "23. 'A/A'\n",
       "24. 'A/A'\n",
       "25. 'A/A'\n",
       "\n",
       "\n"
      ],
      "text/plain": [
       "        rs149201999 rs146752890 rs139377059 rs188945759 rs6518357\n",
       "NA18486 \"A/A\"       \"A/A\"       \"A/A\"       \"A/A\"       \"A/A\"    \n",
       "NA18487 \"A/A\"       \"A/A\"       \"A/A\"       \"A/A\"       \"A/A\"    \n",
       "NA18489 \"A/A\"       \"A/A\"       \"A/A\"       \"A/A\"       \"A/A\"    \n",
       "NA18498 \"A/A\"       \"A/A\"       \"A/A\"       \"A/A\"       \"A/A\"    \n",
       "NA18499 \"A/A\"       \"A/A\"       \"A/A\"       \"A/A\"       \"A/A\"    "
      ]
     },
     "execution_count": 7,
     "metadata": {},
     "output_type": "execute_result"
    },
    {
     "data": {
      "text/html": [
       "<table>\n",
       "<thead><tr><th></th><th scope=col>Calls</th><th scope=col>Call.rate</th><th scope=col>Certain.calls</th><th scope=col>RAF</th><th scope=col>MAF</th><th scope=col>P.AA</th><th scope=col>P.AB</th><th scope=col>P.BB</th><th scope=col>z.HWE</th></tr></thead>\n",
       "<tbody>\n",
       "\t<tr><th scope=row>rs149201999</th><td>79</td><td>1</td><td>1</td><td>0.09493671</td><td>0.09493671</td><td>0.8101266</td><td>0.1898734</td><td>0</td><td>0.9323281</td></tr>\n",
       "\t<tr><th scope=row>rs146752890</th><td>79</td><td>1</td><td>1</td><td>0.06962025</td><td>0.06962025</td><td>0.8607595</td><td>0.1392405</td><td>0</td><td>0.665103</td></tr>\n",
       "\t<tr><th scope=row>rs139377059</th><td>79</td><td>1</td><td>1</td><td>0.06962025</td><td>0.06962025</td><td>0.8607595</td><td>0.1392405</td><td>0</td><td>0.665103</td></tr>\n",
       "\t<tr><th scope=row>rs188945759</th><td>79</td><td>1</td><td>1</td><td>0.006329114</td><td>0.006329114</td><td>0.9873418</td><td>0.01265823</td><td>0</td><td>0.0566127</td></tr>\n",
       "\t<tr><th scope=row>rs6518357</th><td>79</td><td>1</td><td>1</td><td>0.07594937</td><td>0.07594937</td><td>0.8481013</td><td>0.1518987</td><td>0</td><td>0.7305365</td></tr>\n",
       "\t<tr><th scope=row>rs62224609</th><td>79</td><td>1</td><td>1</td><td>0</td><td>0</td><td>1</td><td>0</td><td>0</td><td>NA</td></tr>\n",
       "\t<tr><th scope=row>rs62224610</th><td>79</td><td>1</td><td>1</td><td>0.2974684</td><td>0.2974684</td><td>0.4936709</td><td>0.4177215</td><td>0.08860759</td><td>-0.005111095</td></tr>\n",
       "\t<tr><th scope=row>rs143503259</th><td>79</td><td>1</td><td>1</td><td>0</td><td>0</td><td>1</td><td>0</td><td>0</td><td>NA</td></tr>\n",
       "\t<tr><th scope=row>rs192339082</th><td>79</td><td>1</td><td>1</td><td>0</td><td>0</td><td>1</td><td>0</td><td>0</td><td>NA</td></tr>\n",
       "\t<tr><th scope=row>rs79725552</th><td>79</td><td>1</td><td>1</td><td>0.07594937</td><td>0.07594937</td><td>0.8481013</td><td>0.1518987</td><td>0</td><td>0.7305365</td></tr>\n",
       "</tbody>\n",
       "</table>\n"
      ],
      "text/latex": [
       "\\begin{tabular}{r|lllllllll}\n",
       "  & Calls & Call.rate & Certain.calls & RAF & MAF & P.AA & P.AB & P.BB & z.HWE\\\\\n",
       "\\hline\n",
       "\trs149201999 & 79 & 1 & 1 & 0.09493671 & 0.09493671 & 0.8101266 & 0.1898734 & 0 & 0.9323281\\\\\n",
       "\trs146752890 & 79 & 1 & 1 & 0.06962025 & 0.06962025 & 0.8607595 & 0.1392405 & 0 & 0.665103\\\\\n",
       "\trs139377059 & 79 & 1 & 1 & 0.06962025 & 0.06962025 & 0.8607595 & 0.1392405 & 0 & 0.665103\\\\\n",
       "\trs188945759 & 79 & 1 & 1 & 0.006329114 & 0.006329114 & 0.9873418 & 0.01265823 & 0 & 0.0566127\\\\\n",
       "\trs6518357 & 79 & 1 & 1 & 0.07594937 & 0.07594937 & 0.8481013 & 0.1518987 & 0 & 0.7305365\\\\\n",
       "\trs62224609 & 79 & 1 & 1 & 0 & 0 & 1 & 0 & 0 & NA\\\\\n",
       "\trs62224610 & 79 & 1 & 1 & 0.2974684 & 0.2974684 & 0.4936709 & 0.4177215 & 0.08860759 & -0.005111095\\\\\n",
       "\trs143503259 & 79 & 1 & 1 & 0 & 0 & 1 & 0 & 0 & NA\\\\\n",
       "\trs192339082 & 79 & 1 & 1 & 0 & 0 & 1 & 0 & 0 & NA\\\\\n",
       "\trs79725552 & 79 & 1 & 1 & 0.07594937 & 0.07594937 & 0.8481013 & 0.1518987 & 0 & 0.7305365\\\\\n",
       "\\end{tabular}\n"
      ],
      "text/plain": [
       "            Calls Call.rate Certain.calls         RAF         MAF      P.AA\n",
       "rs149201999    79         1             1 0.094936709 0.094936709 0.8101266\n",
       "rs146752890    79         1             1 0.069620253 0.069620253 0.8607595\n",
       "rs139377059    79         1             1 0.069620253 0.069620253 0.8607595\n",
       "rs188945759    79         1             1 0.006329114 0.006329114 0.9873418\n",
       "rs6518357      79         1             1 0.075949367 0.075949367 0.8481013\n",
       "rs62224609     79         1             1 0.000000000 0.000000000 1.0000000\n",
       "rs62224610     79         1             1 0.297468354 0.297468354 0.4936709\n",
       "rs143503259    79         1             1 0.000000000 0.000000000 1.0000000\n",
       "rs192339082    79         1             1 0.000000000 0.000000000 1.0000000\n",
       "rs79725552     79         1             1 0.075949367 0.075949367 0.8481013\n",
       "                  P.AB       P.BB        z.HWE\n",
       "rs149201999 0.18987342 0.00000000  0.932328086\n",
       "rs146752890 0.13924051 0.00000000  0.665102984\n",
       "rs139377059 0.13924051 0.00000000  0.665102984\n",
       "rs188945759 0.01265823 0.00000000  0.056612703\n",
       "rs6518357   0.15189873 0.00000000  0.730536527\n",
       "rs62224609  0.00000000 0.00000000           NA\n",
       "rs62224610  0.41772152 0.08860759 -0.005111095\n",
       "rs143503259 0.00000000 0.00000000           NA\n",
       "rs192339082 0.00000000 0.00000000           NA\n",
       "rs79725552  0.15189873 0.00000000  0.730536527"
      ]
     },
     "execution_count": 7,
     "metadata": {},
     "output_type": "execute_result"
    }
   ],
   "source": [
    "gt22 <- smList(y22)[[1]]  # access to genotypes\n",
    "as( gt22[1:5,1:5], \"character\" )\n",
    "cs22 = col.summary(gt22)  # some information on genotypes\n",
    "cs22[1:10,]"
   ]
  },
  {
   "cell_type": "markdown",
   "metadata": {},
   "source": [
    "<h2 id=\"starcluster-sec\">\n",
    "Cluster management with starcluster\n",
    "</h2>\n",
    "This workflow is based on Amazon EC2 computation managed using the [MIT starcluster utilities](http://star.mit.edu/cluster/). Configuration and management of EC2 based machinery is quite simple. The bulk of the partial run described here used configuration variables\n",
    "\n",
    "-   CLUSTER\\_SIZE = 4\n",
    "-   NODE\\_IMAGE\\_ID = ami-bdaa99d4\n",
    "-   NODE\\_INSTANCE\\_TYPE = c3.2xlarge \\# 8 cores, 15GB RAM on each\n",
    "-   MASTER\\_INSTANCE\\_TYPE = c3.2xlarge\n",
    "\n",
    "In a complete run, for chromosome 1, a rescue run was required with a larger instance type (m3.2xlarge).\n",
    "\n",
    "<h2 id=\"parallel-sec\">\n",
    "Programming the parallelized search: various approaches\n",
    "</h2>\n",
    "<h3 id=\"hilev-sec\">\n",
    "High-level, socket-based cluster: ciseqByCluster\n",
    "</h3>\n",
    "We will describe an essentially monolithic approach to using a cluster to search for eQTL in which evaluation of a single R function drives the search. The master process will communicate with slaves via sockets; slaves will write results to disk and ship back to master. The task is executed across chromosomes that have been split roughly in thirds to reduce RAM consumption.\n",
    "\n",
    "The ciseqByCluster function of GGtools is the workhorse for the search. Arguments to this function determine how the search will be configured and executed. The invocation here asks for a search on four chromosomes, dispatching work from a master R process to a four node cluster, with multicore concurrency for gene-specific searches on eight cores per node. Three output files are generated in the folder identified as targetfolder:\n",
    "\n",
    "-   an RDA file serializing a data.table instance with a record for each SNP-probe pair satisfying the cis proximity criterion\n",
    "-   a tabix-indexed GFF3 file with the same information as the data.table\n",
    "-   the tabix .tbi file for the GFF3\n",
    "\n",
    "The following script is available on the AMI noted above and will generate the partceu100k\\_dt data.table instance used for analysis below."
   ]
  },
  {
   "cell_type": "markdown",
   "metadata": {},
   "source": [
    "``` r\n",
    "library(parallel)\n",
    "newcl = makePSOCKcluster(c(\"master\", paste0(\"node00\", 1:3)))\n",
    "library(foreach)\n",
    "library(doParallel)\n",
    "registerDoParallel(cores=8)  # may want to keep at 5\n",
    "\n",
    "library(GGtools)\n",
    "ceuDemoRecov = try(ciseqByCluster( newcl, \n",
    "   chromsToRun=19:22, finaltag=\"partceu100k\",\n",
    "   outprefix=\"ceurun\",\n",
    "   ncoresPerNode=8, targetfolder=\"/freshdata/CEU_DEMO\"  ))\n",
    "save(ceuDemoRecov, file=\"ceuDemoRecov.rda\")\n",
    "stopCluster(newcl)\n",
    "stopImplicitCluster()\n",
    "sessionInfo()\n",
    "```"
   ]
  },
  {
   "cell_type": "markdown",
   "metadata": {},
   "source": [
    "The full set of arguments and defaults for ciseqByCluster is\n",
    "\n",
    "-   pack = \"yri1kgv\",\n",
    "-   outprefix = \"yrirun\",\n",
    "-   chromsToRun = 1:22, \\# if length is C will use 3C nodes\n",
    "-   targetfolder = \"/freshdata/YRI\\_3\", \\# for demo, a volume reference\n",
    "-   radius = 100000L,\n",
    "-   nperm = 3L,\n",
    "-   numNodes = 8,\n",
    "-   nodeNames = rep(\"localhost\", numNodes),\n",
    "-   ncoresPerNode = 8,\n",
    "-   numPCtoFilter = 10,\n",
    "-   lowerMAF = .02,\n",
    "-   geneannopk = \"lumiHumanAll.db\",\n",
    "-   snpannopk = \"SNPlocs.Hsapiens.dbSNP144.GRCh37\"\n",
    "-   smchrpref = \"chr\"\n",
    "\n",
    "The GFF3 file that is generated along with the data.table instance is useful for targeted queries, potentially from external applications. The primary difficulty with using this in R is the need to parse the optional data subfields of field 9.\n",
    "\n",
    "<h2 id=\"results-sec\">\n",
    "Working with the results\n",
    "</h2>\n",
    "<h3 id=\"ovplot-sec\">\n",
    "Overview QQ-plot\n",
    "</h3>\n",
    "It is customary to inspect QQ-plots for genome-wide association studies. For eQTL searches, the number of test results can range into the billions, so a binned approach is taken."
   ]
  },
  {
   "cell_type": "markdown",
   "metadata": {},
   "source": [
    "``` r\n",
    "binnedQQ(partceu100k_dt, ylim=c(0,30), xlim=c(-2,15), end45=12)\n",
    "```"
   ]
  },
  {
   "cell_type": "markdown",
   "metadata": {},
   "source": [
    "<img src=\"lkqq.png\">\n",
    "\n",
    "This gives an indication that the distribution of the vast majority of observed SNP-gene pair association statistics is consistent with the null model.\n",
    "\n",
    "<h3 id=\"sens-sec\">\n",
    "Sensitivity analysis of tuning the search\n",
    "</h3>\n",
    "Because our data.table output retains information on association scores achieved after permuting expression against genotype, we can recompute plug-in FDRs for loci that remain after filtering the full set of records in various ways. The eqsens\\_dt function allows exploration of sensitivity of eQTL enumerations across various dimensions, and users can add additional dimension through suitable programming. The default behavior is illustrated first:"
   ]
  },
  {
   "cell_type": "code",
   "execution_count": 8,
   "metadata": {},
   "outputs": [
    {
     "name": "stderr",
     "output_type": "stream",
     "text": [
      "Loading required package: iterators\n"
     ]
    }
   ],
   "source": [
    "load(\"partceu100k_dt.rda\")\n",
    "library(foreach)  # basic function includes a %dopar%\n",
    "library(doParallel)\n",
    "library(parallel)\n",
    "# dcdown = max(c(detectCores()-1,1)) ## use with lots of RAM\n",
    "dcdown = 1\n",
    "registerDoSEQ()\n",
    "if (.Platform$OS.type != \"windows\") {\n",
    " #cl = makeForkCluster(dcdown)\n",
    " registerDoParallel(cores=dcdown) # nesting?\n",
    " }"
   ]
  },
  {
   "cell_type": "markdown",
   "metadata": {},
   "source": [
    "``` r\n",
    "eq1 = eqsens_dt(partceu100k_dt)\n",
    "```"
   ]
  },
  {
   "cell_type": "markdown",
   "metadata": {},
   "source": [
    "plotsens(eq1) \\`\\`\\`\n",
    "\n",
    "The arguments to eqsens\\_dt are"
   ]
  },
  {
   "cell_type": "code",
   "execution_count": 9,
   "metadata": {},
   "outputs": [
    {
     "data": {
      "text/html": [
       "<pre class=language-r><code>function (dtab, filtgen = filtgen.maf.dist, by = c(\"pairs\", \"snps\", \n",
       "    \"probes\")[1], targfdrs = c(0.05, 0.01, 0.005), parmslist = list(mafs = c(0.025, \n",
       "    0.05, 0.075, 0.1, 0.125), dists = c(1000, 5000, 10000, 25000, \n",
       "    50000, 1e+05)), renameChisq = TRUE) \n",
       "NULL</code></pre>"
      ],
      "text/latex": [
       "\\begin{minted}{r}\n",
       "function (dtab, filtgen = filtgen.maf.dist, by = c(\"pairs\", \"snps\", \n",
       "    \"probes\"){[}1{]}, targfdrs = c(0.05, 0.01, 0.005), parmslist = list(mafs = c(0.025, \n",
       "    0.05, 0.075, 0.1, 0.125), dists = c(1000, 5000, 10000, 25000, \n",
       "    50000, 1e+05)), renameChisq = TRUE) \n",
       "NULL\n",
       "\\end{minted}"
      ],
      "text/markdown": [
       "```r\n",
       "function (dtab, filtgen = filtgen.maf.dist, by = c(\"pairs\", \"snps\", \n",
       "    \"probes\")[1], targfdrs = c(0.05, 0.01, 0.005), parmslist = list(mafs = c(0.025, \n",
       "    0.05, 0.075, 0.1, 0.125), dists = c(1000, 5000, 10000, 25000, \n",
       "    50000, 1e+05)), renameChisq = TRUE) \n",
       "NULL\n",
       "```"
      ],
      "text/plain": [
       "function (dtab, filtgen = filtgen.maf.dist, by = c(\"pairs\", \"snps\", \n",
       "    \"probes\")[1], targfdrs = c(0.05, 0.01, 0.005), parmslist = list(mafs = c(0.025, \n",
       "    0.05, 0.075, 0.1, 0.125), dists = c(1000, 5000, 10000, 25000, \n",
       "    50000, 1e+05)), renameChisq = TRUE) \n",
       "NULL"
      ]
     },
     "execution_count": 9,
     "metadata": {},
     "output_type": "execute_result"
    }
   ],
   "source": [
    "args(eqsens_dt)"
   ]
  },
  {
   "cell_type": "markdown",
   "metadata": {},
   "source": [
    "and setting components of the parmslist argument governs the set of tuning parameter vectors that will be used. Exploration of additional dimensions would involve passing a different function for the filtgen parameter; filtgen.maf.dist assumes a 2-vector of (MAF, dist) will be used to retain rows with MAF exceeding the input MAF, and dist no greater than the input mindist from SNP to gene.\n",
    "\n",
    "<h3 id=\"gviz-sec\">\n",
    "Visualizing results for a gene\n",
    "</h3>\n",
    "As of 1/20/2014 the call to scoresCis() can only be executed with R-devel and GGtools 4.11.28+.\n",
    "\n",
    "We will focus on the data.table output. A basic objective is targeted visualization. The scoresCis function helps with this. We load the data.table instance first."
   ]
  },
  {
   "cell_type": "markdown",
   "metadata": {},
   "source": [
    "``` r\n",
    "library(data.table)\n",
    "load(\"partceu100k_dt.rda\")\n",
    "scoresCis(\"CPNE1\", partceu100k_dt)\n",
    "```"
   ]
  },
  {
   "cell_type": "markdown",
   "metadata": {},
   "source": [
    "<!-- some code dropped here -->\n",
    "<img src=\"demomod.png\">\n",
    "\n",
    "<h3 id=\"stats-sec\">\n",
    "Statistical characteristics of search results\n",
    "</h3>\n",
    "In this section we consider how structural and genetic information can be used to distinguish conditional probabilities of SNP genotypes being associated with phenotypic variation. We use some additional data provided in the GGtools package concerning a) chromatin state of the lymphoblastoid cell line GM12878, a line similar to those form which expression data were generated, and b) identities of SNP that have been found to be hits or are in LD with hits at \\\\( R^2 &gt; 0.80 \\\\) in the NHGRI GWAS catalog. See man pages for hmm878 in GGtools package and gwastagger in gwascat package for more information. These data are automatically propagated to ciseqByCluster data.table output.\n",
    "\n",
    "Our approach is to use logistic regression on 1.5 million records. We use the biglm package to keep memory images modest.\n",
    "\n",
    "We discretize some of the key factors, and form an indicator variable for the event that the SNP is in a region of active or poised promoter chromatin state, as determined by ChromHMM on GM12878."
   ]
  },
  {
   "cell_type": "code",
   "execution_count": 10,
   "metadata": {},
   "outputs": [],
   "source": [
    "distcat = cut(partceu100k_dt$mindist,c(-1, 1, 1000, 5000, 10000, 50000, 100001))\n",
    "fdrcat = cut(partceu100k_dt$fdr,c(-.01,.005, .05, .1, .2, 1.01))\n",
    "fdrcat = relevel(fdrcat, \"(0.2,1.01]\")\n",
    "mafcat = cut(partceu100k_dt$MAF,c(0,.05, .1, .2, .3, .51))\n",
    "approm = 1*partceu100k_dt$chromcat878 %in% c(\"1_Active_Promoter\", \"3_Poised_Promoter\")"
   ]
  },
  {
   "cell_type": "markdown",
   "metadata": {},
   "source": [
    "Now we rebuild the data.table and fit the model to a randomly selected training set of about half the total number of records."
   ]
  },
  {
   "cell_type": "code",
   "execution_count": 11,
   "metadata": {},
   "outputs": [],
   "source": [
    "partceu100k_dt = cbind(partceu100k_dt, distcat, fdrcat, mafcat, approm)\n",
    "set.seed(1234)\n",
    "train = sample(1:nrow(partceu100k_dt), \n",
    "   size=floor(nrow(partceu100k_dt)/2), replace=FALSE)\n",
    "library(biglm)\n",
    "b1 = bigglm(isgwashit~distcat+fdrcat+mafcat+approm, fam=binomial(),\n",
    " data=partceu100k_dt[train,], maxit=30)"
   ]
  },
  {
   "cell_type": "markdown",
   "metadata": {},
   "source": [
    "A source of figures of merit is the calibration of predictions against actual hit events in the test set."
   ]
  },
  {
   "cell_type": "code",
   "execution_count": 12,
   "metadata": {},
   "outputs": [
    {
     "data": {
      "text/plain": [
       "       V1          \n",
       " Min.   :0.002408  \n",
       " 1st Qu.:0.006612  \n",
       " Median :0.016698  \n",
       " Mean   :0.015935  \n",
       " 3rd Qu.:0.027334  \n",
       " Max.   :0.200049  "
      ]
     },
     "execution_count": 12,
     "metadata": {},
     "output_type": "execute_result"
    },
    {
     "data": {
      "text/plain": [
       "cpp\n",
       "   (0,0.025] (0.025,0.05]  (0.05,0.12]  (0.12,0.21] \n",
       "     1026788       467427         1701         1473 "
      ]
     },
     "execution_count": 12,
     "metadata": {},
     "output_type": "execute_result"
    },
    {
     "data": {
      "text/html": [
       "<dl class=dl-horizontal>\n",
       "\t<dt>(0,0.025]</dt>\n",
       "\t\t<dd>0.0091771621795346</dd>\n",
       "\t<dt>(0.025,0.05]</dt>\n",
       "\t\t<dd>0.0306550541581894</dd>\n",
       "\t<dt>(0.05,0.12]</dt>\n",
       "\t\t<dd>0.06114050558495</dd>\n",
       "\t<dt>(0.12,0.21]</dt>\n",
       "\t\t<dd>0.158859470468432</dd>\n",
       "</dl>\n"
      ],
      "text/latex": [
       "\\begin{description*}\n",
       "\\item[(0,0.025]] 0.0091771621795346\n",
       "\\item[(0.025,0.05]] 0.0306550541581894\n",
       "\\item[(0.05,0.12]] 0.06114050558495\n",
       "\\item[(0.12,0.21]] 0.158859470468432\n",
       "\\end{description*}\n"
      ],
      "text/markdown": [
       "(0,0.025]\n",
       ":   0.0091771621795346(0.025,0.05]\n",
       ":   0.0306550541581894(0.05,0.12]\n",
       ":   0.06114050558495(0.12,0.21]\n",
       ":   0.158859470468432\n",
       "\n"
      ],
      "text/plain": [
       "   (0,0.025] (0.025,0.05]  (0.05,0.12]  (0.12,0.21] \n",
       " 0.009177162  0.030655054  0.061140506  0.158859470 "
      ]
     },
     "execution_count": 12,
     "metadata": {},
     "output_type": "execute_result"
    }
   ],
   "source": [
    "pp = predict(b1, newdata=partceu100k_dt[-train,], type=\"response\")\n",
    "summary(pp)\n",
    "cpp = cut(pp, c(0,.025, .05, .12, .21))\n",
    "table(cpp)\n",
    "sapply(split(partceu100k_dt$isgwashit[-train], cpp), mean)"
   ]
  },
  {
   "cell_type": "markdown",
   "metadata": {},
   "source": [
    "It seems that the model, fit using data on a small number of chromosomes, has some predictive utility. We can visualize the coefficients:"
   ]
  },
  {
   "cell_type": "code",
   "execution_count": 13,
   "metadata": {},
   "outputs": [],
   "source": [
    "## setting Jupyter plotting size\n",
    "options(repr.plot.width=7,repr.plot.height=4)"
   ]
  },
  {
   "cell_type": "code",
   "execution_count": 14,
   "metadata": {},
   "outputs": [
    {
     "name": "stderr",
     "output_type": "stream",
     "text": [
      "Loading required package: grid\n"
     ]
    },
    {
     "data": {
      "image/png": "[encoded data removed]",
      "image/svg+xml": [
       "<?xml version=\"1.0\" encoding=\"UTF-8\"?>\n",
       "<svg xmlns=\"http://www.w3.org/2000/svg\" xmlns:xlink=\"http://www.w3.org/1999/xlink\" width=\"504pt\" height=\"288pt\" viewBox=\"0 0 504 288\" version=\"1.1\">\n",
       "<defs>\n",
       "<g>\n",
       "<symbol overflow=\"visible\" id=\"glyph0-0\">\n",
       "<path style=\"stroke:none;\" d=\"\"/>\n",
       "</symbol>\n",
       "<symbol overflow=\"visible\" id=\"glyph0-1\">\n",
       "<path style=\"stroke:none;\" d=\"M 2.828125 -8.75 C 1.625 -7.171875 0.875 -4.984375 0.875 -3.109375 C 0.875 -1.21875 1.625 0.96875 2.828125 2.546875 L 3.484375 2.546875 C 2.4375 0.828125 1.84375 -1.1875 1.84375 -3.109375 C 1.84375 -5.015625 2.4375 -7.046875 3.484375 -8.75 Z M 2.828125 -8.75 \"/>\n",
       "</symbol>\n",
       "<symbol overflow=\"visible\" id=\"glyph0-2\">\n",
       "<path style=\"stroke:none;\" d=\"M 2.328125 -8.75 L 1.203125 -8.75 L 1.203125 0 L 2.328125 0 Z M 2.328125 -8.75 \"/>\n",
       "</symbol>\n",
       "<symbol overflow=\"visible\" id=\"glyph0-3\">\n",
       "<path style=\"stroke:none;\" d=\"M 0.84375 -6.28125 L 0.84375 0 L 1.84375 0 L 1.84375 -3.46875 C 1.84375 -4.75 2.515625 -5.59375 3.546875 -5.59375 C 4.34375 -5.59375 4.84375 -5.109375 4.84375 -4.359375 L 4.84375 0 L 5.84375 0 L 5.84375 -4.75 C 5.84375 -5.796875 5.0625 -6.46875 3.859375 -6.46875 C 2.921875 -6.46875 2.3125 -6.109375 1.765625 -5.234375 L 1.765625 -6.28125 Z M 0.84375 -6.28125 \"/>\n",
       "</symbol>\n",
       "<symbol overflow=\"visible\" id=\"glyph0-4\">\n",
       "<path style=\"stroke:none;\" d=\"M 3.046875 -6.28125 L 2.015625 -6.28125 L 2.015625 -8.015625 L 1.015625 -8.015625 L 1.015625 -6.28125 L 0.171875 -6.28125 L 0.171875 -5.46875 L 1.015625 -5.46875 L 1.015625 -0.71875 C 1.015625 -0.078125 1.453125 0.28125 2.234375 0.28125 C 2.46875 0.28125 2.71875 0.25 3.046875 0.1875 L 3.046875 -0.640625 C 2.921875 -0.609375 2.765625 -0.59375 2.5625 -0.59375 C 2.140625 -0.59375 2.015625 -0.71875 2.015625 -1.15625 L 2.015625 -5.46875 L 3.046875 -5.46875 Z M 3.046875 -6.28125 \"/>\n",
       "</symbol>\n",
       "<symbol overflow=\"visible\" id=\"glyph0-5\">\n",
       "<path style=\"stroke:none;\" d=\"M 6.15625 -2.8125 C 6.15625 -3.765625 6.078125 -4.34375 5.90625 -4.8125 C 5.5 -5.84375 4.53125 -6.46875 3.359375 -6.46875 C 1.609375 -6.46875 0.484375 -5.125 0.484375 -3.0625 C 0.484375 -1 1.578125 0.28125 3.34375 0.28125 C 4.78125 0.28125 5.765625 -0.546875 6.03125 -1.90625 L 5.015625 -1.90625 C 4.734375 -1.078125 4.171875 -0.640625 3.375 -0.640625 C 2.734375 -0.640625 2.203125 -0.9375 1.859375 -1.46875 C 1.625 -1.828125 1.53125 -2.1875 1.53125 -2.8125 Z M 1.546875 -3.625 C 1.625 -4.78125 2.34375 -5.546875 3.34375 -5.546875 C 4.328125 -5.546875 5.09375 -4.734375 5.09375 -3.703125 C 5.09375 -3.671875 5.09375 -3.640625 5.078125 -3.625 Z M 1.546875 -3.625 \"/>\n",
       "</symbol>\n",
       "<symbol overflow=\"visible\" id=\"glyph0-6\">\n",
       "<path style=\"stroke:none;\" d=\"M 0.828125 -6.28125 L 0.828125 0 L 1.84375 0 L 1.84375 -3.265625 C 1.84375 -4.15625 2.0625 -4.75 2.546875 -5.09375 C 2.859375 -5.328125 3.15625 -5.40625 3.859375 -5.40625 L 3.859375 -6.4375 C 3.6875 -6.453125 3.59375 -6.46875 3.46875 -6.46875 C 2.8125 -6.46875 2.328125 -6.078125 1.75 -5.140625 L 1.75 -6.28125 Z M 0.828125 -6.28125 \"/>\n",
       "</symbol>\n",
       "<symbol overflow=\"visible\" id=\"glyph0-7\">\n",
       "<path style=\"stroke:none;\" d=\"M 5.65625 -4.171875 C 5.609375 -4.78125 5.46875 -5.1875 5.234375 -5.53125 C 4.796875 -6.125 4.046875 -6.46875 3.171875 -6.46875 C 1.46875 -6.46875 0.375 -5.125 0.375 -3.03125 C 0.375 -1.015625 1.453125 0.28125 3.15625 0.28125 C 4.65625 0.28125 5.609375 -0.625 5.71875 -2.15625 L 4.71875 -2.15625 C 4.546875 -1.15625 4.03125 -0.640625 3.1875 -0.640625 C 2.078125 -0.640625 1.421875 -1.546875 1.421875 -3.03125 C 1.421875 -4.609375 2.0625 -5.546875 3.15625 -5.546875 C 4 -5.546875 4.53125 -5.046875 4.640625 -4.171875 Z M 5.65625 -4.171875 \"/>\n",
       "</symbol>\n",
       "<symbol overflow=\"visible\" id=\"glyph0-8\">\n",
       "<path style=\"stroke:none;\" d=\"M 0.640625 2.609375 L 1.65625 2.609375 L 1.65625 -0.65625 C 2.1875 -0.015625 2.765625 0.28125 3.59375 0.28125 C 5.203125 0.28125 6.28125 -1.03125 6.28125 -3.03125 C 6.28125 -5.140625 5.25 -6.46875 3.578125 -6.46875 C 2.71875 -6.46875 2.046875 -6.078125 1.578125 -5.34375 L 1.578125 -6.28125 L 0.640625 -6.28125 Z M 3.40625 -5.53125 C 4.515625 -5.53125 5.234375 -4.5625 5.234375 -3.0625 C 5.234375 -1.625 4.5 -0.65625 3.40625 -0.65625 C 2.359375 -0.65625 1.65625 -1.625 1.65625 -3.09375 C 1.65625 -4.578125 2.359375 -5.53125 3.40625 -5.53125 Z M 3.40625 -5.53125 \"/>\n",
       "</symbol>\n",
       "<symbol overflow=\"visible\" id=\"glyph0-9\">\n",
       "<path style=\"stroke:none;\" d=\"M 1.109375 2.546875 C 2.3125 0.96875 3.078125 -1.21875 3.078125 -3.09375 C 3.078125 -4.984375 2.3125 -7.171875 1.109375 -8.75 L 0.453125 -8.75 C 1.515625 -7.03125 2.09375 -5.015625 2.09375 -3.09375 C 2.09375 -1.1875 1.515625 0.84375 0.453125 2.546875 Z M 1.109375 2.546875 \"/>\n",
       "</symbol>\n",
       "<symbol overflow=\"visible\" id=\"glyph0-10\">\n",
       "<path style=\"stroke:none;\" d=\"M 5.9375 -8.75 L 4.9375 -8.75 L 4.9375 -5.5 C 4.53125 -6.125 3.859375 -6.46875 3.015625 -6.46875 C 1.375 -6.46875 0.3125 -5.15625 0.3125 -3.15625 C 0.3125 -1.03125 1.359375 0.28125 3.046875 0.28125 C 3.90625 0.28125 4.515625 -0.046875 5.046875 -0.828125 L 5.046875 0 L 5.9375 0 Z M 3.1875 -5.53125 C 4.265625 -5.53125 4.9375 -4.578125 4.9375 -3.078125 C 4.9375 -1.625 4.25 -0.65625 3.1875 -0.65625 C 2.09375 -0.65625 1.359375 -1.625 1.359375 -3.09375 C 1.359375 -4.5625 2.09375 -5.53125 3.1875 -5.53125 Z M 3.1875 -5.53125 \"/>\n",
       "</symbol>\n",
       "<symbol overflow=\"visible\" id=\"glyph0-11\">\n",
       "<path style=\"stroke:none;\" d=\"M 1.796875 -6.28125 L 0.796875 -6.28125 L 0.796875 0 L 1.796875 0 Z M 1.796875 -8.75 L 0.796875 -8.75 L 0.796875 -7.484375 L 1.796875 -7.484375 Z M 1.796875 -8.75 \"/>\n",
       "</symbol>\n",
       "<symbol overflow=\"visible\" id=\"glyph0-12\">\n",
       "<path style=\"stroke:none;\" d=\"M 5.25 -4.53125 C 5.25 -5.765625 4.421875 -6.46875 2.96875 -6.46875 C 1.515625 -6.46875 0.5625 -5.71875 0.5625 -4.546875 C 0.5625 -3.5625 1.0625 -3.09375 2.5625 -2.734375 L 3.484375 -2.515625 C 4.1875 -2.34375 4.46875 -2.09375 4.46875 -1.625 C 4.46875 -1.046875 3.875 -0.640625 3 -0.640625 C 2.453125 -0.640625 2 -0.796875 1.75 -1.0625 C 1.59375 -1.25 1.53125 -1.421875 1.46875 -1.875 L 0.40625 -1.875 C 0.453125 -0.421875 1.265625 0.28125 2.921875 0.28125 C 4.5 0.28125 5.515625 -0.5 5.515625 -1.71875 C 5.515625 -2.65625 4.984375 -3.171875 3.734375 -3.46875 L 2.765625 -3.703125 C 1.953125 -3.890625 1.609375 -4.15625 1.609375 -4.59375 C 1.609375 -5.171875 2.125 -5.546875 2.9375 -5.546875 C 3.75 -5.546875 4.171875 -5.203125 4.203125 -4.53125 Z M 5.25 -4.53125 \"/>\n",
       "</symbol>\n",
       "<symbol overflow=\"visible\" id=\"glyph0-13\">\n",
       "<path style=\"stroke:none;\" d=\"M 6.421875 -0.59375 C 6.3125 -0.5625 6.265625 -0.5625 6.203125 -0.5625 C 5.859375 -0.5625 5.65625 -0.75 5.65625 -1.0625 L 5.65625 -4.75 C 5.65625 -5.875 4.84375 -6.46875 3.296875 -6.46875 C 2.390625 -6.46875 1.625 -6.203125 1.21875 -5.734375 C 0.921875 -5.40625 0.796875 -5.046875 0.78125 -4.421875 L 1.78125 -4.421875 C 1.875 -5.203125 2.328125 -5.546875 3.265625 -5.546875 C 4.15625 -5.546875 4.671875 -5.203125 4.671875 -4.609375 L 4.671875 -4.34375 C 4.671875 -3.921875 4.421875 -3.75 3.625 -3.640625 C 2.203125 -3.46875 1.984375 -3.421875 1.609375 -3.265625 C 0.875 -2.96875 0.5 -2.40625 0.5 -1.578125 C 0.5 -0.4375 1.296875 0.28125 2.5625 0.28125 C 3.359375 0.28125 4 0 4.703125 -0.640625 C 4.78125 -0.015625 5.09375 0.28125 5.734375 0.28125 C 5.9375 0.28125 6.09375 0.25 6.421875 0.171875 Z M 4.671875 -1.984375 C 4.671875 -1.640625 4.578125 -1.4375 4.265625 -1.15625 C 3.859375 -0.796875 3.375 -0.59375 2.78125 -0.59375 C 2 -0.59375 1.546875 -0.96875 1.546875 -1.609375 C 1.546875 -2.265625 1.984375 -2.609375 3.0625 -2.765625 C 4.109375 -2.90625 4.328125 -2.953125 4.671875 -3.109375 Z M 4.671875 -1.984375 \"/>\n",
       "</symbol>\n",
       "<symbol overflow=\"visible\" id=\"glyph0-14\">\n",
       "<path style=\"stroke:none;\" d=\"M 3.109375 -6.0625 L 3.109375 0 L 4.15625 0 L 4.15625 -8.515625 L 3.46875 -8.515625 C 3.09375 -7.203125 2.859375 -7.015625 1.21875 -6.8125 L 1.21875 -6.0625 Z M 3.109375 -6.0625 \"/>\n",
       "</symbol>\n",
       "<symbol overflow=\"visible\" id=\"glyph0-15\">\n",
       "<path style=\"stroke:none;\" d=\"M 1.046875 -1.25 L 1.046875 0 L 1.765625 0 L 1.765625 0.21875 C 1.765625 1.046875 1.609375 1.28125 1.046875 1.3125 L 1.046875 1.765625 C 1.890625 1.765625 2.296875 1.21875 2.296875 0.1875 L 2.296875 -1.25 Z M 1.046875 -1.25 \"/>\n",
       "</symbol>\n",
       "<symbol overflow=\"visible\" id=\"glyph0-16\">\n",
       "<path style=\"stroke:none;\" d=\"M 6.40625 -3.203125 L 3.921875 -3.203125 L 3.921875 -5.6875 L 3.078125 -5.6875 L 3.078125 -3.203125 L 0.59375 -3.203125 L 0.59375 -2.359375 L 3.078125 -2.359375 L 3.078125 0.125 L 3.921875 0.125 L 3.921875 -2.359375 L 6.40625 -2.359375 Z M 6.40625 -3.203125 \"/>\n",
       "</symbol>\n",
       "<symbol overflow=\"visible\" id=\"glyph0-17\">\n",
       "<path style=\"stroke:none;\" d=\"M 3.296875 -8.515625 C 2.515625 -8.515625 1.78125 -8.15625 1.34375 -7.578125 C 0.796875 -6.828125 0.515625 -5.6875 0.515625 -4.109375 C 0.515625 -1.25 1.46875 0.28125 3.296875 0.28125 C 5.09375 0.28125 6.078125 -1.25 6.078125 -4.046875 C 6.078125 -5.703125 5.8125 -6.796875 5.25 -7.578125 C 4.8125 -8.171875 4.109375 -8.515625 3.296875 -8.515625 Z M 3.296875 -7.578125 C 4.4375 -7.578125 5 -6.421875 5 -4.140625 C 5 -1.734375 4.453125 -0.59375 3.28125 -0.59375 C 2.15625 -0.59375 1.59375 -1.78125 1.59375 -4.109375 C 1.59375 -6.4375 2.15625 -7.578125 3.296875 -7.578125 Z M 3.296875 -7.578125 \"/>\n",
       "</symbol>\n",
       "<symbol overflow=\"visible\" id=\"glyph0-18\">\n",
       "<path style=\"stroke:none;\" d=\"M 2.65625 -3.90625 L 3.234375 -3.90625 C 4.390625 -3.90625 4.984375 -3.390625 4.984375 -2.359375 C 4.984375 -1.296875 4.328125 -0.65625 3.234375 -0.65625 C 2.078125 -0.65625 1.515625 -1.234375 1.4375 -2.46875 L 0.390625 -2.46875 C 0.4375 -1.78125 0.546875 -1.34375 0.75 -0.953125 C 1.1875 -0.140625 2.03125 0.28125 3.1875 0.28125 C 4.9375 0.28125 6.078125 -0.765625 6.078125 -2.375 C 6.078125 -3.453125 5.65625 -4.0625 4.625 -4.40625 C 5.421875 -4.71875 5.8125 -5.3125 5.8125 -6.171875 C 5.8125 -7.625 4.84375 -8.515625 3.234375 -8.515625 C 1.515625 -8.515625 0.59375 -7.578125 0.5625 -5.765625 L 1.625 -5.765625 C 1.625 -6.28125 1.6875 -6.5625 1.8125 -6.828125 C 2.046875 -7.296875 2.578125 -7.578125 3.234375 -7.578125 C 4.171875 -7.578125 4.734375 -7.03125 4.734375 -6.125 C 4.734375 -5.53125 4.53125 -5.171875 4.0625 -4.984375 C 3.765625 -4.859375 3.390625 -4.8125 2.65625 -4.796875 Z M 2.65625 -3.90625 \"/>\n",
       "</symbol>\n",
       "<symbol overflow=\"visible\" id=\"glyph0-19\">\n",
       "<path style=\"stroke:none;\" d=\"M 0.28125 2.546875 L 2.515625 2.546875 L 2.515625 -8.75 L 0.28125 -8.75 L 0.28125 -7.890625 L 1.515625 -7.890625 L 1.515625 1.6875 L 0.28125 1.6875 Z M 0.28125 2.546875 \"/>\n",
       "</symbol>\n",
       "<symbol overflow=\"visible\" id=\"glyph0-20\">\n",
       "<path style=\"stroke:none;\" d=\"M 5.71875 -8.515625 L 1.3125 -8.515625 L 0.6875 -3.875 L 1.65625 -3.875 C 2.140625 -4.46875 2.5625 -4.671875 3.21875 -4.671875 C 4.359375 -4.671875 5.078125 -3.890625 5.078125 -2.625 C 5.078125 -1.40625 4.375 -0.65625 3.21875 -0.65625 C 2.296875 -0.65625 1.734375 -1.125 1.46875 -2.09375 L 0.421875 -2.09375 C 0.5625 -1.390625 0.6875 -1.0625 0.9375 -0.75 C 1.421875 -0.09375 2.28125 0.28125 3.234375 0.28125 C 4.953125 0.28125 6.15625 -0.96875 6.15625 -2.765625 C 6.15625 -4.453125 5.046875 -5.609375 3.40625 -5.609375 C 2.8125 -5.609375 2.328125 -5.453125 1.84375 -5.09375 L 2.171875 -7.46875 L 5.71875 -7.46875 Z M 5.71875 -8.515625 \"/>\n",
       "</symbol>\n",
       "<symbol overflow=\"visible\" id=\"glyph0-21\">\n",
       "<path style=\"stroke:none;\" d=\"M 3.921875 -2.046875 L 3.921875 0 L 4.984375 0 L 4.984375 -2.046875 L 6.234375 -2.046875 L 6.234375 -2.984375 L 4.984375 -2.984375 L 4.984375 -8.515625 L 4.203125 -8.515625 L 0.34375 -3.15625 L 0.34375 -2.046875 Z M 3.921875 -2.984375 L 1.265625 -2.984375 L 3.921875 -6.703125 Z M 3.921875 -2.984375 \"/>\n",
       "</symbol>\n",
       "<symbol overflow=\"visible\" id=\"glyph0-22\">\n",
       "<path style=\"stroke:none;\" d=\"M 3.09375 -6.28125 L 2.046875 -6.28125 L 2.046875 -7.265625 C 2.046875 -7.6875 2.296875 -7.90625 2.75 -7.90625 C 2.828125 -7.90625 2.875 -7.90625 3.09375 -7.890625 L 3.09375 -8.71875 C 2.875 -8.765625 2.734375 -8.78125 2.53125 -8.78125 C 1.609375 -8.78125 1.0625 -8.25 1.0625 -7.359375 L 1.0625 -6.28125 L 0.21875 -6.28125 L 0.21875 -5.46875 L 1.0625 -5.46875 L 1.0625 0 L 2.046875 0 L 2.046875 -5.46875 L 3.09375 -5.46875 Z M 3.09375 -6.28125 \"/>\n",
       "</symbol>\n",
       "<symbol overflow=\"visible\" id=\"glyph0-23\">\n",
       "<path style=\"stroke:none;\" d=\"M 3.40625 -3.75 L 0.546875 -3.75 L 0.546875 -2.875 L 3.40625 -2.875 Z M 3.40625 -3.75 \"/>\n",
       "</symbol>\n",
       "<symbol overflow=\"visible\" id=\"glyph0-24\">\n",
       "<path style=\"stroke:none;\" d=\"M 2.296875 -1.25 L 1.046875 -1.25 L 1.046875 0 L 2.296875 0 Z M 2.296875 -1.25 \"/>\n",
       "</symbol>\n",
       "<symbol overflow=\"visible\" id=\"glyph0-25\">\n",
       "<path style=\"stroke:none;\" d=\"M 6.078125 -1.046875 L 1.59375 -1.046875 C 1.703125 -1.734375 2.09375 -2.1875 3.125 -2.796875 L 4.328125 -3.4375 C 5.515625 -4.09375 6.125 -4.96875 6.125 -6.015625 C 6.125 -6.71875 5.84375 -7.375 5.34375 -7.84375 C 4.84375 -8.296875 4.21875 -8.515625 3.40625 -8.515625 C 2.328125 -8.515625 1.53125 -8.125 1.0625 -7.40625 C 0.75 -6.953125 0.625 -6.421875 0.59375 -5.5625 L 1.65625 -5.5625 C 1.6875 -6.125 1.765625 -6.484375 1.90625 -6.75 C 2.1875 -7.265625 2.734375 -7.578125 3.375 -7.578125 C 4.328125 -7.578125 5.046875 -6.90625 5.046875 -5.984375 C 5.046875 -5.3125 4.65625 -4.734375 3.90625 -4.3125 L 2.796875 -3.6875 C 1.015625 -2.671875 0.5 -1.875 0.40625 0 L 6.078125 0 Z M 6.078125 -1.046875 \"/>\n",
       "</symbol>\n",
       "<symbol overflow=\"visible\" id=\"glyph0-26\">\n",
       "<path style=\"stroke:none;\" d=\"M 0.84375 -6.28125 L 0.84375 0 L 1.84375 0 L 1.84375 -3.953125 C 1.84375 -4.859375 2.515625 -5.59375 3.328125 -5.59375 C 4.0625 -5.59375 4.484375 -5.140625 4.484375 -4.328125 L 4.484375 0 L 5.5 0 L 5.5 -3.953125 C 5.5 -4.859375 6.15625 -5.59375 6.96875 -5.59375 C 7.703125 -5.59375 8.140625 -5.125 8.140625 -4.328125 L 8.140625 0 L 9.140625 0 L 9.140625 -4.71875 C 9.140625 -5.84375 8.5 -6.46875 7.3125 -6.46875 C 6.484375 -6.46875 5.96875 -6.21875 5.390625 -5.515625 C 5.015625 -6.1875 4.515625 -6.46875 3.703125 -6.46875 C 2.859375 -6.46875 2.296875 -6.15625 1.765625 -5.40625 L 1.765625 -6.28125 Z M 0.84375 -6.28125 \"/>\n",
       "</symbol>\n",
       "<symbol overflow=\"visible\" id=\"glyph0-27\">\n",
       "<path style=\"stroke:none;\" d=\"M 3.265625 -6.46875 C 1.5 -6.46875 0.4375 -5.203125 0.4375 -3.09375 C 0.4375 -0.984375 1.484375 0.28125 3.28125 0.28125 C 5.046875 0.28125 6.125 -0.984375 6.125 -3.046875 C 6.125 -5.21875 5.078125 -6.46875 3.265625 -6.46875 Z M 3.28125 -5.546875 C 4.40625 -5.546875 5.078125 -4.625 5.078125 -3.0625 C 5.078125 -1.578125 4.375 -0.640625 3.28125 -0.640625 C 2.15625 -0.640625 1.46875 -1.578125 1.46875 -3.09375 C 1.46875 -4.609375 2.15625 -5.546875 3.28125 -5.546875 Z M 3.28125 -5.546875 \"/>\n",
       "</symbol>\n",
       "<symbol overflow=\"visible\" id=\"glyph1-0\">\n",
       "<path style=\"stroke:none;\" d=\"\"/>\n",
       "</symbol>\n",
       "<symbol overflow=\"visible\" id=\"glyph1-1\">\n",
       "<path style=\"stroke:none;\" d=\"M 1.984375 -5.109375 C 1.5 -5.109375 1.078125 -4.890625 0.8125 -4.546875 C 0.46875 -4.09375 0.3125 -3.421875 0.3125 -2.46875 C 0.3125 -0.75 0.890625 0.171875 1.984375 0.171875 C 3.0625 0.171875 3.65625 -0.75 3.65625 -2.421875 C 3.65625 -3.421875 3.5 -4.078125 3.15625 -4.546875 C 2.890625 -4.90625 2.46875 -5.109375 1.984375 -5.109375 Z M 1.984375 -4.546875 C 2.671875 -4.546875 3 -3.859375 3 -2.484375 C 3 -1.03125 2.671875 -0.359375 1.96875 -0.359375 C 1.296875 -0.359375 0.953125 -1.0625 0.953125 -2.46875 C 0.953125 -3.859375 1.296875 -4.546875 1.984375 -4.546875 Z M 1.984375 -4.546875 \"/>\n",
       "</symbol>\n",
       "<symbol overflow=\"visible\" id=\"glyph1-2\">\n",
       "<path style=\"stroke:none;\" d=\"M 1.375 -0.75 L 0.625 -0.75 L 0.625 0 L 1.375 0 Z M 1.375 -0.75 \"/>\n",
       "</symbol>\n",
       "<symbol overflow=\"visible\" id=\"glyph1-3\">\n",
       "<path style=\"stroke:none;\" d=\"M 1.859375 -3.640625 L 1.859375 0 L 2.5 0 L 2.5 -5.109375 L 2.078125 -5.109375 C 1.859375 -4.328125 1.71875 -4.21875 0.734375 -4.09375 L 0.734375 -3.640625 Z M 1.859375 -3.640625 \"/>\n",
       "</symbol>\n",
       "<symbol overflow=\"visible\" id=\"glyph1-4\">\n",
       "<path style=\"stroke:none;\" d=\"M 2.8125 -2.6875 C 3.34375 -3 3.515625 -3.265625 3.515625 -3.75 C 3.515625 -4.546875 2.890625 -5.109375 1.984375 -5.109375 C 1.078125 -5.109375 0.453125 -4.546875 0.453125 -3.75 C 0.453125 -3.265625 0.625 -3.015625 1.140625 -2.6875 C 0.546875 -2.40625 0.265625 -1.984375 0.265625 -1.421875 C 0.265625 -0.484375 0.96875 0.171875 1.984375 0.171875 C 2.984375 0.171875 3.6875 -0.484375 3.6875 -1.40625 C 3.6875 -1.984375 3.40625 -2.40625 2.8125 -2.6875 Z M 1.984375 -4.546875 C 2.515625 -4.546875 2.859375 -4.234375 2.859375 -3.734375 C 2.859375 -3.25 2.515625 -2.9375 1.984375 -2.9375 C 1.453125 -2.9375 1.09375 -3.25 1.09375 -3.734375 C 1.09375 -4.234375 1.453125 -4.546875 1.984375 -4.546875 Z M 1.984375 -2.40625 C 2.609375 -2.40625 3.046875 -2 3.046875 -1.40625 C 3.046875 -0.796875 2.609375 -0.390625 1.96875 -0.390625 C 1.34375 -0.390625 0.921875 -0.8125 0.921875 -1.40625 C 0.921875 -2 1.34375 -2.40625 1.984375 -2.40625 Z M 1.984375 -2.40625 \"/>\n",
       "</symbol>\n",
       "<symbol overflow=\"visible\" id=\"glyph1-5\">\n",
       "<path style=\"stroke:none;\" d=\"M 1.59375 -2.34375 L 1.9375 -2.34375 C 2.640625 -2.34375 3 -2.03125 3 -1.421875 C 3 -0.78125 2.59375 -0.390625 1.9375 -0.390625 C 1.25 -0.390625 0.90625 -0.734375 0.859375 -1.484375 L 0.234375 -1.484375 C 0.265625 -1.078125 0.328125 -0.8125 0.453125 -0.578125 C 0.71875 -0.09375 1.21875 0.171875 1.921875 0.171875 C 2.96875 0.171875 3.640625 -0.46875 3.640625 -1.421875 C 3.640625 -2.078125 3.390625 -2.4375 2.78125 -2.640625 C 3.25 -2.828125 3.5 -3.1875 3.5 -3.703125 C 3.5 -4.578125 2.90625 -5.109375 1.9375 -5.109375 C 0.90625 -5.109375 0.359375 -4.546875 0.34375 -3.453125 L 0.96875 -3.453125 C 0.984375 -3.765625 1.015625 -3.9375 1.09375 -4.09375 C 1.234375 -4.375 1.546875 -4.546875 1.9375 -4.546875 C 2.5 -4.546875 2.84375 -4.21875 2.84375 -3.6875 C 2.84375 -3.328125 2.71875 -3.109375 2.4375 -2.984375 C 2.265625 -2.921875 2.03125 -2.890625 1.59375 -2.875 Z M 1.59375 -2.34375 \"/>\n",
       "</symbol>\n",
       "<symbol overflow=\"visible\" id=\"glyph1-6\">\n",
       "<path style=\"stroke:none;\" d=\"M 3.421875 -5.109375 L 0.796875 -5.109375 L 0.40625 -2.328125 L 1 -2.328125 C 1.296875 -2.671875 1.53125 -2.796875 1.9375 -2.796875 C 2.609375 -2.796875 3.046875 -2.328125 3.046875 -1.578125 C 3.046875 -0.84375 2.625 -0.390625 1.9375 -0.390625 C 1.375 -0.390625 1.03125 -0.671875 0.890625 -1.25 L 0.25 -1.25 C 0.34375 -0.828125 0.40625 -0.640625 0.5625 -0.453125 C 0.84375 -0.0625 1.375 0.171875 1.9375 0.171875 C 2.96875 0.171875 3.6875 -0.578125 3.6875 -1.65625 C 3.6875 -2.671875 3.03125 -3.359375 2.046875 -3.359375 C 1.6875 -3.359375 1.390625 -3.265625 1.109375 -3.046875 L 1.296875 -4.484375 L 3.421875 -4.484375 Z M 3.421875 -5.109375 \"/>\n",
       "</symbol>\n",
       "<symbol overflow=\"visible\" id=\"glyph1-7\">\n",
       "<path style=\"stroke:none;\" d=\"M 3.75 -5.109375 L 0.328125 -5.109375 L 0.328125 -4.484375 L 3.09375 -4.484375 C 1.875 -2.75 1.375 -1.671875 1 0 L 1.671875 0 C 1.953125 -1.640625 2.59375 -3.046875 3.75 -4.578125 Z M 3.75 -5.109375 \"/>\n",
       "</symbol>\n",
       "<symbol overflow=\"visible\" id=\"glyph1-8\">\n",
       "<path style=\"stroke:none;\" d=\"M 0.375 -1.171875 C 0.5 -0.328125 1.046875 0.171875 1.828125 0.171875 C 2.390625 0.171875 2.90625 -0.109375 3.203125 -0.5625 C 3.515625 -1.0625 3.671875 -1.6875 3.671875 -2.609375 C 3.671875 -3.46875 3.53125 -4.015625 3.234375 -4.46875 C 2.953125 -4.890625 2.5 -5.109375 1.9375 -5.109375 C 0.96875 -5.109375 0.28125 -4.390625 0.28125 -3.390625 C 0.28125 -2.4375 0.921875 -1.765625 1.84375 -1.765625 C 2.328125 -1.765625 2.671875 -1.9375 3.015625 -2.328125 C 3 -1.09375 2.59375 -0.390625 1.875 -0.390625 C 1.421875 -0.390625 1.109375 -0.671875 1.015625 -1.171875 Z M 1.9375 -4.546875 C 2.53125 -4.546875 2.96875 -4.0625 2.96875 -3.40625 C 2.96875 -2.765625 2.53125 -2.328125 1.921875 -2.328125 C 1.296875 -2.328125 0.921875 -2.75 0.921875 -3.4375 C 0.921875 -4.078125 1.359375 -4.546875 1.9375 -4.546875 Z M 1.9375 -4.546875 \"/>\n",
       "</symbol>\n",
       "</g>\n",
       "</defs>\n",
       "<g id=\"surface56\">\n",
       "<rect x=\"0\" y=\"0\" width=\"504\" height=\"288\" style=\"fill:rgb(100%,100%,100%);fill-opacity:1;stroke:none;\"/>\n",
       "<g style=\"fill:rgb(0%,0%,0%);fill-opacity:1;\">\n",
       "  <use xlink:href=\"#glyph0-1\" x=\"83.246094\" y=\"43.537109\"/>\n",
       "  <use xlink:href=\"#glyph0-2\" x=\"87.242188\" y=\"43.537109\"/>\n",
       "  <use xlink:href=\"#glyph0-3\" x=\"90.578125\" y=\"43.537109\"/>\n",
       "  <use xlink:href=\"#glyph0-4\" x=\"97.25\" y=\"43.537109\"/>\n",
       "  <use xlink:href=\"#glyph0-5\" x=\"100.585938\" y=\"43.537109\"/>\n",
       "  <use xlink:href=\"#glyph0-6\" x=\"107.257812\" y=\"43.537109\"/>\n",
       "  <use xlink:href=\"#glyph0-7\" x=\"111.253906\" y=\"43.537109\"/>\n",
       "  <use xlink:href=\"#glyph0-5\" x=\"117.253906\" y=\"43.537109\"/>\n",
       "  <use xlink:href=\"#glyph0-8\" x=\"123.925781\" y=\"43.537109\"/>\n",
       "  <use xlink:href=\"#glyph0-4\" x=\"130.597656\" y=\"43.537109\"/>\n",
       "  <use xlink:href=\"#glyph0-9\" x=\"133.933594\" y=\"43.537109\"/>\n",
       "</g>\n",
       "<g style=\"fill:rgb(0%,0%,0%);fill-opacity:1;\">\n",
       "  <use xlink:href=\"#glyph0-10\" x=\"83.246094\" y=\"57.935547\"/>\n",
       "  <use xlink:href=\"#glyph0-11\" x=\"89.917969\" y=\"57.935547\"/>\n",
       "  <use xlink:href=\"#glyph0-12\" x=\"92.582031\" y=\"57.935547\"/>\n",
       "  <use xlink:href=\"#glyph0-4\" x=\"98.582031\" y=\"57.935547\"/>\n",
       "  <use xlink:href=\"#glyph0-7\" x=\"101.917969\" y=\"57.935547\"/>\n",
       "  <use xlink:href=\"#glyph0-13\" x=\"107.917969\" y=\"57.935547\"/>\n",
       "  <use xlink:href=\"#glyph0-4\" x=\"114.589844\" y=\"57.935547\"/>\n",
       "  <use xlink:href=\"#glyph0-1\" x=\"117.925781\" y=\"57.935547\"/>\n",
       "  <use xlink:href=\"#glyph0-14\" x=\"121.921875\" y=\"57.935547\"/>\n",
       "  <use xlink:href=\"#glyph0-15\" x=\"128.59375\" y=\"57.935547\"/>\n",
       "  <use xlink:href=\"#glyph0-14\" x=\"131.929688\" y=\"57.935547\"/>\n",
       "  <use xlink:href=\"#glyph0-5\" x=\"138.601562\" y=\"57.935547\"/>\n",
       "  <use xlink:href=\"#glyph0-16\" x=\"145.273438\" y=\"57.935547\"/>\n",
       "  <use xlink:href=\"#glyph0-17\" x=\"152.28125\" y=\"57.935547\"/>\n",
       "  <use xlink:href=\"#glyph0-18\" x=\"158.953125\" y=\"57.935547\"/>\n",
       "  <use xlink:href=\"#glyph0-19\" x=\"165.625\" y=\"57.935547\"/>\n",
       "</g>\n",
       "<g style=\"fill:rgb(0%,0%,0%);fill-opacity:1;\">\n",
       "  <use xlink:href=\"#glyph0-10\" x=\"83.246094\" y=\"72.333984\"/>\n",
       "  <use xlink:href=\"#glyph0-11\" x=\"89.917969\" y=\"72.333984\"/>\n",
       "  <use xlink:href=\"#glyph0-12\" x=\"92.582031\" y=\"72.333984\"/>\n",
       "  <use xlink:href=\"#glyph0-4\" x=\"98.582031\" y=\"72.333984\"/>\n",
       "  <use xlink:href=\"#glyph0-7\" x=\"101.917969\" y=\"72.333984\"/>\n",
       "  <use xlink:href=\"#glyph0-13\" x=\"107.917969\" y=\"72.333984\"/>\n",
       "  <use xlink:href=\"#glyph0-4\" x=\"114.589844\" y=\"72.333984\"/>\n",
       "  <use xlink:href=\"#glyph0-1\" x=\"117.925781\" y=\"72.333984\"/>\n",
       "  <use xlink:href=\"#glyph0-14\" x=\"121.921875\" y=\"72.333984\"/>\n",
       "  <use xlink:href=\"#glyph0-5\" x=\"128.59375\" y=\"72.333984\"/>\n",
       "  <use xlink:href=\"#glyph0-16\" x=\"135.265625\" y=\"72.333984\"/>\n",
       "  <use xlink:href=\"#glyph0-17\" x=\"142.273438\" y=\"72.333984\"/>\n",
       "  <use xlink:href=\"#glyph0-18\" x=\"148.945312\" y=\"72.333984\"/>\n",
       "  <use xlink:href=\"#glyph0-15\" x=\"155.617188\" y=\"72.333984\"/>\n",
       "  <use xlink:href=\"#glyph0-20\" x=\"158.953125\" y=\"72.333984\"/>\n",
       "  <use xlink:href=\"#glyph0-5\" x=\"165.625\" y=\"72.333984\"/>\n",
       "  <use xlink:href=\"#glyph0-16\" x=\"172.296875\" y=\"72.333984\"/>\n",
       "  <use xlink:href=\"#glyph0-17\" x=\"179.304688\" y=\"72.333984\"/>\n",
       "  <use xlink:href=\"#glyph0-18\" x=\"185.976562\" y=\"72.333984\"/>\n",
       "  <use xlink:href=\"#glyph0-19\" x=\"192.648438\" y=\"72.333984\"/>\n",
       "</g>\n",
       "<g style=\"fill:rgb(0%,0%,0%);fill-opacity:1;\">\n",
       "  <use xlink:href=\"#glyph0-10\" x=\"83.246094\" y=\"86.736328\"/>\n",
       "  <use xlink:href=\"#glyph0-11\" x=\"89.917969\" y=\"86.736328\"/>\n",
       "  <use xlink:href=\"#glyph0-12\" x=\"92.582031\" y=\"86.736328\"/>\n",
       "  <use xlink:href=\"#glyph0-4\" x=\"98.582031\" y=\"86.736328\"/>\n",
       "  <use xlink:href=\"#glyph0-7\" x=\"101.917969\" y=\"86.736328\"/>\n",
       "  <use xlink:href=\"#glyph0-13\" x=\"107.917969\" y=\"86.736328\"/>\n",
       "  <use xlink:href=\"#glyph0-4\" x=\"114.589844\" y=\"86.736328\"/>\n",
       "  <use xlink:href=\"#glyph0-1\" x=\"117.925781\" y=\"86.736328\"/>\n",
       "  <use xlink:href=\"#glyph0-20\" x=\"121.921875\" y=\"86.736328\"/>\n",
       "  <use xlink:href=\"#glyph0-5\" x=\"128.59375\" y=\"86.736328\"/>\n",
       "  <use xlink:href=\"#glyph0-16\" x=\"135.265625\" y=\"86.736328\"/>\n",
       "  <use xlink:href=\"#glyph0-17\" x=\"142.273438\" y=\"86.736328\"/>\n",
       "  <use xlink:href=\"#glyph0-18\" x=\"148.945312\" y=\"86.736328\"/>\n",
       "  <use xlink:href=\"#glyph0-15\" x=\"155.617188\" y=\"86.736328\"/>\n",
       "  <use xlink:href=\"#glyph0-14\" x=\"158.953125\" y=\"86.736328\"/>\n",
       "  <use xlink:href=\"#glyph0-5\" x=\"165.625\" y=\"86.736328\"/>\n",
       "  <use xlink:href=\"#glyph0-16\" x=\"172.296875\" y=\"86.736328\"/>\n",
       "  <use xlink:href=\"#glyph0-17\" x=\"179.304688\" y=\"86.736328\"/>\n",
       "  <use xlink:href=\"#glyph0-21\" x=\"185.976562\" y=\"86.736328\"/>\n",
       "  <use xlink:href=\"#glyph0-19\" x=\"192.648438\" y=\"86.736328\"/>\n",
       "</g>\n",
       "<g style=\"fill:rgb(0%,0%,0%);fill-opacity:1;\">\n",
       "  <use xlink:href=\"#glyph0-10\" x=\"83.246094\" y=\"101.134766\"/>\n",
       "  <use xlink:href=\"#glyph0-11\" x=\"89.917969\" y=\"101.134766\"/>\n",
       "  <use xlink:href=\"#glyph0-12\" x=\"92.582031\" y=\"101.134766\"/>\n",
       "  <use xlink:href=\"#glyph0-4\" x=\"98.582031\" y=\"101.134766\"/>\n",
       "  <use xlink:href=\"#glyph0-7\" x=\"101.917969\" y=\"101.134766\"/>\n",
       "  <use xlink:href=\"#glyph0-13\" x=\"107.917969\" y=\"101.134766\"/>\n",
       "  <use xlink:href=\"#glyph0-4\" x=\"114.589844\" y=\"101.134766\"/>\n",
       "  <use xlink:href=\"#glyph0-1\" x=\"117.925781\" y=\"101.134766\"/>\n",
       "  <use xlink:href=\"#glyph0-14\" x=\"121.921875\" y=\"101.134766\"/>\n",
       "  <use xlink:href=\"#glyph0-5\" x=\"128.59375\" y=\"101.134766\"/>\n",
       "  <use xlink:href=\"#glyph0-16\" x=\"135.265625\" y=\"101.134766\"/>\n",
       "  <use xlink:href=\"#glyph0-17\" x=\"142.273438\" y=\"101.134766\"/>\n",
       "  <use xlink:href=\"#glyph0-21\" x=\"148.945312\" y=\"101.134766\"/>\n",
       "  <use xlink:href=\"#glyph0-15\" x=\"155.617188\" y=\"101.134766\"/>\n",
       "  <use xlink:href=\"#glyph0-20\" x=\"158.953125\" y=\"101.134766\"/>\n",
       "  <use xlink:href=\"#glyph0-5\" x=\"165.625\" y=\"101.134766\"/>\n",
       "  <use xlink:href=\"#glyph0-16\" x=\"172.296875\" y=\"101.134766\"/>\n",
       "  <use xlink:href=\"#glyph0-17\" x=\"179.304688\" y=\"101.134766\"/>\n",
       "  <use xlink:href=\"#glyph0-21\" x=\"185.976562\" y=\"101.134766\"/>\n",
       "  <use xlink:href=\"#glyph0-19\" x=\"192.648438\" y=\"101.134766\"/>\n",
       "</g>\n",
       "<g style=\"fill:rgb(0%,0%,0%);fill-opacity:1;\">\n",
       "  <use xlink:href=\"#glyph0-10\" x=\"83.246094\" y=\"115.537109\"/>\n",
       "  <use xlink:href=\"#glyph0-11\" x=\"89.917969\" y=\"115.537109\"/>\n",
       "  <use xlink:href=\"#glyph0-12\" x=\"92.582031\" y=\"115.537109\"/>\n",
       "  <use xlink:href=\"#glyph0-4\" x=\"98.582031\" y=\"115.537109\"/>\n",
       "  <use xlink:href=\"#glyph0-7\" x=\"101.917969\" y=\"115.537109\"/>\n",
       "  <use xlink:href=\"#glyph0-13\" x=\"107.917969\" y=\"115.537109\"/>\n",
       "  <use xlink:href=\"#glyph0-4\" x=\"114.589844\" y=\"115.537109\"/>\n",
       "  <use xlink:href=\"#glyph0-1\" x=\"117.925781\" y=\"115.537109\"/>\n",
       "  <use xlink:href=\"#glyph0-20\" x=\"121.921875\" y=\"115.537109\"/>\n",
       "  <use xlink:href=\"#glyph0-5\" x=\"128.59375\" y=\"115.537109\"/>\n",
       "  <use xlink:href=\"#glyph0-16\" x=\"135.265625\" y=\"115.537109\"/>\n",
       "  <use xlink:href=\"#glyph0-17\" x=\"142.273438\" y=\"115.537109\"/>\n",
       "  <use xlink:href=\"#glyph0-21\" x=\"148.945312\" y=\"115.537109\"/>\n",
       "  <use xlink:href=\"#glyph0-15\" x=\"155.617188\" y=\"115.537109\"/>\n",
       "  <use xlink:href=\"#glyph0-14\" x=\"158.953125\" y=\"115.537109\"/>\n",
       "  <use xlink:href=\"#glyph0-5\" x=\"165.625\" y=\"115.537109\"/>\n",
       "  <use xlink:href=\"#glyph0-16\" x=\"172.296875\" y=\"115.537109\"/>\n",
       "  <use xlink:href=\"#glyph0-17\" x=\"179.304688\" y=\"115.537109\"/>\n",
       "  <use xlink:href=\"#glyph0-20\" x=\"185.976562\" y=\"115.537109\"/>\n",
       "  <use xlink:href=\"#glyph0-19\" x=\"192.648438\" y=\"115.537109\"/>\n",
       "</g>\n",
       "<g style=\"fill:rgb(0%,0%,0%);fill-opacity:1;\">\n",
       "  <use xlink:href=\"#glyph0-22\" x=\"83.246094\" y=\"129.935547\"/>\n",
       "  <use xlink:href=\"#glyph0-10\" x=\"86.582031\" y=\"129.935547\"/>\n",
       "  <use xlink:href=\"#glyph0-6\" x=\"93.253906\" y=\"129.935547\"/>\n",
       "  <use xlink:href=\"#glyph0-7\" x=\"97.25\" y=\"129.935547\"/>\n",
       "  <use xlink:href=\"#glyph0-13\" x=\"103.25\" y=\"129.935547\"/>\n",
       "  <use xlink:href=\"#glyph0-4\" x=\"109.921875\" y=\"129.935547\"/>\n",
       "  <use xlink:href=\"#glyph0-1\" x=\"113.257812\" y=\"129.935547\"/>\n",
       "  <use xlink:href=\"#glyph0-23\" x=\"117.253906\" y=\"129.935547\"/>\n",
       "  <use xlink:href=\"#glyph0-17\" x=\"121.25\" y=\"129.935547\"/>\n",
       "  <use xlink:href=\"#glyph0-24\" x=\"127.921875\" y=\"129.935547\"/>\n",
       "  <use xlink:href=\"#glyph0-17\" x=\"131.257812\" y=\"129.935547\"/>\n",
       "  <use xlink:href=\"#glyph0-14\" x=\"137.929688\" y=\"129.935547\"/>\n",
       "  <use xlink:href=\"#glyph0-15\" x=\"144.601562\" y=\"129.935547\"/>\n",
       "  <use xlink:href=\"#glyph0-17\" x=\"147.9375\" y=\"129.935547\"/>\n",
       "  <use xlink:href=\"#glyph0-24\" x=\"154.609375\" y=\"129.935547\"/>\n",
       "  <use xlink:href=\"#glyph0-17\" x=\"157.945312\" y=\"129.935547\"/>\n",
       "  <use xlink:href=\"#glyph0-17\" x=\"164.617188\" y=\"129.935547\"/>\n",
       "  <use xlink:href=\"#glyph0-20\" x=\"171.289062\" y=\"129.935547\"/>\n",
       "  <use xlink:href=\"#glyph0-19\" x=\"177.960938\" y=\"129.935547\"/>\n",
       "</g>\n",
       "<g style=\"fill:rgb(0%,0%,0%);fill-opacity:1;\">\n",
       "  <use xlink:href=\"#glyph0-22\" x=\"83.246094\" y=\"144.333984\"/>\n",
       "  <use xlink:href=\"#glyph0-10\" x=\"86.582031\" y=\"144.333984\"/>\n",
       "  <use xlink:href=\"#glyph0-6\" x=\"93.253906\" y=\"144.333984\"/>\n",
       "  <use xlink:href=\"#glyph0-7\" x=\"97.25\" y=\"144.333984\"/>\n",
       "  <use xlink:href=\"#glyph0-13\" x=\"103.25\" y=\"144.333984\"/>\n",
       "  <use xlink:href=\"#glyph0-4\" x=\"109.921875\" y=\"144.333984\"/>\n",
       "  <use xlink:href=\"#glyph0-1\" x=\"113.257812\" y=\"144.333984\"/>\n",
       "  <use xlink:href=\"#glyph0-17\" x=\"117.253906\" y=\"144.333984\"/>\n",
       "  <use xlink:href=\"#glyph0-24\" x=\"123.925781\" y=\"144.333984\"/>\n",
       "  <use xlink:href=\"#glyph0-17\" x=\"127.261719\" y=\"144.333984\"/>\n",
       "  <use xlink:href=\"#glyph0-17\" x=\"133.933594\" y=\"144.333984\"/>\n",
       "  <use xlink:href=\"#glyph0-20\" x=\"140.605469\" y=\"144.333984\"/>\n",
       "  <use xlink:href=\"#glyph0-15\" x=\"147.277344\" y=\"144.333984\"/>\n",
       "  <use xlink:href=\"#glyph0-17\" x=\"150.613281\" y=\"144.333984\"/>\n",
       "  <use xlink:href=\"#glyph0-24\" x=\"157.285156\" y=\"144.333984\"/>\n",
       "  <use xlink:href=\"#glyph0-17\" x=\"160.621094\" y=\"144.333984\"/>\n",
       "  <use xlink:href=\"#glyph0-20\" x=\"167.292969\" y=\"144.333984\"/>\n",
       "  <use xlink:href=\"#glyph0-19\" x=\"173.964844\" y=\"144.333984\"/>\n",
       "</g>\n",
       "<g style=\"fill:rgb(0%,0%,0%);fill-opacity:1;\">\n",
       "  <use xlink:href=\"#glyph0-22\" x=\"83.246094\" y=\"158.736328\"/>\n",
       "  <use xlink:href=\"#glyph0-10\" x=\"86.582031\" y=\"158.736328\"/>\n",
       "  <use xlink:href=\"#glyph0-6\" x=\"93.253906\" y=\"158.736328\"/>\n",
       "  <use xlink:href=\"#glyph0-7\" x=\"97.25\" y=\"158.736328\"/>\n",
       "  <use xlink:href=\"#glyph0-13\" x=\"103.25\" y=\"158.736328\"/>\n",
       "  <use xlink:href=\"#glyph0-4\" x=\"109.921875\" y=\"158.736328\"/>\n",
       "  <use xlink:href=\"#glyph0-1\" x=\"113.257812\" y=\"158.736328\"/>\n",
       "  <use xlink:href=\"#glyph0-17\" x=\"117.253906\" y=\"158.736328\"/>\n",
       "  <use xlink:href=\"#glyph0-24\" x=\"123.925781\" y=\"158.736328\"/>\n",
       "  <use xlink:href=\"#glyph0-17\" x=\"127.261719\" y=\"158.736328\"/>\n",
       "  <use xlink:href=\"#glyph0-20\" x=\"133.933594\" y=\"158.736328\"/>\n",
       "  <use xlink:href=\"#glyph0-15\" x=\"140.605469\" y=\"158.736328\"/>\n",
       "  <use xlink:href=\"#glyph0-17\" x=\"143.941406\" y=\"158.736328\"/>\n",
       "  <use xlink:href=\"#glyph0-24\" x=\"150.613281\" y=\"158.736328\"/>\n",
       "  <use xlink:href=\"#glyph0-14\" x=\"153.949219\" y=\"158.736328\"/>\n",
       "  <use xlink:href=\"#glyph0-19\" x=\"160.621094\" y=\"158.736328\"/>\n",
       "</g>\n",
       "<g style=\"fill:rgb(0%,0%,0%);fill-opacity:1;\">\n",
       "  <use xlink:href=\"#glyph0-22\" x=\"83.246094\" y=\"173.134766\"/>\n",
       "  <use xlink:href=\"#glyph0-10\" x=\"86.582031\" y=\"173.134766\"/>\n",
       "  <use xlink:href=\"#glyph0-6\" x=\"93.253906\" y=\"173.134766\"/>\n",
       "  <use xlink:href=\"#glyph0-7\" x=\"97.25\" y=\"173.134766\"/>\n",
       "  <use xlink:href=\"#glyph0-13\" x=\"103.25\" y=\"173.134766\"/>\n",
       "  <use xlink:href=\"#glyph0-4\" x=\"109.921875\" y=\"173.134766\"/>\n",
       "  <use xlink:href=\"#glyph0-1\" x=\"113.257812\" y=\"173.134766\"/>\n",
       "  <use xlink:href=\"#glyph0-17\" x=\"117.253906\" y=\"173.134766\"/>\n",
       "  <use xlink:href=\"#glyph0-24\" x=\"123.925781\" y=\"173.134766\"/>\n",
       "  <use xlink:href=\"#glyph0-14\" x=\"127.261719\" y=\"173.134766\"/>\n",
       "  <use xlink:href=\"#glyph0-15\" x=\"133.933594\" y=\"173.134766\"/>\n",
       "  <use xlink:href=\"#glyph0-17\" x=\"137.269531\" y=\"173.134766\"/>\n",
       "  <use xlink:href=\"#glyph0-24\" x=\"143.941406\" y=\"173.134766\"/>\n",
       "  <use xlink:href=\"#glyph0-25\" x=\"147.277344\" y=\"173.134766\"/>\n",
       "  <use xlink:href=\"#glyph0-19\" x=\"153.949219\" y=\"173.134766\"/>\n",
       "</g>\n",
       "<g style=\"fill:rgb(0%,0%,0%);fill-opacity:1;\">\n",
       "  <use xlink:href=\"#glyph0-26\" x=\"83.246094\" y=\"187.537109\"/>\n",
       "  <use xlink:href=\"#glyph0-13\" x=\"93.242188\" y=\"187.537109\"/>\n",
       "  <use xlink:href=\"#glyph0-22\" x=\"99.914062\" y=\"187.537109\"/>\n",
       "  <use xlink:href=\"#glyph0-7\" x=\"103.25\" y=\"187.537109\"/>\n",
       "  <use xlink:href=\"#glyph0-13\" x=\"109.25\" y=\"187.537109\"/>\n",
       "  <use xlink:href=\"#glyph0-4\" x=\"115.921875\" y=\"187.537109\"/>\n",
       "  <use xlink:href=\"#glyph0-1\" x=\"119.257812\" y=\"187.537109\"/>\n",
       "  <use xlink:href=\"#glyph0-17\" x=\"123.253906\" y=\"187.537109\"/>\n",
       "  <use xlink:href=\"#glyph0-24\" x=\"129.925781\" y=\"187.537109\"/>\n",
       "  <use xlink:href=\"#glyph0-17\" x=\"133.261719\" y=\"187.537109\"/>\n",
       "  <use xlink:href=\"#glyph0-20\" x=\"139.933594\" y=\"187.537109\"/>\n",
       "  <use xlink:href=\"#glyph0-15\" x=\"146.605469\" y=\"187.537109\"/>\n",
       "  <use xlink:href=\"#glyph0-17\" x=\"149.941406\" y=\"187.537109\"/>\n",
       "  <use xlink:href=\"#glyph0-24\" x=\"156.613281\" y=\"187.537109\"/>\n",
       "  <use xlink:href=\"#glyph0-14\" x=\"159.949219\" y=\"187.537109\"/>\n",
       "  <use xlink:href=\"#glyph0-19\" x=\"166.621094\" y=\"187.537109\"/>\n",
       "</g>\n",
       "<g style=\"fill:rgb(0%,0%,0%);fill-opacity:1;\">\n",
       "  <use xlink:href=\"#glyph0-26\" x=\"83.246094\" y=\"201.935547\"/>\n",
       "  <use xlink:href=\"#glyph0-13\" x=\"93.242188\" y=\"201.935547\"/>\n",
       "  <use xlink:href=\"#glyph0-22\" x=\"99.914062\" y=\"201.935547\"/>\n",
       "  <use xlink:href=\"#glyph0-7\" x=\"103.25\" y=\"201.935547\"/>\n",
       "  <use xlink:href=\"#glyph0-13\" x=\"109.25\" y=\"201.935547\"/>\n",
       "  <use xlink:href=\"#glyph0-4\" x=\"115.921875\" y=\"201.935547\"/>\n",
       "  <use xlink:href=\"#glyph0-1\" x=\"119.257812\" y=\"201.935547\"/>\n",
       "  <use xlink:href=\"#glyph0-17\" x=\"123.253906\" y=\"201.935547\"/>\n",
       "  <use xlink:href=\"#glyph0-24\" x=\"129.925781\" y=\"201.935547\"/>\n",
       "  <use xlink:href=\"#glyph0-14\" x=\"133.261719\" y=\"201.935547\"/>\n",
       "  <use xlink:href=\"#glyph0-15\" x=\"139.933594\" y=\"201.935547\"/>\n",
       "  <use xlink:href=\"#glyph0-17\" x=\"143.269531\" y=\"201.935547\"/>\n",
       "  <use xlink:href=\"#glyph0-24\" x=\"149.941406\" y=\"201.935547\"/>\n",
       "  <use xlink:href=\"#glyph0-25\" x=\"153.277344\" y=\"201.935547\"/>\n",
       "  <use xlink:href=\"#glyph0-19\" x=\"159.949219\" y=\"201.935547\"/>\n",
       "</g>\n",
       "<g style=\"fill:rgb(0%,0%,0%);fill-opacity:1;\">\n",
       "  <use xlink:href=\"#glyph0-26\" x=\"83.246094\" y=\"216.333984\"/>\n",
       "  <use xlink:href=\"#glyph0-13\" x=\"93.242188\" y=\"216.333984\"/>\n",
       "  <use xlink:href=\"#glyph0-22\" x=\"99.914062\" y=\"216.333984\"/>\n",
       "  <use xlink:href=\"#glyph0-7\" x=\"103.25\" y=\"216.333984\"/>\n",
       "  <use xlink:href=\"#glyph0-13\" x=\"109.25\" y=\"216.333984\"/>\n",
       "  <use xlink:href=\"#glyph0-4\" x=\"115.921875\" y=\"216.333984\"/>\n",
       "  <use xlink:href=\"#glyph0-1\" x=\"119.257812\" y=\"216.333984\"/>\n",
       "  <use xlink:href=\"#glyph0-17\" x=\"123.253906\" y=\"216.333984\"/>\n",
       "  <use xlink:href=\"#glyph0-24\" x=\"129.925781\" y=\"216.333984\"/>\n",
       "  <use xlink:href=\"#glyph0-25\" x=\"133.261719\" y=\"216.333984\"/>\n",
       "  <use xlink:href=\"#glyph0-15\" x=\"139.933594\" y=\"216.333984\"/>\n",
       "  <use xlink:href=\"#glyph0-17\" x=\"143.269531\" y=\"216.333984\"/>\n",
       "  <use xlink:href=\"#glyph0-24\" x=\"149.941406\" y=\"216.333984\"/>\n",
       "  <use xlink:href=\"#glyph0-18\" x=\"153.277344\" y=\"216.333984\"/>\n",
       "  <use xlink:href=\"#glyph0-19\" x=\"159.949219\" y=\"216.333984\"/>\n",
       "</g>\n",
       "<g style=\"fill:rgb(0%,0%,0%);fill-opacity:1;\">\n",
       "  <use xlink:href=\"#glyph0-26\" x=\"83.246094\" y=\"230.736328\"/>\n",
       "  <use xlink:href=\"#glyph0-13\" x=\"93.242188\" y=\"230.736328\"/>\n",
       "  <use xlink:href=\"#glyph0-22\" x=\"99.914062\" y=\"230.736328\"/>\n",
       "  <use xlink:href=\"#glyph0-7\" x=\"103.25\" y=\"230.736328\"/>\n",
       "  <use xlink:href=\"#glyph0-13\" x=\"109.25\" y=\"230.736328\"/>\n",
       "  <use xlink:href=\"#glyph0-4\" x=\"115.921875\" y=\"230.736328\"/>\n",
       "  <use xlink:href=\"#glyph0-1\" x=\"119.257812\" y=\"230.736328\"/>\n",
       "  <use xlink:href=\"#glyph0-17\" x=\"123.253906\" y=\"230.736328\"/>\n",
       "  <use xlink:href=\"#glyph0-24\" x=\"129.925781\" y=\"230.736328\"/>\n",
       "  <use xlink:href=\"#glyph0-18\" x=\"133.261719\" y=\"230.736328\"/>\n",
       "  <use xlink:href=\"#glyph0-15\" x=\"139.933594\" y=\"230.736328\"/>\n",
       "  <use xlink:href=\"#glyph0-17\" x=\"143.269531\" y=\"230.736328\"/>\n",
       "  <use xlink:href=\"#glyph0-24\" x=\"149.941406\" y=\"230.736328\"/>\n",
       "  <use xlink:href=\"#glyph0-20\" x=\"153.277344\" y=\"230.736328\"/>\n",
       "  <use xlink:href=\"#glyph0-14\" x=\"159.949219\" y=\"230.736328\"/>\n",
       "  <use xlink:href=\"#glyph0-19\" x=\"166.621094\" y=\"230.736328\"/>\n",
       "</g>\n",
       "<g style=\"fill:rgb(0%,0%,0%);fill-opacity:1;\">\n",
       "  <use xlink:href=\"#glyph0-13\" x=\"83.246094\" y=\"245.134766\"/>\n",
       "  <use xlink:href=\"#glyph0-8\" x=\"89.917969\" y=\"245.134766\"/>\n",
       "  <use xlink:href=\"#glyph0-8\" x=\"96.589844\" y=\"245.134766\"/>\n",
       "  <use xlink:href=\"#glyph0-6\" x=\"103.261719\" y=\"245.134766\"/>\n",
       "  <use xlink:href=\"#glyph0-27\" x=\"107.257812\" y=\"245.134766\"/>\n",
       "  <use xlink:href=\"#glyph0-26\" x=\"113.929688\" y=\"245.134766\"/>\n",
       "</g>\n",
       "<path style=\"fill:none;stroke-width:0.75;stroke-linecap:round;stroke-linejoin:round;stroke:rgb(82.745098%,82.745098%,82.745098%);stroke-opacity:1;stroke-miterlimit:10;\" d=\"M 357.6875 255.601562 L 357.6875 32.398438 \"/>\n",
       "<path style=\"fill:none;stroke-width:0.75;stroke-linecap:round;stroke-linejoin:round;stroke:rgb(0%,0%,0%);stroke-opacity:1;stroke-miterlimit:10;\" d=\"M 249.703125 255.601562 L 411.679688 255.601562 \"/>\n",
       "<path style=\"fill:none;stroke-width:0.75;stroke-linecap:round;stroke-linejoin:round;stroke:rgb(0%,0%,0%);stroke-opacity:1;stroke-miterlimit:10;\" d=\"M 249.703125 255.601562 L 249.703125 259.921875 \"/>\n",
       "<path style=\"fill:none;stroke-width:0.75;stroke-linecap:round;stroke-linejoin:round;stroke:rgb(0%,0%,0%);stroke-opacity:1;stroke-miterlimit:10;\" d=\"M 303.695312 255.601562 L 303.695312 259.921875 \"/>\n",
       "<path style=\"fill:none;stroke-width:0.75;stroke-linecap:round;stroke-linejoin:round;stroke:rgb(0%,0%,0%);stroke-opacity:1;stroke-miterlimit:10;\" d=\"M 357.6875 255.601562 L 357.6875 259.921875 \"/>\n",
       "<path style=\"fill:none;stroke-width:0.75;stroke-linecap:round;stroke-linejoin:round;stroke:rgb(0%,0%,0%);stroke-opacity:1;stroke-miterlimit:10;\" d=\"M 411.679688 255.601562 L 411.679688 259.921875 \"/>\n",
       "<g style=\"fill:rgb(0%,0%,0%);fill-opacity:1;\">\n",
       "  <use xlink:href=\"#glyph1-1\" x=\"240.203125\" y=\"271.419922\"/>\n",
       "  <use xlink:href=\"#glyph1-2\" x=\"244.208008\" y=\"271.419922\"/>\n",
       "  <use xlink:href=\"#glyph1-1\" x=\"246.210938\" y=\"271.419922\"/>\n",
       "  <use xlink:href=\"#glyph1-3\" x=\"250.21582\" y=\"271.419922\"/>\n",
       "  <use xlink:href=\"#glyph1-4\" x=\"254.220703\" y=\"271.419922\"/>\n",
       "</g>\n",
       "<g style=\"fill:rgb(0%,0%,0%);fill-opacity:1;\">\n",
       "  <use xlink:href=\"#glyph1-1\" x=\"294.195312\" y=\"271.419922\"/>\n",
       "  <use xlink:href=\"#glyph1-2\" x=\"298.200195\" y=\"271.419922\"/>\n",
       "  <use xlink:href=\"#glyph1-3\" x=\"300.203125\" y=\"271.419922\"/>\n",
       "  <use xlink:href=\"#glyph1-5\" x=\"304.208008\" y=\"271.419922\"/>\n",
       "  <use xlink:href=\"#glyph1-6\" x=\"308.212891\" y=\"271.419922\"/>\n",
       "</g>\n",
       "<g style=\"fill:rgb(0%,0%,0%);fill-opacity:1;\">\n",
       "  <use xlink:href=\"#glyph1-3\" x=\"348.1875\" y=\"271.419922\"/>\n",
       "  <use xlink:href=\"#glyph1-2\" x=\"352.192383\" y=\"271.419922\"/>\n",
       "  <use xlink:href=\"#glyph1-1\" x=\"354.195312\" y=\"271.419922\"/>\n",
       "  <use xlink:href=\"#glyph1-1\" x=\"358.200195\" y=\"271.419922\"/>\n",
       "  <use xlink:href=\"#glyph1-1\" x=\"362.205078\" y=\"271.419922\"/>\n",
       "</g>\n",
       "<g style=\"fill:rgb(0%,0%,0%);fill-opacity:1;\">\n",
       "  <use xlink:href=\"#glyph1-7\" x=\"402.179688\" y=\"271.419922\"/>\n",
       "  <use xlink:href=\"#glyph1-2\" x=\"406.18457\" y=\"271.419922\"/>\n",
       "  <use xlink:href=\"#glyph1-5\" x=\"408.1875\" y=\"271.419922\"/>\n",
       "  <use xlink:href=\"#glyph1-4\" x=\"412.192383\" y=\"271.419922\"/>\n",
       "  <use xlink:href=\"#glyph1-8\" x=\"416.197266\" y=\"271.419922\"/>\n",
       "</g>\n",
       "<path style=\"fill:none;stroke-width:0.75;stroke-linecap:round;stroke-linejoin:round;stroke:rgb(74.509804%,74.509804%,74.509804%);stroke-opacity:1;stroke-miterlimit:10;\" d=\"M 204.753906 39.601562 L 205.292969 39.601562 \"/>\n",
       "<path style=\"fill-rule:nonzero;fill:rgb(0%,0%,0%);fill-opacity:1;stroke-width:0.75;stroke-linecap:round;stroke-linejoin:round;stroke:rgb(0%,0%,0%);stroke-opacity:1;stroke-miterlimit:10;\" d=\"M 203.132812 41.488281 L 206.914062 41.488281 L 206.914062 37.707031 L 203.132812 37.707031 Z M 203.132812 41.488281 \"/>\n",
       "<path style=\"fill:none;stroke-width:0.75;stroke-linecap:round;stroke-linejoin:round;stroke:rgb(74.509804%,74.509804%,74.509804%);stroke-opacity:1;stroke-miterlimit:10;\" d=\"M 204.753906 39.601562 L 205.292969 39.601562 \"/>\n",
       "<path style=\"fill:none;stroke-width:0.75;stroke-linecap:round;stroke-linejoin:round;stroke:rgb(74.509804%,74.509804%,74.509804%);stroke-opacity:1;stroke-miterlimit:10;\" d=\"M 358.488281 54 L 359.03125 54 \"/>\n",
       "<path style=\"fill-rule:nonzero;fill:rgb(0%,0%,0%);fill-opacity:1;stroke-width:0.75;stroke-linecap:round;stroke-linejoin:round;stroke:rgb(0%,0%,0%);stroke-opacity:1;stroke-miterlimit:10;\" d=\"M 356.871094 55.890625 L 360.652344 55.890625 L 360.652344 52.109375 L 356.871094 52.109375 Z M 356.871094 55.890625 \"/>\n",
       "<path style=\"fill:none;stroke-width:0.75;stroke-linecap:round;stroke-linejoin:round;stroke:rgb(74.509804%,74.509804%,74.509804%);stroke-opacity:1;stroke-miterlimit:10;\" d=\"M 358.488281 54 L 359.03125 54 \"/>\n",
       "<path style=\"fill:none;stroke-width:0.75;stroke-linecap:round;stroke-linejoin:round;stroke:rgb(74.509804%,74.509804%,74.509804%);stroke-opacity:1;stroke-miterlimit:10;\" d=\"M 354.363281 68.398438 L 354.90625 68.398438 \"/>\n",
       "<path style=\"fill-rule:nonzero;fill:rgb(0%,0%,0%);fill-opacity:1;stroke-width:0.75;stroke-linecap:round;stroke-linejoin:round;stroke:rgb(0%,0%,0%);stroke-opacity:1;stroke-miterlimit:10;\" d=\"M 352.746094 70.289062 L 356.527344 70.289062 L 356.527344 66.507812 L 352.746094 66.507812 Z M 352.746094 70.289062 \"/>\n",
       "<path style=\"fill:none;stroke-width:0.75;stroke-linecap:round;stroke-linejoin:round;stroke:rgb(74.509804%,74.509804%,74.509804%);stroke-opacity:1;stroke-miterlimit:10;\" d=\"M 354.363281 68.398438 L 354.90625 68.398438 \"/>\n",
       "<path style=\"fill:none;stroke-width:0.75;stroke-linecap:round;stroke-linejoin:round;stroke:rgb(74.509804%,74.509804%,74.509804%);stroke-opacity:1;stroke-miterlimit:10;\" d=\"M 356.65625 82.800781 L 357.199219 82.800781 \"/>\n",
       "<path style=\"fill-rule:nonzero;fill:rgb(0%,0%,0%);fill-opacity:1;stroke-width:0.75;stroke-linecap:round;stroke-linejoin:round;stroke:rgb(0%,0%,0%);stroke-opacity:1;stroke-miterlimit:10;\" d=\"M 355.039062 84.691406 L 358.820312 84.691406 L 358.820312 80.910156 L 355.039062 80.910156 Z M 355.039062 84.691406 \"/>\n",
       "<path style=\"fill:none;stroke-width:0.75;stroke-linecap:round;stroke-linejoin:round;stroke:rgb(74.509804%,74.509804%,74.509804%);stroke-opacity:1;stroke-miterlimit:10;\" d=\"M 356.65625 82.800781 L 357.199219 82.800781 \"/>\n",
       "<path style=\"fill:none;stroke-width:0.75;stroke-linecap:round;stroke-linejoin:round;stroke:rgb(74.509804%,74.509804%,74.509804%);stroke-opacity:1;stroke-miterlimit:10;\" d=\"M 354.34375 97.199219 L 354.882812 97.199219 \"/>\n",
       "<path style=\"fill-rule:nonzero;fill:rgb(0%,0%,0%);fill-opacity:1;stroke-width:0.75;stroke-linecap:round;stroke-linejoin:round;stroke:rgb(0%,0%,0%);stroke-opacity:1;stroke-miterlimit:10;\" d=\"M 352.722656 99.089844 L 356.503906 99.089844 L 356.503906 95.308594 L 352.722656 95.308594 Z M 352.722656 99.089844 \"/>\n",
       "<path style=\"fill:none;stroke-width:0.75;stroke-linecap:round;stroke-linejoin:round;stroke:rgb(74.509804%,74.509804%,74.509804%);stroke-opacity:1;stroke-miterlimit:10;\" d=\"M 354.34375 97.199219 L 354.882812 97.199219 \"/>\n",
       "<path style=\"fill:none;stroke-width:0.75;stroke-linecap:round;stroke-linejoin:round;stroke:rgb(74.509804%,74.509804%,74.509804%);stroke-opacity:1;stroke-miterlimit:10;\" d=\"M 356.035156 111.601562 L 356.574219 111.601562 \"/>\n",
       "<path style=\"fill-rule:nonzero;fill:rgb(0%,0%,0%);fill-opacity:1;stroke-width:0.75;stroke-linecap:round;stroke-linejoin:round;stroke:rgb(0%,0%,0%);stroke-opacity:1;stroke-miterlimit:10;\" d=\"M 354.414062 113.488281 L 358.195312 113.488281 L 358.195312 109.707031 L 354.414062 109.707031 Z M 354.414062 113.488281 \"/>\n",
       "<path style=\"fill:none;stroke-width:0.75;stroke-linecap:round;stroke-linejoin:round;stroke:rgb(74.509804%,74.509804%,74.509804%);stroke-opacity:1;stroke-miterlimit:10;\" d=\"M 356.035156 111.601562 L 356.574219 111.601562 \"/>\n",
       "<path style=\"fill:none;stroke-width:0.75;stroke-linecap:round;stroke-linejoin:round;stroke:rgb(74.509804%,74.509804%,74.509804%);stroke-opacity:1;stroke-miterlimit:10;\" d=\"M 399.164062 126 L 399.703125 126 \"/>\n",
       "<path style=\"fill-rule:nonzero;fill:rgb(0%,0%,0%);fill-opacity:1;stroke-width:0.75;stroke-linecap:round;stroke-linejoin:round;stroke:rgb(0%,0%,0%);stroke-opacity:1;stroke-miterlimit:10;\" d=\"M 397.542969 127.890625 L 401.324219 127.890625 L 401.324219 124.109375 L 397.542969 124.109375 Z M 397.542969 127.890625 \"/>\n",
       "<path style=\"fill:none;stroke-width:0.75;stroke-linecap:round;stroke-linejoin:round;stroke:rgb(74.509804%,74.509804%,74.509804%);stroke-opacity:1;stroke-miterlimit:10;\" d=\"M 399.164062 126 L 399.703125 126 \"/>\n",
       "<path style=\"fill:none;stroke-width:0.75;stroke-linecap:round;stroke-linejoin:round;stroke:rgb(74.509804%,74.509804%,74.509804%);stroke-opacity:1;stroke-miterlimit:10;\" d=\"M 360.613281 140.398438 L 361.15625 140.398438 \"/>\n",
       "<path style=\"fill-rule:nonzero;fill:rgb(0%,0%,0%);fill-opacity:1;stroke-width:0.75;stroke-linecap:round;stroke-linejoin:round;stroke:rgb(0%,0%,0%);stroke-opacity:1;stroke-miterlimit:10;\" d=\"M 358.996094 142.289062 L 362.777344 142.289062 L 362.777344 138.507812 L 358.996094 138.507812 Z M 358.996094 142.289062 \"/>\n",
       "<path style=\"fill:none;stroke-width:0.75;stroke-linecap:round;stroke-linejoin:round;stroke:rgb(74.509804%,74.509804%,74.509804%);stroke-opacity:1;stroke-miterlimit:10;\" d=\"M 360.613281 140.398438 L 361.15625 140.398438 \"/>\n",
       "<path style=\"fill:none;stroke-width:0.75;stroke-linecap:round;stroke-linejoin:round;stroke:rgb(74.509804%,74.509804%,74.509804%);stroke-opacity:1;stroke-miterlimit:10;\" d=\"M 350.464844 154.800781 L 351.007812 154.800781 \"/>\n",
       "<path style=\"fill-rule:nonzero;fill:rgb(0%,0%,0%);fill-opacity:1;stroke-width:0.75;stroke-linecap:round;stroke-linejoin:round;stroke:rgb(0%,0%,0%);stroke-opacity:1;stroke-miterlimit:10;\" d=\"M 348.847656 156.691406 L 352.628906 156.691406 L 352.628906 152.910156 L 348.847656 152.910156 Z M 348.847656 156.691406 \"/>\n",
       "<path style=\"fill:none;stroke-width:0.75;stroke-linecap:round;stroke-linejoin:round;stroke:rgb(74.509804%,74.509804%,74.509804%);stroke-opacity:1;stroke-miterlimit:10;\" d=\"M 350.464844 154.800781 L 351.007812 154.800781 \"/>\n",
       "<path style=\"fill:none;stroke-width:0.75;stroke-linecap:round;stroke-linejoin:round;stroke:rgb(74.509804%,74.509804%,74.509804%);stroke-opacity:1;stroke-miterlimit:10;\" d=\"M 359.625 169.199219 L 360.167969 169.199219 \"/>\n",
       "<path style=\"fill-rule:nonzero;fill:rgb(0%,0%,0%);fill-opacity:1;stroke-width:0.75;stroke-linecap:round;stroke-linejoin:round;stroke:rgb(0%,0%,0%);stroke-opacity:1;stroke-miterlimit:10;\" d=\"M 358.007812 171.089844 L 361.789062 171.089844 L 361.789062 167.308594 L 358.007812 167.308594 Z M 358.007812 171.089844 \"/>\n",
       "<path style=\"fill:none;stroke-width:0.75;stroke-linecap:round;stroke-linejoin:round;stroke:rgb(74.509804%,74.509804%,74.509804%);stroke-opacity:1;stroke-miterlimit:10;\" d=\"M 359.625 169.199219 L 360.167969 169.199219 \"/>\n",
       "<path style=\"fill:none;stroke-width:0.75;stroke-linecap:round;stroke-linejoin:round;stroke:rgb(74.509804%,74.509804%,74.509804%);stroke-opacity:1;stroke-miterlimit:10;\" d=\"M 377.847656 183.601562 L 378.386719 183.601562 \"/>\n",
       "<path style=\"fill-rule:nonzero;fill:rgb(0%,0%,0%);fill-opacity:1;stroke-width:0.75;stroke-linecap:round;stroke-linejoin:round;stroke:rgb(0%,0%,0%);stroke-opacity:1;stroke-miterlimit:10;\" d=\"M 376.226562 185.488281 L 380.007812 185.488281 L 380.007812 181.707031 L 376.226562 181.707031 Z M 376.226562 185.488281 \"/>\n",
       "<path style=\"fill:none;stroke-width:0.75;stroke-linecap:round;stroke-linejoin:round;stroke:rgb(74.509804%,74.509804%,74.509804%);stroke-opacity:1;stroke-miterlimit:10;\" d=\"M 377.847656 183.601562 L 378.386719 183.601562 \"/>\n",
       "<path style=\"fill:none;stroke-width:0.75;stroke-linecap:round;stroke-linejoin:round;stroke:rgb(74.509804%,74.509804%,74.509804%);stroke-opacity:1;stroke-miterlimit:10;\" d=\"M 403.132812 198 L 403.671875 198 \"/>\n",
       "<path style=\"fill-rule:nonzero;fill:rgb(0%,0%,0%);fill-opacity:1;stroke-width:0.75;stroke-linecap:round;stroke-linejoin:round;stroke:rgb(0%,0%,0%);stroke-opacity:1;stroke-miterlimit:10;\" d=\"M 401.511719 199.890625 L 405.292969 199.890625 L 405.292969 196.109375 L 401.511719 196.109375 Z M 401.511719 199.890625 \"/>\n",
       "<path style=\"fill:none;stroke-width:0.75;stroke-linecap:round;stroke-linejoin:round;stroke:rgb(74.509804%,74.509804%,74.509804%);stroke-opacity:1;stroke-miterlimit:10;\" d=\"M 403.132812 198 L 403.671875 198 \"/>\n",
       "<path style=\"fill:none;stroke-width:0.75;stroke-linecap:round;stroke-linejoin:round;stroke:rgb(74.509804%,74.509804%,74.509804%);stroke-opacity:1;stroke-miterlimit:10;\" d=\"M 415.039062 212.398438 L 415.578125 212.398438 \"/>\n",
       "<path style=\"fill-rule:nonzero;fill:rgb(0%,0%,0%);fill-opacity:1;stroke-width:0.75;stroke-linecap:round;stroke-linejoin:round;stroke:rgb(0%,0%,0%);stroke-opacity:1;stroke-miterlimit:10;\" d=\"M 413.417969 214.289062 L 417.199219 214.289062 L 417.199219 210.507812 L 413.417969 210.507812 Z M 413.417969 214.289062 \"/>\n",
       "<path style=\"fill:none;stroke-width:0.75;stroke-linecap:round;stroke-linejoin:round;stroke:rgb(74.509804%,74.509804%,74.509804%);stroke-opacity:1;stroke-miterlimit:10;\" d=\"M 415.039062 212.398438 L 415.578125 212.398438 \"/>\n",
       "<path style=\"fill:none;stroke-width:0.75;stroke-linecap:round;stroke-linejoin:round;stroke:rgb(74.509804%,74.509804%,74.509804%);stroke-opacity:1;stroke-miterlimit:10;\" d=\"M 420.210938 226.800781 L 420.753906 226.800781 \"/>\n",
       "<path style=\"fill-rule:nonzero;fill:rgb(0%,0%,0%);fill-opacity:1;stroke-width:0.75;stroke-linecap:round;stroke-linejoin:round;stroke:rgb(0%,0%,0%);stroke-opacity:1;stroke-miterlimit:10;\" d=\"M 418.59375 228.691406 L 422.375 228.691406 L 422.375 224.910156 L 418.59375 224.910156 Z M 418.59375 228.691406 \"/>\n",
       "<path style=\"fill:none;stroke-width:0.75;stroke-linecap:round;stroke-linejoin:round;stroke:rgb(74.509804%,74.509804%,74.509804%);stroke-opacity:1;stroke-miterlimit:10;\" d=\"M 420.210938 226.800781 L 420.753906 226.800781 \"/>\n",
       "<path style=\"fill:none;stroke-width:0.75;stroke-linecap:round;stroke-linejoin:round;stroke:rgb(74.509804%,74.509804%,74.509804%);stroke-opacity:1;stroke-miterlimit:10;\" d=\"M 367.050781 241.199219 L 367.59375 241.199219 \"/>\n",
       "<path style=\"fill-rule:nonzero;fill:rgb(0%,0%,0%);fill-opacity:1;stroke-width:0.75;stroke-linecap:round;stroke-linejoin:round;stroke:rgb(0%,0%,0%);stroke-opacity:1;stroke-miterlimit:10;\" d=\"M 365.433594 243.089844 L 369.214844 243.089844 L 369.214844 239.308594 L 365.433594 239.308594 Z M 365.433594 243.089844 \"/>\n",
       "<path style=\"fill:none;stroke-width:0.75;stroke-linecap:round;stroke-linejoin:round;stroke:rgb(74.509804%,74.509804%,74.509804%);stroke-opacity:1;stroke-miterlimit:10;\" d=\"M 367.050781 241.199219 L 367.59375 241.199219 \"/>\n",
       "</g>\n",
       "</svg>\n"
      ],
      "text/plain": [
       "plot without title"
      ]
     },
     "metadata": {
      "image/svg+xml": {
       "isolated": true
      }
     },
     "output_type": "display_data"
    }
   ],
   "source": [
    "tmat = matrix(rownames(summary(b1)$mat),nc=1)\n",
    "est = summary(b1)$mat[,1]\n",
    "library(rmeta)\n",
    "forestplot(tmat, est, est-.01, est+.01, xlog=TRUE,\n",
    "  boxsize=.35, graphwidth=unit(3, \"inches\"),\n",
    "  xticks=exp(seq(-4,2,2)))"
   ]
  },
  {
   "cell_type": "markdown",
   "metadata": {},
   "source": [
    "Standard errors in the presence of correlations among responses require further methodological development.\n",
    "\n",
    "<h2 id=\"bib-sec\">\n",
    "References\n",
    "</h2>\n",
    "\\[1\\] V. G. Cheung, R. S. Spielman, K. G. Ewens, et al. \"Mapping determinants of human gene expression by regional and genome-wide association\". Eng. In: *Nature* 437.7063 (Oct. 2005), pp. 1365-9. DOI: 10.1038/nature04244.\n",
    "\n",
    "\\[2\\] D. J. Gaffney, J. Veyrieras, J. F. Degner, et al. \"Dissecting the regulatory architecture of gene expression QTLs\". Eng. In: *Genome Biol* 13.1 (Jan. 2012), p. R7. DOI: 10.1186/gb-2012-13-1-r7. &lt;URL: <http://genomebiology.com/content/13/1/R7>&gt;.\n",
    "\n",
    "\\[3\\] J. T. Leek and J. D. Storey. \"Capturing heterogeneity in gene expression studies by surrogate variable analysis\". Eng. In: *PLoS Genet* 3.9 (Sep. 2007), pp. 1724-35. DOI: 10.1371/journal.pgen.0030161. &lt;URL: <http://www.plosgenetics.org/article/info%253Adoi%252F10.1371%252Fjournal.pgen.0030161>}.&gt;\n",
    "\n",
    "\\[4\\] J. Majewski and T. Pastinen. \"The study of eQTL variations by RNA-seq: from SNPs to phenotypes\". Eng. In: *Trends Genet* 27.2 (Feb. 2011), pp. 72-9. DOI: 10.1016/j.tig.2010.10.006.\n",
    "\n",
    "\\[5\\] A. A. Shabalin. \"Matrix eQTL: ultra fast eQTL analysis via large matrix operations\". Eng. In: *Bioinformatics (Oxford, England)* 28.10 (May. 2012), pp. 1353-8. DOI: 10.1093/bioinformatics/bts163. &lt;URL: <http://bioinformatics.oxfordjournals.org/content/28/10/1353.long>&gt;.\n",
    "\n",
    "\\[6\\] B. E. Stranger, S. B. Montgomery, A. S. Dimas, et al. \"Patterns of cis regulatory variation in diverse human populations\". Eng. In: *PLoS Genet* 8.4 (Jan. 2012), p. e1002639. DOI: 10.1371/journal.pgen.1002639."
   ]
  },
  {
   "cell_type": "code",
   "execution_count": 15,
   "metadata": {},
   "outputs": [
    {
     "data": {
      "text/plain": [
       "R version 3.2.2 (2015-08-14)\n",
       "Platform: x86_64-pc-linux-gnu (64-bit)\n",
       "Running under: Ubuntu 14.04.3 LTS\n",
       "\n",
       "locale:\n",
       " [1] LC_CTYPE=en_US.UTF-8       LC_NUMERIC=C              \n",
       " [3] LC_TIME=en_US.UTF-8        LC_COLLATE=en_US.UTF-8    \n",
       " [5] LC_MONETARY=de_DE.UTF-8    LC_MESSAGES=en_US.UTF-8   \n",
       " [7] LC_PAPER=de_DE.UTF-8       LC_NAME=C                 \n",
       " [9] LC_ADDRESS=C               LC_TELEPHONE=C            \n",
       "[11] LC_MEASUREMENT=de_DE.UTF-8 LC_IDENTIFICATION=C       \n",
       "\n",
       "attached base packages:\n",
       " [1] grid      stats4    parallel  stats     graphics  grDevices utils    \n",
       " [8] datasets  methods   base     \n",
       "\n",
       "other attached packages:\n",
       " [1] rmeta_2.16             biglm_0.9-1            doParallel_1.0.10     \n",
       " [4] iterators_1.0.8        foreach_1.4.3          lumi_2.22.0           \n",
       " [7] lumiHumanAll.db_1.22.0 org.Hs.eg.db_3.2.3     RSQLite_1.0.0         \n",
       "[10] DBI_0.3.1              AnnotationDbi_1.32.2   IRanges_2.4.6         \n",
       "[13] S4Vectors_0.8.5        Biobase_2.30.0         BiocGenerics_0.16.1   \n",
       "[16] yri1kgv_0.12.0         GGtools_5.6.0          data.table_1.9.6      \n",
       "[19] GGBase_3.32.0          snpStats_1.20.0        Matrix_1.2-3          \n",
       "[22] survival_2.38-3       \n",
       "\n",
       "loaded via a namespace (and not attached):\n",
       "  [1] colorspace_1.2-6           siggenes_1.44.0           \n",
       "  [3] mclust_5.1                 biovizBase_1.18.0         \n",
       "  [5] IRdisplay_0.3              corpcor_1.6.8             \n",
       "  [7] futile.logger_1.4.1        XVector_0.10.0            \n",
       "  [9] GenomicRanges_1.22.2       base64enc_0.1-3           \n",
       " [11] dichromat_2.0-0            base64_1.1                \n",
       " [13] hexbin_1.27.1              affyio_1.40.0             \n",
       " [15] codetools_0.2-14           splines_3.2.2             \n",
       " [17] methylumi_2.16.0           mixOmics_5.2.0            \n",
       " [19] IRkernel_0.5               Formula_1.2-1             \n",
       " [21] jsonlite_0.9.19            Rsamtools_1.22.0          \n",
       " [23] annotate_1.48.0            cluster_2.0.3             \n",
       " [25] limma_3.26.3               acepack_1.3-3.3           \n",
       " [27] tools_3.2.2                igraph_1.0.1              \n",
       " [29] affy_1.48.0                gtable_0.1.2              \n",
       " [31] reshape2_1.4.1             doRNG_1.6                 \n",
       " [33] Rcpp_0.12.2                bumphunter_1.10.0         \n",
       " [35] Biostrings_2.38.2          multtest_2.26.0           \n",
       " [37] gdata_2.17.0               preprocessCore_1.32.0     \n",
       " [39] nlme_3.1-122               rtracklayer_1.30.1        \n",
       " [41] stringr_1.0.0              proto_0.3-10              \n",
       " [43] rngtools_1.2.4             gtools_3.5.0              \n",
       " [45] XML_3.98-1.3               beanplot_1.2              \n",
       " [47] nleqslv_2.9.1              zlibbioc_1.16.0           \n",
       " [49] MASS_7.3-45                scales_0.3.0              \n",
       " [51] BSgenome_1.38.0            BiocInstaller_1.20.1      \n",
       " [53] VariantAnnotation_1.16.4   SummarizedExperiment_1.0.1\n",
       " [55] minfi_1.16.0               GEOquery_2.36.0           \n",
       " [57] lambda.r_1.1.7             RColorBrewer_1.1-2        \n",
       " [59] gridExtra_2.0.0            ggplot2_1.0.1             \n",
       " [61] pkgmaker_0.22              biomaRt_2.26.1            \n",
       " [63] rpart_4.1-10               rzmq_0.7.7                \n",
       " [65] reshape_0.8.5              latticeExtra_0.6-26       \n",
       " [67] stringi_1.0-1              genefilter_1.52.0         \n",
       " [69] GenomicFeatures_1.22.6     caTools_1.17.1            \n",
       " [71] BiocParallel_1.4.0         chron_2.3-47              \n",
       " [73] repr_0.4                   GenomeInfoDb_1.6.1        \n",
       " [75] matrixStats_0.50.0         bitops_1.0-6              \n",
       " [77] rgl_0.95.1429              nor1mix_1.2-1             \n",
       " [79] evaluate_0.8               lattice_0.20-33           \n",
       " [81] ROCR_1.0-7                 GenomicAlignments_1.6.1   \n",
       " [83] bit_1.1-12                 plyr_1.8.3                \n",
       " [85] magrittr_1.5               gplots_2.17.0             \n",
       " [87] Hmisc_3.17-0               mgcv_1.8-10               \n",
       " [89] foreign_0.8-66             RCurl_1.95-4.7            \n",
       " [91] nnet_7.3-11                futile.options_1.0.0      \n",
       " [93] uuid_0.1-2                 KernSmooth_2.23-15        \n",
       " [95] ellipse_0.3-8              locfit_1.5-9.1            \n",
       " [97] digest_0.6.8               xtable_1.8-0              \n",
       " [99] ff_2.2-13                  illuminaio_0.12.0         \n",
       "[101] munsell_0.4.2              registry_0.3              \n",
       "[103] Gviz_1.14.0                quadprog_1.5-5            "
      ]
     },
     "execution_count": 15,
     "metadata": {},
     "output_type": "execute_result"
    }
   ],
   "source": [
    "sessionInfo()"
   ]
  }
 ],
 "metadata": {
  "kernelspec": {
   "display_name": "R",
   "language": "R",
   "name": "ir"
  }
 },
 "nbformat": 4,
 "nbformat_minor": 0
}
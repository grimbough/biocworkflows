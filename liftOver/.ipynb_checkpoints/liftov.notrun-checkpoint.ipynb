{
 "cells": [
  {
   "cell_type": "code",
   "execution_count": null,
   "metadata": {
    "collapsed": true
   },
   "outputs": [],
   "source": [
    "## This code chunk was hidden in the original document, but was exectute in the background\n",
    "knitr::opts_chunk$set(results=\"hide\", message=FALSE, warning=FALSE, fig.show=\"hide\", echo=TRUE)"
   ]
  },
  {
   "cell_type": "markdown",
   "metadata": {},
   "source": [
    "<h1>\n",
    "Changing genomic coordinate systems with rtracklayer::liftOver\n",
    "</h1>\n",
    "The liftOver facilities developed in conjunction with the UCSC browser track infrastructure are available for transforming data in GRanges formats. This is illustrated here with an image of the NHGRI GWAS catalog that is, as of Oct. 31 2014, distributed with coordinates defined by NCBI build hg38.\n",
    "\n",
    "<h2>\n",
    "Setup: The NHGRI GWAS catalog as an hg38-based GRanges\n",
    "</h2>"
   ]
  },
  {
   "cell_type": "code",
   "execution_count": 1,
   "metadata": {
    "collapsed": false
   },
   "outputs": [
    {
     "name": "stderr",
     "output_type": "stream",
     "text": [
      "Loading required package: Homo.sapiens\n",
      "Loading required package: AnnotationDbi\n",
      "Loading required package: stats4\n",
      "Loading required package: BiocGenerics\n",
      "Loading required package: parallel\n",
      "\n",
      "Attaching package: ‘BiocGenerics’\n",
      "\n",
      "The following objects are masked from ‘package:parallel’:\n",
      "\n",
      "    clusterApply, clusterApplyLB, clusterCall, clusterEvalQ,\n",
      "    clusterExport, clusterMap, parApply, parCapply, parLapply,\n",
      "    parLapplyLB, parRapply, parSapply, parSapplyLB\n",
      "\n",
      "The following objects are masked from ‘package:stats’:\n",
      "\n",
      "    IQR, mad, xtabs\n",
      "\n",
      "The following objects are masked from ‘package:base’:\n",
      "\n",
      "    anyDuplicated, append, as.data.frame, as.vector, cbind, colnames,\n",
      "    do.call, duplicated, eval, evalq, Filter, Find, get, grep, grepl,\n",
      "    intersect, is.unsorted, lapply, lengths, Map, mapply, match, mget,\n",
      "    order, paste, pmax, pmax.int, pmin, pmin.int, Position, rank,\n",
      "    rbind, Reduce, rownames, sapply, setdiff, sort, table, tapply,\n",
      "    union, unique, unlist, unsplit\n",
      "\n",
      "Loading required package: Biobase\n",
      "Welcome to Bioconductor\n",
      "\n",
      "    Vignettes contain introductory material; view with\n",
      "    'browseVignettes()'. To cite Bioconductor, see\n",
      "    'citation(\"Biobase\")', and for packages 'citation(\"pkgname\")'.\n",
      "\n",
      "Loading required package: IRanges\n",
      "Loading required package: S4Vectors\n",
      "Loading required package: OrganismDbi\n",
      "Loading required package: GenomicFeatures\n",
      "Loading required package: GenomeInfoDb\n",
      "Loading required package: GenomicRanges\n",
      "Loading required package: GO.db\n",
      "Loading required package: DBI\n",
      "\n",
      "Loading required package: org.Hs.eg.db\n",
      "\n",
      "Loading required package: TxDb.Hsapiens.UCSC.hg19.knownGene\n",
      "Now getting the GODb Object directly\n",
      "Now getting the OrgDb Object directly\n",
      "Now getting the TxDb Object directly\n",
      "gwascat loaded.  Use data(ebicat38) for hg38 coordinates;\n",
      " data(ebicat37) for hg19 coordinates.\n"
     ]
    }
   ],
   "source": [
    "## This code chunk was hidden in the original document, but was exectute in the background\n",
    "library(gwascat)\n",
    "if (!exists(\"cur\")) load(\"cur.rda\")"
   ]
  },
  {
   "cell_type": "markdown",
   "metadata": {},
   "source": [
    "``` r\n",
    "library(gwascat)\n",
    "cur = makeCurrentGwascat()  # result varies by day\n",
    "```"
   ]
  },
  {
   "cell_type": "code",
   "execution_count": 2,
   "metadata": {
    "collapsed": false
   },
   "outputs": [
    {
     "data": {
      "text/plain": [
       "gwasloc instance with 17865 records and 35 attributes per record.\n",
       "Extracted:  2014-10-31 \n",
       "Genome:  GRCh38 \n",
       "Excerpt:\n",
       "GRanges object with 5 ranges and 35 metadata columns:\n",
       "      seqnames               ranges strand | Date.Added.to.Catalog  PUBMEDID\n",
       "         <Rle>            <IRanges>  <Rle> |           <character> <integer>\n",
       "  [1]       17 [79831041, 79831041]      * |            10/22/2014  24528284\n",
       "  [2]        5 [31766326, 31766326]      * |            10/22/2014  24528284\n",
       "  [3]       11 [13107616, 13107616]      * |            10/22/2014  24528284\n",
       "  [4]       10 [94922089, 94922089]      * |            10/22/2014  24528284\n",
       "  [5]       10 [94922089, 94922089]      * |            10/22/2014  24528284\n",
       "      First.Author        Date             Journal\n",
       "       <character> <character>         <character>\n",
       "  [1]         Ji Y  08/01/2014 Br J Clin Pharmacol\n",
       "  [2]         Ji Y  08/01/2014 Br J Clin Pharmacol\n",
       "  [3]         Ji Y  08/01/2014 Br J Clin Pharmacol\n",
       "  [4]         Ji Y  08/01/2014 Br J Clin Pharmacol\n",
       "  [5]         Ji Y  08/01/2014 Br J Clin Pharmacol\n",
       "                                             Link\n",
       "                                      <character>\n",
       "  [1] http://www.ncbi.nlm.nih.gov/pubmed/24528284\n",
       "  [2] http://www.ncbi.nlm.nih.gov/pubmed/24528284\n",
       "  [3] http://www.ncbi.nlm.nih.gov/pubmed/24528284\n",
       "  [4] http://www.ncbi.nlm.nih.gov/pubmed/24528284\n",
       "  [5] http://www.ncbi.nlm.nih.gov/pubmed/24528284\n",
       "                                                                                                 Study\n",
       "                                                                                           <character>\n",
       "  [1] Citalopram and escitalopram plasma drug and metabolite concentrations: genome-wide associations.\n",
       "  [2] Citalopram and escitalopram plasma drug and metabolite concentrations: genome-wide associations.\n",
       "  [3] Citalopram and escitalopram plasma drug and metabolite concentrations: genome-wide associations.\n",
       "  [4] Citalopram and escitalopram plasma drug and metabolite concentrations: genome-wide associations.\n",
       "  [5] Citalopram and escitalopram plasma drug and metabolite concentrations: genome-wide associations.\n",
       "                                                                                                   Disease.Trait\n",
       "                                                                                                     <character>\n",
       "  [1] Response to serotonin reuptake inhibitors in major depressive disorder (plasma drug and metabolite levels)\n",
       "  [2] Response to serotonin reuptake inhibitors in major depressive disorder (plasma drug and metabolite levels)\n",
       "  [3] Response to serotonin reuptake inhibitors in major depressive disorder (plasma drug and metabolite levels)\n",
       "  [4] Response to serotonin reuptake inhibitors in major depressive disorder (plasma drug and metabolite levels)\n",
       "  [5] Response to serotonin reuptake inhibitors in major depressive disorder (plasma drug and metabolite levels)\n",
       "                                                                                       Initial.Sample.Description\n",
       "                                                                                                      <character>\n",
       "  [1] 300 European ancestry Escitalpram treated individuals, 130 European ancestry Citalopram treated individuals\n",
       "  [2] 300 European ancestry Escitalpram treated individuals, 130 European ancestry Citalopram treated individuals\n",
       "  [3] 300 European ancestry Escitalpram treated individuals, 130 European ancestry Citalopram treated individuals\n",
       "  [4] 300 European ancestry Escitalpram treated individuals, 130 European ancestry Citalopram treated individuals\n",
       "  [5] 300 European ancestry Escitalpram treated individuals, 130 European ancestry Citalopram treated individuals\n",
       "      Replication.Sample.Description      Region      Chr_id   Chr_pos\n",
       "                         <character> <character> <character> <numeric>\n",
       "  [1]                           <NA>     17q25.3          17  79831041\n",
       "  [2]                           <NA>      5p13.3           5  31766326\n",
       "  [3]                           <NA>     11p15.2          11  13107616\n",
       "  [4]                           <NA>    10q23.33          10  94922089\n",
       "  [5]                           <NA>    10q23.33          10  94922089\n",
       "      Reported.Gene.s.        Mapped_gene Upstream_gene_id Downstream_gene_id\n",
       "           <character>        <character>      <character>        <character>\n",
       "  [1]             CBX4        CBX8 - CBX4            57332               8535\n",
       "  [2]            PDZD2              PDZD2             <NA>               <NA>\n",
       "  [3]     CTC-497E21.5    RASSF10 - ARNTL           644943                406\n",
       "  [4]   CYP2C19,CYP2C9 CYP2C115P - CYP2C9        100874513               1559\n",
       "  [5]   CYP2C19,CYP2C9 CYP2C115P - CYP2C9        100874513               1559\n",
       "      Snp_gene_ids Upstream_gene_distance Downstream_gene_distance\n",
       "       <character>            <character>              <character>\n",
       "  [1]                               33.93                     2.12\n",
       "  [2]        23037                   <NA>                     <NA>\n",
       "  [3]                               95.51                   170.12\n",
       "  [4]                               15.96                     16.5\n",
       "  [5]                               15.96                     16.5\n",
       "      Strongest.SNP.Risk.Allele        SNPs      Merged Snp_id_current\n",
       "                    <character> <character> <character>    <character>\n",
       "  [1]               rs9747992-?   rs9747992           0        9747992\n",
       "  [2]               rs2059865-?   rs2059865           0        2059865\n",
       "  [3]             rs117020818-? rs117020818           0      117020818\n",
       "  [4]               rs1074145-?   rs1074145           0        1074145\n",
       "  [5]               rs1074145-?   rs1074145           0        1074145\n",
       "          Context  Intergenic Risk.Allele.Frequency   p.Value Pvalue_mlog\n",
       "      <character> <character>           <character> <numeric>   <numeric>\n",
       "  [1]  Intergenic           1                 0.086     2e-07    6.698970\n",
       "  [2]      intron           0                 0.235     3e-07    6.522879\n",
       "  [3]  Intergenic           1                 0.046     7e-07    6.154902\n",
       "  [4]  Intergenic           1                 0.162     4e-09    8.397940\n",
       "  [5]  Intergenic           1                 0.162     2e-16   15.698970\n",
       "             p.Value..text. OR.or.beta X95..CI..text.\n",
       "                <character>  <numeric>    <character>\n",
       "  [1] (S-DCT concentration)       <NA>             NR\n",
       "  [2] (S-DCT concentration)       <NA>             NR\n",
       "  [3] (S-DCT concentration)       <NA>             NR\n",
       "  [4]  (S-CT concentration)       <NA>             NR\n",
       "  [5]    (S-DCT/S-CT ratio)       <NA>             NR\n",
       "          Platform..SNPs.passing.QC.         CNV num.Risk.Allele.Frequency\n",
       "                         <character> <character>                 <numeric>\n",
       "  [1] Illumina [7,537,437] (Imputed)           N                     0.086\n",
       "  [2] Illumina [7,537,437] (Imputed)           N                     0.235\n",
       "  [3] Illumina [7,537,437] (Imputed)           N                     0.046\n",
       "  [4] Illumina [7,537,437] (Imputed)           N                     0.162\n",
       "  [5] Illumina [7,537,437] (Imputed)           N                     0.162\n",
       "  -------\n",
       "  seqinfo: 23 sequences from GRCh38 genome"
      ]
     },
     "execution_count": 2,
     "metadata": {},
     "output_type": "execute_result"
    }
   ],
   "source": [
    "cur"
   ]
  },
  {
   "cell_type": "markdown",
   "metadata": {},
   "source": [
    "<h2>\n",
    "Resource: The chain file for hg38 to hg19 transformation\n",
    "</h2>\n",
    "The transformation to hg19 coordinates is defined by a chain file provided by UCSC. rtracklayer::import.chain will bring the data into R."
   ]
  },
  {
   "cell_type": "code",
   "execution_count": null,
   "metadata": {
    "collapsed": true
   },
   "outputs": [],
   "source": [
    "library(rtracklayer)\n",
    "ch = import.chain(\"hg38ToHg19.over.chain\")\n",
    "ch\n",
    "str(ch[[1]])"
   ]
  },
  {
   "cell_type": "markdown",
   "metadata": {},
   "source": [
    "Some more details about the chain data structure are available in the import.chain man page\n",
    "\n",
    "<pre>\n",
    "   A chain file essentially details many local alignments, so it is\n",
    "   possible for the \"from\" ranges to map to overlapping regions in\n",
    "   the other sequence. The \"from\" ranges are guaranteed to be\n",
    "   disjoint (but do not necessarily cover the entire \"from\"\n",
    "   sequence).\n",
    "</pre>\n",
    "<h2>\n",
    "Action: liftOver\n",
    "</h2>\n",
    "The liftOver function will create a GRangesList."
   ]
  },
  {
   "cell_type": "code",
   "execution_count": null,
   "metadata": {
    "collapsed": true
   },
   "outputs": [],
   "source": [
    "seqlevelsStyle(cur) = \"UCSC\"  # necessary\n",
    "cur19 = liftOver(cur, ch)\n",
    "class(cur19)"
   ]
  },
  {
   "cell_type": "markdown",
   "metadata": {},
   "source": [
    "We unlist and coerce to the gwaswloc class, a convenient form for the GWAS catalog with its many mcols fields."
   ]
  },
  {
   "cell_type": "code",
   "execution_count": null,
   "metadata": {
    "collapsed": true
   },
   "outputs": [],
   "source": [
    "cur19 = unlist(cur19)\n",
    "genome(cur19) = \"hg19\"\n",
    "cur19 = new(\"gwaswloc\", cur19)\n",
    "cur19"
   ]
  },
  {
   "cell_type": "markdown",
   "metadata": {},
   "source": [
    "We see that the translation leads to a loss of some loci."
   ]
  },
  {
   "cell_type": "code",
   "execution_count": null,
   "metadata": {
    "collapsed": true
   },
   "outputs": [],
   "source": [
    "length(cur)-length(cur19)\n",
    "setdiff(cur$SNPs, cur19$SNPs)"
   ]
  },
  {
   "cell_type": "markdown",
   "metadata": {},
   "source": [
    "It may be interesting to &lt;a href=<http://www.ncbi.nlm.nih.gov/projects/SNP/snp_ref.cgi?rs=687289>&gt; follow up</a> some of the losses."
   ]
  }
 ],
 "metadata": {
  "kernelspec": {
   "display_name": "R",
   "language": "R",
   "name": "ir"
  },
  "language_info": {
   "codemirror_mode": "r",
   "file_extension": ".r",
   "mimetype": "text/x-r-source",
   "name": "R",
   "pygments_lexer": "r",
   "version": "3.2.2"
  }
 },
 "nbformat": 4,
 "nbformat_minor": 0
}

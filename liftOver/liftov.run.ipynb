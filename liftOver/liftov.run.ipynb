{
 "cells": [
  {
   "cell_type": "markdown",
   "metadata": {},
   "source": [
    "<h1>\n",
    "Changing genomic coordinate systems with rtracklayer::liftOver\n",
    "</h1>\n",
    "The liftOver facilities developed in conjunction with the UCSC browser track infrastructure are available for transforming data in GRanges formats. This is illustrated here with an image of the NHGRI GWAS catalog that is, as of Oct. 31 2014, distributed with coordinates defined by NCBI build hg38.\n",
    "\n",
    "<h2>\n",
    "Setup: The NHGRI GWAS catalog as an hg38-based GRanges\n",
    "</h2>"
   ]
  },
  {
   "cell_type": "markdown",
   "metadata": {},
   "source": [
    "``` r\n",
    "library(gwascat)\n",
    "cur = makeCurrentGwascat()  # result varies by day\n",
    "```"
   ]
  },
  {
   "cell_type": "code",
   "execution_count": 1,
   "metadata": {},
   "outputs": [
    {
     "ename": "ERROR",
     "evalue": "Error in eval(expr, envir, enclos): object 'cur' not found\n",
     "output_type": "error",
     "traceback": [
      "Error in eval(expr, envir, enclos): object 'cur' not found\n"
     ]
    }
   ],
   "source": [
    "cur"
   ]
  },
  {
   "cell_type": "markdown",
   "metadata": {},
   "source": [
    "<h2>\n",
    "Resource: The chain file for hg38 to hg19 transformation\n",
    "</h2>\n",
    "The transformation to hg19 coordinates is defined by a chain file provided by UCSC. rtracklayer::import.chain will bring the data into R."
   ]
  },
  {
   "cell_type": "code",
   "execution_count": 2,
   "metadata": {},
   "outputs": [
    {
     "name": "stderr",
     "output_type": "stream",
     "text": [
      "Loading required package: GenomicRanges\n",
      "Loading required package: BiocGenerics\n",
      "Loading required package: parallel\n",
      "\n",
      "Attaching package: ‘BiocGenerics’\n",
      "\n",
      "The following objects are masked from ‘package:parallel’:\n",
      "\n",
      "    clusterApply, clusterApplyLB, clusterCall, clusterEvalQ,\n",
      "    clusterExport, clusterMap, parApply, parCapply, parLapply,\n",
      "    parLapplyLB, parRapply, parSapply, parSapplyLB\n",
      "\n",
      "The following objects are masked from ‘package:stats’:\n",
      "\n",
      "    IQR, mad, xtabs\n",
      "\n",
      "The following objects are masked from ‘package:base’:\n",
      "\n",
      "    anyDuplicated, append, as.data.frame, as.vector, cbind, colnames,\n",
      "    do.call, duplicated, eval, evalq, Filter, Find, get, grep, grepl,\n",
      "    intersect, is.unsorted, lapply, lengths, Map, mapply, match, mget,\n",
      "    order, paste, pmax, pmax.int, pmin, pmin.int, Position, rank,\n",
      "    rbind, Reduce, rownames, sapply, setdiff, sort, table, tapply,\n",
      "    union, unique, unlist, unsplit\n",
      "\n",
      "Loading required package: S4Vectors\n",
      "Loading required package: stats4\n",
      "Loading required package: IRanges\n",
      "Loading required package: GenomeInfoDb\n"
     ]
    },
    {
     "data": {
      "text/plain": [
       "Chain of length 25\n",
       "names(25): chr22 chr21 chr19 chr20 chrY chr18 ... chr6 chr5 chr4 chr3 chr2 chr1"
      ]
     },
     "execution_count": 2,
     "metadata": {},
     "output_type": "execute_result"
    },
    {
     "name": "stdout",
     "output_type": "stream",
     "text": [
      "Formal class 'ChainBlock' [package \"rtracklayer\"] with 6 slots\n",
      "  ..@ ranges  :Formal class 'IRanges' [package \"IRanges\"] with 6 slots\n",
      "  .. .. ..@ start          : int [1:6842] 16367189 16386933 16386970 16387001 16387128 16395491 16395528 16395841 16395860 16395956 ...\n",
      "  .. .. ..@ width          : int [1:6842] 19744 36 31 112 8362 36 312 18 95 33 ...\n",
      "  .. .. ..@ NAMES          : NULL\n",
      "  .. .. ..@ elementType    : chr \"integer\"\n",
      "  .. .. ..@ elementMetadata: NULL\n",
      "  .. .. ..@ metadata       : list()\n",
      "  ..@ offset  : int [1:6842] -480662 -480702 -480702 -480726 -480726 -480726 -480726 -480726 -480726 -480726 ...\n",
      "  ..@ score   : int [1:1168] -1063867308 68830488 21156147 20814926 7358950 3927744 2928210 991419 880681 802146 ...\n",
      "  ..@ space   : chr [1:1168] \"chr22\" \"chr14\" \"chr22\" \"chr21\" ...\n",
      "  ..@ reversed: logi [1:1168] FALSE FALSE FALSE FALSE FALSE FALSE ...\n",
      "  ..@ length  : int [1:1168] 1124 1280 173 465 398 110 43 173 342 84 ...\n"
     ]
    }
   ],
   "source": [
    "library(rtracklayer)\n",
    "ch = import.chain(\"hg38ToHg19.over.chain\")\n",
    "ch\n",
    "str(ch[[1]])"
   ]
  },
  {
   "cell_type": "markdown",
   "metadata": {},
   "source": [
    "Some more details about the chain data structure are available in the import.chain man page\n",
    "\n",
    "<pre>\n",
    "   A chain file essentially details many local alignments, so it is\n",
    "   possible for the \"from\" ranges to map to overlapping regions in\n",
    "   the other sequence. The \"from\" ranges are guaranteed to be\n",
    "   disjoint (but do not necessarily cover the entire \"from\"\n",
    "   sequence).\n",
    "</pre>\n",
    "<h2>\n",
    "Action: liftOver\n",
    "</h2>\n",
    "The liftOver function will create a GRangesList."
   ]
  },
  {
   "cell_type": "code",
   "execution_count": 3,
   "metadata": {},
   "outputs": [
    {
     "ename": "ERROR",
     "evalue": "Error in seqlevelsStyle(cur) = \"UCSC\": object 'cur' not found\n",
     "output_type": "error",
     "traceback": [
      "Error in seqlevelsStyle(cur) = \"UCSC\": object 'cur' not found\n"
     ]
    },
    {
     "ename": "ERROR",
     "evalue": "Error in liftOver(cur, ch): error in evaluating the argument 'x' in selecting a method for function 'liftOver': Error: object 'cur' not found\n\n",
     "output_type": "error",
     "traceback": [
      "Error in liftOver(cur, ch): error in evaluating the argument 'x' in selecting a method for function 'liftOver': Error: object 'cur' not found\n\n"
     ]
    },
    {
     "ename": "ERROR",
     "evalue": "Error in eval(expr, envir, enclos): object 'cur19' not found\n",
     "output_type": "error",
     "traceback": [
      "Error in eval(expr, envir, enclos): object 'cur19' not found\n"
     ]
    }
   ],
   "source": [
    "seqlevelsStyle(cur) = \"UCSC\"  # necessary\n",
    "cur19 = liftOver(cur, ch)\n",
    "class(cur19)"
   ]
  },
  {
   "cell_type": "markdown",
   "metadata": {},
   "source": [
    "We unlist and coerce to the gwaswloc class, a convenient form for the GWAS catalog with its many mcols fields."
   ]
  },
  {
   "cell_type": "code",
   "execution_count": 4,
   "metadata": {},
   "outputs": [
    {
     "ename": "ERROR",
     "evalue": "Error in unlist(cur19): error in evaluating the argument 'x' in selecting a method for function 'unlist': Error: object 'cur19' not found\n\n",
     "output_type": "error",
     "traceback": [
      "Error in unlist(cur19): error in evaluating the argument 'x' in selecting a method for function 'unlist': Error: object 'cur19' not found\n\n"
     ]
    },
    {
     "ename": "ERROR",
     "evalue": "Error in genome(cur19) = \"hg19\": object 'cur19' not found\n",
     "output_type": "error",
     "traceback": [
      "Error in genome(cur19) = \"hg19\": object 'cur19' not found\n"
     ]
    },
    {
     "ename": "ERROR",
     "evalue": "Error in getClass(Class, where = topenv(parent.frame())): “gwaswloc” is not a defined class\n",
     "output_type": "error",
     "traceback": [
      "Error in getClass(Class, where = topenv(parent.frame())): “gwaswloc” is not a defined class\n"
     ]
    },
    {
     "ename": "ERROR",
     "evalue": "Error in eval(expr, envir, enclos): object 'cur19' not found\n",
     "output_type": "error",
     "traceback": [
      "Error in eval(expr, envir, enclos): object 'cur19' not found\n"
     ]
    }
   ],
   "source": [
    "cur19 = unlist(cur19)\n",
    "genome(cur19) = \"hg19\"\n",
    "cur19 = new(\"gwaswloc\", cur19)\n",
    "cur19"
   ]
  },
  {
   "cell_type": "markdown",
   "metadata": {},
   "source": [
    "We see that the translation leads to a loss of some loci."
   ]
  },
  {
   "cell_type": "code",
   "execution_count": 5,
   "metadata": {},
   "outputs": [
    {
     "ename": "ERROR",
     "evalue": "Error in eval(expr, envir, enclos): object 'cur' not found\n",
     "output_type": "error",
     "traceback": [
      "Error in eval(expr, envir, enclos): object 'cur' not found\n"
     ]
    },
    {
     "ename": "ERROR",
     "evalue": "Error in setdiff(cur$SNPs, cur19$SNPs): error in evaluating the argument 'x' in selecting a method for function 'setdiff': Error: object 'cur' not found\n\n",
     "output_type": "error",
     "traceback": [
      "Error in setdiff(cur$SNPs, cur19$SNPs): error in evaluating the argument 'x' in selecting a method for function 'setdiff': Error: object 'cur' not found\n\n"
     ]
    }
   ],
   "source": [
    "length(cur)-length(cur19)\n",
    "setdiff(cur$SNPs, cur19$SNPs)"
   ]
  },
  {
   "cell_type": "markdown",
   "metadata": {},
   "source": [
    "It may be interesting to &lt;a href=<http://www.ncbi.nlm.nih.gov/projects/SNP/snp_ref.cgi?rs=687289>&gt; follow up</a> some of the losses."
   ]
  }
 ],
 "metadata": {
  "kernelspec": {
   "display_name": "R",
   "language": "R",
   "name": "ir"
  }
 },
 "nbformat": 4,
 "nbformat_minor": 0
}
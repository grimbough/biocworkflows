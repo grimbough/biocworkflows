{
 "cells": [
  {
   "cell_type": "code",
   "execution_count": null,
   "metadata": {

   },
   "outputs": [

   ],
   "source": [
    "## This code chunk was hidden in the original document, but was executed in the background\n",
    "knitr::opts_chunk$set(results=\"hide\", message=FALSE, warning=FALSE, fig.show=\"hide\", echo=TRUE)"
   ]
  },
  {
   "cell_type": "markdown",
   "metadata": {

   },
   "source": [
    "<h1>\n",
    "Changing genomic coordinate systems with rtracklayer::liftOver\n",
    "</h1>\n",
    "The liftOver facilities developed in conjunction with the UCSC browser track infrastructure are available for transforming data in GRanges formats. This is illustrated here with an image of the NHGRI GWAS catalog that is, as of Oct. 31 2014, distributed with coordinates defined by NCBI build hg38.\n",
    "\n",
    "<h2>\n",
    "Setup: The NHGRI GWAS catalog as an hg38-based GRanges\n",
    "</h2>"
   ]
  },
  {
   "cell_type": "code",
   "execution_count": null,
   "metadata": {

   },
   "outputs": [

   ],
   "source": [
    "## This code chunk was hidden in the original document, but was executed in the background\n",
    "library(gwascat)\n",
    "if (!exists(\"cur\")) load(\"cur.rda\")"
   ]
  },
  {
   "cell_type": "markdown",
   "metadata": {

   },
   "source": [
    "``` r\n",
    "library(gwascat)\n",
    "cur = makeCurrentGwascat()  # result varies by day",
    "\n```"
   ]
  },
  {
   "cell_type": "code",
   "execution_count": null,
   "metadata": {

   },
   "outputs": [

   ],
   "source": "cur"
  },
  {
   "cell_type": "markdown",
   "metadata": {

   },
   "source": [
    "<h2>\n",
    "Resource: The chain file for hg38 to hg19 transformation\n",
    "</h2>\n",
    "The transformation to hg19 coordinates is defined by a chain file provided by UCSC. rtracklayer::import.chain will bring the data into R."
   ]
  },
  {
   "cell_type": "code",
   "execution_count": null,
   "metadata": {

   },
   "outputs": [

   ],
   "source": [
    "library(rtracklayer)\n",
    "ch = import.chain(\"hg38ToHg19.over.chain\")\n",
    "ch\n",
    "str(ch[[1]])"
   ]
  },
  {
   "cell_type": "markdown",
   "metadata": {

   },
   "source": [
    "Some more details about the chain data structure are available in the import.chain man page\n",
    "\n",
    "<pre>\n",
    "   A chain file essentially details many local alignments, so it is\n",
    "   possible for the \"from\" ranges to map to overlapping regions in\n",
    "   the other sequence. The \"from\" ranges are guaranteed to be\n",
    "   disjoint (but do not necessarily cover the entire \"from\"\n",
    "   sequence).\n",
    "</pre>\n",
    "<h2>\n",
    "Action: liftOver\n",
    "</h2>\n",
    "The liftOver function will create a GRangesList."
   ]
  },
  {
   "cell_type": "code",
   "execution_count": null,
   "metadata": {

   },
   "outputs": [

   ],
   "source": [
    "seqlevelsStyle(cur) = \"UCSC\"  # necessary\n",
    "cur19 = liftOver(cur, ch)\n",
    "class(cur19)"
   ]
  },
  {
   "cell_type": "markdown",
   "metadata": {

   },
   "source": "We unlist and coerce to the gwaswloc class, a convenient form for the GWAS catalog with its many mcols fields."
  },
  {
   "cell_type": "code",
   "execution_count": null,
   "metadata": {

   },
   "outputs": [

   ],
   "source": [
    "cur19 = unlist(cur19)\n",
    "genome(cur19) = \"hg19\"\n",
    "cur19 = new(\"gwaswloc\", cur19)\n",
    "cur19"
   ]
  },
  {
   "cell_type": "markdown",
   "metadata": {

   },
   "source": "We see that the translation leads to a loss of some loci."
  },
  {
   "cell_type": "code",
   "execution_count": null,
   "metadata": {

   },
   "outputs": [

   ],
   "source": [
    "length(cur)-length(cur19)\n",
    "setdiff(cur$SNPs, cur19$SNPs)"
   ]
  },
  {
   "cell_type": "markdown",
   "metadata": {

   },
   "source": "It may be interesting to &lt;a href=<http://www.ncbi.nlm.nih.gov/projects/SNP/snp_ref.cgi?rs=687289>&gt; follow up</a> some of the losses."
  }
 ],
 "metadata": {
  "kernelspec": {
   "display_name": "R",
   "language": "R",
   "name": "ir"
  }
 },
 "nbformat": 4,
 "nbformat_minor": 0
}

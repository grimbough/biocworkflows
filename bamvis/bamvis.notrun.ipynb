{
 "cells": [
  {
   "cell_type": "markdown",
   "metadata": {

   },
   "source": [
    "-   [Creating informative visualisations of genomic regions from a set\n",
    "    of `.bam`\n",
    "    files](#creating-informative-visualisations-of-genomic-regions-from-a-set-of-.bam-files)\n",
    "    -   [Setting Up](#setting-up)\n",
    "    -   [Defining the plotting\n",
    "        function](#defining-the-plotting-function)\n",
    "    -   [Creating plots of example data for the DNMT3A\n",
    "        gene](#creating-plots-of-example-data-for-the-dnmt3a-gene)\n",
    "    -   [Exercises](#exercises)"
   ]
  },
  {
   "cell_type": "code",
   "execution_count": null,
   "metadata": {

   },
   "outputs": [

   ],
   "source": [
    "## This code chunk was hidden in the original document, but was executed in the background\n",
    "knitr::opts_chunk$set(results=\"hide\", message=FALSE, warning=FALSE, fig.show=\"hide\", echo=TRUE)"
   ]
  },
  {
   "cell_type": "markdown",
   "metadata": {

   },
   "source": [
    "Creating informative visualisations of genomic regions from a set of `.bam` files\n",
    "=================================================================================\n",
    "\n",
    "In this workflow we will create overview plots of genomic regions that give an overview of the coverage and mismatches in a set of `.bam` files in a given genomic region. An example plot is shown here:"
   ]
  },
  {
   "cell_type": "code",
   "execution_count": null,
   "metadata": {

   },
   "outputs": [

   ],
   "source": [
    "## This code chunk was hidden in the original document, but was executed in the background\n",
    "require(h5vc)\n",
    "tallyFile <- system.file( \"extdata\", \"example.tally.hfs5\", package = \"h5vcData\" )\n",
    "sampleData <- getSampleData( tallyFile, \"/ExampleStudy/16\" )\n",
    "samples <- sampleData$Sample[sampleData$Patient == \"Patient8\"]\n",
    "position <- 29979628\n",
    "windowsize <- 30\n",
    "require(GenomicRanges)\n",
    "require(IRanges)\n",
    "dataList <- h5dapply(\n",
    "  filename = tallyFile,\n",
    "  group = \"/ExampleStudy/16\",\n",
    "  names = c(\"Coverages\", \"Counts\", \"Deletions\", \"Reference\"),\n",
    "  range = IRanges(start = seq( position - windowsize, position + windowsize, 20), width = 30 )\n",
    ")\n",
    "p <- mismatchPlot(\n",
    "  data = dataList,\n",
    "  sampledata = sampleData,\n",
    "  samples = samples\n",
    ")\n",
    "print(p)"
   ]
  },
  {
   "cell_type": "markdown",
   "metadata": {

   },
   "source": [
    "Setting Up\n",
    "----------\n",
    "\n",
    "The following Bioconductor packages are needed for this workflow:"
   ]
  },
  {
   "cell_type": "markdown",
   "metadata": {

   },
   "source": [
    "``` r\n",
    "require(BiocInstaller)\n",
    "biocLite(c(\"h5vc\", \"h5vcData\", \"BSgenome.Hsapiens.NCBI.GRCh38\")",
    "\n```"
   ]
  },
  {
   "cell_type": "markdown",
   "metadata": {

   },
   "source": [
    "Typically an HDF5 tally file will store the nucleotide tally data and the accompanying sample data and the functions for plotting defined in the `h5vc` package. If we do not want to create an HDF5 file representation of our data, we can define a new function that makes sure that the data and sample data are present in the correct format.\n",
    "\n",
    "First we load the required packages, `h5vc` for plotting and `BSgenome.Hsapiens.NCBI.GRCh38` to provide the reference genome sequence. We use `BSgenome.Hsapiens.NCBI.GRCh38` because the example `.bam` files that I will use here are aligned against that revision of the human reference genome. You should use an appropriate genome object here, e.g. if you want to work in *Arabidopsis Thaliana* instead you would maybe use the `BSgenome.Athaliana.TAIR.TAIR9` package instead."
   ]
  },
  {
   "cell_type": "code",
   "execution_count": null,
   "metadata": {

   },
   "outputs": [

   ],
   "source": [
    "#ECHO=TRUE\n",
    "require(h5vc)\n",
    "require(BSgenome.Hsapiens.NCBI.GRCh38)"
   ]
  },
  {
   "cell_type": "markdown",
   "metadata": {

   },
   "source": "Next we find our example data `.bam` files and create a `sampleData` object that is simply a `data.frame` describing the samples we want to work with."
  },
  {
   "cell_type": "code",
   "execution_count": null,
   "metadata": {

   },
   "outputs": [

   ],
   "source": [
    "files <- list.files( system.file(\"extdata\", package = \"h5vcData\"), \"Pt.*bam$\" )\n",
    "bamFiles <- file.path( system.file(\"extdata\", package = \"h5vcData\"), files)\n",
    "\n",
    "sampleData <- data.frame(\n",
    "  SampleFiles = files,\n",
    "  Sample = sapply(strsplit(files, split = \"\\\\.\"), function(x) x[1]),\n",
    "  Type = rep(c(\"Case\", \"Control\"), length(files)/2),\n",
    "  Column = seq(length(files)),\n",
    "  Patient = substr(files, 1, 4),\n",
    "  stringsAsFactors = FALSE #Silly, but important to get the track labels right\n",
    "  )\n",
    "\n",
    "sampleData"
   ]
  },
  {
   "cell_type": "markdown",
   "metadata": {

   },
   "source": [
    "Defining the plotting function\n",
    "------------------------------\n",
    "\n",
    "Finally we define the `plotBAMs` function that will take a `GRanges` object describing the genomic intervals we want to plot, the list of `.bam` files, the `sampleData` object and the reference object (that will be `BSgenome.Hsapiens.NCBI.GRCh38` in our case)."
   ]
  },
  {
   "cell_type": "code",
   "execution_count": null,
   "metadata": {

   },
   "outputs": [

   ],
   "source": [
    "plotBAMs <- function( ranges, bamFiles, sampleData, reference){\n",
    "  require(h5vc)\n",
    "  theData <- tallyRanges( bamFiles, ranges = ranges, reference = reference )\n",
    "  for( idx in seq(length(ranges))){ # This is needed since we dont use HDF5 to store the data\n",
    "    theData[[idx]]$h5dapplyInfo <- list( Blockstart = start(ranges[idx]), Blockend = end(ranges[idx]))\n",
    "  }\n",
    "  mismatchPlot(\n",
    "    theData, sampleData\n",
    "    )\n",
    "}"
   ]
  },
  {
   "cell_type": "markdown",
   "metadata": {

   },
   "source": [
    "Creating plots of example data for the DNMT3A gene\n",
    "--------------------------------------------------\n",
    "\n",
    "Here we define the genomic ranges we will want to plot, they correspond to exons of the DNMT3A gene in our example. The `GRanges` should come from a VCF file with variant calls when we want to visualise variant calls, but for the sake of this example the DNMT3A exons will suffice."
   ]
  },
  {
   "cell_type": "code",
   "execution_count": null,
   "metadata": {

   },
   "outputs": [

   ],
   "source": [
    "require(GenomicRanges)\n",
    "dnmt3a <- read.table(system.file(\"extdata\", \"dnmt3a.txt\", package = \"h5vcData\"), header=TRUE, stringsAsFactors = FALSE)\n",
    "dnmt3a <- with( dnmt3a, GRanges(seqname, ranges = IRanges(start = start, end = end)))\n",
    "dnmt3a <- reduce(dnmt3a)\n",
    "dnmt3a"
   ]
  },
  {
   "cell_type": "markdown",
   "metadata": {

   },
   "source": "Let's plot some DNMT3A exons (2,3 and 4) in the first 4 samples (the object `Hsapiens` is defined in the `BSgenome.Hsapiens.NCBI.GRCh38` package and contains the genomic reference sequence2):"
  },
  {
   "cell_type": "code",
   "execution_count": null,
   "metadata": {

   },
   "outputs": [

   ],
   "source": [
    "p <- plotBAMs(\n",
    "  ranges = dnmt3a[2:4],\n",
    "  bamFiles = bamFiles[1:4],\n",
    "  sampleData = sampleData[1:4,],\n",
    "  reference = Hsapiens\n",
    "  )\n",
    "print(p)"
   ]
  },
  {
   "cell_type": "markdown",
   "metadata": {

   },
   "source": "`p` is a ggplot object, so we can modify how it looks by adding theme commands and so on:"
  },
  {
   "cell_type": "code",
   "execution_count": null,
   "metadata": {

   },
   "outputs": [

   ],
   "source": "print(p + theme(text = element_text(colour = \"hotpink\"))) "
  },
  {
   "cell_type": "markdown",
   "metadata": {

   },
   "source": "Hmm, maybe making the text pink wasn't the best idea, let's try something else:"
  },
  {
   "cell_type": "code",
   "execution_count": null,
   "metadata": {

   },
   "outputs": [

   ],
   "source": [
    "## setting Jupyter plotting size\n",
    "options(repr.plot.height=10,repr.plot.width=16)"
   ]
  },
  {
   "cell_type": "code",
   "execution_count": null,
   "metadata": {

   },
   "outputs": [

   ],
   "source": "print(p + theme(text = element_text(size = 16), axis.text.x = element_text(angle = 45, size = 12, vjust = 1, hjust = 1), panel.margin.x = unit(1, units = \"cm\"))) "
  },
  {
   "cell_type": "markdown",
   "metadata": {

   },
   "source": [
    "Exercises\n",
    "---------\n",
    "\n",
    "1.  Apply your knowledge of creating shiny apps to create a browser-app. This app should let you select which samples and exons (of DNMT3A) should be plotted and then display the selected region.\n",
    "2.  Use your knowledge of the `VariantAnnotation` package to implement a shiny app or set of functions that loads a VCF file and plots ranges around the variants. You might need a set of appropriate `.bam` files to do this, i.e. `.bam` files that contain the data that gave rise to the variant calls in your VCF file."
   ]
  }
 ],
 "metadata": {
  "kernelspec": {
   "display_name": "R",
   "language": "R",
   "name": "ir"
  }
 },
 "nbformat": 4,
 "nbformat_minor": 0
}

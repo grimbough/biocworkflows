{
 "cells": [
  {
   "cell_type": "markdown",
   "metadata": {

   },
   "source": [
    "-   [Introduction](#introduction)\n",
    "-   [Aligning reads in the H3K9ac\n",
    "    libraries](#aligning-reads-in-the-h3k9ac-libraries)\n",
    "-   [Obtaining the ENCODE blacklist for\n",
    "    mm10](#obtaining-the-encode-blacklist-for-mm10)\n",
    "-   [Testing for DB between pro-B and mature B\n",
    "    cells](#testing-for-db-between-pro-b-and-mature-b-cells)\n",
    "    -   [Setting up the analysis\n",
    "        parameters](#setting-up-the-analysis-parameters)\n",
    "    -   [Computing the average fragment\n",
    "        length](#computing-the-average-fragment-length)\n",
    "    -   [Counting reads into windows](#counting-reads-into-windows)\n",
    "    -   [Filtering windows by\n",
    "        abundance](#filtering-windows-by-abundance)\n",
    "    -   [Normalizing for library-specific trended\n",
    "        biases](#normalizing-for-library-specific-trended-biases)\n",
    "    -   [Statistical modelling of biological\n",
    "        variability](#statistical-modelling-of-biological-variability)\n",
    "        -   [Introduction](#introduction-1)\n",
    "        -   [Estimating the NB\n",
    "            dispersion](#estimating-the-nb-dispersion)\n",
    "        -   [Estimating the QL\n",
    "            dispersion](#estimating-the-ql-dispersion)\n",
    "        -   [Examining the data with MDS\n",
    "            plots](#examining-the-data-with-mds-plots)\n",
    "    -   [Testing for DB and controlling the\n",
    "        FDR](#testing-for-db-and-controlling-the-fdr)\n",
    "        -   [Testing for DB with QL\n",
    "            F-tests](#testing-for-db-with-ql-f-tests)\n",
    "        -   [Controlling the FDR across\n",
    "            regions](#controlling-the-fdr-across-regions)\n",
    "        -   [Examining the scope and direction of\n",
    "            DB](#examining-the-scope-and-direction-of-db)\n",
    "    -   [Saving results to file](#saving-results-to-file)\n",
    "-   [Interpreting the DB results](#interpreting-the-db-results)\n",
    "    -   [Adding gene-centric\n",
    "        annotation](#adding-gene-centric-annotation)\n",
    "        -   [Using the `detailRanges`\n",
    "            function](#using-the-detailranges-function)\n",
    "        -   [Using the\n",
    "            *[ChIPpeakAnno](http://bioconductor.org/packages/ChIPpeakAnno)*\n",
    "            package](#using-the-chippeakanno-package)\n",
    "        -   [Reporting gene-based\n",
    "            results](#reporting-gene-based-results)\n",
    "    -   [Visualizing DB results](#visualizing-db-results)\n",
    "        -   [Overview](#overview)\n",
    "        -   [Simple DB across a broad\n",
    "            region](#simple-db-across-a-broad-region)\n",
    "        -   [Complex DB across a broad\n",
    "            region](#complex-db-across-a-broad-region)\n",
    "        -   [Simple DB across a small\n",
    "            region](#simple-db-across-a-small-region)\n",
    "-   [Repeating the analysis for the CBP\n",
    "    data](#repeating-the-analysis-for-the-cbp-data)\n",
    "    -   [Overview](#overview-1)\n",
    "    -   [Aligning reads from CBP\n",
    "        libraries](#aligning-reads-from-cbp-libraries)\n",
    "    -   [Detecting DB between genotypes for\n",
    "        CBP](#detecting-db-between-genotypes-for-cbp)\n",
    "        -   [Counting reads into\n",
    "            windows](#counting-reads-into-windows-1)\n",
    "        -   [Normalization for composition\n",
    "            biases](#normalization-for-composition-biases)\n",
    "        -   [Filtering of low-abundance\n",
    "            windows](#filtering-of-low-abundance-windows)\n",
    "        -   [Statistical modelling of biological\n",
    "            variability](#statistical-modelling-of-biological-variability-1)\n",
    "        -   [Testing for DB](#testing-for-db)\n",
    "    -   [Annotation and visualization](#annotation-and-visualization)\n",
    "-   [Summary](#summary)\n",
    "-   [Software availability](#software-availability)\n",
    "-   [Author contributions](#author-contributions)\n",
    "-   [Competing interests](#competing-interests)\n",
    "-   [Grant information](#grant-information)\n",
    "-   [Acknowledgements](#acknowledgements)\n",
    "-   [References](#references)"
   ]
  },
  {
   "cell_type": "code",
   "execution_count": null,
   "metadata": {

   },
   "outputs": [

   ],
   "source": [
    "## This code chunk was hidden in the original document, but was exectute in the background\n",
    "knitr::opts_chunk$set(results=\"hide\", message=FALSE, warning=FALSE, fig.show=\"hide\", echo=TRUE)"
   ]
  },
  {
   "cell_type": "markdown",
   "metadata": {

   },
   "source": [
    "<style>\n",
    "pre, img {\n",
    "  max-width: 100%;\n",
    "  display: block;\n",
    "}\n",
    "</style>"
   ]
  },
  {
   "cell_type": "code",
   "execution_count": null,
   "metadata": {

   },
   "outputs": [

   ],
   "source": [
    "## This code chunk was hidden in the original document, but was exectute in the background\n",
    "library(BiocStyle)\n",
    "library(knitr)\n",
    "opts_chunk$set(error=FALSE)\n",
    "opts_chunk$set(fig.width=7, fig.height=7)\n",
    "opts_chunk$set(dpi=300, dev=\"png\", dev.args=list(pointsize=15))\n",
    "remap <- FALSE # should we remap everything?\n",
    "redownload <- TRUE # should we re-download from BioC's AWS servers?\n",
    "keep.files <- FALSE # should we keep BAM files afterwards?\n",
    "clear.memory <- TRUE # should we clear objects from memory?"
   ]
  },
  {
   "cell_type": "code",
   "execution_count": null,
   "metadata": {

   },
   "outputs": [

   ],
   "source": [
    "## setting Jupyter plotting size\n",
    "options(repr.plot.width=7,repr.plot.height=7)"
   ]
  },
  {
   "cell_type": "code",
   "execution_count": null,
   "metadata": {

   },
   "outputs": [

   ],
   "source": [
    "#EVAL=TRUE\n",
    "pre.existing <- \"infile\"\n",
    "protected <- c(\"blacklist\", \"gax\", \"greg\", \n",
    "    \"remap\", \"redownload\", \"keep.files\", \"clear.memory\", \n",
    "    \"core.loc\", \"protected\", \"pre.existing\", pre.existing)"
   ]
  },
  {
   "cell_type": "markdown",
   "metadata": {

   },
   "source": [
    "Introduction\n",
    "============\n",
    "\n",
    "Chromatin immunoprecipitation with sequencing (ChIP-seq) is a popular technique for identifying the genomic binding sites of a target protein. Conventional analyses of ChIP-seq data aim to detect absolute binding (i.e., the presence or absence of a binding sites) based on peaks in the read coverage. However, a number of recent studies have focused on the detection of changes in the binding profile between conditions (Ross-Innes et al. 2012; Pal et al. 2013). These differential binding (DB) analyses involve counting reads into genomic intervals, and then testing those counts for significant differences between conditions. This defines a set of putative DB regions for further examination. DB analyses are easier to perform than their conventional counterparts, as the effect of genomic biases is largely mitigated when counts for different libraries are compared at the same genomic region. DB regions may also be more relevant as the change in binding can be associated with the biological difference between conditions.\n",
    "\n",
    "The key step in the DB analysis is the manner in which reads are counted. The most obvious strategy is to count reads into pre-defined regions of interest, like promoters or gene bodies (Pal et al. 2013). This is simple but will not capture changes outside of those regions. In contrast, *de novo* analyses do not depend on pre-specified regions, instead using empirically defined peaks or sliding windows for read counting. Peak-based methods are implemented in the *[DiffBind](http://bioconductor.org/packages/DiffBind)* and *[DBChIP](http://bioconductor.org/packages/DBChIP)* software packages (Ross-Innes et al. 2012; Liang and Keles 2012), which count reads into peak intervals that have been identified with software like MACS (Zhang et al. 2008). This requires some care to maintain statistical rigour, as peaks are called with the same data used to test for DB. Alternatively, window-based approaches count reads into sliding windows across the genome. This is a more direct strategy that avoids problems with data re-use and can provide increased DB detection power (Lun and Smyth 2014). However, its correct implementation is not straightforward due to the subtleties with interpretation of the false discovery rate (FDR).\n",
    "\n",
    "This article describes a computational workflow for performing a DB analysis with sliding windows. The aim is to facilitate the practical implementation of window-based DB analyses by providing detailed code and expected output. The workflow described here applies to any ChIP-seq experiment with multiple experimental conditions and with multiple biological samples within one or more of the conditions. It detects and summarizes DB regions between conditions in a *de novo* manner, i.e., without making any prior assumptions about the location or width of bound regions. Detected regions are then annotated according to their proximity to annotated genes. In addition, the code can be easily adapted to accommodate batch effects, covariates and multiple experimental factors.\n",
    "\n",
    "The workflow is based primarily on software packages from the open-source Bioconductor project (Huber et al. 2015). It contains all steps that are necessary for detecting DB regions, starting from the raw read sequences. Reads are first aligned to the genome using the *[Rsubread](http://bioconductor.org/packages/Rsubread)* package (Liao, Smyth, and Shi 2013). These are counted into sliding windows with *[csaw](http://bioconductor.org/packages/csaw)*, to quantify binding intensity across the genome (Lun and Smyth 2014; Lun and Smyth 2015). Statistical modelling is based on the negative binomial (NB) distribution with generalized linear models (GLMs) in the *[edgeR](http://bioconductor.org/packages/edgeR)* package (Robinson, McCarthy, and Smyth 2010; McCarthy, Chen, and Smyth 2012), with additional sophistication provided by quasi-likelihood (QL) methods (Lund et al. 2012). Code is also provided for filtering, normalization and region-level control of the FDR. Finally, annotation and visualization of the DB regions is described using *[Gviz](http://bioconductor.org/packages/Gviz)* and other packages.\n",
    "\n",
    "The application of the methods in this article will be demonstrated on two publicly available ChIP-seq data sets. The first data set studies changes in H3K9ac marking between pro-B and mature B cells (Revilla-I-Domingo et al. 2012). The second data set studies changes in CREB-binding protein (CBP) binding between wild-type and CBP knock-out cells (Kasper et al. 2014). These two studies were chosen to represent common situations where a DB analysis can be applied -- one involving sharp binding with CBP, and the other involving broader marking with H3K9ac. A separate workflow is described for the analysis of each data set, using the sliding window approach in both cases but with different parameter settings. The intention is to provide readers with a variety of usage examples from which they can construct DB analyses of their own data.\n",
    "\n",
    "Aligning reads in the H3K9ac libraries\n",
    "======================================\n",
    "\n",
    "The first task is to download the relevant ChIP-seq libraries from the NCBI Gene Expression Omnibus (GEO) (Edgar, Domrachev, and Lash 2002). These are obtained from the data series GSE38046, using the Sequence Read Accession (SRA) numbers listed below. The experiment contains two biological replicates in total for each of the two cell types, i.e., pro-B and mature B. Multiple technical replicates exist for some of the biological replicates, and are indicated as those files with the same `grouping`."
   ]
  },
  {
   "cell_type": "code",
   "execution_count": null,
   "metadata": {

   },
   "outputs": [

   ],
   "source": [
    "sra.numbers <- c(\"SRR499718\", \"SRR499719\", \"SRR499720\", \"SRR499721\", \n",
    "    \"SRR499734\", \"SRR499735\", \"SRR499736\", \"SRR499737\", \"SRR499738\")\n",
    "grouping <- c(\"proB-8113\", \"proB-8113\", \"proB-8108\", \"proB-8108\", \n",
    "    \"matureB-8059\", \"matureB-8059\", \"matureB-8059\", \"matureB-8059\", \"matureB-8086\")\n",
    "all.sra <- paste0(sra.numbers, \".lite.sra\")\n",
    "data.frame(SRA=all.sra, Condition=grouping)"
   ]
  },
  {
   "cell_type": "markdown",
   "metadata": {

   },
   "source": "These files are downloaded in the SRA format, and need to be unpacked to the FASTQ format prior to alignment. This can be done using the `fastq-dump` utility from the [SRA Toolkit](http://www.ncbi.nlm.nih.gov/Traces/sra/?view=software)."
  },
  {
   "cell_type": "markdown",
   "metadata": {

   },
   "source": [
    "``` r\n",
    "for (sra in all.sra) {\n",
    "    code <- system(paste(\"fastq-dump\", sra))\n",
    "    stopifnot(code==0L)\n",
    "}\n",
    "all.fastq <- paste0(sra.numbers, \".fastq\")",
    "\n```"
   ]
  },
  {
   "cell_type": "markdown",
   "metadata": {

   },
   "source": "Technical replicates are merged together prior to further processing. This reflects the fact that they originate from a single library of DNA fragments."
  },
  {
   "cell_type": "markdown",
   "metadata": {

   },
   "source": [
    "``` r\n",
    "by.group <- split(all.fastq, grouping)\n",
    "for (group in names(by.group)) {\n",
    "    code <- system(paste(c(\"cat\", by.group[[group]], \">\",\n",
    "        paste0(group, \".fastq\")), collapse=\" \"))\n",
    "    stopifnot(code==0L)\n",
    "}\n",
    "group.fastq <- paste0(names(by.group), \".fastq\")",
    "\n```"
   ]
  },
  {
   "cell_type": "markdown",
   "metadata": {

   },
   "source": "Reads in each library are aligned to the mm10 build of the mouse genome, using the *[Rsubread](http://bioconductor.org/packages/Rsubread)* package (Liao, Smyth, and Shi 2013). This assumes that an index has already been constructed with the prefix `index/mm10`. Here, a consensus threshold of 2 is used instead of the default of 3, to accommodate the shorter length of the reads (32 bp). The `type` parameter is also set to optimize for genomic alignment, rather than alignment to the transcriptome."
  },
  {
   "cell_type": "markdown",
   "metadata": {

   },
   "source": [
    "``` r\n",
    "library(Rsubread)\n",
    "bam.files <- paste0(names(by.group), \".bam\")\n",
    "align(index=\"index/mm10\", readfile1=group.fastq, TH1=2, type=1,\n",
    "    input_format=\"FASTQ\", output_file=bam.files)",
    "\n```"
   ]
  },
  {
   "cell_type": "markdown",
   "metadata": {

   },
   "source": "In each of the resulting BAM files, alignments are re-sorted by their mapping location. This is required for input into *[csaw](http://bioconductor.org/packages/csaw)*, but is also useful for other programs like genome browsers that depend on sorting and indexing for rapid retrieval of reads."
  },
  {
   "cell_type": "markdown",
   "metadata": {

   },
   "source": [
    "``` r\n",
    "library(Rsamtools)\n",
    "for (bam in bam.files) {\n",
    "    out <- suppressWarnings(sortBam(bam, \"h3k9ac_temp\"))\n",
    "    file.rename(out, bam)\n",
    "}",
    "\n```"
   ]
  },
  {
   "cell_type": "markdown",
   "metadata": {

   },
   "source": "Potential PCR duplicates are marked using the `MarkDuplicates` tool from the [Picard software suite](http://broadinstitute.github.io/picard). These are identified as alignments at the same genomic location, such that they may have originated from PCR-amplified copies of the same DNA fragment."
  },
  {
   "cell_type": "markdown",
   "metadata": {

   },
   "source": [
    "``` r\n",
    "temp.bam <- \"h3k9ac_temp.bam\"\n",
    "temp.file <- \"h3k9ac_metric.txt\"\n",
    "temp.dir <- \"h3k9ac_working\"\n",
    "dir.create(temp.dir)\n",
    "for (bam in bam.files) {\n",
    "    code <- system(sprintf(\"MarkDuplicates I=%s O=%s M=%s \\\\\n",
    "        TMP_DIR=%s AS=true REMOVE_DUPLICATES=false \\\\ \n",
    "        VALIDATION_STRINGENCY=SILENT\", bam, temp.bam,   \n",
    "        temp.file, temp.dir))\n",
    "    stopifnot(code==0L)\n",
    "    file.rename(temp.bam, bam)\n",
    "}",
    "\n```"
   ]
  },
  {
   "cell_type": "markdown",
   "metadata": {

   },
   "source": "The behaviour of the alignment pipeline for this data set can be easily summarized with some statistics. Ideally, the proportion of mapped reads should be high, while the proportion of marked reads should be low."
  },
  {
   "cell_type": "code",
   "execution_count": null,
   "metadata": {

   },
   "outputs": [

   ],
   "source": [
    "## This code chunk was hidden in the original document, but was exectute in the background\n",
    "#ECHO=FALSE\n",
    "library(Rsubread)\n",
    "library(Rsamtools)\n",
    "by.group <- split(all.sra, grouping)\n",
    "bam.files <- paste0(names(by.group), \".bam\")"
   ]
  },
  {
   "cell_type": "code",
   "execution_count": null,
   "metadata": {

   },
   "outputs": [

   ],
   "source": [
    "## This code chunk was hidden in the original document, but was exectute in the background\n",
    "#ECHO=FALSE\n",
    "core.loc <- \"http://s3.amazonaws.com/chipseqdb-bamfiles/\"\n",
    "for (bam in bam.files) { # Downloading all files.\n",
    "    bam.url <- paste0(core.loc, bam)\n",
    "    download.file(bam.url, bam)\n",
    "    download.file(paste0(bam.url, \".bai\"), paste0(bam, \".bai\"))\n",
    "}"
   ]
  },
  {
   "cell_type": "code",
   "execution_count": null,
   "metadata": {

   },
   "outputs": [

   ],
   "source": [
    "diagnostics <- list()\n",
    "for (bam in bam.files) {\n",
    "    total <- countBam(bam)$records\n",
    "    mapped <- countBam(bam, param=ScanBamParam(\n",
    "        flag=scanBamFlag(isUnmapped=FALSE)))$records\n",
    "    marked <- countBam(bam, param=ScanBamParam(\n",
    "        flag=scanBamFlag(isUnmapped=FALSE, isDuplicate=TRUE)))$records\n",
    "    diagnostics[[bam]] <- c(Total=total, Mapped=mapped, Marked=marked)\n",
    "}\n",
    "diag.stats <- data.frame(do.call(rbind, diagnostics))\n",
    "diag.stats$Prop.mapped <- diag.stats$Mapped/diag.stats$Total*100\n",
    "diag.stats$Prop.marked <- diag.stats$Marked/diag.stats$Mapped*100\n",
    "diag.stats"
   ]
  },
  {
   "cell_type": "markdown",
   "metadata": {

   },
   "source": "Finally, the libraries are indexed for rapid retrieval by genomic location. This generates a number of index files at the same location as the BAM files."
  },
  {
   "cell_type": "markdown",
   "metadata": {

   },
   "source": [
    "``` r\n",
    "indexBam(bam.files)",
    "\n```"
   ]
  },
  {
   "cell_type": "markdown",
   "metadata": {

   },
   "source": [
    "Obtaining the ENCODE blacklist for mm10\n",
    "=======================================\n",
    "\n",
    "A number of genomic regions contain high artifactual signal in ChIP-seq experiments. These often correspond to genomic features like telomeres or microsatellite repeats. For example, multiple tandem repeats in the real genome are reported as a single unit in the genome build. Alignment of all (non-specifically immunoprecipitated) reads from the former will result in artificially high coverage of the latter. Moreover, differences in repeat copy numbers between conditions can lead to detection of spurious DB.\n",
    "\n",
    "As such, these regions must be removed prior to further analysis. This can be done with an annotated blacklist of problematic regions in the [mm9 build of the mouse genome](http://www.broadinstitute.org/~anshul/projects/mouse/blacklist/mm9-blacklist.bed.gz). All reads in the blacklist will be ignored during processing in *[csaw](http://bioconductor.org/packages/csaw)*. The blacklist itself was constructed by identifying consistently problematic regions in the ENCODE and modENCODE data sets (ENCODE Project Consortium 2012).\n",
    "\n",
    "Recall that the alignments have been performed to the mm10 build, so the mm9 blacklist coordinates must be transferred to their mm10 equivalents. This is done using the `liftOver` function in the *[rtracklayer](http://bioconductor.org/packages/rtracklayer)* package (Lawrence, Gentleman, and Carey 2009). The chain file specifies the corresponding coordinates between the two builds and can be obtained [here](http://hgdownload-test.cse.ucsc.edu/goldenPath/mm9/liftOver/mm9ToMm10.over.chain.gz). The new blacklist coordinates are then saved to file for future use."
   ]
  },
  {
   "cell_type": "code",
   "execution_count": null,
   "metadata": {

   },
   "outputs": [

   ],
   "source": [
    "## This code chunk was hidden in the original document, but was exectute in the background\n",
    "#ECHO=FALSE\n",
    "chain.file <- \"mm9ToMm10.over.chain\"\n",
    "download.file(paste0(core.loc, chain.file), chain.file)\n",
    "bed.file <- \"mm9-blacklist.bed\"\n",
    "download.file(paste0(core.loc, bed.file), bed.file)"
   ]
  },
  {
   "cell_type": "code",
   "execution_count": null,
   "metadata": {

   },
   "outputs": [

   ],
   "source": [
    "library(rtracklayer)\n",
    "ch <- import.chain(\"mm9ToMm10.over.chain\")\n",
    "original <- import(\"mm9-blacklist.bed\")\n",
    "blacklist <- liftOver(x=original, chain=ch)\n",
    "blacklist <- unlist(blacklist)\n",
    "saveRDS(file=\"mm10-blacklist.rds\", blacklist)"
   ]
  },
  {
   "cell_type": "markdown",
   "metadata": {

   },
   "source": [
    "An alternative approach is to use predicted repeat regions from the UCSC genome annotation (Rosenbloom et al. 2015). This tends to remove a greater number of problematic regions (especially microsatellites) compared to the ENCODE blacklist. However, the size of the UCSC list means that genuine DB sites may also be removed. Thus, the ENCODE blacklist is preferred for most applications.\n",
    "\n",
    "Testing for DB between pro-B and mature B cells\n",
    "===============================================\n",
    "\n",
    "Setting up the analysis parameters\n",
    "----------------------------------\n",
    "\n",
    "Here, the settings for the DB analysis are specified. Recall that the paths to the BAM files are stored in the `bam.files` vector after alignment. The cell type for each file can be conveniently extracted from the file name."
   ]
  },
  {
   "cell_type": "code",
   "execution_count": null,
   "metadata": {

   },
   "outputs": [

   ],
   "source": [
    "celltype <- sub(\"-.*\", \"\", bam.files)\n",
    "data.frame(BAM=bam.files, CellType=celltype)"
   ]
  },
  {
   "cell_type": "markdown",
   "metadata": {

   },
   "source": "In the *[csaw](http://bioconductor.org/packages/csaw)* package, the `readParam` object determines which reads are extracted from the BAM files. The idea is to set this up once and to re-use it in all relevant functions. For this analysis, reads are only used if they have a mapping quality (MAPQ) score equal to or above 50. This avoids spurious results due to weak or non-unique alignments. While a MAPQ threshold of 50 is quite conservative, a stringent threshold is necessary here due to the short length of the reads. Reads are also ignored if they map within blacklist regions or if they do not map to the standard set of mouse nuclear chromosomes."
  },
  {
   "cell_type": "code",
   "execution_count": null,
   "metadata": {

   },
   "outputs": [

   ],
   "source": [
    "library(csaw)\n",
    "standard.chr <- paste0(\"chr\", c(1:19, \"X\", \"Y\"))\n",
    "param <- readParam(minq=50, discard=blacklist, restrict=standard.chr)"
   ]
  },
  {
   "cell_type": "markdown",
   "metadata": {

   },
   "source": [
    "Computing the average fragment length\n",
    "-------------------------------------\n",
    "\n",
    "Strand bimodality is often observed in ChIP-seq experiments involving sharp binding events like H3K9ac marking. This refers to the presence of distinct subpeaks on each strand and can be quantified with cross-correlation plots (Kharchenko, Tolstorukov, and Park 2008). A strong peak in the cross-correlations should be observed if immunoprecipitation was successful. The delay distance at the peak corresponds to the distance between forward-/reverse-strand subpeaks. This is identified from Figure 1 and is used as the average fragment length for this analysis."
   ]
  },
  {
   "cell_type": "code",
   "execution_count": null,
   "metadata": {

   },
   "outputs": [

   ],
   "source": [
    "x <- correlateReads(bam.files, param=reform(param, dedup=TRUE))\n",
    "frag.len <- which.max(x) - 1\n",
    "frag.len"
   ]
  },
  {
   "cell_type": "code",
   "execution_count": null,
   "metadata": {

   },
   "outputs": [

   ],
   "source": [
    "plot(1:length(x)-1, x, xlab=\"Delay (bp)\", ylab=\"CCF\", type=\"l\")\n",
    "abline(v=frag.len, col=\"red\")\n",
    "text(x=frag.len, y=min(x), paste(frag.len, \"bp\"), pos=4, col=\"red\")"
   ]
  },
  {
   "cell_type": "markdown",
   "metadata": {

   },
   "source": [
    "Only unmarked reads (i.e., not potential PCR duplicates) are used here. This tends to give better signal by reducing the size of the \"phantom\" peak at the read length (Landt et al. 2012). However, removal of marked reads is risky as it caps the signal in high-coverage regions of the genome. This can result in loss of power to detect DB, or introduction of spurious DB when the same cap is applied to libraries of different sizes. Thus, the marking status of each read will be ignored in the rest of the analysis, i.e., no duplicates will be removed in downstream steps.\n",
    "\n",
    "Counting reads into windows\n",
    "---------------------------\n",
    "\n",
    "*[csaw](http://bioconductor.org/packages/csaw)* uses a sliding window strategy to quantify binding intensity across the genome. Each read is directionally extended to the average fragment length, to represent the DNA fragment from which that read was sequenced. The number of extended reads overlapping a window is counted. The window is then moved to its next position on the genome, and counting is repeated. This is done for all libraries such that a count is obtained for each window in each library. The `windowCounts` function produces a `RangedSummarizedExperiment` object containing these counts in matrix form, where each row corresponds to a window and each column represents a library."
   ]
  },
  {
   "cell_type": "code",
   "execution_count": null,
   "metadata": {

   },
   "outputs": [

   ],
   "source": [
    "win.data <- windowCounts(bam.files, param=param, width=150, ext=frag.len)\n",
    "win.data"
   ]
  },
  {
   "cell_type": "markdown",
   "metadata": {

   },
   "source": [
    "To analyze H3K9ac data, a window size of 150 bp is used here. This corresponds roughly to the length of the DNA in a nucleosome (Humburg et al. 2011), which is the smallest relevant unit for studying histone mark enrichment. The spacing between windows is set to the default of 50 bp, i.e., the start positions for adjacent windows are 50 bp apart. Smaller spacings can be used to improve spatial resolution, but will increase memory usage and runtime by increasing the number of windows required to cover the genome. This is unnecessary as increased resolution confers little practical benefit for this data set -- counts for very closely spaced windows will be practically identical. Finally, windows with very low counts (by default, less than a sum of 10 across all libraries) are removed to reduce memory usage. This represents a preliminary filter to remove uninteresting windows corresponding to likely background regions.\n",
    "\n",
    "Filtering windows by abundance\n",
    "------------------------------\n",
    "\n",
    "As previously mentioned, low-abundance windows contain no binding sites and need to be filtered out. This improves power by removing irrelevant tests prior to the multiple testing correction; avoids problems with discreteness in downstream statistical methods; and reduces computational work for further analyses. Here, filtering is performed using the average abundance of each window (McCarthy, Chen, and Smyth 2012). This performs well as an independent filter statistic for NB-distributed count data (Lun and Smyth 2014).\n",
    "\n",
    "The filter threshold is defined based on the assumption that most regions in the genome are not marked by H3K9ac. Reads are counted into large bins and the median coverage across those bins is used as an estimate of the background abundance. This estimate is then compared to the average abundances of the windows, after rescaling to account for differences in the window and bin sizes. Windows are only retained if they have abundances 3-fold higher than the background. This removes a large number of windows that are weakly or not marked and are likely to be irrelevant."
   ]
  },
  {
   "cell_type": "code",
   "execution_count": null,
   "metadata": {

   },
   "outputs": [

   ],
   "source": [
    "bins <- windowCounts(bam.files, bin=TRUE, width=2000, param=param)\n",
    "filter.stat <- filterWindows(win.data, bins, type=\"global\")\n",
    "min.fc <- 3\n",
    "keep <- filter.stat$filter > log2(min.fc)\n",
    "summary(keep)"
   ]
  },
  {
   "cell_type": "markdown",
   "metadata": {

   },
   "source": "The effect of the fold-change threshold can be examined visually in Figure 2. The chosen threshold is greater than the abundances of most bins in the genome -- presumably, those that contain background regions. This suggests that the filter will remove most windows lying within background regions."
  },
  {
   "cell_type": "code",
   "execution_count": null,
   "metadata": {

   },
   "outputs": [

   ],
   "source": [
    "hist(filter.stat$back.abundances, xlab=\"Background abundance\", main=\"\", breaks=50)\n",
    "threshold <- filter.stat$abundances[1] - filter.stat$filter[1] + log2(min.fc)\n",
    "abline(v=threshold, col=\"red\")"
   ]
  },
  {
   "cell_type": "markdown",
   "metadata": {

   },
   "source": "The actual filtering itself is done by simply subsetting the `RangedSummarizedExperiment` object."
  },
  {
   "cell_type": "code",
   "execution_count": null,
   "metadata": {

   },
   "outputs": [

   ],
   "source": "filtered.data <- win.data[keep,]"
  },
  {
   "cell_type": "markdown",
   "metadata": {

   },
   "source": [
    "Normalizing for library-specific trended biases\n",
    "-----------------------------------------------\n",
    "\n",
    "Normalization is required prior to any comparisons between libraries, to eliminate confounding library-specific biases. In particular, a trended bias is often observed between libraries in Figure 3. This refers to a systematic fold-difference in window coverage between libraries that changes according to the average abundance of the window."
   ]
  },
  {
   "cell_type": "code",
   "execution_count": null,
   "metadata": {

   },
   "outputs": [

   ],
   "source": [
    "win.ab <- filter.stat$abundances[keep]\n",
    "adjc <- log2(assay(filtered.data)+0.5)\n",
    "logfc <- adjc[,1] - adjc[,4]\n",
    "smoothScatter(win.ab, logfc, ylim=c(-6, 6), xlim=c(0, 5),\n",
    "    xlab=\"Average abundance\", ylab=\"Log-fold change\")"
   ]
  },
  {
   "cell_type": "markdown",
   "metadata": {

   },
   "source": "Trended biases cannot be removed by scaling methods like TMM normalization (Robinson and Oshlack 2010), as the amount of scaling required varies with the abundance of the window. Rather, non-linear normalization methods must be used. *[csaw](http://bioconductor.org/packages/csaw)* implements a version of the fast loess method (Ballman et al. 2004) that is adapted to count data. This produces a matrix of offsets that can be used during GLM fitting."
  },
  {
   "cell_type": "code",
   "execution_count": null,
   "metadata": {

   },
   "outputs": [

   ],
   "source": [
    "offsets <- normOffsets(filtered.data, type=\"loess\")\n",
    "head(offsets)"
   ]
  },
  {
   "cell_type": "markdown",
   "metadata": {

   },
   "source": "The effect of non-linear normalization can be visualized with a mean-difference plot comparing the first and last libraries. Once the offsets are applied to adjust the log-fold changes, the trend is eliminated from the plot (Figure 4). The cloud of points is also centred at a log-fold change of zero. This indicates that normalization was successful in removing the differences between libraries."
  },
  {
   "cell_type": "code",
   "execution_count": null,
   "metadata": {

   },
   "outputs": [

   ],
   "source": [
    "norm.adjc <- adjc - offsets/log(2)\n",
    "norm.fc <- norm.adjc[,1]-norm.adjc[,4]\n",
    "smoothScatter(win.ab, norm.fc, ylim=c(-6, 6), xlim=c(0, 5),\n",
    "    xlab=\"Average abundance\", ylab=\"Log-fold change\")"
   ]
  },
  {
   "cell_type": "markdown",
   "metadata": {

   },
   "source": [
    "The implicit assumption of non-linear methods is that most windows at each abundance are not DB. Any systematic difference between libraries is attributed to bias and is removed. The assumption of a non-DB majority is reasonable for this data set, given that the cell types being compared are quite closely related. However, it is not appropriate in situations where large-scale DB is expected, as removal of the difference would result in loss of genuine DB. An alternative normalization strategy for these situations will be described later in the CBP analysis.\n",
    "\n",
    "Statistical modelling of biological variability\n",
    "-----------------------------------------------\n",
    "\n",
    "### Introduction\n",
    "\n",
    "Counts are modelled using NB GLMs in the *[edgeR](http://bioconductor.org/packages/edgeR)* package (McCarthy, Chen, and Smyth 2012; Robinson, McCarthy, and Smyth 2010). The NB distribution is useful as it can handle low, discrete counts for each window. The NB dispersion parameter allows modelling of biological variability between replicate libraries. GLMs can also accommodate complex experimental designs, though a simple design is sufficient for this study."
   ]
  },
  {
   "cell_type": "code",
   "execution_count": null,
   "metadata": {

   },
   "outputs": [

   ],
   "source": [
    "celltype <- factor(celltype)\n",
    "design <- model.matrix(~0+celltype)\n",
    "colnames(design) <- levels(celltype)\n",
    "design"
   ]
  },
  {
   "cell_type": "markdown",
   "metadata": {

   },
   "source": [
    "### Estimating the NB dispersion\n",
    "\n",
    "The `RangedSummarizedExperiment` object is coerced into a `DGEList` object (plus offsets) prior to entry into *[edgeR](http://bioconductor.org/packages/edgeR)*. Estimation of the NB dispersion is then performed. Specifically, a NB dispersion trend is fitted to all windows against the average abundance. This means that empirical mean-dispersion trends can be flexibly modelled."
   ]
  },
  {
   "cell_type": "code",
   "execution_count": null,
   "metadata": {

   },
   "outputs": [

   ],
   "source": [
    "## This code chunk was hidden in the original document, but was exectute in the background\n",
    "library(statmod)\n",
    "library(locfit)"
   ]
  },
  {
   "cell_type": "code",
   "execution_count": null,
   "metadata": {

   },
   "outputs": [

   ],
   "source": [
    "library(edgeR)\n",
    "y <- asDGEList(filtered.data)\n",
    "y$offset <- offsets\n",
    "y <- estimateDisp(y, design)\n",
    "summary(y$trended.dispersion)"
   ]
  },
  {
   "cell_type": "markdown",
   "metadata": {

   },
   "source": "The NB dispersion trend is visualized in Figure 5 as the biological coefficient of variation (BCV), i.e., the square root of the NB dispersion. A trend that decreases to a plateau with increasing abundance is typical of many analyses, including those of RNA-seq and ChIP-seq data. Note that only the trended dispersion will be used in the downstream steps -- the common and tagwise values are only shown for diagnostic purposes. Specifically, the common BCV provides an overall measure of the variability in the data set, averaged across all windows. Data sets with common BCVs ranging from 10 to 20% are considered to have low variability, i.e., counts are highly reproducible. The tagwise BCVs should also be dispersed above and below the fitted trend, indicating that the fit was successful."
  },
  {
   "cell_type": "code",
   "execution_count": null,
   "metadata": {

   },
   "outputs": [

   ],
   "source": "plotBCV(y)"
  },
  {
   "cell_type": "markdown",
   "metadata": {

   },
   "source": [
    "For most data sets, one would expect to see a trend that decreases to a plateau with increasing average abundance. This reflects the greater reliability of large counts, where the effects of stochasticity and technical artifacts (e.g., mapping errors, PCR duplicates) are averaged out. In Figure 5, the range of abundances after filtering is such that the plateau has already been reached. This is still a satisfactory result, as it indicates that the retained windows have low variability and more power to detect DB.\n",
    "\n",
    "### Estimating the QL dispersion\n",
    "\n",
    "Additional modelling is provided with the QL methods in *[edgeR](http://bioconductor.org/packages/edgeR)* (Lund et al. 2012). This introduces a QL dispersion parameter for each window, which captures variability in the NB dispersion around the fitted trend for each window. Thus, the QL dispersion can model window-specific variability, whereas the NB dispersion trend is averaged across many windows. However, with limited replicates, there is not enough information for each window to stably estimate the QL dispersion. This is overcome by sharing information between windows with empirical Bayes (EB) shrinkage. The instability of the QL dispersion estimates is reduced by squeezing the estimates towards an abundance-dependent trend (Figure 6)."
   ]
  },
  {
   "cell_type": "code",
   "execution_count": null,
   "metadata": {

   },
   "outputs": [

   ],
   "source": [
    "fit <- glmQLFit(y, design, robust=TRUE)\n",
    "plotQLDisp(fit)"
   ]
  },
  {
   "cell_type": "markdown",
   "metadata": {

   },
   "source": "The extent of shrinkage is determined by the prior degrees of freedom (d.f.). Large prior d.f. indicates that the dispersions were similar across windows, such that strong shrinkage to the trend could be performed to increase stability and power. Small prior d.f. indicates that the dispersions were more variable. In such cases, less squeezing is performed as strong shrinkage would be inappropriate. Also note the use of `robust=TRUE`, which reduces the sensitivity of the EB procedures to outlier windows."
  },
  {
   "cell_type": "code",
   "execution_count": null,
   "metadata": {

   },
   "outputs": [

   ],
   "source": "summary(fit$df.prior)"
  },
  {
   "cell_type": "markdown",
   "metadata": {

   },
   "source": [
    "### Examining the data with MDS plots\n",
    "\n",
    "Multi-dimensional scaling (MDS) plots can be used to examine the similarities between libraries. The distance between a pair of libraries on this plot represents the overall log-fold change between those libraries. Ideally, replicates should cluster together while samples from different conditions should be separate. In Figure 7, strong separation in the first dimension is observed between libraries from different cell types. This indicates that significant differences are likely to be present between cell types in this data set."
   ]
  },
  {
   "cell_type": "code",
   "execution_count": null,
   "metadata": {

   },
   "outputs": [

   ],
   "source": [
    "plotMDS(norm.adjc, labels=celltype,\n",
    "    col=c(\"red\", \"blue\")[as.integer(celltype)])"
   ]
  },
  {
   "cell_type": "markdown",
   "metadata": {

   },
   "source": [
    "Testing for DB and controlling the FDR\n",
    "--------------------------------------\n",
    "\n",
    "### Testing for DB with QL F-tests\n",
    "\n",
    "Each window is tested for significant differences between cell types using the QL F-test (Lund et al. 2012). This is superior to the likelihood ratio test that is typically used for GLMs, as the QL F-test accounts for the uncertainty in dispersion estimation. One *p*-value is produced for each window, representing the evidence against the null hypothesis (i.e., no DB). For this analysis, the comparison is parametrized such that the reported log-fold changes represent that of pro-B cells over mature B counterparts."
   ]
  },
  {
   "cell_type": "code",
   "execution_count": null,
   "metadata": {

   },
   "outputs": [

   ],
   "source": [
    "contrast <- makeContrasts(proB-matureB, levels=design)\n",
    "res <- glmQLFTest(fit, contrast=contrast)\n",
    "head(res$table)"
   ]
  },
  {
   "cell_type": "markdown",
   "metadata": {

   },
   "source": [
    "### Controlling the FDR across regions\n",
    "\n",
    "One might attempt to control the FDR by applying the Benjamini-Hochberg (BH) method to the window-level *p*-values (Benjamini and Hochberg 1995). However, the features of interest are not windows, but the genomic regions that they represent. Control of the FDR across windows does not guarantee control of the FDR across regions (Lun and Smyth 2014). The latter is arguably more relevant for the final interpretation of the results.\n",
    "\n",
    "Control of the region-level FDR can be provided by aggregating windows into regions and combining the *p*-values. Here, adjacent windows less than 100 bp apart are aggregated into clusters. Each cluster represents a genomic region. Smaller values of `tol` allow distinct marking events to kept separate, while larger values provide a broader perspective, e.g., by considering adjacent co-regulated sites as a single entity. Chaining effects are mitigated by setting a maximum cluster width of 5 kbp."
   ]
  },
  {
   "cell_type": "code",
   "execution_count": null,
   "metadata": {

   },
   "outputs": [

   ],
   "source": "merged <- mergeWindows(rowRanges(filtered.data), tol=100, max.width=5000)"
  },
  {
   "cell_type": "markdown",
   "metadata": {

   },
   "source": "A combined *p*-value is computed for each cluster using the method of Simes (1986), based on the *p*-values of the constituent windows. This represents the evidence against the global null hypothesis for each cluster, i.e., that no DB exists in any of its windows. Rejection of this global null indicates that the cluster (and the region that it represents) contains DB. Applying the BH method to the combined *p*-values allows the region-level FDR to be controlled."
  },
  {
   "cell_type": "code",
   "execution_count": null,
   "metadata": {

   },
   "outputs": [

   ],
   "source": [
    "tabcom <- combineTests(merged$id, res$table)\n",
    "head(tabcom)"
   ]
  },
  {
   "cell_type": "markdown",
   "metadata": {

   },
   "source": [
    "Each row of the output table contains the statistics for a single cluster, including the combined *p*-value before and after the BH correction. The `nWindows` field describes the total number of windows in the cluster. The `logFC.up` and `logFC.down` fields describe the number of windows with a log-fold change above 0.5 or below -0.5 in each cluster, respectively. This can be used to determine the direction of DB in each cluster.\n",
    "\n",
    "### Examining the scope and direction of DB\n",
    "\n",
    "The total number of DB regions at a FDR of 5% can be easily calculated."
   ]
  },
  {
   "cell_type": "code",
   "execution_count": null,
   "metadata": {

   },
   "outputs": [

   ],
   "source": [
    "is.sig <- tabcom$FDR <= 0.05\n",
    "summary(is.sig)"
   ]
  },
  {
   "cell_type": "markdown",
   "metadata": {

   },
   "source": "Determining the direction of DB is more complicated, as clusters could potentially contain windows that are changing in opposite directions. One approach is to define the direction based on the number of windows changing in each direction, as described above. Another approach is to use the log-fold change of the most significant window as a proxy for the log-fold change of the cluster. This is generally satisfactory, though it will not capture multiple changes in opposite directions. It also tends to overstate the change in each cluster."
  },
  {
   "cell_type": "code",
   "execution_count": null,
   "metadata": {

   },
   "outputs": [

   ],
   "source": [
    "tabbest <- getBestTest(merged$id, res$table)\n",
    "head(tabbest)"
   ]
  },
  {
   "cell_type": "markdown",
   "metadata": {

   },
   "source": "In the above table, each row contains the statistics for each cluster. Of interest are the `best` and `logFC` fields. The former is the index of the window that is the most significant in each cluster, while the latter is the log-fold change of that window. This can be used to obtain a summary of the direction of DB across all clusters/regions."
  },
  {
   "cell_type": "code",
   "execution_count": null,
   "metadata": {

   },
   "outputs": [

   ],
   "source": [
    "is.sig.pos <- (tabbest$logFC > 0)[is.sig]\n",
    "summary(is.sig.pos)"
   ]
  },
  {
   "cell_type": "markdown",
   "metadata": {

   },
   "source": [
    "Saving results to file\n",
    "----------------------\n",
    "\n",
    "Results can be saved to file prior to further manipulation. One approach is to store all statistics in the metadata of a `GRanges` object. This is useful as it keeps the statistics and coordinates together for each cluster, avoiding problems with synchronization in downstream steps. The midpoint and log-fold change of the best window are also stored."
   ]
  },
  {
   "cell_type": "code",
   "execution_count": null,
   "metadata": {

   },
   "outputs": [

   ],
   "source": [
    "out.ranges <- merged$region\n",
    "elementMetadata(out.ranges) <- data.frame(tabcom,\n",
    "    best.pos=mid(ranges(rowRanges(filtered.data[tabbest$best]))),\n",
    "    best.logFC=tabbest$logFC)\n",
    "saveRDS(file=\"h3k9ac_results.rds\", out.ranges)"
   ]
  },
  {
   "cell_type": "markdown",
   "metadata": {

   },
   "source": "For input into other programs like genome browsers, results can be saved in a more conventional format. Here, coordinates of DB regions are saved in BED format via *[rtracklayer](http://bioconductor.org/packages/rtracklayer)*, using a log-transformed FDR as the score."
  },
  {
   "cell_type": "code",
   "execution_count": null,
   "metadata": {

   },
   "outputs": [

   ],
   "source": [
    "simplified <- out.ranges[is.sig]\n",
    "simplified$score <- -10*log10(simplified$FDR)\n",
    "export(con=\"h3k9ac_results.bed\", object=simplified)"
   ]
  },
  {
   "cell_type": "markdown",
   "metadata": {

   },
   "source": "Saving the `RangedSummarizedExperiment` objects is also recommended. This avoids the need to re-run the time-consuming read counting steps if parts of the analysis need to be repeated. Similarly, the `DGEList` object is saved so that the *[edgeR](http://bioconductor.org/packages/edgeR)* statistics can be easily recovered."
  },
  {
   "cell_type": "code",
   "execution_count": null,
   "metadata": {

   },
   "outputs": [

   ],
   "source": "save(file=\"h3k9ac_objects.Rda\", win.data, bins, y)"
  },
  {
   "cell_type": "markdown",
   "metadata": {

   },
   "source": [
    "Interpreting the DB results\n",
    "===========================\n",
    "\n",
    "Adding gene-centric annotation\n",
    "------------------------------\n",
    "\n",
    "### Using the `detailRanges` function\n",
    "\n",
    "*[csaw](http://bioconductor.org/packages/csaw)* provides its own annotation function, `detailRanges`. This identifies all genic features overlapping each region and reports them in a compact string form. Briefly, features are reported as `SYMBOL|EXONS|STRAND` where `SYMBOL` represents the gene symbol, `EXONS` lists the overlapping exons (`0` for promoters, `I` for introns), and `STRAND` reports the strand. Multiple overlapping features for different genes are separated by commas within the string for each region."
   ]
  },
  {
   "cell_type": "code",
   "execution_count": null,
   "metadata": {

   },
   "outputs": [

   ],
   "source": [
    "library(org.Mm.eg.db)\n",
    "library(TxDb.Mmusculus.UCSC.mm10.knownGene)\n",
    "anno <- detailRanges(out.ranges, orgdb=org.Mm.eg.db,\n",
    "    txdb=TxDb.Mmusculus.UCSC.mm10.knownGene)\n",
    "head(anno$overlap)"
   ]
  },
  {
   "cell_type": "markdown",
   "metadata": {

   },
   "source": "Annotated features that flank the region of interest are also reported. The description for each feature is formatted as described above but with an extra `[DISTANCE]` field, representing the distance (in base pairs) between that feature and the region. By default, only flanking features within 5 kbp of each region are considered."
  },
  {
   "cell_type": "code",
   "execution_count": null,
   "metadata": {

   },
   "outputs": [

   ],
   "source": [
    "head(anno$left)\n",
    "head(anno$right)"
   ]
  },
  {
   "cell_type": "markdown",
   "metadata": {

   },
   "source": "The annotation for each region can then be stored in metadata of the `GRanges` object. The compact string form is useful for human interpretation, as it allows rapid examination of all genic features neighbouring each region."
  },
  {
   "cell_type": "code",
   "execution_count": null,
   "metadata": {

   },
   "outputs": [

   ],
   "source": [
    "meta <- elementMetadata(out.ranges) \n",
    "elementMetadata(out.ranges) <- data.frame(meta, anno)"
   ]
  },
  {
   "cell_type": "markdown",
   "metadata": {

   },
   "source": [
    "### Using the *[ChIPpeakAnno](http://bioconductor.org/packages/ChIPpeakAnno)* package\n",
    "\n",
    "As its name suggests, the *[ChIPpeakAnno](http://bioconductor.org/packages/ChIPpeakAnno)* package is designed to annotate peaks from ChIP-seq experiments (Zhu et al. 2010). A `GRanges` object containing all regions of interest is supplied to the relevant function, after removing all previous metadata fields to reduce clutter. The gene closest to each region is then reported. Gene coordinates are taken from the NCBI mouse 38 annotation, which is roughly equivalent to the annotation in the mm10 genome build."
   ]
  },
  {
   "cell_type": "code",
   "execution_count": null,
   "metadata": {

   },
   "outputs": [

   ],
   "source": [
    "library(ChIPpeakAnno)\n",
    "data(TSS.mouse.GRCm38)\n",
    "minimal <- out.ranges\n",
    "elementMetadata(minimal) <- NULL\n",
    "anno.regions <- annotatePeakInBatch(minimal, AnnotationData=TSS.mouse.GRCm38)\n",
    "colnames(elementMetadata(anno.regions))"
   ]
  },
  {
   "cell_type": "markdown",
   "metadata": {

   },
   "source": [
    "Alternatively, identification of all overlapping features within, say, 5 kbp can be achieved by setting `maxgap=5000` and `output=\"overlapping\"` in `annotatePeakInBatch`. This will report each overlapping feature in a separate entry of the returned `GRanges` object, i.e., each input region may have multiple output values. In contrast, `detailRanges` will report all overlapping features for a region as a single string, i.e., each input region has one output value. Which is preferable depends on the purpose of the annotation -- the `detailRanges` output is more convenient for direct annotation of a DB list, while the `annotatePeakInBatch` output contains more information and is more convenient for further manipulation.\n",
    "\n",
    "### Reporting gene-based results\n",
    "\n",
    "Another approach to annotation is to flip the problem around, such that DB statistics are reported directly for features of interest like genes. This is more convenient when the DB analysis needs to be integrated with, e.g., DE analyses of matching RNA-seq data. In the code below, promoter coordinates are obtained by running `detailRanges` without specifying any regions. All windows overlapping each promoter are defined as a cluster, and DB statistics are computed as previously described for each cluster/promoter. This directly yields results for annotated features (with some `NA` values, representing those promoters that have no overlapping windows)."
   ]
  },
  {
   "cell_type": "code",
   "execution_count": null,
   "metadata": {

   },
   "outputs": [

   ],
   "source": [
    "anno.ranges <- detailRanges(orgdb=org.Mm.eg.db, \n",
    "   txdb=TxDb.Mmusculus.UCSC.mm10.knownGene)\n",
    "promoters <- anno.ranges[anno.ranges$exon==0L]\n",
    "olap <- findOverlaps(promoters, rowRanges(filtered.data))\n",
    "tabprom <- combineOverlaps(olap, res$table)\n",
    "head(data.frame(Gene=promoters$symbol, tabprom)[!is.na(tabprom$PValue),])"
   ]
  },
  {
   "cell_type": "markdown",
   "metadata": {

   },
   "source": [
    "Note that this is distinct from counting reads across promoters. Using promoter-level counts would not provide enough spatial resolution to detect sharp binding events that only occur in a subinterval of the promoter. In particular, detection may be compromised by non-specific background or the presence of multiple opposing DB events in the same promoter. Combining window-level statistics is preferable as resolution is maintained for optimal performance.\n",
    "\n",
    "Visualizing DB results\n",
    "----------------------\n",
    "\n",
    "### Overview\n",
    "\n",
    "Here, the *[Gviz](http://bioconductor.org/packages/Gviz)* package is used to visualize read coverage across the data set at regions of interest. Coverage in each BAM file will be represented by a single track. Several additional tracks will also be included in each plot. One is the genome axis track, to display the genomic coordinates across the plotted region. The other is the annotation track containing gene models, with gene IDs replaced by symbols (where possible) for easier reading."
   ]
  },
  {
   "cell_type": "code",
   "execution_count": null,
   "metadata": {

   },
   "outputs": [

   ],
   "source": [
    "library(Gviz)\n",
    "gax <- GenomeAxisTrack(col=\"black\", fontsize=15, size=2)\n",
    "greg <- GeneRegionTrack(TxDb.Mmusculus.UCSC.mm10.knownGene, showId=TRUE, \n",
    "    geneSymbol=TRUE, name=\"\", background.title=\"transparent\")\n",
    "symbols <- unlist(mapIds(org.Mm.eg.db, gene(greg), \"SYMBOL\", \n",
    "    \"ENTREZID\", multiVals = \"first\"))\n",
    "symbol(greg) <- symbols[gene(greg)]"
   ]
  },
  {
   "cell_type": "markdown",
   "metadata": {

   },
   "source": [
    "### Simple DB across a broad region\n",
    "\n",
    "To begin with, the top-ranking DB region will be visualized. This represents a simple DB event where the entire region changes in one direction (Figure 8). Specifically, it represents an increase in H3K9ac marking at the *H2-Aa* locus. This is consistent with the expected biology -- H3K9ac is a mark of active gene expression (Karmodiya et al. 2012) and MHCII components are upregulated in mature B cells (Hoffmann et al. 2002)."
   ]
  },
  {
   "cell_type": "code",
   "execution_count": null,
   "metadata": {

   },
   "outputs": [

   ],
   "source": [
    "o <- order(out.ranges$PValue)\n",
    "cur.region <- out.ranges[o[1]]\n",
    "cur.region"
   ]
  },
  {
   "cell_type": "code",
   "execution_count": null,
   "metadata": {

   },
   "outputs": [

   ],
   "source": [
    "## This code chunk was hidden in the original document, but was exectute in the background\n",
    "if (!overlapsAny(cur.region, GRanges(\"chr17\", IRanges(34285101, 34289950)), type=\"equal\")) {\n",
    "    warning(\"first region does not match expectations\")\n",
    "}"
   ]
  },
  {
   "cell_type": "markdown",
   "metadata": {

   },
   "source": "One track is plotted for each library, in addition to the coordinate and annotation tracks. Coverage is plotted in terms of sequencing depth-per-million at each base. This corrects for differences in library sizes between tracks."
  },
  {
   "cell_type": "code",
   "execution_count": null,
   "metadata": {

   },
   "outputs": [

   ],
   "source": [
    "## setting Jupyter plotting size\n",
    "options(repr.plot.width=8,repr.plot.height=6)"
   ]
  },
  {
   "cell_type": "code",
   "execution_count": null,
   "metadata": {

   },
   "outputs": [

   ],
   "source": [
    "collected <- list()\n",
    "lib.sizes <- filtered.data$totals/1e6\n",
    "for (i in 1:length(bam.files)) { \n",
    "    reads <- extractReads(bam.file=bam.files[i], cur.region, param=param)\n",
    "    cov <- as(coverage(reads)/lib.sizes[i], \"GRanges\")\n",
    "    collected[[i]] <- DataTrack(cov, type=\"histogram\", lwd=0, ylim=c(0,10), \n",
    "        name=bam.files[i], col.axis=\"black\", col.title=\"black\",\n",
    "        fill=\"darkgray\", col.histogram=NA)\n",
    "}\n",
    "plotTracks(c(gax, collected, greg), chromosome=as.character(seqnames(cur.region)),\n",
    "    from=start(cur.region), to=end(cur.region))"
   ]
  },
  {
   "cell_type": "markdown",
   "metadata": {

   },
   "source": [
    "### Complex DB across a broad region\n",
    "\n",
    "Complex DB refers to situations where multiple DB events are occurring within the same enriched region. These are identified as those clusters that contain windows changing in both directions. Here, the second-ranking complex cluster is selected for visualization (the top-ranking complex cluster is adjacent to the region used in the previous example, so another region is chosen for some variety)."
   ]
  },
  {
   "cell_type": "code",
   "execution_count": null,
   "metadata": {

   },
   "outputs": [

   ],
   "source": [
    "complex <- out.ranges$logFC.up > 0 & out.ranges$logFC.down > 0\n",
    "cur.region <- out.ranges[o[complex[o]][2]]\n",
    "cur.region"
   ]
  },
  {
   "cell_type": "code",
   "execution_count": null,
   "metadata": {

   },
   "outputs": [

   ],
   "source": [
    "## This code chunk was hidden in the original document, but was exectute in the background\n",
    "if (!overlapsAny(cur.region, GRanges(\"chr5\", IRanges(122987201, 122991450)), type=\"equal\")) {\n",
    "    warning(\"second region does not match expectations\")\n",
    "}"
   ]
  },
  {
   "cell_type": "markdown",
   "metadata": {

   },
   "source": "This region contains a bidirectional promoter where different genes are marked in the different cell types (Figure 9). Upon differentiation to mature B cells, loss of marking in one part of the region is balanced by a gain in marking in another part of the region. This represents a complex DB event that would not be detected if reads were counted across the entire region."
  },
  {
   "cell_type": "code",
   "execution_count": null,
   "metadata": {

   },
   "outputs": [

   ],
   "source": [
    "## setting Jupyter plotting size\n",
    "options(repr.plot.width=8,repr.plot.height=6)"
   ]
  },
  {
   "cell_type": "code",
   "execution_count": null,
   "metadata": {

   },
   "outputs": [

   ],
   "source": [
    "collected <- list()\n",
    "for (i in 1:length(bam.files)) { \n",
    "    reads <- extractReads(bam.file=bam.files[i], cur.region, param=param)\n",
    "    cov <- as(coverage(reads)/lib.sizes[i], \"GRanges\")\n",
    "    collected[[i]] <- DataTrack(cov, type=\"histogram\", lwd=0, ylim=c(0,3), \n",
    "        name=bam.files[i], col.axis=\"black\", col.title=\"black\",\n",
    "        fill=\"darkgray\", col.histogram=NA)\n",
    "}\n",
    "plotTracks(c(gax, collected, greg), chromosome=as.character(seqnames(cur.region)),\n",
    "    from=start(cur.region), to=end(cur.region))"
   ]
  },
  {
   "cell_type": "markdown",
   "metadata": {

   },
   "source": [
    "### Simple DB across a small region\n",
    "\n",
    "Both of the examples above involve differential marking within broad regions spanning several kilobases. This is consistent with changes in the marking profile across a large number of nucleosomes. However, H3K9ac marking can also be concentrated into small regions, involving only a few nucleosomes. *[csaw](http://bioconductor.org/packages/csaw)* is equally capable of detecting \"sharp\" DB within these small regions. This can be demonstrated by examining those clusters that contain a smaller number of windows."
   ]
  },
  {
   "cell_type": "code",
   "execution_count": null,
   "metadata": {

   },
   "outputs": [

   ],
   "source": [
    "sharp <- out.ranges$nWindows < 20\n",
    "cur.region <- out.ranges[o[sharp[o]][1]]\n",
    "cur.region"
   ]
  },
  {
   "cell_type": "code",
   "execution_count": null,
   "metadata": {

   },
   "outputs": [

   ],
   "source": [
    "## This code chunk was hidden in the original document, but was exectute in the background\n",
    "if (!overlapsAny(cur.region, GRanges(\"chr16\", IRanges(36665551, 36666200)), type=\"equal\")) {\n",
    "    warning(\"second region does not match expectations\")\n",
    "}"
   ]
  },
  {
   "cell_type": "markdown",
   "metadata": {

   },
   "source": "Marking is increased for mature B cells within a 500 bp region (Figure 10), which is sharper than the changes in the previous two examples. This also coincides with the promoter of the *Cd86* gene. Again, this makes biological sense as CD86 is involved in regulating immunoglobulin production in activated B-cells (Podojil and Sanders 2003)."
  },
  {
   "cell_type": "code",
   "execution_count": null,
   "metadata": {

   },
   "outputs": [

   ],
   "source": [
    "## setting Jupyter plotting size\n",
    "options(repr.plot.width=8,repr.plot.height=6)"
   ]
  },
  {
   "cell_type": "code",
   "execution_count": null,
   "metadata": {

   },
   "outputs": [

   ],
   "source": [
    "collected <- list()\n",
    "for (i in 1:length(bam.files)) { \n",
    "    reads <- extractReads(bam.file=bam.files[i], cur.region, param=param)\n",
    "    cov <- as(coverage(reads)/lib.sizes[i], \"GRanges\")\n",
    "    collected[[i]] <- DataTrack(cov, type=\"histogram\", lwd=0, ylim=c(0,3), \n",
    "        name=bam.files[i], col.axis=\"black\", col.title=\"black\",\n",
    "        fill=\"darkgray\", col.histogram=NA)\n",
    "}\n",
    "plotTracks(c(gax, collected, greg), chromosome=as.character(seqnames(cur.region)),\n",
    "    from=start(cur.region), to=end(cur.region))"
   ]
  },
  {
   "cell_type": "markdown",
   "metadata": {

   },
   "source": "Note that the window size will determine whether sharp or broad events are preferentially detected. Larger windows provide more power to detect broad events (as the counts are higher), while smaller windows provide more resolution to detect sharp events. Optimal detection of all features can be obtained by performing analyses with multiple window sizes and consolidating the results, though -- for brevity -- this will not be described here. In general, smaller window sizes are preferred as strong DB events with sufficient coverage will always be detected. For larger windows, detection may be confounded by other events within the window that distort the log-fold change in the counts between conditions."
  },
  {
   "cell_type": "code",
   "execution_count": null,
   "metadata": {

   },
   "outputs": [

   ],
   "source": [
    "## This code chunk was hidden in the original document, but was exectute in the background\n",
    "#ECHO=FALSE\n",
    "unlink(bam.files)\n",
    "unlink(paste0(bam.files, \".bai\"))"
   ]
  },
  {
   "cell_type": "code",
   "execution_count": null,
   "metadata": {

   },
   "outputs": [

   ],
   "source": [
    "## This code chunk was hidden in the original document, but was exectute in the background\n",
    "#ECHO=FALSE\n",
    "rm(list=setdiff(ls(), protected))\n",
    "gc()"
   ]
  },
  {
   "cell_type": "markdown",
   "metadata": {

   },
   "source": [
    "Repeating the analysis for the CBP data\n",
    "=======================================\n",
    "\n",
    "Overview\n",
    "--------\n",
    "\n",
    "A window-based DB analysis will be shown for transcription factor (TF) data, to complement the histone mark analysis above. This data set compares CBP binding between wild-type (WT) and CBP knock-out (KO) animals (Kasper et al. 2014). The aim is to use *[csaw](http://bioconductor.org/packages/csaw)* and other Bioconductor packages to identify DB sites between genotypes. Most, if not all, of these sites should be increased in the WT, given that protein function should be compromised in the KO.\n",
    "\n",
    "Aligning reads from CBP libraries\n",
    "---------------------------------\n",
    "\n",
    "Libraries are downloaded from the NCBI GEO data series GSE54453, using the SRA accessions listed below. The data set contains two biological replicates for each of the two genotypes. One file is available for each library, i.e., no technical replicates."
   ]
  },
  {
   "cell_type": "code",
   "execution_count": null,
   "metadata": {

   },
   "outputs": [

   ],
   "source": [
    "sra.numbers <- c(\"SRR1145787\", \"SRR1145788\", \"SRR1145789\", \"SRR1145790\")\n",
    "genotype <- c(\"wt\", \"wt\", \"ko\", \"ko\")\n",
    "all.sra <- paste0(sra.numbers, \".sra\")\n",
    "data.frame(SRA=all.sra, Condition=genotype)"
   ]
  },
  {
   "cell_type": "markdown",
   "metadata": {

   },
   "source": "SRA files are unpacked to yield FASTQ files with the raw read sequences."
  },
  {
   "cell_type": "markdown",
   "metadata": {

   },
   "source": [
    "``` r\n",
    "for (sra in all.sra) { \n",
    "    code <- system(paste(\"fastq-dump\", sra))\n",
    "    stopifnot(code==0L)\n",
    "}\n",
    "all.fastq <- paste0(sra.numbers, \".fastq\")",
    "\n```"
   ]
  },
  {
   "cell_type": "markdown",
   "metadata": {

   },
   "source": "Reads are aligned to the mm10 genome using *[Rsubread](http://bioconductor.org/packages/Rsubread)*. Here, the default consensus threshold is used as the reads are longer (75 bp). A Phred offset of +64 is also used, instead of the default +33 used in the previous analysis."
  },
  {
   "cell_type": "markdown",
   "metadata": {

   },
   "source": [
    "``` r\n",
    "bam.files <- paste0(sra.numbers, \".bam\")\n",
    "align(index=\"index/mm10\", readfile1=all.fastq, type=1, phredOffset=64, \n",
    "    input_format=\"FASTQ\", output_file=bam.files)",
    "\n```"
   ]
  },
  {
   "cell_type": "markdown",
   "metadata": {

   },
   "source": "Alignments in each BAM file are sorted by coordinate. Duplicate reads are marked, and the resulting files are indexed."
  },
  {
   "cell_type": "markdown",
   "metadata": {

   },
   "source": [
    "``` r\n",
    "temp.bam <- \"cbp_temp.bam\"\n",
    "temp.file <- \"cbp_metric.txt\"\n",
    "temp.dir <- \"cbp_working\"\n",
    "dir.create(temp.dir)\n",
    "for (bam in bam.files) {\n",
    "    out <- suppressWarnings(sortBam(bam, \"cbp_temp\"))\n",
    "    file.rename(out, bam)\n",
    "    code <- system(sprintf(\"MarkDuplicates I=%s O=%s M=%s \\\\\n",
    "        TMP_DIR=%s AS=true REMOVE_DUPLICATES=false \\\\\n",
    "        VALIDATION_STRINGENCY=SILENT\", \n",
    "        bam, temp.bam, temp.file, temp.dir))\n",
    "    stopifnot(code==0L)\n",
    "    file.rename(temp.bam, bam)\n",
    "}\n",
    "indexBam(bam.files)",
    "\n```"
   ]
  },
  {
   "cell_type": "markdown",
   "metadata": {

   },
   "source": "Some mapping statistics can be reported as previously described. For brevity, the code will not be shown here, as it is identical to that used for the H3K9ac analysis."
  },
  {
   "cell_type": "code",
   "execution_count": null,
   "metadata": {

   },
   "outputs": [

   ],
   "source": [
    "## This code chunk was hidden in the original document, but was exectute in the background\n",
    "#ECHO=FALSE\n",
    "bam.files <- paste0(sra.numbers, \".bam\")"
   ]
  },
  {
   "cell_type": "code",
   "execution_count": null,
   "metadata": {

   },
   "outputs": [

   ],
   "source": [
    "## This code chunk was hidden in the original document, but was exectute in the background\n",
    "#ECHO=FALSE\n",
    "for (bam in bam.files) {\n",
    "    bam.url <- paste0(core.loc, bam)\n",
    "    download.file(bam.url, bam)\n",
    "    download.file(paste0(bam.url, \".bai\"), paste0(bam, \".bai\"))\n",
    "}"
   ]
  },
  {
   "cell_type": "code",
   "execution_count": null,
   "metadata": {

   },
   "outputs": [

   ],
   "source": [
    "diagnostics <- list()\n",
    "for (bam in bam.files) {\n",
    "    total <- countBam(bam)$records\n",
    "    mapped <- countBam(bam, param=ScanBamParam(\n",
    "        flag=scanBamFlag(isUnmapped=FALSE)))$records\n",
    "    marked <- countBam(bam, param=ScanBamParam(\n",
    "        flag=scanBamFlag(isUnmapped=FALSE, isDuplicate=TRUE)))$records\n",
    "    diagnostics[[bam]] <- c(Total=total, Mapped=mapped, Marked=marked)\n",
    "}\n",
    "diag.stats <- data.frame(do.call(rbind, diagnostics))\n",
    "diag.stats$Prop.mapped <- diag.stats$Mapped/diag.stats$Total*100\n",
    "diag.stats$Prop.marked <- diag.stats$Marked/diag.stats$Mapped*100\n",
    "diag.stats"
   ]
  },
  {
   "cell_type": "markdown",
   "metadata": {

   },
   "source": [
    "Detecting DB between genotypes for CBP\n",
    "--------------------------------------\n",
    "\n",
    "### Counting reads into windows\n",
    "\n",
    "First, a `readParam` object is constructed to standardize the parameter settings in this analysis. The ENCODE blacklist is again used to remove reads in problematic regions. For consistency, the MAPQ threshold of 50 is also re-used here for removing poorly aligned reads. Lower thresholds (e.g., from 10 to 20) can be used for longer reads with more reliable mapping locations - though in practice, the majority of long read alignments reported by *[Rsubread](http://bioconductor.org/packages/Rsubread)* tend to have very high or very low MAPQ scores, such that the exact choice of the MAPQ threshold is not a critical parameter."
   ]
  },
  {
   "cell_type": "code",
   "execution_count": null,
   "metadata": {

   },
   "outputs": [

   ],
   "source": "param <- readParam(minq=50, discard=blacklist)"
  },
  {
   "cell_type": "markdown",
   "metadata": {

   },
   "source": "The average fragment length is estimated by maximizing the cross-correlation function, as previously described."
  },
  {
   "cell_type": "code",
   "execution_count": null,
   "metadata": {

   },
   "outputs": [

   ],
   "source": [
    "x <- correlateReads(bam.files, param=reform(param, dedup=TRUE))\n",
    "frag.len <- which.max(x) - 1\n",
    "frag.len"
   ]
  },
  {
   "cell_type": "markdown",
   "metadata": {

   },
   "source": "Reads are then counted into sliding windows. For TF data analyses, smaller windows are necessary to capture sharp binding sites. A large window size will be suboptimal as the count for a particular site will be \"contaminated\" by non-specific background in the neighbouring regions. In this case, a window size of 10 bp is used."
  },
  {
   "cell_type": "code",
   "execution_count": null,
   "metadata": {

   },
   "outputs": [

   ],
   "source": [
    "win.data <- windowCounts(bam.files, param=param, width=10, ext=frag.len)\n",
    "win.data"
   ]
  },
  {
   "cell_type": "markdown",
   "metadata": {

   },
   "source": [
    "The default spacing of 50 bp is also used here. This may seem inappropriate, given that the windows are only 10 bp. However, reads lying in the interval between adjacent windows will still be counted into several windows. This is because reads are extended to the value of `frag.len`, which is substantially larger than the 50 bp spacing. Again, smaller spacings can be used but will provide little benefit, given that each extended read already overlaps multiple windows.\n",
    "\n",
    "### Normalization for composition biases\n",
    "\n",
    "Composition biases are introduced when the amount of DB in each condition is unbalanced (Robinson and Oshlack 2010; Lun and Smyth 2014). More binding in one condition means that more reads are sequenced at the binding sites, leaving fewer reads for the rest of the genome. This suppresses the genomic coverage at non-DB sites, resulting in spurious differences between libraries. To remove this bias, reads are counted into large genomic bins. Most bins are assumed to represent non-DB background regions. Any systematic differences in the coverage of those bins is attributed to composition bias and is normalized out. Specifically, the TMM method (Robinson and Oshlack 2010) is applied to compute normalization factors from the bin counts. These factors can then be applied to the DB analysis with the window counts."
   ]
  },
  {
   "cell_type": "code",
   "execution_count": null,
   "metadata": {

   },
   "outputs": [

   ],
   "source": [
    "bins <- windowCounts(bam.files, bin=TRUE, width=10000, param=param)\n",
    "normfacs <- normOffsets(bins)\n",
    "normfacs"
   ]
  },
  {
   "cell_type": "markdown",
   "metadata": {

   },
   "source": "The effect of normalization can be visualized with some mean-difference plots between pairs of libraries (Figure 11). The dense cloud in each plot represents the majority of bins in the genome. These are assumed to mostly contain background regions. A non-zero log-fold change for these bins indicates that composition bias is present between libraries. The red line represents the log-ratio of normalization factors and passes through the centre of the cloud in each plot, indicating that the bias has been successfully identified and removed."
  },
  {
   "cell_type": "code",
   "execution_count": null,
   "metadata": {

   },
   "outputs": [

   ],
   "source": [
    "## setting Jupyter plotting size\n",
    "options(repr.plot.width=12,repr.plot.height=6)"
   ]
  },
  {
   "cell_type": "code",
   "execution_count": null,
   "metadata": {

   },
   "outputs": [

   ],
   "source": [
    "y.bin <- asDGEList(bins)\n",
    "bin.ab <- aveLogCPM(y.bin)\n",
    "adjc <- cpm(y.bin, log=TRUE)\n",
    "par(cex.lab=1.5, mfrow=c(1,3))\n",
    "smoothScatter(bin.ab, adjc[,1]-adjc[,4], ylim=c(-6, 6),\n",
    "    xlab=\"Average abundance\", ylab=\"Log-ratio (1 vs 4)\")\n",
    "abline(h=log2(normfacs[1]/normfacs[4]), col=\"red\")\n",
    "smoothScatter(bin.ab, adjc[,2]-adjc[,4], ylim=c(-6, 6),\n",
    "    xlab=\"Average abundance\", ylab=\"Log-ratio (2 vs 4)\")\n",
    "abline(h=log2(normfacs[2]/normfacs[4]), col=\"red\")\n",
    "smoothScatter(bin.ab, adjc[,3]-adjc[,4], ylim=c(-6, 6),\n",
    "    xlab=\"Average abundance\", ylab=\"Log-ratio (3 vs 4)\")\n",
    "abline(h=log2(normfacs[3]/normfacs[4]), col=\"red\")"
   ]
  },
  {
   "cell_type": "markdown",
   "metadata": {

   },
   "source": [
    "Note that this normalization strategy is quite different from that in the H3K9ac analysis. Here, systematic DB in one direction is expected between conditions, given that CBP function is lost in the KO genotype. This means that the assumption of a non-DB majority (required for non-linear normalization of the H3K9ac data) is not valid. No such assumption is made by the binned-TMM approach described above, which makes it more appropriate for use in the CBP analysis.\n",
    "\n",
    "### Filtering of low-abundance windows\n",
    "\n",
    "Removal of low-abundance windows is performed as previously described. The majority of windows in background regions are filtered out upon applying a modest fold-change threshold. This leaves a small set of relevant windows for further analysis."
   ]
  },
  {
   "cell_type": "code",
   "execution_count": null,
   "metadata": {

   },
   "outputs": [

   ],
   "source": [
    "filter.stat <- filterWindows(win.data, bins, type=\"global\")\n",
    "min.fc <- 3\n",
    "keep <- filter.stat$filter > log2(min.fc)\n",
    "summary(keep)\n",
    "filtered.data <- win.data[keep,]"
   ]
  },
  {
   "cell_type": "markdown",
   "metadata": {

   },
   "source": [
    "It should be noted that the 10 kbp bins are used here for filtering, while smaller 2 kbp bins were used in the corresponding step for the H3K9ac analysis. This is purely for convenience -- the 10 kbp counts for this data set were previously loaded for normalization, and can be re-used during filtering to save time. Changes in bin size will have little impact on the results, so long as the bins (and their counts) are large enough for precise estimation of the background abundance. While smaller bins provide greater spatial resolution, this is irrelevant for quantifying coverage in large background regions that span most of the genome.\n",
    "\n",
    "### Statistical modelling of biological variability\n",
    "\n",
    "Counts for each window are modelled using *[edgeR](http://bioconductor.org/packages/edgeR)* as previously described. First, a design matrix needs to be constructed."
   ]
  },
  {
   "cell_type": "code",
   "execution_count": null,
   "metadata": {

   },
   "outputs": [

   ],
   "source": [
    "genotype <- factor(genotype)\n",
    "design <- model.matrix(~0+genotype)\n",
    "colnames(design) <- levels(genotype)\n",
    "design"
   ]
  },
  {
   "cell_type": "markdown",
   "metadata": {

   },
   "source": "Estimation of the NB and QL dispersions is then performed. The estimated NB dispersions are substantially larger than those observed in the H3K9ac data set. In addition, the estimated prior d.f. is infinite. This is consistent with a batch effect between replicates. The dispersions for all windows are inflated to a similarly large value by the batch effect, resulting in low variability in the dispersions across windows."
  },
  {
   "cell_type": "code",
   "execution_count": null,
   "metadata": {

   },
   "outputs": [

   ],
   "source": [
    "y <- asDGEList(filtered.data, norm.factors=normfacs)\n",
    "y <- estimateDisp(y, design)\n",
    "summary(y$trended.dispersion)\n",
    "fit <- glmQLFit(y, design, robust=TRUE)\n",
    "summary(fit$df.prior)"
   ]
  },
  {
   "cell_type": "markdown",
   "metadata": {

   },
   "source": [
    "The presence of a large batch effect between replicates is not ideal. Nonetheless, the DB analysis can proceed, albeit with some loss of power due to the inflated NB dispersions.\n",
    "\n",
    "### Testing for DB\n",
    "\n",
    "DB windows are identified using the QL F-test. Windows are clustered into regions, and the region-level FDR is controlled using Simes' method. All significant regions have increased CBP binding in the WT genotype. This is expected, given that protein function should be lost in the KO genotype."
   ]
  },
  {
   "cell_type": "code",
   "execution_count": null,
   "metadata": {

   },
   "outputs": [

   ],
   "source": [
    "contrast <- makeContrasts(wt-ko, levels=design)\n",
    "res <- glmQLFTest(fit, contrast=contrast)\n",
    "merged <- mergeWindows(rowRanges(filtered.data), tol=100, max.width=5000)\n",
    "tabcom <- combineTests(merged$id, res$table)\n",
    "tabbest <- getBestTest(merged$id, res$table)\n",
    "is.sig <- tabcom$FDR <= 0.05\n",
    "summary(is.sig)\n",
    "is.sig.pos <- (tabbest$logFC > 0)[is.sig]\n",
    "summary(is.sig.pos)"
   ]
  },
  {
   "cell_type": "markdown",
   "metadata": {

   },
   "source": "These results can be saved to file, as previously described. Key objects are also saved for convenience."
  },
  {
   "cell_type": "code",
   "execution_count": null,
   "metadata": {

   },
   "outputs": [

   ],
   "source": [
    "out.ranges <- merged$region\n",
    "elementMetadata(out.ranges) <- data.frame(tabcom,\n",
    "    best.pos=mid(ranges(rowRanges(filtered.data[tabbest$best]))),\n",
    "    best.logFC=tabbest$logFC)\n",
    "saveRDS(file=\"cbp_results.rds\", out.ranges)\n",
    "save(file=\"cbp_objects.Rda\", win.data, bins, y)"
   ]
  },
  {
   "cell_type": "markdown",
   "metadata": {

   },
   "source": [
    "Annotation and visualization\n",
    "----------------------------\n",
    "\n",
    "Annotation is added using the `detailRanges` function, as previously described."
   ]
  },
  {
   "cell_type": "code",
   "execution_count": null,
   "metadata": {

   },
   "outputs": [

   ],
   "source": [
    "anno <- detailRanges(out.ranges, orgdb=org.Mm.eg.db,\n",
    "            txdb=TxDb.Mmusculus.UCSC.mm10.knownGene)\n",
    "meta <- elementMetadata(out.ranges) \n",
    "elementMetadata(out.ranges) <- data.frame(meta, anno)"
   ]
  },
  {
   "cell_type": "markdown",
   "metadata": {

   },
   "source": "The top-ranked DB event will be visualized here. This corresponds to a simple DB event, as all windows are changing in the same direction, i.e., up in the WT. The binding region is also quite small relative to some of the H3K9ac examples, consistent with sharp TF binding to a specific recognition site."
  },
  {
   "cell_type": "code",
   "execution_count": null,
   "metadata": {

   },
   "outputs": [

   ],
   "source": [
    "o <- order(out.ranges$PValue)    \n",
    "cur.region <- out.ranges[o[1]]\n",
    "cur.region"
   ]
  },
  {
   "cell_type": "code",
   "execution_count": null,
   "metadata": {

   },
   "outputs": [

   ],
   "source": [
    "## This code chunk was hidden in the original document, but was exectute in the background\n",
    "if (!overlapsAny(cur.region, GRanges(\"chr16\", IRanges(70313851, 70314860)), type=\"equal\")) {\n",
    "        warning(\"first region does not match expectations\")\n",
    "}"
   ]
  },
  {
   "cell_type": "markdown",
   "metadata": {

   },
   "source": "Plotting is performed using two tracks for each library -- one for the forward-strand coverage, another for the reverse-strand coverage. This allows visualization of the strand bimodality that is characteristic of genuine TF binding sites. In Figure 12, two adjacent sites are present at the *Gbe1* promoter, both of which exhibit increased binding in the WT genotype. Coverage is also substantially different between the WT replicates, consistent with the presence of a batch effect."
  },
  {
   "cell_type": "code",
   "execution_count": null,
   "metadata": {

   },
   "outputs": [

   ],
   "source": [
    "## setting Jupyter plotting size\n",
    "options(repr.plot.height=6,repr.plot.width=8)"
   ]
  },
  {
   "cell_type": "code",
   "execution_count": null,
   "metadata": {

   },
   "outputs": [

   ],
   "source": [
    "collected <- list()\n",
    "lib.sizes <- filtered.data$totals/1e6\n",
    "for (i in 1:length(bam.files)) { \n",
    "    reads <- extractReads(bam.file=bam.files[i], cur.region, param=param)\n",
    "    pcov <- as(coverage(reads[strand(reads)==\"+\"])/lib.sizes[i], \"GRanges\")\n",
    "    ncov <- as(coverage(reads[strand(reads)==\"-\"])/-lib.sizes[i], \"GRanges\")\n",
    "    ptrack <- DataTrack(pcov, type=\"histogram\", lwd=0, ylim=c(-5, 5), \n",
    "        name=bam.files[i], col.axis=\"black\", col.title=\"black\",\n",
    "        fill=\"blue\", col.histogram=NA)\n",
    "    ntrack <- DataTrack(ncov, type=\"histogram\", lwd=0, ylim=c(-5, 5),\n",
    "        fill=\"red\", col.histogram=NA)\n",
    "    collected[[i]] <- OverlayTrack(trackList=list(ptrack, ntrack))\n",
    "}\n",
    "plotTracks(c(gax, collected, greg), chromosome=as.character(seqnames(cur.region)),\n",
    "    from=start(cur.region), to=end(cur.region))"
   ]
  },
  {
   "cell_type": "markdown",
   "metadata": {

   },
   "source": "Note that that the `gax` and `greg` objects are the same as those used in the visualization of the H3k9ac data."
  },
  {
   "cell_type": "code",
   "execution_count": null,
   "metadata": {

   },
   "outputs": [

   ],
   "source": [
    "## This code chunk was hidden in the original document, but was exectute in the background\n",
    "#ECHO=FALSE\n",
    "unlink(bam.files)\n",
    "unlink(paste0(bam.files, \".bai\"))"
   ]
  },
  {
   "cell_type": "code",
   "execution_count": null,
   "metadata": {

   },
   "outputs": [

   ],
   "source": [
    "## This code chunk was hidden in the original document, but was exectute in the background\n",
    "#ECHO=FALSE\n",
    "rm(list=setdiff(ls(), pre.existing))\n",
    "gc()"
   ]
  },
  {
   "cell_type": "markdown",
   "metadata": {

   },
   "source": [
    "Summary\n",
    "=======\n",
    "\n",
    "This workflow describes the steps of a window-based DB analysis, from read alignment through to visualization of DB regions. All steps are performed within the R environment and mostly use functions from Bioconductor packages. In particular, the core of the workflow -- the detection of DB regions -- is based on a combination of *[csaw](http://bioconductor.org/packages/csaw)* and *[edgeR](http://bioconductor.org/packages/edgeR)*. Analyses are shown for histone mark and TF data sets, with differences in parametrization that are appropriate to each data type. Readers are encouraged to apply the concepts and code presented in this article to their own data.\n",
    "\n",
    "Software availability\n",
    "=====================\n",
    "\n",
    "This workflow depends on various packages from version 3.2 of the Bioconductor project, running on *R* version 3.2.2 or higher. It requires a number of software packages, including *[csaw](http://bioconductor.org/packages/csaw)*, *[edgeR](http://bioconductor.org/packages/edgeR)*, *[Rsubread](http://bioconductor.org/packages/Rsubread)*, *[Rsamtools](http://bioconductor.org/packages/Rsamtools)*, *[Gviz](http://bioconductor.org/packages/Gviz)*, *[rtracklayer](http://bioconductor.org/packages/rtracklayer)* and *[ChIPpeakAnno](http://bioconductor.org/packages/ChIPpeakAnno)*. It also depends on the annotation packages *[org.Mm.eg.db](http://bioconductor.org/packages/org.Mm.eg.db)* and *[TxDb.Mmusculus.UCSC.mm10.knownGene](http://bioconductor.org/packages/TxDb.Mmusculus.UCSC.mm10.knownGene)*. Version numbers for all packages used are shown below."
   ]
  },
  {
   "cell_type": "code",
   "execution_count": null,
   "metadata": {

   },
   "outputs": [

   ],
   "source": "sessionInfo()"
  },
  {
   "cell_type": "markdown",
   "metadata": {

   },
   "source": [
    "For the command-line tools, the `fastq-dump` utility (version 2.4.2) from the SRA Toolkit must be installed on the system, along with the `MarkDuplicates` command from the Picard software suite (version 1.117). Readers should note that the read alignment steps for each data set can only be performed on Unix or Mac OS. This is because the various `system` calls assume that a Unix-style command-line interface is present. In addition, *[Rsubread](http://bioconductor.org/packages/Rsubread)* is not supported for Windows. However, downstream analyses of the BAM files can be performed using any platform on which *R* can be installed.\n",
    "\n",
    "Author contributions\n",
    "====================\n",
    "\n",
    "A.T.T.L. developed and tested the workflow on the H3K9ac and CBP data sets. G.K.S. provided direction on the design of the workflow. Both A.T.T.L. and G.K.S. wrote the article.\n",
    "\n",
    "Competing interests\n",
    "===================\n",
    "\n",
    "No competing interests were disclosed.\n",
    "\n",
    "Grant information\n",
    "=================\n",
    "\n",
    "National Health and Medical Research Council (Program Grant 1054618 to G.K.S., Fellowship to G.K.S.); Victorian State Government Operational Infrastructure Support; Australian Government NHMRC IRIIS.\n",
    "\n",
    "Acknowledgements\n",
    "================\n",
    "\n",
    "The authors would like to thank Prof. Stephen Nutt for his valuable insights on B-cell biology.\n",
    "\n",
    "References\n",
    "==========\n",
    "\n",
    "Ballman, K. V., D. E. Grill, A. L. Oberg, and T. M. Therneau. 2004. “Faster cyclic loess: normalizing RNA arrays via linear models.” *Bioinformatics* 20 (16): 2778–86.\n",
    "\n",
    "Benjamini, Y., and Y. Hochberg. 1995. “Controlling the False Discovery Rate: A Practical and Powerful Approach to Multiple Testing.” *J. Royal Stat. Soc. B* 57: 289–300.\n",
    "\n",
    "Edgar, R., M. Domrachev, and A. E. Lash. 2002. “Gene Expression Omnibus: NCBI gene expression and hybridization array data repository.” *Nucleic Acids Res.* 30 (1): 207–10.\n",
    "\n",
    "ENCODE Project Consortium. 2012. “An integrated encyclopedia of DNA elements in the human genome.” *Nature* 489 (7414): 57–74.\n",
    "\n",
    "Hoffmann, R., T. Seidl, M. Neeb, A. Rolink, and F. Melchers. 2002. “Changes in gene expression profiles in developing B cells of murine bone marrow.” *Genome Res.* 12 (1): 98–111.\n",
    "\n",
    "Huber, W., V. J. Carey, R. Gentleman, S. Anders, M. Carlson, B. S. Carvalho, H. C. Bravo, et al. 2015. “Orchestrating high-throughput genomic analysis with Bioconductor.” *Nat. Methods* 12 (2): 115–21.\n",
    "\n",
    "Humburg, P., C. A. Helliwell, D. Bulger, and G. Stone. 2011. “ChIPseqR: analysis of ChIP-seq experiments.” *BMC Bioinformatics* 12: 39.\n",
    "\n",
    "Karmodiya, K., A. R. Krebs, M. Oulad-Abdelghani, H. Kimura, and L. Tora. 2012. “H3K9 and H3K14 acetylation co-occur at many gene regulatory elements, while H3K14ac marks a subset of inactive inducible promoters in mouse embryonic stem cells.” *BMC Genomics* 13: 424.\n",
    "\n",
    "Kasper, L. H., C. Qu, J. C. Obenauer, D. J. McGoldrick, and P. K. Brindle. 2014. “Genome-wide and single-cell analyses reveal a context dependent relationship between CBP recruitment and gene expression.” *Nucleic Acids Res.* 42 (18): 11363–82.\n",
    "\n",
    "Kharchenko, P. V., M. Y. Tolstorukov, and P. J. Park. 2008. “Design and analysis of ChIP-seq experiments for DNA-binding proteins.” *Nat. Biotechnol.* 26 (12): 1351–9.\n",
    "\n",
    "Landt, S. G., G. K. Marinov, A. Kundaje, P. Kheradpour, F. Pauli, S. Batzoglou, B. E. Bernstein, et al. 2012. “ChIP-seq guidelines and practices of the ENCODE and modENCODE consortia.” *Genome Res.* 22 (9): 1813–31.\n",
    "\n",
    "Lawrence, M., R. Gentleman, and V. Carey. 2009. “rtracklayer: an R package for interfacing with genome browsers.” *Bioinformatics* 25 (14): 1841–2.\n",
    "\n",
    "Liang, K., and S. Keles. 2012. “Detecting differential binding of transcription factors with ChIP-seq.” *Bioinformatics* 28 (1): 121–22.\n",
    "\n",
    "Liao, Y., G. K. Smyth, and W. Shi. 2013. “The Subread aligner: fast, accurate and scalable read mapping by seed-and-vote.” *Nucleic Acids Res.* 41 (10): e108.\n",
    "\n",
    "Lun, A. T., and G. K. Smyth. 2014. “De novo detection of differentially bound regions for ChIP-seq data using peaks and windows: controlling error rates correctly.” *Nucleic Acids Res.* 42 (11): e95.\n",
    "\n",
    "———. 2015. “csaw: a Bioconductor package for differential binding analysis of ChIP-seq data using sliding windows.” *Nucleic Acids Res.* In press.\n",
    "\n",
    "Lund, S. P., D. Nettleton, D. J. McCarthy, and G. K. Smyth. 2012. “Detecting differential expression in RNA-sequence data using quasi-likelihood with shrunken dispersion estimates.” *Stat. Appl. Genet. Mol. Biol.* 11 (5): Article 8.\n",
    "\n",
    "McCarthy, D. J., Y. Chen, and G. K. Smyth. 2012. “Differential expression analysis of multifactor RNA-Seq experiments with respect to biological variation.” *Nucleic Acids Res.* 40 (10): 4288–97.\n",
    "\n",
    "Pal, B., T. Bouras, W. Shi, F. Vaillant, J. M. Sheridan, N. Fu, K. Breslin, et al. 2013. “Global changes in the mammary epigenome are induced by hormonal cues and coordinated by Ezh2.” *Cell Rep* 3 (2): 411–26.\n",
    "\n",
    "Podojil, J. R., and V. M. Sanders. 2003. “Selective regulation of mature IgG1 transcription by CD86 and beta 2-adrenergic receptor stimulation.” *J. Immunol.* 170 (10): 5143–51.\n",
    "\n",
    "Revilla-I-Domingo, R., I. Bilic, B. Vilagos, H. Tagoh, A. Ebert, I. M. Tamir, L. Smeenk, et al. 2012. “The B-cell identity factor Pax5 regulates distinct transcriptional programmes in early and late B lymphopoiesis.” *EMBO J.* 31 (14): 3130–46.\n",
    "\n",
    "Robinson, M. D., and A. Oshlack. 2010. “A scaling normalization method for differential expression analysis of RNA-seq data.” *Genome Biol.* 11 (3): R25.\n",
    "\n",
    "Robinson, M. D., D. J. McCarthy, and G. K. Smyth. 2010. “edgeR: a Bioconductor package for differential expression analysis of digital gene expression data.” *Bioinformatics* 26 (1): 139–40.\n",
    "\n",
    "Rosenbloom, K. R., J. Armstrong, G. P. Barber, J. Casper, H. Clawson, M. Diekhans, T. R. Dreszer, et al. 2015. “The UCSC Genome Browser database: 2015 update.” *Nucleic Acids Res.* 43 (Database issue): D670–681.\n",
    "\n",
    "Ross-Innes, C. S., R. Stark, A. E. Teschendorff, K. A. Holmes, H. R. Ali, M. J. Dunning, G. D. Brown, et al. 2012. “Differential oestrogen receptor binding is associated with clinical outcome in breast cancer.” *Nature* 481 (7381): 389–93.\n",
    "\n",
    "Simes, R. J. 1986. “An Improved Bonferroni Procedure for Multiple Tests of Significance.” *Biometrika* 73 (3): 751–54.\n",
    "\n",
    "Zhang, Y., T. Liu, C. A. Meyer, J. Eeckhoute, D. S. Johnson, B. E. Bernstein, C. Nusbaum, et al. 2008. “Model-based analysis of ChIP-Seq (MACS).” *Genome Biol.* 9 (9): R137.\n",
    "\n",
    "Zhu, L. J., C. Gazin, N. D. Lawson, H. Pages, S. M. Lin, D. S. Lapointe, and M. R. Green. 2010. “ChIPpeakAnno: a Bioconductor package to annotate ChIP-seq and ChIP-chip data.” *BMC Bioinformatics* 11: 237."
   ]
  }
 ],
 "metadata": {
  "kernelspec": {
   "display_name": "R",
   "language": "R",
   "name": "ir"
  }
 },
 "nbformat": 4,
 "nbformat_minor": 0
}

{
 "cells": [
  {
   "cell_type": "markdown",
   "metadata": {},
   "source": [
    "-   [Background](#background)\n",
    "-   [The gwascat package for the EMBL-EBI (formerly NHGRI) GWAS\n",
    "    catalog](#the-gwascat-package-for-the-embl-ebi-formerly-nhgri-gwas-catalog)\n",
    "    -   [Basic operations, fields, and interactive\n",
    "        tabulation](#basic-operations-fields-and-interactive-tabulation)\n",
    "-   [GRASP](#grasp)\n",
    "-   [Genomic contexts and interpretations of\n",
    "    variants](#genomic-contexts-and-interpretations-of-variants)\n",
    "    -   [Presence in exons](#presence-in-exons)\n",
    "    -   [SIFT scores](#sift-scores)\n",
    "    -   [ChromHmm segmentation](#chromhmm-segmentation)\n",
    "    -   [Regions of chromatin\n",
    "        modification](#regions-of-chromatin-modification)\n",
    "-   [Conclusions](#conclusions)\n",
    "-   [Appendix: Bioconductor infrastructure supporting genetic data\n",
    "    analysis](#appendix-bioconductor-infrastructure-supporting-genetic-data-analysis)\n",
    "    -   [Reference builds of the human genome\n",
    "        sequence](#reference-builds-of-the-human-genome-sequence)\n",
    "    -   [From dbSNP to GRanges](#from-dbsnp-to-granges)"
   ]
  },
  {
   "cell_type": "code",
   "execution_count": 1,
   "metadata": {},
   "outputs": [],
   "source": [
    "## This code chunk was hidden in the original document, but was executed in the background\n",
    "knitr::opts_chunk$set(results=\"hide\", message=FALSE, warning=FALSE, fig.show=\"hide\", echo=TRUE)"
   ]
  },
  {
   "cell_type": "code",
   "execution_count": 2,
   "metadata": {},
   "outputs": [
    {
     "name": "stderr",
     "output_type": "stream",
     "text": [
      "snapshotDate(): 2015-12-29\n",
      "Now getting the GODb Object directly\n",
      "Now getting the OrgDb Object directly\n",
      "Now getting the TxDb Object directly\n"
     ]
    }
   ],
   "source": [
    "## This code chunk was hidden in the original document, but was executed in the background\n",
    "suppressPackageStartupMessages({\n",
    "library(BiocStyle)\n",
    "library(AnnotationHub)\n",
    "ah = AnnotationHub()\n",
    "library(gwascat)\n",
    "library(GenomicFiles)\n",
    "library(rtracklayer)\n",
    "library(DT)\n",
    "library(SIFT.Hsapiens.dbSNP132)\n",
    "library(grasp2db)\n",
    "library(BSgenome)\n",
    "library(\"SNPlocs.Hsapiens.dbSNP144.GRCh37\")\n",
    "#library(BSgenome.Hsapiens.NCBI.GRCh38)\n",
    "library(BSgenome.Hsapiens.UCSC.hg19)\n",
    "})"
   ]
  },
  {
   "cell_type": "markdown",
   "metadata": {},
   "source": [
    "Background\n",
    "==========\n",
    "\n",
    "The table of contents of Vogel and Motulsky's [*Human Genetics: Problems and Approaches*](https://books.google.com/books?id=xuztCAAAQBAJ&lpg=PA6&dq=human%20genetics&pg=PR32#v=onepage&q=human%20genetics&f=false) is a worthy survey of concepts addressed in research on human genetics and genetic medicine. The frontiers of knowledge in the field are shifting, and expectations are high.\n",
    "\n",
    "In this workflow, I aim to show how researchers can use R to interrogate important resources of use in human genetic epidemiology and medical genomics. I show how to program with two genome-wide association study (GWAS) catalogs, the [EMBL-EBI GWAS catalog](https://www.ebi.ac.uk/gwas/) and the [NHLBI GRASP v2.0](http://iapps.nhlbi.nih.gov/GRASP/Overview.aspx). Aspects of findings reported in these studies are then integrated with new functional and structural annotation resources to aid in variant interpretation. An appendix provides brief treatment of \"reference genome builds\" for *Homo sapiens*, packages for querying contents of the [NCBI dbSNP](http://www.ncbi.nlm.nih.gov/SNP/), and tools for obtaining and programming with gene models.\n",
    "\n",
    "The gwascat package for the EMBL-EBI (formerly NHGRI) GWAS catalog\n",
    "==================================================================\n",
    "\n",
    "Basic operations, fields, and interactive tabulation\n",
    "----------------------------------------------------\n",
    "\n",
    "The NHGRI version of the GWAS catalog is presented using hg19( GRCh37) coordinates."
   ]
  },
  {
   "cell_type": "code",
   "execution_count": 3,
   "metadata": {},
   "outputs": [
    {
     "data": {
      "text/html": [
       "17254"
      ],
      "text/latex": [
       "17254"
      ],
      "text/markdown": [
       "17254"
      ],
      "text/plain": [
       "[1] 17254"
      ]
     },
     "execution_count": 3,
     "metadata": {},
     "output_type": "execute_result"
    },
    {
     "data": {
      "text/plain": [
       "gwasloc instance with 17254 records and 35 attributes per record.\n",
       "Extracted:  Mon Sep  8 13:08:13 2014 \n",
       "Genome:  hg19 \n",
       "Excerpt:\n",
       "GRanges object with 5 ranges and 35 metadata columns:\n",
       "    seqnames                 ranges strand | Date.Added.to.Catalog  PUBMEDID\n",
       "       <Rle>              <IRanges>  <Rle> |           <character> <integer>\n",
       "  1    chr19 [  7739177,   7739177]      * |            04/16/2014  24123702\n",
       "  2     chr6 [ 32626601,  32626601]      * |            08/02/2014  24388013\n",
       "  3     chr4 [ 38799710,  38799710]      * |            08/02/2014  24388013\n",
       "  4     chr5 [110467499, 110467499]      * |            08/02/2014  24388013\n",
       "  5     chr2 [102966549, 102966549]      * |            08/02/2014  24388013\n",
       "    First.Author        Date                Journal\n",
       "     <character> <character>            <character>\n",
       "  1     Chung CM  03/03/2014 Diabetes Metab Res Rev\n",
       "  2  Ferreira MA  12/30/2013 J Allergy Clin Immunol\n",
       "  3  Ferreira MA  12/30/2013 J Allergy Clin Immunol\n",
       "  4  Ferreira MA  12/30/2013 J Allergy Clin Immunol\n",
       "  5  Ferreira MA  12/30/2013 J Allergy Clin Immunol\n",
       "                                           Link\n",
       "                                    <character>\n",
       "  1 http://www.ncbi.nlm.nih.gov/pubmed/24123702\n",
       "  2 http://www.ncbi.nlm.nih.gov/pubmed/24388013\n",
       "  3 http://www.ncbi.nlm.nih.gov/pubmed/24388013\n",
       "  4 http://www.ncbi.nlm.nih.gov/pubmed/24388013\n",
       "  5 http://www.ncbi.nlm.nih.gov/pubmed/24388013\n",
       "                                                                                                                                                                                                        Study\n",
       "                                                                                                                                                                                                  <character>\n",
       "  1 Common quantitative trait locus downstream of RETN gene identified by genome-wide association study is associated with risk of type 2 diabetes mellitus in Han Chinese: a Mendelian randomization effect.\n",
       "  2                                                                                         Genome-wide association analysis identifies 11 risk variants associated with the asthma with hay fever phenotype.\n",
       "  3                                                                                         Genome-wide association analysis identifies 11 risk variants associated with the asthma with hay fever phenotype.\n",
       "  4                                                                                         Genome-wide association analysis identifies 11 risk variants associated with the asthma with hay fever phenotype.\n",
       "  5                                                                                         Genome-wide association analysis identifies 11 risk variants associated with the asthma with hay fever phenotype.\n",
       "           Disease.Trait\n",
       "             <character>\n",
       "  1     Resistin levels \n",
       "  2 Asthma and hay fever\n",
       "  3 Asthma and hay fever\n",
       "  4 Asthma and hay fever\n",
       "  5 Asthma and hay fever\n",
       "                                                 Initial.Sample.Size\n",
       "                                                         <character>\n",
       "  1                             382 Han Chinese ancestry indiviudals\n",
       "  2 6,685 European ancestry cases, 14,091 European ancestry controls\n",
       "  3 6,685 European ancestry cases, 14,091 European ancestry controls\n",
       "  4 6,685 European ancestry cases, 14,091 European ancestry controls\n",
       "  5 6,685 European ancestry cases, 14,091 European ancestry controls\n",
       "                                          Replication.Sample.Size      Region\n",
       "                                                      <character> <character>\n",
       "  1                          559 Han Chinese ancestry indiviudals     19p13.2\n",
       "  2 878 European ancestry cases, 2,455 European ancestry controls     6p21.32\n",
       "  3 878 European ancestry cases, 2,455 European ancestry controls        4p14\n",
       "  4 878 European ancestry cases, 2,455 European ancestry controls      5q22.1\n",
       "  5 878 European ancestry cases, 2,455 European ancestry controls      2q12.1\n",
       "         Chr_id Chr_pos.hg38 Reported.Gene.s.      Mapped_gene Upstream_gene_id\n",
       "    <character>    <numeric>      <character>      <character>      <character>\n",
       "  1          19      7674291             RETN  RETN - C19orf59            56729\n",
       "  2           6     32658824         HLA-DQB1          TRNAI25             <NA>\n",
       "  3           4     38798089             TLR1             TLR1             <NA>\n",
       "  4           5    111131801           WDR36  WDR36 - RPS3AP21           134430\n",
       "  5           2    102350089           IL1RL1           IL1RL1             <NA>\n",
       "    Downstream_gene_id Snp_gene_ids Upstream_gene_distance\n",
       "           <character>  <character>            <character>\n",
       "  1             199675                                3.84\n",
       "  2               <NA>    100189401                   <NA>\n",
       "  3               <NA>         7096                   <NA>\n",
       "  4             402287                                 1.3\n",
       "  5               <NA>         9173                   <NA>\n",
       "    Downstream_gene_distance Strongest.SNP.Risk.Allele        SNPs      Merged\n",
       "                 <character>               <character> <character> <character>\n",
       "  1                     2.77               rs1423096-G   rs1423096           0\n",
       "  2                     <NA>               rs9273373-G   rs9273373           0\n",
       "  3                     <NA>               rs4833095-T   rs4833095           0\n",
       "  4                    60.38               rs1438673-C   rs1438673           0\n",
       "  5                     <NA>              rs10197862-A  rs10197862           0\n",
       "    Snp_id_current     Context  Intergenic Risk.Allele.Frequency   p.Value\n",
       "       <character> <character> <character>           <character> <numeric>\n",
       "  1        1423096  Intergenic           1                  0.78     1e-07\n",
       "  2        9273373                       0                  0.54     4e-14\n",
       "  3        4833095    missense           0                  0.74     5e-12\n",
       "  4        1438673  Intergenic           1                  0.49     3e-11\n",
       "  5       10197862      intron           0                  0.85     4e-11\n",
       "    Pvalue_mlog p.Value..text. OR.or.beta             X95..CI..text.\n",
       "      <numeric>    <character>  <numeric>                <character>\n",
       "  1     7.00000                      0.32 [0.25-0.40] ug/mL increase\n",
       "  2    13.39794                      1.24               [1.17-1.30] \n",
       "  3    11.30103                      1.20               [1.14-1.26] \n",
       "  4    10.52288                      1.16               [1.11-1.21] \n",
       "  5    10.39794                      1.24               [1.16-1.32] \n",
       "              Platform..SNPs.passing.QC.         CNV num.Risk.Allele.Frequency\n",
       "                             <character> <character>                 <numeric>\n",
       "  1                        Illumina [NR]           N                      0.78\n",
       "  2 Illumina [up to 4,972,397] (imputed)           N                      0.54\n",
       "  3 Illumina [up to 4,972,397] (imputed)           N                      0.74\n",
       "  4 Illumina [up to 4,972,397] (imputed)           N                      0.49\n",
       "  5 Illumina [up to 4,972,397] (imputed)           N                      0.85\n",
       "  -------\n",
       "  seqinfo: 23 sequences from hg19 genome"
      ]
     },
     "execution_count": 3,
     "metadata": {},
     "output_type": "execute_result"
    }
   ],
   "source": [
    "library(gwascat)\n",
    "data(gwrngs19)\n",
    "length(gwrngs19)\n",
    "gwrngs19"
   ]
  },
  {
   "cell_type": "markdown",
   "metadata": {},
   "source": [
    "While there are 17254 records, the number of unique loci is"
   ]
  },
  {
   "cell_type": "code",
   "execution_count": 4,
   "metadata": {},
   "outputs": [
    {
     "data": {
      "text/html": [
       "13630"
      ],
      "text/latex": [
       "13630"
      ],
      "text/markdown": [
       "13630"
      ],
      "text/plain": [
       "[1] 13630"
      ]
     },
     "execution_count": 4,
     "metadata": {},
     "output_type": "execute_result"
    }
   ],
   "source": [
    "length(unique(gwrngs19$SNPs))"
   ]
  },
  {
   "cell_type": "markdown",
   "metadata": {},
   "source": [
    "A full view of the metadata about each study result is available with the commands"
   ]
  },
  {
   "cell_type": "markdown",
   "metadata": {},
   "source": [
    "``` r\n",
    "library(DT)\n",
    "datatable(as.data.frame(mcols(gwrngs19)), options=list(autoWidth=TRUE,\n",
    "  style=\"height:30px\"), pageLength=5)\n",
    "```"
   ]
  },
  {
   "cell_type": "markdown",
   "metadata": {},
   "source": [
    "The following command generates a table restricting attention to records related to asthma."
   ]
  },
  {
   "cell_type": "code",
   "execution_count": 5,
   "metadata": {},
   "outputs": [],
   "source": [
    "suppressWarnings({\n",
    "aind = grep(\"sthma\", gwrngs19$Disease.Trait)\n",
    "easth = gwrngs19[aind]\n",
    "datatable(as.data.frame(mcols(easth)), options=list(autoWidth=TRUE,\n",
    "  style=\"height:30px\", pageLength=5))\n",
    "})"
   ]
  },
  {
   "cell_type": "markdown",
   "metadata": {},
   "source": [
    "<!--\n",
    "\n",
    "## Navigating traits using the EMBL-EBI Experimental Factor Ontology\n",
    "\n",
    "Field `MAPPED_TRAIT_URI` includes a comma-delimited string with\n",
    "URIs referring to an ontology for traits and other factors relevant\n",
    "to biological experiments and observations.  The underlying\n",
    "ontology is available in the form of an annotated algebraic graph."
   ]
  },
  {
   "cell_type": "markdown",
   "metadata": {},
   "source": [
    "``` r\n",
    "data(efo.obo.g)\n",
    "efo.obo.g\n",
    "```"
   ]
  },
  {
   "cell_type": "markdown",
   "metadata": {},
   "source": [
    "There are over 16000 terms in the ontology.  Terms and term-related\n",
    "metadata are manipulated using methods of the *[graph](http://bioconductor.org/packages/graph)*\n",
    "package."
   ]
  },
  {
   "cell_type": "markdown",
   "metadata": {},
   "source": [
    "``` r\n",
    "nodes(efo.obo.g)[1:4] # imported directly from OBO\n",
    "names(nodeData(efo.obo.g)[[1]])\n",
    "sapply(nodeData(efo.obo.g)[1:4], \"[[\", \"name\")\n",
    "```"
   ]
  },
  {
   "cell_type": "markdown",
   "metadata": {},
   "source": [
    "Let's obtain the EFO annotation for SNP `rs347412`."
   ]
  },
  {
   "cell_type": "markdown",
   "metadata": {},
   "source": [
    "``` r\n",
    "ind = which(ebicat38$SNPS == \"rs347412\")\n",
    "urs = ebicat38$MAPPED_TRAIT_URI[ind]\n",
    "urs\n",
    "```"
   ]
  },
  {
   "cell_type": "markdown",
   "metadata": {},
   "source": [
    "These entries must be converted to match the EFO OBO node\n",
    "nomenclature.  We then find the EFO names of the factors annotated\n",
    "to this SNP."
   ]
  },
  {
   "cell_type": "markdown",
   "metadata": {},
   "source": [
    "``` r\n",
    "nn = uri2node(urs)\n",
    "nd = nodeData(efo.obo.g, nn)\n",
    "sapply(nd, \"[[\", \"name\")\n",
    "```"
   ]
  },
  {
   "cell_type": "markdown",
   "metadata": {},
   "source": [
    "The current representation of the ontology is a directed graph\n",
    "with links pointing from a term to its semantic parent.  We\n",
    "convert to an undirected graph to explore semantic neighborhoods of terms.\n",
    "The `adj` method will return the nodes adjacent to a specified node.\n",
    "Here we obtain the terms accessible from `respiratory system disease`\n",
    "with a single step."
   ]
  },
  {
   "cell_type": "markdown",
   "metadata": {},
   "source": [
    "``` r\n",
    "rsdn = adj(ugraph(efo.obo.g), \"EFO:0000684\")  # respiratory system disease\n",
    "unlist(sapply(nodeData(efo.obo.g, rsdn[[1]]), \"[[\", \"name\"))\n",
    "```"
   ]
  },
  {
   "cell_type": "markdown",
   "metadata": {},
   "source": [
    "The *[RBGL](http://bioconductor.org/packages/RBGL)* package can be used to deploy diverse graph algorithms\n",
    "against this ontology.\n",
    "\n",
    "Once a node name of interest has been found, `node2uri` can be used\n",
    "with code to find\n",
    "GWAS hits deemed relevant by the curators.  We'll work with hg19\n",
    "coordinates."
   ]
  },
  {
   "cell_type": "markdown",
   "metadata": {},
   "source": [
    "``` r\n",
    "data(ebicat37)\n",
    "library(GenomeInfoDb)\n",
    "seqlevelsStyle(ebicat37) = \"UCSC\"\n",
    "genome(ebicat37) = \"hg19\"\n",
    "e270 = ebicat37[ grep(node2uri(\"EFO:0000270\"), ebicat37$MAPPED_TRAIT_URI) ]\n",
    "length(e270)\n",
    "table(e270$DISEASE.TRAIT)[1:5]\n",
    "```"
   ]
  },
  {
   "cell_type": "markdown",
   "metadata": {},
   "source": [
    "-->\n",
    "GRASP\n",
    "=====\n",
    "\n",
    "GRASP is a much denser catalog requiring a different approach to archiving and query resolution. Initial execution of `GRASP2()` will trigger a download of a 5GB SQLite database that can then be used with *[dplyr](http://cran.fhcrc.org/web/packages/dplyr/index.html)* programming. This download will not occur again unless the database has been centrally updated. This document does not evaluate the following chunk, but the output is precomputed and left static."
   ]
  },
  {
   "cell_type": "markdown",
   "metadata": {},
   "source": [
    "``` r\n",
    "library(grasp2db)\n",
    "v = tbl(GRASP2(), 'variant')\n",
    "v %>% filter(Phenotype == \"Asthma\")\n",
    "```"
   ]
  },
  {
   "cell_type": "markdown",
   "metadata": {},
   "source": [
    "<pre><code>## Source: sqlite 3.8.6 [AnnotationHub()[[&quot;AH21414&quot;]]]\n",
    "## From: variant [33,351 x 33]\n",
    "## Filter: Phenotype == &quot;Asthma&quot; \n",
    "## \n",
    "##        NHLBIkey     PMID HUPfield SNPid_dbSNP134 chr_hg19  pos_hg19\n",
    "## 1    2086050316 20860503 1/1/2014             18        7  11597475\n",
    "## 2   20860503866 20860503 1/1/2014            535        9 138396251\n",
    "## 3  208605031097 20860503 1/1/2014            686        5 174868700\n",
    "## 4  208605031186 20860503 1/1/2014            699        1 230845794\n",
    "## 5  208605031603 20860503 1/1/2014           1117        3  22085809\n",
    "## 6  208605031980 20860503 1/1/2014           1320       22  22599537\n",
    "## 7  208605032429 20860503 1/1/2014           1535       11  61597972\n",
    "## 8  208605032734 20860503 1/1/2014           1695       11  67352689\n",
    "## 9  208605032835 20860503 1/1/2014           1760        8    442079\n",
    "## 10 208605033085 20860503 1/1/2014           1899       15  41689232\n",
    "## ..          ...      ...      ...            ...      ...       ...\n",
    "## Variables not shown: SNPidInPaper (chr), LocationWithinPaper (chr), Pvalue\n",
    "##   (dbl), NegativeLog10PBin (int), Phenotype (chr), PlatformSNPsPassingQC\n",
    "##   (chr), GWASancestryDescription (chr), InGene (chr), InLincRNA (chr),\n",
    "##   InMiRNA (chr), InMiRNABS (chr), dbSNPfxn (chr), dbSNPMAF (chr),\n",
    "##   dbSNPallelesHetSe (chr), dbSNPvalidation (int), dbSNPClinStatus (chr),\n",
    "##   ORegAnno (chr), ConservPredTFBS (chr), HumanEnhancer (chr), RNAedit\n",
    "##   (chr), PolyPhen2 (chr), SIFT (chr), LS_SNP (chr), UniProt (chr),\n",
    "##   EqtlMethMetabStudy (int), DiscoverySampleDescription (chr),\n",
    "##   ReplicationSampleDescription (chr)</code></pre>\n",
    "Genomic contexts and interpretations of variants\n",
    "================================================\n",
    "\n",
    "Presence in exons\n",
    "-----------------\n",
    "\n",
    "We can map our GWAS hits to exons using the TxDb infrastructure."
   ]
  },
  {
   "cell_type": "code",
   "execution_count": 6,
   "metadata": {},
   "outputs": [
    {
     "data": {
      "text/plain": [
       "gwasloc instance with 12 records and 35 attributes per record.\n",
       "Extracted:  Mon Sep  8 13:08:13 2014 \n",
       "Genome:  hg19 \n",
       "Excerpt:\n",
       "GRanges object with 5 ranges and 35 metadata columns:\n",
       "      seqnames                 ranges strand | Date.Added.to.Catalog  PUBMEDID\n",
       "         <Rle>              <IRanges>  <Rle> |           <character> <integer>\n",
       "    3     chr4 [ 38799710,  38799710]      * |            08/02/2014  24388013\n",
       "    6    chr17 [ 38122680,  38122680]      * |            08/02/2014  24388013\n",
       "  734     chr7 [105658451, 105658451]      * |            07/25/2014  24241537\n",
       "  735    chr17 [ 38062196,  38062196]      * |            07/25/2014  24241537\n",
       "  738    chr17 [ 38121993,  38121993]      * |            07/25/2014  24241537\n",
       "      First.Author        Date                Journal\n",
       "       <character> <character>            <character>\n",
       "    3  Ferreira MA  12/30/2013 J Allergy Clin Immunol\n",
       "    6  Ferreira MA  12/30/2013 J Allergy Clin Immunol\n",
       "  734 Bonnelykke K  11/17/2013              Nat Genet\n",
       "  735 Bonnelykke K  11/17/2013              Nat Genet\n",
       "  738 Bonnelykke K  11/17/2013              Nat Genet\n",
       "                                             Link\n",
       "                                      <character>\n",
       "    3 http://www.ncbi.nlm.nih.gov/pubmed/24388013\n",
       "    6 http://www.ncbi.nlm.nih.gov/pubmed/24388013\n",
       "  734 http://www.ncbi.nlm.nih.gov/pubmed/24241537\n",
       "  735 http://www.ncbi.nlm.nih.gov/pubmed/24241537\n",
       "  738 http://www.ncbi.nlm.nih.gov/pubmed/24241537\n",
       "                                                                                                                                 Study\n",
       "                                                                                                                           <character>\n",
       "    3                Genome-wide association analysis identifies 11 risk variants associated with the asthma with hay fever phenotype.\n",
       "    6                Genome-wide association analysis identifies 11 risk variants associated with the asthma with hay fever phenotype.\n",
       "  734 A genome-wide association study identifies CDHR3 as a susceptibility locus for early childhood asthma with severe exacerbations.\n",
       "  735 A genome-wide association study identifies CDHR3 as a susceptibility locus for early childhood asthma with severe exacerbations.\n",
       "  738 A genome-wide association study identifies CDHR3 as a susceptibility locus for early childhood asthma with severe exacerbations.\n",
       "                   Disease.Trait\n",
       "                     <character>\n",
       "    3       Asthma and hay fever\n",
       "    6       Asthma and hay fever\n",
       "  734 Asthma (childhood, severe)\n",
       "  735 Asthma (childhood, severe)\n",
       "  738 Asthma (childhood, severe)\n",
       "                                                   Initial.Sample.Size\n",
       "                                                           <character>\n",
       "    3 6,685 European ancestry cases, 14,091 European ancestry controls\n",
       "    6 6,685 European ancestry cases, 14,091 European ancestry controls\n",
       "  734  1,173 European ancestry cases, 2,511 European ancestry controls\n",
       "  735  1,173 European ancestry cases, 2,511 European ancestry controls\n",
       "  738  1,173 European ancestry cases, 2,511 European ancestry controls\n",
       "                                                                         Replication.Sample.Size\n",
       "                                                                                     <character>\n",
       "    3                              878 European ancestry cases, 2,455 European ancestry controls\n",
       "    6                              878 European ancestry cases, 2,455 European ancestry controls\n",
       "  734 7,178 European ancestry cases, 10,383 European ancestry controls, 63 cases, 3,605 controls\n",
       "  735 7,178 European ancestry cases, 10,383 European ancestry controls, 63 cases, 3,605 controls\n",
       "  738 7,178 European ancestry cases, 10,383 European ancestry controls, 63 cases, 3,605 controls\n",
       "           Region      Chr_id Chr_pos.hg38 Reported.Gene.s. Mapped_gene\n",
       "      <character> <character>    <numeric>      <character> <character>\n",
       "    3        4p14           4     38798089             TLR1        TLR1\n",
       "    6     17q21.1          17     39966427           GSDMA        GSDMA\n",
       "  734      7q22.3           7    106018005            CDHR3       CDHR3\n",
       "  735       17q12          17     39905943            GSDMB       GSDMB\n",
       "  738     17q21.1          17     39965740            GSDMA       GSDMA\n",
       "      Upstream_gene_id Downstream_gene_id Snp_gene_ids Upstream_gene_distance\n",
       "           <character>        <character>  <character>            <character>\n",
       "    3             <NA>               <NA>         7096                   <NA>\n",
       "    6             <NA>               <NA>       284110                   <NA>\n",
       "  734             <NA>               <NA>       222256                   <NA>\n",
       "  735             <NA>               <NA>        55876                   <NA>\n",
       "  738             <NA>               <NA>       284110                   <NA>\n",
       "      Downstream_gene_distance Strongest.SNP.Risk.Allele        SNPs\n",
       "                   <character>               <character> <character>\n",
       "    3                     <NA>               rs4833095-T   rs4833095\n",
       "    6                     <NA>               rs7212938-G   rs7212938\n",
       "  734                     <NA>               rs6967330-A   rs6967330\n",
       "  735                     <NA>               rs2305480-G   rs2305480\n",
       "  738                     <NA>               rs3894194-A   rs3894194\n",
       "           Merged Snp_id_current     Context  Intergenic Risk.Allele.Frequency\n",
       "      <character>    <character> <character> <character>           <character>\n",
       "    3           0        4833095    missense           0                  0.74\n",
       "    6           0        7212938    missense           0                  0.46\n",
       "  734           0        6967330    missense           0                  0.19\n",
       "  735           0        2305480    missense           0                   0.6\n",
       "  738           0        3894194    missense           0                    NR\n",
       "        p.Value Pvalue_mlog p.Value..text. OR.or.beta X95..CI..text.\n",
       "      <numeric>   <numeric>    <character>  <numeric>    <character>\n",
       "    3     5e-12    11.30103                      1.20   [1.14-1.26] \n",
       "    6     4e-10     9.39794                      1.16   [1.11-1.20] \n",
       "  734     3e-14    13.52288                      1.26   [1.18-1.33] \n",
       "  735     6e-23    22.22185                      1.32   [1.23-1.39] \n",
       "  738     3e-21    20.52288                      1.59   [1.44-1.76] \n",
       "                Platform..SNPs.passing.QC.         CNV\n",
       "                               <character> <character>\n",
       "    3 Illumina [up to 4,972,397] (imputed)           N\n",
       "    6 Illumina [up to 4,972,397] (imputed)           N\n",
       "  734    Affymetrix and Illumina [124,514]           N\n",
       "  735    Affymetrix and Illumina [124,514]           N\n",
       "  738    Affymetrix and Illumina [124,514]           N\n",
       "      num.Risk.Allele.Frequency\n",
       "                      <numeric>\n",
       "    3                      0.74\n",
       "    6                      0.46\n",
       "  734                      0.19\n",
       "  735                      0.60\n",
       "  738                      <NA>\n",
       "  -------\n",
       "  seqinfo: 23 sequences from hg19 genome"
      ]
     },
     "execution_count": 6,
     "metadata": {},
     "output_type": "execute_result"
    }
   ],
   "source": [
    "library(TxDb.Hsapiens.UCSC.hg19.knownGene)\n",
    "allex = exons(TxDb.Hsapiens.UCSC.hg19.knownGene)\n",
    "subsetByOverlaps( easth, allex )"
   ]
  },
  {
   "cell_type": "markdown",
   "metadata": {},
   "source": [
    "SIFT scores\n",
    "-----------\n",
    "\n",
    "We query the SIFT resource using dbSNP identifiers."
   ]
  },
  {
   "cell_type": "code",
   "execution_count": 7,
   "metadata": {},
   "outputs": [
    {
     "name": "stderr",
     "output_type": "stream",
     "text": [
      "Warning message:\n",
      ": 138 keys not found in SIFT database: rs9273373 rs1438673 ... rs16937883 rs7216389"
     ]
    }
   ],
   "source": [
    "rsids = easth$SNPs\n",
    "library(SIFT.Hsapiens.dbSNP132)\n",
    "subst = c(\"RSID\", \"METHOD\", \"PREDICTION\", \"SCORE\")\n",
    "sif = AnnotationDbi::select(SIFT.Hsapiens.dbSNP132, keys=rsids, cols=subst)\n",
    "datatable(na.omit(sif))"
   ]
  },
  {
   "cell_type": "markdown",
   "metadata": {},
   "source": [
    "ChromHmm segmentation\n",
    "---------------------\n",
    "\n",
    "We'll use the fetal lung sample from the epigenomics road map as provided by *[AnnotationHub](http://bioconductor.org/packages/AnnotationHub)*. We use prior knowledge that tag \"E088\" refers to the fetal lung tissue study."
   ]
  },
  {
   "cell_type": "code",
   "execution_count": 8,
   "metadata": {},
   "outputs": [
    {
     "name": "stderr",
     "output_type": "stream",
     "text": [
      "snapshotDate(): 2015-12-29\n"
     ]
    },
    {
     "data": {
      "text/plain": [
       "AnnotationHub with 1 record\n",
       "# snapshotDate(): 2015-12-29 \n",
       "# names(): AH46941\n",
       "# $dataprovider: BroadInstitute\n",
       "# $species: Homo sapiens\n",
       "# $rdataclass: GRanges\n",
       "# $title: E088_15_coreMarks_mnemonics.bed.gz\n",
       "# $description: 15 state chromatin segmentations from EpigenomeRoadMap Project\n",
       "# $taxonomyid: 9606\n",
       "# $genome: hg19\n",
       "# $sourcetype: BED\n",
       "# $sourceurl: http://egg2.wustl.edu/roadmap/data/byFileType/chromhmmSegmenta...\n",
       "# $sourcelastmodifieddate: 2013-10-11\n",
       "# $sourcesize: 2825556\n",
       "# $tags: EpigenomeRoadMap, chromhmmSegmentations, ChmmModels,\n",
       "#   coreMarks, E088, Other, LNG.FET, Fetal Lung \n",
       "# retrieve record with 'object[[\"AH46941\"]]' "
      ]
     },
     "execution_count": 8,
     "metadata": {},
     "output_type": "execute_result"
    },
    {
     "data": {
      "text/html": [
       "<dl class=dl-horizontal>\n",
       "\t<dt>Quiescent/Low</dt>\n",
       "\t\t<dd>65</dd>\n",
       "\t<dt>Weak transcription</dt>\n",
       "\t\t<dd>18</dd>\n",
       "\t<dt>Weak Repressed PolyComb</dt>\n",
       "\t\t<dd>17</dd>\n",
       "\t<dt>Strong transcription</dt>\n",
       "\t\t<dd>11</dd>\n",
       "\t<dt>Enhancers</dt>\n",
       "\t\t<dd>6</dd>\n",
       "\t<dt>Repressed PolyComb</dt>\n",
       "\t\t<dd>6</dd>\n",
       "\t<dt>Heterochromatin</dt>\n",
       "\t\t<dd>3</dd>\n",
       "\t<dt>Active TSS</dt>\n",
       "\t\t<dd>2</dd>\n",
       "\t<dt>Bivalent/Poised TSS</dt>\n",
       "\t\t<dd>2</dd>\n",
       "\t<dt>Genic enhancers</dt>\n",
       "\t\t<dd>2</dd>\n",
       "\t<dt>ZNF genes & repeats</dt>\n",
       "\t\t<dd>1</dd>\n",
       "</dl>\n"
      ],
      "text/latex": [
       "\\begin{description*}\n",
       "\\item[Quiescent/Low] 65\n",
       "\\item[Weak transcription] 18\n",
       "\\item[Weak Repressed PolyComb] 17\n",
       "\\item[Strong transcription] 11\n",
       "\\item[Enhancers] 6\n",
       "\\item[Repressed PolyComb] 6\n",
       "\\item[Heterochromatin] 3\n",
       "\\item[Active TSS] 2\n",
       "\\item[Bivalent/Poised TSS] 2\n",
       "\\item[Genic enhancers] 2\n",
       "\\item[ZNF genes & repeats] 1\n",
       "\\end{description*}\n"
      ],
      "text/markdown": [
       "Quiescent/Low\n",
       ":   65Weak transcription\n",
       ":   18Weak Repressed PolyComb\n",
       ":   17Strong transcription\n",
       ":   11Enhancers\n",
       ":   6Repressed PolyComb\n",
       ":   6Heterochromatin\n",
       ":   3Active TSS\n",
       ":   2Bivalent/Poised TSS\n",
       ":   2Genic enhancers\n",
       ":   2ZNF genes & repeats\n",
       ":   1\n",
       "\n"
      ],
      "text/plain": [
       "\n",
       "          Quiescent/Low      Weak transcription Weak Repressed PolyComb \n",
       "                     65                      18                      17 \n",
       "   Strong transcription               Enhancers      Repressed PolyComb \n",
       "                     11                       6                       6 \n",
       "        Heterochromatin              Active TSS     Bivalent/Poised TSS \n",
       "                      3                       2                       2 \n",
       "        Genic enhancers     ZNF genes & repeats \n",
       "                      2                       1 "
      ]
     },
     "execution_count": 8,
     "metadata": {},
     "output_type": "execute_result"
    }
   ],
   "source": [
    "library(AnnotationHub)\n",
    "ah = AnnotationHub()\n",
    "lq = AnnotationHub::query(ah, c(\"E088\", \"state\"))\n",
    "lq\n",
    "cstates = subsetByOverlaps( ah[[\"AH46941\"]], easth )\n",
    "sort(table(cstates$name), decreasing=TRUE)"
   ]
  },
  {
   "cell_type": "markdown",
   "metadata": {},
   "source": [
    "In this way we can label variants according to their tissue-specific epigenetic contexts.\n",
    "\n",
    "Regions of chromatin modification\n",
    "---------------------------------\n",
    "\n",
    "We'll check for coincidence of our GWAS hits with peaks identified with H3K4me1 marks in fetal lung fibroblasts, using component AH43875 of the *[AnnotationHub](http://bioconductor.org/packages/AnnotationHub)*."
   ]
  },
  {
   "cell_type": "code",
   "execution_count": 9,
   "metadata": {},
   "outputs": [
    {
     "name": "stderr",
     "output_type": "stream",
     "text": [
      "snapshotDate(): 2015-12-29\n"
     ]
    },
    {
     "data": {
      "text/plain": [
       "gwasloc instance with 12 records and 35 attributes per record.\n",
       "Extracted:  Mon Sep  8 13:08:13 2014 \n",
       "Genome:  hg19 \n",
       "Excerpt:\n",
       "GRanges object with 5 ranges and 35 metadata columns:\n",
       "       seqnames                 ranges strand | Date.Added.to.Catalog  PUBMEDID\n",
       "          <Rle>              <IRanges>  <Rle> |           <character> <integer>\n",
       "     9    chr15 [ 67468285,  67468285]      * |            08/02/2014  24388013\n",
       "    11    chr16 [ 11228712,  11228712]      * |            08/02/2014  24388013\n",
       "   416    chr19 [ 52532271,  52532271]      * |            07/25/2014  24280104\n",
       "  2186     chr3 [ 35639826,  35639826]      * |            02/06/2014  23829686\n",
       "  2193     chr3 [177855632, 177855632]      * |            02/06/2014  23829686\n",
       "       First.Author        Date                Journal\n",
       "        <character> <character>            <character>\n",
       "     9  Ferreira MA  12/30/2013 J Allergy Clin Immunol\n",
       "    11  Ferreira MA  12/30/2013 J Allergy Clin Immunol\n",
       "   416        Wu AC  11/23/2013 J Allergy Clin Immunol\n",
       "  2186       Ding L  07/05/2013           Hum Genomics\n",
       "  2193       Ding L  07/05/2013           Hum Genomics\n",
       "                                               Link\n",
       "                                        <character>\n",
       "     9  http://www.ncbi.nlm.nih.gov/pubmed/24388013\n",
       "    11  http://www.ncbi.nlm.nih.gov/pubmed/24388013\n",
       "   416  http://www.ncbi.nlm.nih.gov/pubmed/24280104\n",
       "  2186 http://www.ncbi.nlm.nih.gov/pubmed/23829686 \n",
       "  2193 http://www.ncbi.nlm.nih.gov/pubmed/23829686 \n",
       "                                                                                                                                              Study\n",
       "                                                                                                                                        <character>\n",
       "     9                            Genome-wide association analysis identifies 11 risk variants associated with the asthma with hay fever phenotype.\n",
       "    11                            Genome-wide association analysis identifies 11 risk variants associated with the asthma with hay fever phenotype.\n",
       "   416                            Inhaled corticosteroid treatment modulates ZNF432 gene variant's effect on bronchodilator response in asthmatics.\n",
       "  2186 Rank-based genome-wide analysis reveals the association of ryanodine receptor-2 gene variants with childhood asthma among human populations.\n",
       "  2193 Rank-based genome-wide analysis reveals the association of ryanodine receptor-2 gene variants with childhood asthma among human populations.\n",
       "                                                                          Disease.Trait\n",
       "                                                                            <character>\n",
       "     9                                                             Asthma and hay fever\n",
       "    11                                                             Asthma and hay fever\n",
       "   416 Bronchodilator response in asthma (inhaled corticosteroid treatment interaction)\n",
       "  2186                                                         Asthma (childhood onset)\n",
       "  2193                                                         Asthma (childhood onset)\n",
       "                                                    Initial.Sample.Size\n",
       "                                                            <character>\n",
       "     9 6,685 European ancestry cases, 14,091 European ancestry controls\n",
       "    11 6,685 European ancestry cases, 14,091 European ancestry controls\n",
       "   416      172 European ancestry cases, 409 European ancestry controls\n",
       "  2186                   429 European ancestry affected offspring trios\n",
       "  2193                   429 European ancestry affected offspring trios\n",
       "                                                                  Replication.Sample.Size\n",
       "                                                                              <character>\n",
       "     9                      878 European ancestry cases, 2,455 European ancestry controls\n",
       "    11                      878 European ancestry cases, 2,455 European ancestry controls\n",
       "   416                                                        227 European ancestry cases\n",
       "  2186 52 African American affected offspring trios, 46 Hispanic affected offspring trios\n",
       "  2193 52 African American affected offspring trios, 46 Hispanic affected offspring trios\n",
       "            Region      Chr_id Chr_pos.hg38 Reported.Gene.s.\n",
       "       <character> <character>    <numeric>      <character>\n",
       "     9    15q22.33          15     67175947           SMAD3 \n",
       "    11    16p13.13          16     11134855          CLEC16A\n",
       "   416    19q13.41          19     52029018           ZNF614\n",
       "  2186      3p22.3           3     35598334       Intergenic\n",
       "  2193     3q26.32           3    178137844       Intergenic\n",
       "               Mapped_gene Upstream_gene_id Downstream_gene_id Snp_gene_ids\n",
       "               <character>      <character>        <character>  <character>\n",
       "     9               SMAD3             <NA>               <NA>         4088\n",
       "    11             CLEC16A             <NA>               <NA>        23274\n",
       "   416              ZNF614             <NA>               <NA>        80110\n",
       "  2186        LOC100130503             <NA>               <NA>    100130503\n",
       "  2193 FGFR3P4 - LINC01014        100420833          100874330             \n",
       "       Upstream_gene_distance Downstream_gene_distance\n",
       "                  <character>              <character>\n",
       "     9                   <NA>                     <NA>\n",
       "    11                   <NA>                     <NA>\n",
       "   416                   <NA>                     <NA>\n",
       "  2186                   <NA>                     <NA>\n",
       "  2193                 436.77                   281.36\n",
       "       Strongest.SNP.Risk.Allele        SNPs      Merged Snp_id_current\n",
       "                     <character> <character> <character>    <character>\n",
       "     9              rs17294280-G  rs17294280           0       17294280\n",
       "    11              rs62026376-C  rs62026376           0       62026376\n",
       "   416               rs2288884-T   rs2288884           0        2288884\n",
       "  2186              rs17033506-?  rs17033506           0       17033506\n",
       "  2193               rs9883878-?   rs9883878           0        9883878\n",
       "           Context  Intergenic Risk.Allele.Frequency   p.Value Pvalue_mlog\n",
       "       <character> <character>           <character> <numeric>   <numeric>\n",
       "     9      intron           0                  0.23     4e-09     8.39794\n",
       "    11      intron           0                  0.72     1e-08     8.00000\n",
       "   416  nearGene-5           0                  0.34     5e-08     7.30103\n",
       "  2186                       0                    NR     4e-07     6.39794\n",
       "  2193  Intergenic           1                    NR     1e-06     6.00000\n",
       "       p.Value..text. OR.or.beta X95..CI..text.\n",
       "          <character>  <numeric>    <character>\n",
       "     9                      1.18   [1.11-1.25] \n",
       "    11                      1.17   [1.11-1.24] \n",
       "   416                      <NA>             NR\n",
       "  2186                      <NA>             NR\n",
       "  2193                      <NA>             NR\n",
       "                 Platform..SNPs.passing.QC.         CNV\n",
       "                                <character> <character>\n",
       "     9 Illumina [up to 4,972,397] (imputed)           N\n",
       "    11 Illumina [up to 4,972,397] (imputed)           N\n",
       "   416                   Illumina [449,540]           N\n",
       "  2186                 Affymetrix [786,195]           N\n",
       "  2193                 Affymetrix [786,195]           N\n",
       "       num.Risk.Allele.Frequency\n",
       "                       <numeric>\n",
       "     9                      0.23\n",
       "    11                      0.72\n",
       "   416                      0.34\n",
       "  2186                      <NA>\n",
       "  2193                      <NA>\n",
       "  -------\n",
       "  seqinfo: 23 sequences from hg19 genome"
      ]
     },
     "execution_count": 9,
     "metadata": {},
     "output_type": "execute_result"
    }
   ],
   "source": [
    "library(AnnotationHub)\n",
    "ah = AnnotationHub()\n",
    "h3kf = ah[[\"AH43875\"]]\n",
    "subsetByOverlaps(easth, h3kf)"
   ]
  },
  {
   "cell_type": "markdown",
   "metadata": {},
   "source": [
    "Conclusions\n",
    "===========\n",
    "\n",
    "The use of *[GenomicRanges](http://bioconductor.org/packages/GenomicRanges)* infrastructure for representing sets of DNA variants leads to fairly simple merge and intersection operations based on genomic coordinates. These operations are useful for sorting variants into categories based on structural or functional modeling. Richly annotated ranges can be used to manage and program with GWAS catalogs, leading to efficient coupling of genomic assay results with findings of genetic epidemiology.\n",
    "\n",
    "Appendix: Bioconductor infrastructure supporting genetic data analysis\n",
    "======================================================================\n",
    "\n",
    "Reference builds of the human genome sequence\n",
    "---------------------------------------------\n",
    "\n",
    "<!--\n",
    "The most recent build of the human genomic sequence\n",
    "is labeled GRCh38.  Using Bioconductor, we can be very concrete about what this\n",
    "is.\n",
    "-->\n",
    "The second-to-last build of the human genomic sequence is labeled hg19. Using Bioconductor, we can be very concrete about what this is."
   ]
  },
  {
   "cell_type": "code",
   "execution_count": 10,
   "metadata": {},
   "outputs": [
    {
     "data": {
      "text/html": [
       "'BSgenome'"
      ],
      "text/latex": [
       "'BSgenome'"
      ],
      "text/markdown": [
       "'BSgenome'"
      ],
      "text/plain": [
       "[1] \"BSgenome\"\n",
       "attr(,\"package\")\n",
       "[1] \"BSgenome\""
      ]
     },
     "execution_count": 10,
     "metadata": {},
     "output_type": "execute_result"
    },
    {
     "data": {
      "text/plain": [
       "Human genome:\n",
       "# organism: Homo sapiens (Human)\n",
       "# provider: UCSC\n",
       "# provider version: hg19\n",
       "# release date: Feb. 2009\n",
       "# release name: Genome Reference Consortium GRCh37\n",
       "# 93 sequences:\n",
       "#   chr1                  chr2                  chr3                 \n",
       "#   chr4                  chr5                  chr6                 \n",
       "#   chr7                  chr8                  chr9                 \n",
       "#   chr10                 chr11                 chr12                \n",
       "#   chr13                 chr14                 chr15                \n",
       "#   ...                   ...                   ...                  \n",
       "#   chrUn_gl000235        chrUn_gl000236        chrUn_gl000237       \n",
       "#   chrUn_gl000238        chrUn_gl000239        chrUn_gl000240       \n",
       "#   chrUn_gl000241        chrUn_gl000242        chrUn_gl000243       \n",
       "#   chrUn_gl000244        chrUn_gl000245        chrUn_gl000246       \n",
       "#   chrUn_gl000247        chrUn_gl000248        chrUn_gl000249       \n",
       "# (use 'seqnames()' to see all the sequence names, use the '$' or '[[' operator\n",
       "# to access a given sequence)"
      ]
     },
     "execution_count": 10,
     "metadata": {},
     "output_type": "execute_result"
    },
    {
     "data": {
      "text/html": [
       "'DNAString'"
      ],
      "text/latex": [
       "'DNAString'"
      ],
      "text/markdown": [
       "'DNAString'"
      ],
      "text/plain": [
       "[1] \"DNAString\"\n",
       "attr(,\"package\")\n",
       "[1] \"Biostrings\""
      ]
     },
     "execution_count": 10,
     "metadata": {},
     "output_type": "execute_result"
    },
    {
     "data": {
      "text/plain": [
       "  81195210-letter \"DNAString\" instance\n",
       "seq: AAGCTTCTCACCCTGTTCCTGCATAGATAATTGCAT...GTGGGTGTGGGTGTGGTGTGTGGGTGTGGGTGTGGT"
      ]
     },
     "execution_count": 10,
     "metadata": {},
     "output_type": "execute_result"
    }
   ],
   "source": [
    "library(BSgenome.Hsapiens.UCSC.hg19)\n",
    "class(Hsapiens)\n",
    "Hsapiens\n",
    "class(Hsapiens$\"chr17\")\n",
    "Hsapiens$\"chr17\""
   ]
  },
  {
   "cell_type": "markdown",
   "metadata": {},
   "source": [
    "From dbSNP to GRanges\n",
    "---------------------\n",
    "\n",
    "A number of packages represent snapshots of NCBI dbSNP."
   ]
  },
  {
   "cell_type": "code",
   "execution_count": 11,
   "metadata": {},
   "outputs": [
    {
     "data": {
      "text/html": [
       "<ol class=list-inline>\n",
       "\t<li>'SNPlocs.Hsapiens.dbSNP.20090506'</li>\n",
       "\t<li>'SNPlocs.Hsapiens.dbSNP.20100427'</li>\n",
       "\t<li>'SNPlocs.Hsapiens.dbSNP.20101109'</li>\n",
       "\t<li>'SNPlocs.Hsapiens.dbSNP.20110815'</li>\n",
       "\t<li>'SNPlocs.Hsapiens.dbSNP.20111119'</li>\n",
       "\t<li>'SNPlocs.Hsapiens.dbSNP.20120608'</li>\n",
       "\t<li>'SNPlocs.Hsapiens.dbSNP141.GRCh38'</li>\n",
       "\t<li>'SNPlocs.Hsapiens.dbSNP142.GRCh37'</li>\n",
       "\t<li>'SNPlocs.Hsapiens.dbSNP144.GRCh37'</li>\n",
       "\t<li>'SNPlocs.Hsapiens.dbSNP144.GRCh38'</li>\n",
       "\t<li>'XtraSNPlocs.Hsapiens.dbSNP141.GRCh38'</li>\n",
       "\t<li>'XtraSNPlocs.Hsapiens.dbSNP144.GRCh37'</li>\n",
       "\t<li>'XtraSNPlocs.Hsapiens.dbSNP144.GRCh38'</li>\n",
       "</ol>\n"
      ],
      "text/latex": [
       "\\begin{enumerate*}\n",
       "\\item 'SNPlocs.Hsapiens.dbSNP.20090506'\n",
       "\\item 'SNPlocs.Hsapiens.dbSNP.20100427'\n",
       "\\item 'SNPlocs.Hsapiens.dbSNP.20101109'\n",
       "\\item 'SNPlocs.Hsapiens.dbSNP.20110815'\n",
       "\\item 'SNPlocs.Hsapiens.dbSNP.20111119'\n",
       "\\item 'SNPlocs.Hsapiens.dbSNP.20120608'\n",
       "\\item 'SNPlocs.Hsapiens.dbSNP141.GRCh38'\n",
       "\\item 'SNPlocs.Hsapiens.dbSNP142.GRCh37'\n",
       "\\item 'SNPlocs.Hsapiens.dbSNP144.GRCh37'\n",
       "\\item 'SNPlocs.Hsapiens.dbSNP144.GRCh38'\n",
       "\\item 'XtraSNPlocs.Hsapiens.dbSNP141.GRCh38'\n",
       "\\item 'XtraSNPlocs.Hsapiens.dbSNP144.GRCh37'\n",
       "\\item 'XtraSNPlocs.Hsapiens.dbSNP144.GRCh38'\n",
       "\\end{enumerate*}\n"
      ],
      "text/markdown": [
       "1. 'SNPlocs.Hsapiens.dbSNP.20090506'\n",
       "2. 'SNPlocs.Hsapiens.dbSNP.20100427'\n",
       "3. 'SNPlocs.Hsapiens.dbSNP.20101109'\n",
       "4. 'SNPlocs.Hsapiens.dbSNP.20110815'\n",
       "5. 'SNPlocs.Hsapiens.dbSNP.20111119'\n",
       "6. 'SNPlocs.Hsapiens.dbSNP.20120608'\n",
       "7. 'SNPlocs.Hsapiens.dbSNP141.GRCh38'\n",
       "8. 'SNPlocs.Hsapiens.dbSNP142.GRCh37'\n",
       "9. 'SNPlocs.Hsapiens.dbSNP144.GRCh37'\n",
       "10. 'SNPlocs.Hsapiens.dbSNP144.GRCh38'\n",
       "11. 'XtraSNPlocs.Hsapiens.dbSNP141.GRCh38'\n",
       "12. 'XtraSNPlocs.Hsapiens.dbSNP144.GRCh37'\n",
       "13. 'XtraSNPlocs.Hsapiens.dbSNP144.GRCh38'\n",
       "\n",
       "\n"
      ],
      "text/plain": [
       " [1] \"SNPlocs.Hsapiens.dbSNP.20090506\"     \n",
       " [2] \"SNPlocs.Hsapiens.dbSNP.20100427\"     \n",
       " [3] \"SNPlocs.Hsapiens.dbSNP.20101109\"     \n",
       " [4] \"SNPlocs.Hsapiens.dbSNP.20110815\"     \n",
       " [5] \"SNPlocs.Hsapiens.dbSNP.20111119\"     \n",
       " [6] \"SNPlocs.Hsapiens.dbSNP.20120608\"     \n",
       " [7] \"SNPlocs.Hsapiens.dbSNP141.GRCh38\"    \n",
       " [8] \"SNPlocs.Hsapiens.dbSNP142.GRCh37\"    \n",
       " [9] \"SNPlocs.Hsapiens.dbSNP144.GRCh37\"    \n",
       "[10] \"SNPlocs.Hsapiens.dbSNP144.GRCh38\"    \n",
       "[11] \"XtraSNPlocs.Hsapiens.dbSNP141.GRCh38\"\n",
       "[12] \"XtraSNPlocs.Hsapiens.dbSNP144.GRCh37\"\n",
       "[13] \"XtraSNPlocs.Hsapiens.dbSNP144.GRCh38\""
      ]
     },
     "execution_count": 11,
     "metadata": {},
     "output_type": "execute_result"
    }
   ],
   "source": [
    "library(BSgenome)\n",
    "available.SNPs()"
   ]
  },
  {
   "cell_type": "markdown",
   "metadata": {},
   "source": [
    "Functions available for a recent build are:"
   ]
  },
  {
   "cell_type": "code",
   "execution_count": 12,
   "metadata": {},
   "outputs": [
    {
     "data": {
      "text/html": [
       "<ol class=list-inline>\n",
       "\t<li>'COMPATIBLE_BSGENOMES'</li>\n",
       "\t<li>'getSNPcount'</li>\n",
       "\t<li>'getSNPlocs'</li>\n",
       "\t<li>'rsid2alleles'</li>\n",
       "\t<li>'rsid2loc'</li>\n",
       "\t<li>'rsidsToGRanges'</li>\n",
       "\t<li>'SNPlocs.Hsapiens.dbSNP144.GRCh37'</li>\n",
       "</ol>\n"
      ],
      "text/latex": [
       "\\begin{enumerate*}\n",
       "\\item 'COMPATIBLE_BSGENOMES'\n",
       "\\item 'getSNPcount'\n",
       "\\item 'getSNPlocs'\n",
       "\\item 'rsid2alleles'\n",
       "\\item 'rsid2loc'\n",
       "\\item 'rsidsToGRanges'\n",
       "\\item 'SNPlocs.Hsapiens.dbSNP144.GRCh37'\n",
       "\\end{enumerate*}\n"
      ],
      "text/markdown": [
       "1. 'COMPATIBLE_BSGENOMES'\n",
       "2. 'getSNPcount'\n",
       "3. 'getSNPlocs'\n",
       "4. 'rsid2alleles'\n",
       "5. 'rsid2loc'\n",
       "6. 'rsidsToGRanges'\n",
       "7. 'SNPlocs.Hsapiens.dbSNP144.GRCh37'\n",
       "\n",
       "\n"
      ],
      "text/plain": [
       "[1] \"COMPATIBLE_BSGENOMES\"             \"getSNPcount\"                     \n",
       "[3] \"getSNPlocs\"                       \"rsid2alleles\"                    \n",
       "[5] \"rsid2loc\"                         \"rsidsToGRanges\"                  \n",
       "[7] \"SNPlocs.Hsapiens.dbSNP144.GRCh37\""
      ]
     },
     "execution_count": 12,
     "metadata": {},
     "output_type": "execute_result"
    }
   ],
   "source": [
    "library(\"SNPlocs.Hsapiens.dbSNP144.GRCh37\")\n",
    "ls(pos=\"package:SNPlocs.Hsapiens.dbSNP144.GRCh37\")"
   ]
  },
  {
   "cell_type": "markdown",
   "metadata": {},
   "source": [
    "We can retrieve data on a chromosome. Note the peculiar nomenclature for chromosomes used with dbSNP. The `seqlevelsStyle` methods of *[GenomeInfoDb](http://bioconductor.org/packages/GenomeInfoDb)* can be used to manage these nomenclatures systematically."
   ]
  },
  {
   "cell_type": "code",
   "execution_count": 13,
   "metadata": {},
   "outputs": [
    {
     "data": {
      "text/plain": [
       "GRanges object with 2990255 ranges and 2 metadata columns:\n",
       "            seqnames               ranges strand   |   RefSNP_id\n",
       "               <Rle>            <IRanges>  <Rle>   | <character>\n",
       "        [1]     ch20       [60039, 60039]      +   | rs772768480\n",
       "        [2]     ch20       [60309, 60309]      +   | rs574852966\n",
       "        [3]     ch20       [60343, 60343]      +   | rs527639301\n",
       "        [4]     ch20       [60366, 60366]      +   | rs762720439\n",
       "        [5]     ch20       [60419, 60419]      +   | rs538242240\n",
       "        ...      ...                  ...    ... ...         ...\n",
       "  [2990251]     ch20 [62965305, 62965305]      +   | rs577023641\n",
       "  [2990252]     ch20 [62965324, 62965324]      +   | rs777323048\n",
       "  [2990253]     ch20 [62965337, 62965337]      +   |   rs2760732\n",
       "  [2990254]     ch20 [62965354, 62965354]      +   | rs546194182\n",
       "  [2990255]     ch20 [62965384, 62965384]      +   |   rs2760733\n",
       "            alleles_as_ambig\n",
       "                 <character>\n",
       "        [1]                Y\n",
       "        [2]                K\n",
       "        [3]                R\n",
       "        [4]                K\n",
       "        [5]                R\n",
       "        ...              ...\n",
       "  [2990251]                S\n",
       "  [2990252]                Y\n",
       "  [2990253]                R\n",
       "  [2990254]                R\n",
       "  [2990255]                Y\n",
       "  -------\n",
       "  seqinfo: 25 sequences (1 circular) from GRCh37.p13 genome"
      ]
     },
     "execution_count": 13,
     "metadata": {},
     "output_type": "execute_result"
    }
   ],
   "source": [
    "snpsBySeqname(SNPlocs.Hsapiens.dbSNP144.GRCh37, \"ch20\")"
   ]
  }
 ],
 "metadata": {
  "kernelspec": {
   "display_name": "R",
   "language": "R",
   "name": "ir"
  }
 },
 "nbformat": 4,
 "nbformat_minor": 0
}
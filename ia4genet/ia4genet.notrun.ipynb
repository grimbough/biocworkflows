{
 "cells": [
  {
   "cell_type": "markdown",
   "metadata": {

   },
   "source": [
    "-   [Background](#background)\n",
    "-   [The gwascat package for the EMBL-EBI (formerly NHGRI) GWAS\n",
    "    catalog](#the-gwascat-package-for-the-embl-ebi-formerly-nhgri-gwas-catalog)\n",
    "    -   [Basic operations, fields, and interactive\n",
    "        tabulation](#basic-operations-fields-and-interactive-tabulation)\n",
    "-   [GRASP](#grasp)\n",
    "-   [Genomic contexts and interpretations of\n",
    "    variants](#genomic-contexts-and-interpretations-of-variants)\n",
    "    -   [Presence in exons](#presence-in-exons)\n",
    "    -   [SIFT scores](#sift-scores)\n",
    "    -   [ChromHmm segmentation](#chromhmm-segmentation)\n",
    "    -   [Regions of chromatin\n",
    "        modification](#regions-of-chromatin-modification)\n",
    "-   [Conclusions](#conclusions)\n",
    "-   [Appendix: Bioconductor infrastructure supporting genetic data\n",
    "    analysis](#appendix-bioconductor-infrastructure-supporting-genetic-data-analysis)\n",
    "    -   [Reference builds of the human genome\n",
    "        sequence](#reference-builds-of-the-human-genome-sequence)\n",
    "    -   [From dbSNP to GRanges](#from-dbsnp-to-granges)"
   ]
  },
  {
   "cell_type": "code",
   "execution_count": null,
   "metadata": {

   },
   "outputs": [

   ],
   "source": [
    "## This code chunk was hidden in the original document, but was executed in the background\n",
    "knitr::opts_chunk$set(results=\"hide\", message=FALSE, warning=FALSE, fig.show=\"hide\", echo=TRUE)"
   ]
  },
  {
   "cell_type": "code",
   "execution_count": null,
   "metadata": {

   },
   "outputs": [

   ],
   "source": [
    "## This code chunk was hidden in the original document, but was executed in the background\n",
    "suppressPackageStartupMessages({\n",
    "library(BiocStyle)\n",
    "library(AnnotationHub)\n",
    "ah = AnnotationHub()\n",
    "library(gwascat)\n",
    "library(GenomicFiles)\n",
    "library(rtracklayer)\n",
    "library(DT)\n",
    "library(SIFT.Hsapiens.dbSNP132)\n",
    "library(grasp2db)\n",
    "library(BSgenome)\n",
    "library(\"SNPlocs.Hsapiens.dbSNP144.GRCh37\")\n",
    "#library(BSgenome.Hsapiens.NCBI.GRCh38)\n",
    "library(BSgenome.Hsapiens.UCSC.hg19)\n",
    "})"
   ]
  },
  {
   "cell_type": "markdown",
   "metadata": {

   },
   "source": [
    "Background\n",
    "==========\n",
    "\n",
    "The table of contents of Vogel and Motulsky's [*Human Genetics: Problems and Approaches*](https://books.google.com/books?id=xuztCAAAQBAJ&lpg=PA6&dq=human%20genetics&pg=PR32#v=onepage&q=human%20genetics&f=false) is a worthy survey of concepts addressed in research on human genetics and genetic medicine. The frontiers of knowledge in the field are shifting, and expectations are high.\n",
    "\n",
    "In this workflow, I aim to show how researchers can use R to interrogate important resources of use in human genetic epidemiology and medical genomics. I show how to program with two genome-wide association study (GWAS) catalogs, the [EMBL-EBI GWAS catalog](https://www.ebi.ac.uk/gwas/) and the [NHLBI GRASP v2.0](http://iapps.nhlbi.nih.gov/GRASP/Overview.aspx). Aspects of findings reported in these studies are then integrated with new functional and structural annotation resources to aid in variant interpretation. An appendix provides brief treatment of \"reference genome builds\" for *Homo sapiens*, packages for querying contents of the [NCBI dbSNP](http://www.ncbi.nlm.nih.gov/SNP/), and tools for obtaining and programming with gene models.\n",
    "\n",
    "The gwascat package for the EMBL-EBI (formerly NHGRI) GWAS catalog\n",
    "==================================================================\n",
    "\n",
    "Basic operations, fields, and interactive tabulation\n",
    "----------------------------------------------------\n",
    "\n",
    "The NHGRI version of the GWAS catalog is presented using hg19( GRCh37) coordinates."
   ]
  },
  {
   "cell_type": "code",
   "execution_count": null,
   "metadata": {

   },
   "outputs": [

   ],
   "source": [
    "library(gwascat)\n",
    "data(gwrngs19)\n",
    "length(gwrngs19)\n",
    "gwrngs19"
   ]
  },
  {
   "cell_type": "markdown",
   "metadata": {

   },
   "source": "While there are 17254 records, the number of unique loci is"
  },
  {
   "cell_type": "code",
   "execution_count": null,
   "metadata": {

   },
   "outputs": [

   ],
   "source": "length(unique(gwrngs19$SNPs))"
  },
  {
   "cell_type": "markdown",
   "metadata": {

   },
   "source": "A full view of the metadata about each study result is available with the commands"
  },
  {
   "cell_type": "markdown",
   "metadata": {

   },
   "source": [
    "``` r\n",
    "library(DT)\n",
    "datatable(as.data.frame(mcols(gwrngs19)), options=list(autoWidth=TRUE,\n",
    "  style=\"height:30px\"), pageLength=5)",
    "\n```"
   ]
  },
  {
   "cell_type": "markdown",
   "metadata": {

   },
   "source": "The following command generates a table restricting attention to records related to asthma."
  },
  {
   "cell_type": "code",
   "execution_count": null,
   "metadata": {

   },
   "outputs": [

   ],
   "source": [
    "suppressWarnings({\n",
    "aind = grep(\"sthma\", gwrngs19$Disease.Trait)\n",
    "easth = gwrngs19[aind]\n",
    "datatable(as.data.frame(mcols(easth)), options=list(autoWidth=TRUE,\n",
    "  style=\"height:30px\", pageLength=5))\n",
    "})"
   ]
  },
  {
   "cell_type": "markdown",
   "metadata": {

   },
   "source": [
    "<!--\n",
    "\n",
    "## Navigating traits using the EMBL-EBI Experimental Factor Ontology\n",
    "\n",
    "Field `MAPPED_TRAIT_URI` includes a comma-delimited string with\n",
    "URIs referring to an ontology for traits and other factors relevant\n",
    "to biological experiments and observations.  The underlying\n",
    "ontology is available in the form of an annotated algebraic graph."
   ]
  },
  {
   "cell_type": "markdown",
   "metadata": {

   },
   "source": [
    "``` r\n",
    "data(efo.obo.g)\n",
    "efo.obo.g",
    "\n```"
   ]
  },
  {
   "cell_type": "markdown",
   "metadata": {

   },
   "source": [
    "There are over 16000 terms in the ontology.  Terms and term-related\n",
    "metadata are manipulated using methods of the *[graph](http://bioconductor.org/packages/graph)*\n",
    "package."
   ]
  },
  {
   "cell_type": "markdown",
   "metadata": {

   },
   "source": [
    "``` r\n",
    "nodes(efo.obo.g)[1:4] # imported directly from OBO\n",
    "names(nodeData(efo.obo.g)[[1]])\n",
    "sapply(nodeData(efo.obo.g)[1:4], \"[[\", \"name\")",
    "\n```"
   ]
  },
  {
   "cell_type": "markdown",
   "metadata": {

   },
   "source": "Let's obtain the EFO annotation for SNP `rs347412`."
  },
  {
   "cell_type": "markdown",
   "metadata": {

   },
   "source": [
    "``` r\n",
    "ind = which(ebicat38$SNPS == \"rs347412\")\n",
    "urs = ebicat38$MAPPED_TRAIT_URI[ind]\n",
    "urs",
    "\n```"
   ]
  },
  {
   "cell_type": "markdown",
   "metadata": {

   },
   "source": [
    "These entries must be converted to match the EFO OBO node\n",
    "nomenclature.  We then find the EFO names of the factors annotated\n",
    "to this SNP."
   ]
  },
  {
   "cell_type": "markdown",
   "metadata": {

   },
   "source": [
    "``` r\n",
    "nn = uri2node(urs)\n",
    "nd = nodeData(efo.obo.g, nn)\n",
    "sapply(nd, \"[[\", \"name\")",
    "\n```"
   ]
  },
  {
   "cell_type": "markdown",
   "metadata": {

   },
   "source": [
    "The current representation of the ontology is a directed graph\n",
    "with links pointing from a term to its semantic parent.  We\n",
    "convert to an undirected graph to explore semantic neighborhoods of terms.\n",
    "The `adj` method will return the nodes adjacent to a specified node.\n",
    "Here we obtain the terms accessible from `respiratory system disease`\n",
    "with a single step."
   ]
  },
  {
   "cell_type": "markdown",
   "metadata": {

   },
   "source": [
    "``` r\n",
    "rsdn = adj(ugraph(efo.obo.g), \"EFO:0000684\")  # respiratory system disease\n",
    "unlist(sapply(nodeData(efo.obo.g, rsdn[[1]]), \"[[\", \"name\"))",
    "\n```"
   ]
  },
  {
   "cell_type": "markdown",
   "metadata": {

   },
   "source": [
    "The *[RBGL](http://bioconductor.org/packages/RBGL)* package can be used to deploy diverse graph algorithms\n",
    "against this ontology.\n",
    "\n",
    "Once a node name of interest has been found, `node2uri` can be used\n",
    "with code to find\n",
    "GWAS hits deemed relevant by the curators.  We'll work with hg19\n",
    "coordinates."
   ]
  },
  {
   "cell_type": "markdown",
   "metadata": {

   },
   "source": [
    "``` r\n",
    "data(ebicat37)\n",
    "library(GenomeInfoDb)\n",
    "seqlevelsStyle(ebicat37) = \"UCSC\"\n",
    "genome(ebicat37) = \"hg19\"\n",
    "e270 = ebicat37[ grep(node2uri(\"EFO:0000270\"), ebicat37$MAPPED_TRAIT_URI) ]\n",
    "length(e270)\n",
    "table(e270$DISEASE.TRAIT)[1:5]",
    "\n```"
   ]
  },
  {
   "cell_type": "markdown",
   "metadata": {

   },
   "source": [
    "-->\n",
    "GRASP\n",
    "=====\n",
    "\n",
    "GRASP is a much denser catalog requiring a different approach to archiving and query resolution. Initial execution of `GRASP2()` will trigger a download of a 5GB SQLite database that can then be used with *[dplyr](http://cran.fhcrc.org/web/packages/dplyr/index.html)* programming. This download will not occur again unless the database has been centrally updated. This document does not evaluate the following chunk, but the output is precomputed and left static."
   ]
  },
  {
   "cell_type": "markdown",
   "metadata": {

   },
   "source": [
    "``` r\n",
    "library(grasp2db)\n",
    "v = tbl(GRASP2(), 'variant')\n",
    "v %>% filter(Phenotype == \"Asthma\")",
    "\n```"
   ]
  },
  {
   "cell_type": "markdown",
   "metadata": {

   },
   "source": [
    "<pre><code>## Source: sqlite 3.8.6 [AnnotationHub()[[&quot;AH21414&quot;]]]\n",
    "## From: variant [33,351 x 33]\n",
    "## Filter: Phenotype == &quot;Asthma&quot; \n",
    "## \n",
    "##        NHLBIkey     PMID HUPfield SNPid_dbSNP134 chr_hg19  pos_hg19\n",
    "## 1    2086050316 20860503 1/1/2014             18        7  11597475\n",
    "## 2   20860503866 20860503 1/1/2014            535        9 138396251\n",
    "## 3  208605031097 20860503 1/1/2014            686        5 174868700\n",
    "## 4  208605031186 20860503 1/1/2014            699        1 230845794\n",
    "## 5  208605031603 20860503 1/1/2014           1117        3  22085809\n",
    "## 6  208605031980 20860503 1/1/2014           1320       22  22599537\n",
    "## 7  208605032429 20860503 1/1/2014           1535       11  61597972\n",
    "## 8  208605032734 20860503 1/1/2014           1695       11  67352689\n",
    "## 9  208605032835 20860503 1/1/2014           1760        8    442079\n",
    "## 10 208605033085 20860503 1/1/2014           1899       15  41689232\n",
    "## ..          ...      ...      ...            ...      ...       ...\n",
    "## Variables not shown: SNPidInPaper (chr), LocationWithinPaper (chr), Pvalue\n",
    "##   (dbl), NegativeLog10PBin (int), Phenotype (chr), PlatformSNPsPassingQC\n",
    "##   (chr), GWASancestryDescription (chr), InGene (chr), InLincRNA (chr),\n",
    "##   InMiRNA (chr), InMiRNABS (chr), dbSNPfxn (chr), dbSNPMAF (chr),\n",
    "##   dbSNPallelesHetSe (chr), dbSNPvalidation (int), dbSNPClinStatus (chr),\n",
    "##   ORegAnno (chr), ConservPredTFBS (chr), HumanEnhancer (chr), RNAedit\n",
    "##   (chr), PolyPhen2 (chr), SIFT (chr), LS_SNP (chr), UniProt (chr),\n",
    "##   EqtlMethMetabStudy (int), DiscoverySampleDescription (chr),\n",
    "##   ReplicationSampleDescription (chr)</code></pre>\n",
    "Genomic contexts and interpretations of variants\n",
    "================================================\n",
    "\n",
    "Presence in exons\n",
    "-----------------\n",
    "\n",
    "We can map our GWAS hits to exons using the TxDb infrastructure."
   ]
  },
  {
   "cell_type": "code",
   "execution_count": null,
   "metadata": {

   },
   "outputs": [

   ],
   "source": [
    "library(TxDb.Hsapiens.UCSC.hg19.knownGene)\n",
    "allex = exons(TxDb.Hsapiens.UCSC.hg19.knownGene)\n",
    "subsetByOverlaps( easth, allex )"
   ]
  },
  {
   "cell_type": "markdown",
   "metadata": {

   },
   "source": [
    "SIFT scores\n",
    "-----------\n",
    "\n",
    "We query the SIFT resource using dbSNP identifiers."
   ]
  },
  {
   "cell_type": "code",
   "execution_count": null,
   "metadata": {

   },
   "outputs": [

   ],
   "source": [
    "rsids = easth$SNPs\n",
    "library(SIFT.Hsapiens.dbSNP132)\n",
    "subst = c(\"RSID\", \"METHOD\", \"PREDICTION\", \"SCORE\")\n",
    "sif = AnnotationDbi::select(SIFT.Hsapiens.dbSNP132, keys=rsids, cols=subst)\n",
    "datatable(na.omit(sif))"
   ]
  },
  {
   "cell_type": "markdown",
   "metadata": {

   },
   "source": [
    "ChromHmm segmentation\n",
    "---------------------\n",
    "\n",
    "We'll use the fetal lung sample from the epigenomics road map as provided by *[AnnotationHub](http://bioconductor.org/packages/AnnotationHub)*. We use prior knowledge that tag \"E088\" refers to the fetal lung tissue study."
   ]
  },
  {
   "cell_type": "code",
   "execution_count": null,
   "metadata": {

   },
   "outputs": [

   ],
   "source": [
    "library(AnnotationHub)\n",
    "ah = AnnotationHub()\n",
    "lq = AnnotationHub::query(ah, c(\"E088\", \"state\"))\n",
    "lq\n",
    "cstates = subsetByOverlaps( ah[[\"AH46941\"]], easth )\n",
    "sort(table(cstates$name), decreasing=TRUE)"
   ]
  },
  {
   "cell_type": "markdown",
   "metadata": {

   },
   "source": [
    "In this way we can label variants according to their tissue-specific epigenetic contexts.\n",
    "\n",
    "Regions of chromatin modification\n",
    "---------------------------------\n",
    "\n",
    "We'll check for coincidence of our GWAS hits with peaks identified with H3K4me1 marks in fetal lung fibroblasts, using component AH43875 of the *[AnnotationHub](http://bioconductor.org/packages/AnnotationHub)*."
   ]
  },
  {
   "cell_type": "code",
   "execution_count": null,
   "metadata": {

   },
   "outputs": [

   ],
   "source": [
    "library(AnnotationHub)\n",
    "ah = AnnotationHub()\n",
    "h3kf = ah[[\"AH43875\"]]\n",
    "subsetByOverlaps(easth, h3kf)"
   ]
  },
  {
   "cell_type": "markdown",
   "metadata": {

   },
   "source": [
    "Conclusions\n",
    "===========\n",
    "\n",
    "The use of *[GenomicRanges](http://bioconductor.org/packages/GenomicRanges)* infrastructure for representing sets of DNA variants leads to fairly simple merge and intersection operations based on genomic coordinates. These operations are useful for sorting variants into categories based on structural or functional modeling. Richly annotated ranges can be used to manage and program with GWAS catalogs, leading to efficient coupling of genomic assay results with findings of genetic epidemiology.\n",
    "\n",
    "Appendix: Bioconductor infrastructure supporting genetic data analysis\n",
    "======================================================================\n",
    "\n",
    "Reference builds of the human genome sequence\n",
    "---------------------------------------------\n",
    "\n",
    "<!--\n",
    "The most recent build of the human genomic sequence\n",
    "is labeled GRCh38.  Using Bioconductor, we can be very concrete about what this\n",
    "is.\n",
    "-->\n",
    "The second-to-last build of the human genomic sequence is labeled hg19. Using Bioconductor, we can be very concrete about what this is."
   ]
  },
  {
   "cell_type": "code",
   "execution_count": null,
   "metadata": {

   },
   "outputs": [

   ],
   "source": [
    "library(BSgenome.Hsapiens.UCSC.hg19)\n",
    "class(Hsapiens)\n",
    "Hsapiens\n",
    "class(Hsapiens$\"chr17\")\n",
    "Hsapiens$\"chr17\""
   ]
  },
  {
   "cell_type": "markdown",
   "metadata": {

   },
   "source": [
    "From dbSNP to GRanges\n",
    "---------------------\n",
    "\n",
    "A number of packages represent snapshots of NCBI dbSNP."
   ]
  },
  {
   "cell_type": "code",
   "execution_count": null,
   "metadata": {

   },
   "outputs": [

   ],
   "source": [
    "library(BSgenome)\n",
    "available.SNPs()"
   ]
  },
  {
   "cell_type": "markdown",
   "metadata": {

   },
   "source": "Functions available for a recent build are:"
  },
  {
   "cell_type": "code",
   "execution_count": null,
   "metadata": {

   },
   "outputs": [

   ],
   "source": [
    "library(\"SNPlocs.Hsapiens.dbSNP144.GRCh37\")\n",
    "ls(pos=\"package:SNPlocs.Hsapiens.dbSNP144.GRCh37\")"
   ]
  },
  {
   "cell_type": "markdown",
   "metadata": {

   },
   "source": "We can retrieve data on a chromosome. Note the peculiar nomenclature for chromosomes used with dbSNP. The `seqlevelsStyle` methods of *[GenomeInfoDb](http://bioconductor.org/packages/GenomeInfoDb)* can be used to manage these nomenclatures systematically."
  },
  {
   "cell_type": "code",
   "execution_count": null,
   "metadata": {

   },
   "outputs": [

   ],
   "source": "snpsBySeqname(SNPlocs.Hsapiens.dbSNP144.GRCh37, \"ch20\")"
  }
 ],
 "metadata": {
  "kernelspec": {
   "display_name": "R",
   "language": "R",
   "name": "ir"
  }
 },
 "nbformat": 4,
 "nbformat_minor": 0
}

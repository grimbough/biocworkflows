{
 "cells": [
  {
   "cell_type": "code",
   "execution_count": 1,
   "metadata": {},
   "outputs": [],
   "source": [
    "## This code chunk was hidden in the original document, but was executed in the background\n",
    "knitr::opts_chunk$set(results=\"hide\", message=FALSE, warning=FALSE, fig.show=\"hide\", echo=TRUE)"
   ]
  },
  {
   "cell_type": "markdown",
   "metadata": {},
   "source": [
    "<h1>\n",
    "Annotating Genomic Variants\n",
    "</h1>\n",
    "-   [Background](#background)\n",
    "-   [Set Up](#setup)\n",
    "-   [Exploring variants in the TRPV gene family](#TRPV)\n",
    "    -   [Examine header data in a vcf file](#TRPV_header)\n",
    "    -   [Convert gene symbols to gene ids](#TRPV_symbols)\n",
    "    -   [Create gene ranges](#TRPV_ranges)\n",
    "    -   [Extract variant subsets](#TRPV_subset)\n",
    "    -   [Variant location in the gene model](#TRPV_locate)\n",
    "    -   [Amino acid coding changes in non-synonymous variants](#TRPV_predict)\n",
    "-   [Annotating with the ensemblVEP package](#vep)\n",
    "-   [Exploring Package Content](#content)\n",
    "-   [sessionInfo()](#session)\n",
    "\n",
    "<h2 id=\"background\">\n",
    "Background\n",
    "</h2>\n",
    "The VariantAnnotation package has facilities for reading in all or subsets of Variant Call Format (VCF) files. These text files contain meta-information lines, a header line and data lines each containing information about a position in the genome. The format also may also contain genotype information on samples for each position. More on the file format can be found in the [VCF specs](http://samtools.github.io/hts-specs/VCFv4.2.pdf).\n",
    "\n",
    "The 'locateVariants' function in the VariantAnnotation package identifies where a variant is located with respect to the gene model (e.g., exon, intron, splice site, etc.). The 'predictCoding' function reports the amino acid change for non-synonymous coding variants. Consequences of the coding changes can be investigated with the SIFT and PolyPhen database packages. We'll use these functions to learn about variants located on the TRPV gene on chromosome\n",
    "\n",
    "<h2 id=\"setup\">\n",
    "Set Up\n",
    "</h2>\n",
    "This workflow requires several different Bioconductor packages. Usage of each will be described in detail in the following sections."
   ]
  },
  {
   "cell_type": "code",
   "execution_count": 2,
   "metadata": {},
   "outputs": [],
   "source": [
    "## This code chunk was hidden in the original document, but was executed in the background\n",
    "suppressPackageStartupMessages(library(VariantAnnotation))\n",
    "suppressMessages(suppressPackageStartupMessages(library(cgdv17)))\n",
    "suppressPackageStartupMessages(library(org.Hs.eg.db))\n",
    "suppressPackageStartupMessages(library(TxDb.Hsapiens.UCSC.hg19.knownGene))\n",
    "suppressPackageStartupMessages(library(BSgenome.Hsapiens.UCSC.hg19))\n",
    "suppressPackageStartupMessages(library(PolyPhen.Hsapiens.dbSNP131))"
   ]
  },
  {
   "cell_type": "markdown",
   "metadata": {},
   "source": [
    "``` r\n",
    "library(VariantAnnotation)\n",
    "library(cgdv17)\n",
    "library(org.Hs.eg.db)\n",
    "library(TxDb.Hsapiens.UCSC.hg19.knownGene)\n",
    "library(BSgenome.Hsapiens.UCSC.hg19)\n",
    "library(PolyPhen.Hsapiens.dbSNP131)\n",
    "```"
   ]
  },
  {
   "cell_type": "markdown",
   "metadata": {},
   "source": [
    "Use biocLite() to get the packages you don't have installed:"
   ]
  },
  {
   "cell_type": "markdown",
   "metadata": {},
   "source": [
    "``` r\n",
    "## try http:// if https:// URLs are not supported\n",
    "source(\"https://bioconductor.org/biocLite.R\")\n",
    "biocLite(\"mypackage\")\n",
    "```"
   ]
  },
  {
   "cell_type": "markdown",
   "metadata": {},
   "source": [
    "<h2 id=\"TRPV\">\n",
    "Exploring variants in the TRPV gene family\n",
    "</h2>\n",
    "This workflow focuses on variants located in the Transient Receptor Potential Vanilloid (TRPV) gene family on chromosome 17. Sample data are from the Bioconductor cgdv17 experimental data package which contains Complete Genomics Diversity panel data for chromosome 17 on 46 individuals. For more background on how these data were curated see the package vignette."
   ]
  },
  {
   "cell_type": "markdown",
   "metadata": {},
   "source": [
    "``` r\n",
    "browseVignettes(\"cgdv17\")\n",
    "```"
   ]
  },
  {
   "cell_type": "markdown",
   "metadata": {},
   "source": [
    "We use a VCF file from the package that is a subset of chromosome 17 for a single individual from the CEU population."
   ]
  },
  {
   "cell_type": "code",
   "execution_count": 3,
   "metadata": {},
   "outputs": [],
   "source": [
    "library(VariantAnnotation)\n",
    "library(cgdv17)\n",
    "file <- system.file(\"vcf\", \"NA06985_17.vcf.gz\", package = \"cgdv17\")"
   ]
  },
  {
   "cell_type": "markdown",
   "metadata": {},
   "source": [
    "<h3 id=\"TRPV_header\">\n",
    "Examine header data in a vcf file\n",
    "</h3>\n",
    "To get an idea of what data are in the file we look at the header. scanVcfHeader() parses the file header into a VCFHeader object and the info() and geno() accessors extract field-specific data."
   ]
  },
  {
   "cell_type": "code",
   "execution_count": 4,
   "metadata": {},
   "outputs": [
    {
     "data": {
      "text/plain": [
       "DataFrame with 3 rows and 3 columns\n",
       "        Number        Type                 Description\n",
       "   <character> <character>                 <character>\n",
       "NS           1     Integer Number of Samples With Data\n",
       "DP           1     Integer                 Total Depth\n",
       "DB           0        Flag dbSNP membership, build 131"
      ]
     },
     "execution_count": 4,
     "metadata": {},
     "output_type": "execute_result"
    },
    {
     "data": {
      "text/plain": [
       "DataFrame with 12 rows and 3 columns\n",
       "            Number        Type                         Description\n",
       "       <character> <character>                         <character>\n",
       "GT               1      String                            Genotype\n",
       "GQ               1     Integer                    Genotype Quality\n",
       "DP               1     Integer                          Read Depth\n",
       "HDP              2     Integer                Haplotype Read Depth\n",
       "HQ               2     Integer                   Haplotype Quality\n",
       "...            ...         ...                                 ...\n",
       "mRNA             .      String                     Overlaping mRNA\n",
       "rmsk             .      String                  Overlaping Repeats\n",
       "segDup           .      String Overlaping segmentation duplication\n",
       "rCov             1       Float                   relative Coverage\n",
       "cPd              1      String                called Ploidy(level)"
      ]
     },
     "execution_count": 4,
     "metadata": {},
     "output_type": "execute_result"
    }
   ],
   "source": [
    "hdr <- scanVcfHeader(file)\n",
    " \n",
    "info(hdr) \n",
    " \n",
    "geno(hdr) "
   ]
  },
  {
   "cell_type": "markdown",
   "metadata": {},
   "source": [
    "Variants in the VCF have been aligned to NCBI genome build GRCh37:"
   ]
  },
  {
   "cell_type": "code",
   "execution_count": 5,
   "metadata": {},
   "outputs": [
    {
     "data": {
      "text/plain": [
       "DataFrame with 5 rows and 1 column\n",
       "                      Value\n",
       "                <character>\n",
       "fileformat          VCFv4.1\n",
       "fileDate           20111102\n",
       "source     masterVar2VCFv40\n",
       "reference    build37.fa.bz2\n",
       "phasing             partial"
      ]
     },
     "execution_count": 5,
     "metadata": {},
     "output_type": "execute_result"
    }
   ],
   "source": [
    "meta(hdr)$META"
   ]
  },
  {
   "cell_type": "markdown",
   "metadata": {},
   "source": [
    "<p class=\"back_to_top\">\n",
    "\\[ <a href=\"#top\">Back to top</a> \\]\n",
    "</p>\n",
    "<h3 id=\"TRPV_symbols\">\n",
    "Convert gene symbols to gene ids\n",
    "</h3>\n",
    "Use the org.Hs.eg.db package to convert gene symbols to gene ids."
   ]
  },
  {
   "cell_type": "code",
   "execution_count": 6,
   "metadata": {},
   "outputs": [
    {
     "name": "stderr",
     "output_type": "stream",
     "text": [
      "'select()' returned 1:1 mapping between keys and columns\n"
     ]
    },
    {
     "data": {
      "text/html": [
       "<table>\n",
       "<thead><tr><th></th><th scope=col>SYMBOL</th><th scope=col>ENTREZID</th></tr></thead>\n",
       "<tbody>\n",
       "\t<tr><th scope=row>1</th><td>TRPV1</td><td>7442</td></tr>\n",
       "\t<tr><th scope=row>2</th><td>TRPV2</td><td>51393</td></tr>\n",
       "\t<tr><th scope=row>3</th><td>TRPV3</td><td>162514</td></tr>\n",
       "</tbody>\n",
       "</table>\n"
      ],
      "text/latex": [
       "\\begin{tabular}{r|ll}\n",
       "  & SYMBOL & ENTREZID\\\\\n",
       "\\hline\n",
       "\t1 & TRPV1 & 7442\\\\\n",
       "\t2 & TRPV2 & 51393\\\\\n",
       "\t3 & TRPV3 & 162514\\\\\n",
       "\\end{tabular}\n"
      ],
      "text/plain": [
       "  SYMBOL ENTREZID\n",
       "1  TRPV1     7442\n",
       "2  TRPV2    51393\n",
       "3  TRPV3   162514"
      ]
     },
     "execution_count": 6,
     "metadata": {},
     "output_type": "execute_result"
    }
   ],
   "source": [
    "## get entrez ids from gene symbols\n",
    "library(org.Hs.eg.db)\n",
    "genesym <- c(\"TRPV1\", \"TRPV2\", \"TRPV3\")\n",
    "geneid <- select(org.Hs.eg.db, keys=genesym, keytype=\"SYMBOL\",\n",
    "                 columns=\"ENTREZID\")\n",
    "geneid"
   ]
  },
  {
   "cell_type": "markdown",
   "metadata": {},
   "source": [
    "<p class=\"back_to_top\">\n",
    "\\[ <a href=\"#top\">Back to top</a> \\]\n",
    "</p>\n",
    "<h3 id=\"TRPV_ranges\">\n",
    "Create gene ranges\n",
    "</h3>\n",
    "We use the hg19 known gene track from UCSC to identify the TRPV gene ranges. These ranges will eventually be used to extract variants from a regions in the VCF file.\n",
    "\n",
    "Load the annotation package."
   ]
  },
  {
   "cell_type": "code",
   "execution_count": 7,
   "metadata": {},
   "outputs": [
    {
     "data": {
      "text/plain": [
       "TxDb object:\n",
       "# Db type: TxDb\n",
       "# Supporting package: GenomicFeatures\n",
       "# Data source: UCSC\n",
       "# Genome: hg19\n",
       "# Organism: Homo sapiens\n",
       "# Taxonomy ID: 9606\n",
       "# UCSC Table: knownGene\n",
       "# Resource URL: http://genome.ucsc.edu/\n",
       "# Type of Gene ID: Entrez Gene ID\n",
       "# Full dataset: yes\n",
       "# miRBase build ID: GRCh37\n",
       "# transcript_nrow: 82960\n",
       "# exon_nrow: 289969\n",
       "# cds_nrow: 237533\n",
       "# Db created by: GenomicFeatures package from Bioconductor\n",
       "# Creation time: 2015-10-07 18:11:28 +0000 (Wed, 07 Oct 2015)\n",
       "# GenomicFeatures version at creation time: 1.21.30\n",
       "# RSQLite version at creation time: 1.0.0\n",
       "# DBSCHEMAVERSION: 1.1"
      ]
     },
     "execution_count": 7,
     "metadata": {},
     "output_type": "execute_result"
    }
   ],
   "source": [
    "library(TxDb.Hsapiens.UCSC.hg19.knownGene)\n",
    "txdb <- TxDb.Hsapiens.UCSC.hg19.knownGene\n",
    "txdb"
   ]
  },
  {
   "cell_type": "markdown",
   "metadata": {},
   "source": [
    "Our VCF file was aligned to a genome from NCBI and the known gene track was from UCSC. These institutions have different naming conventions for the chromosomes. In order to use these two pieces of data in a matching or overlap operation the chromosome names (also called sesqlevels) need to match. We will modify the txdb to match the VCF file."
   ]
  },
  {
   "cell_type": "code",
   "execution_count": 8,
   "metadata": {},
   "outputs": [],
   "source": [
    "txdb <- renameSeqlevels(txdb, gsub(\"chr\", \"\", seqlevels(txdb)))\n",
    "txdb <- keepSeqlevels(txdb, \"17\")"
   ]
  },
  {
   "cell_type": "markdown",
   "metadata": {},
   "source": [
    "Create a list of transcripts by gene:"
   ]
  },
  {
   "cell_type": "code",
   "execution_count": 9,
   "metadata": {},
   "outputs": [],
   "source": [
    "txbygene = transcriptsBy(txdb, \"gene\")"
   ]
  },
  {
   "cell_type": "markdown",
   "metadata": {},
   "source": [
    "Create the gene ranges for the TRPV genes"
   ]
  },
  {
   "cell_type": "code",
   "execution_count": 10,
   "metadata": {},
   "outputs": [],
   "source": [
    "gnrng <- unlist(range(txbygene[geneid$ENTREZID]), use.names=FALSE)\n",
    "names(gnrng) <- geneid$SYMBOL"
   ]
  },
  {
   "cell_type": "markdown",
   "metadata": {},
   "source": [
    "<p class=\"back_to_top\">\n",
    "\\[ <a href=\"#top\">Back to top</a> \\]\n",
    "</p>\n",
    "<h3 id=\"TRPV_subset\">\n",
    "Extract variant subsets\n",
    "</h3>\n",
    "A ScanVcfParam object is used to retrieve data subsets. This object can specify genomic coordinates (ranges) or individual VCF elements. Extractions of ranges (vs fields) requires a tabix index. See ?indexTabix for details."
   ]
  },
  {
   "cell_type": "code",
   "execution_count": 11,
   "metadata": {},
   "outputs": [
    {
     "data": {
      "text/plain": [
       "class: ScanVcfParam \n",
       "vcfWhich: 1 elements\n",
       "vcfFixed: character() [All] \n",
       "vcfInfo: DP \n",
       "vcfGeno: GT cPd \n",
       "vcfSamples:  "
      ]
     },
     "execution_count": 11,
     "metadata": {},
     "output_type": "execute_result"
    },
    {
     "data": {
      "text/plain": [
       "class: CollapsedVCF \n",
       "dim: 405 1 \n",
       "rowRanges(vcf):\n",
       "  GRanges with 5 metadata columns: paramRangeID, REF, ALT, QUAL, FILTER\n",
       "info(vcf):\n",
       "  DataFrame with 1 column: DP\n",
       "info(header(vcf)):\n",
       "      Number Type    Description\n",
       "   DP 1      Integer Total Depth\n",
       "geno(vcf):\n",
       "  SimpleList of length 2: cPd, GT\n",
       "geno(header(vcf)):\n",
       "       Number Type   Description         \n",
       "   cPd 1      String called Ploidy(level)\n",
       "   GT  1      String Genotype            "
      ]
     },
     "execution_count": 11,
     "metadata": {},
     "output_type": "execute_result"
    },
    {
     "data": {
      "text/plain": [
       "DataFrame with 6 rows and 4 columns\n",
       "             REF                ALT      QUAL      FILTER\n",
       "  <DNAStringSet> <DNAStringSetList> <numeric> <character>\n",
       "1              A                  G       120        PASS\n",
       "2              A                            0        PASS\n",
       "3          AAAAA                            0        PASS\n",
       "4             AA                            0        PASS\n",
       "5              C                  T        59        PASS\n",
       "6              T                  C       157        PASS"
      ]
     },
     "execution_count": 11,
     "metadata": {},
     "output_type": "execute_result"
    },
    {
     "data": {
      "text/plain": [
       "List of length 2\n",
       "names(2): cPd GT"
      ]
     },
     "execution_count": 11,
     "metadata": {},
     "output_type": "execute_result"
    }
   ],
   "source": [
    "param <- ScanVcfParam(which = gnrng, info = \"DP\", geno = c(\"GT\", \"cPd\"))\n",
    "param\n",
    " \n",
    "## Extract the TRPV ranges from the VCF file \n",
    "vcf <- readVcf(file, \"hg19\", param)\n",
    "## Inspect the VCF object with the 'fixed', 'info' and 'geno' accessors\n",
    "vcf\n",
    " \n",
    "head(fixed(vcf))\n",
    "\n",
    "geno(vcf)"
   ]
  },
  {
   "cell_type": "markdown",
   "metadata": {},
   "source": [
    "<p class=\"back_to_top\">\n",
    "\\[ <a href=\"#top\">Back to top</a> \\]\n",
    "</p>\n",
    "<h3 id=\"TRPV_locate\">\n",
    "Variant location in the gene model\n",
    "</h3>\n",
    "The locateVariants function identifies where a variant falls with respect to gene structure, e.g., exon, utr, splice site, etc. We use the gene model from the TxDb.Hsapiens.UCSC.hg19.knownGene package loaded eariler."
   ]
  },
  {
   "cell_type": "markdown",
   "metadata": {},
   "source": [
    "``` r\n",
    "## Use the 'region' argument to define the region\n",
    "## of interest. See ?locateVariants for details.\n",
    "cds <- locateVariants(vcf, txdb, CodingVariants())\n",
    "five <- locateVariants(vcf, txdb, FiveUTRVariants())\n",
    "splice <- locateVariants(vcf, txdb, SpliceSiteVariants())\n",
    "intron <- locateVariants(vcf, txdb, IntronVariants())\n",
    "```"
   ]
  },
  {
   "cell_type": "code",
   "execution_count": 12,
   "metadata": {},
   "outputs": [
    {
     "name": "stderr",
     "output_type": "stream",
     "text": [
      "'select()' returned many:1 mapping between keys and columns\n",
      "'select()' returned many:1 mapping between keys and columns\n",
      "'select()' returned many:1 mapping between keys and columns\n",
      "'select()' returned many:1 mapping between keys and columns\n",
      "'select()' returned many:1 mapping between keys and columns\n",
      "'select()' returned many:1 mapping between keys and columns\n"
     ]
    }
   ],
   "source": [
    "all <- locateVariants(vcf, txdb, AllVariants())"
   ]
  },
  {
   "cell_type": "markdown",
   "metadata": {},
   "source": [
    "Each row in cds represents a variant-transcript match so multiple rows per variant are possible. If we are interested in gene-centric questions the data can be summarized by gene regardless of transcript."
   ]
  },
  {
   "cell_type": "code",
   "execution_count": 13,
   "metadata": {},
   "outputs": [
    {
     "data": {
      "text/plain": [
       "\n",
       "FALSE  TRUE \n",
       "  367    38 "
      ]
     },
     "execution_count": 13,
     "metadata": {},
     "output_type": "execute_result"
    },
    {
     "data": {
      "text/html": [
       "<dl class=dl-horizontal>\n",
       "\t<dt>125144</dt>\n",
       "\t\t<dd>1</dd>\n",
       "\t<dt>162514</dt>\n",
       "\t\t<dd>196</dd>\n",
       "\t<dt>23729</dt>\n",
       "\t\t<dd>2</dd>\n",
       "\t<dt>51393</dt>\n",
       "\t\t<dd>63</dd>\n",
       "\t<dt>7442</dt>\n",
       "\t\t<dd>146</dd>\n",
       "\t<dt>84690</dt>\n",
       "\t\t<dd>35</dd>\n",
       "</dl>\n"
      ],
      "text/latex": [
       "\\begin{description*}\n",
       "\\item[125144] 1\n",
       "\\item[162514] 196\n",
       "\\item[23729] 2\n",
       "\\item[51393] 63\n",
       "\\item[7442] 146\n",
       "\\item[84690] 35\n",
       "\\end{description*}\n"
      ],
      "text/markdown": [
       "125144\n",
       ":   1162514\n",
       ":   19623729\n",
       ":   251393\n",
       ":   637442\n",
       ":   14684690\n",
       ":   35\n",
       "\n"
      ],
      "text/plain": [
       "125144 162514  23729  51393   7442  84690 \n",
       "     1    196      2     63    146     35 "
      ]
     },
     "execution_count": 13,
     "metadata": {},
     "output_type": "execute_result"
    },
    {
     "data": {
      "text/html": [
       "<table>\n",
       "<thead><tr><th></th><th scope=col>125144</th><th scope=col>162514</th><th scope=col>23729</th><th scope=col>51393</th><th scope=col>7442</th><th scope=col>84690</th></tr></thead>\n",
       "<tbody>\n",
       "\t<tr><th scope=row>spliceSite</th><td>0</td><td>2</td><td>0</td><td>0</td><td>1</td><td>0</td></tr>\n",
       "\t<tr><th scope=row>intron</th><td>  0</td><td>153</td><td>  0</td><td> 58</td><td>117</td><td> 19</td></tr>\n",
       "\t<tr><th scope=row>fiveUTR</th><td>0</td><td>2</td><td>0</td><td>1</td><td>3</td><td>5</td></tr>\n",
       "\t<tr><th scope=row>threeUTR</th><td> 0</td><td>24</td><td> 2</td><td> 1</td><td> 2</td><td> 0</td></tr>\n",
       "\t<tr><th scope=row>coding</th><td>0</td><td>5</td><td>0</td><td>3</td><td>8</td><td>0</td></tr>\n",
       "\t<tr><th scope=row>intergenic</th><td>0</td><td>0</td><td>0</td><td>0</td><td>0</td><td>0</td></tr>\n",
       "\t<tr><th scope=row>promoter</th><td> 1</td><td>10</td><td> 0</td><td> 0</td><td>15</td><td>11</td></tr>\n",
       "</tbody>\n",
       "</table>\n"
      ],
      "text/latex": [
       "\\begin{tabular}{r|llllll}\n",
       "  & 125144 & 162514 & 23729 & 51393 & 7442 & 84690\\\\\n",
       "\\hline\n",
       "\tspliceSite & 0 & 2 & 0 & 0 & 1 & 0\\\\\n",
       "\tintron &   0 & 153 &   0 &  58 & 117 &  19\\\\\n",
       "\tfiveUTR & 0 & 2 & 0 & 1 & 3 & 5\\\\\n",
       "\tthreeUTR &  0 & 24 &  2 &  1 &  2 &  0\\\\\n",
       "\tcoding & 0 & 5 & 0 & 3 & 8 & 0\\\\\n",
       "\tintergenic & 0 & 0 & 0 & 0 & 0 & 0\\\\\n",
       "\tpromoter &  1 & 10 &  0 &  0 & 15 & 11\\\\\n",
       "\\end{tabular}\n"
      ],
      "text/markdown": [
       "1. 0\n",
       "2. 0\n",
       "3. 0\n",
       "4. 0\n",
       "5. 0\n",
       "6. 0\n",
       "7. 1\n",
       "8. 2\n",
       "9. 153\n",
       "10. 2\n",
       "11. 24\n",
       "12. 5\n",
       "13. 0\n",
       "14. 10\n",
       "15. 0\n",
       "16. 0\n",
       "17. 0\n",
       "18. 2\n",
       "19. 0\n",
       "20. 0\n",
       "21. 0\n",
       "22. 0\n",
       "23. 58\n",
       "24. 1\n",
       "25. 1\n",
       "26. 3\n",
       "27. 0\n",
       "28. 0\n",
       "29. 1\n",
       "30. 117\n",
       "31. 3\n",
       "32. 2\n",
       "33. 8\n",
       "34. 0\n",
       "35. 15\n",
       "36. 0\n",
       "37. 19\n",
       "38. 5\n",
       "39. 0\n",
       "40. 0\n",
       "41. 0\n",
       "42. 11\n",
       "\n",
       "\n"
      ],
      "text/plain": [
       "           125144 162514 23729 51393 7442 84690\n",
       "spliceSite      0      2     0     0    1     0\n",
       "intron          0    153     0    58  117    19\n",
       "fiveUTR         0      2     0     1    3     5\n",
       "threeUTR        0     24     2     1    2     0\n",
       "coding          0      5     0     3    8     0\n",
       "intergenic      0      0     0     0    0     0\n",
       "promoter        1     10     0     0   15    11"
      ]
     },
     "execution_count": 13,
     "metadata": {},
     "output_type": "execute_result"
    }
   ],
   "source": [
    "## Did any variants match more than one gene?\n",
    "table(sapply(split(mcols(all)$GENEID, mcols(all)$QUERYID), \n",
    "      function(x) length(unique(x)) > 1))\n",
    " \n",
    "## Summarize the number of variants by gene:\n",
    "idx <- sapply(split(mcols(all)$QUERYID, mcols(all)$GENEID), unique)\n",
    "sapply(idx, length)\n",
    " \n",
    "## Summarize variant location by gene:\n",
    "sapply(names(idx), \n",
    "    function(nm) {\n",
    "        d <- all[mcols(all)$GENEID %in% nm, c(\"QUERYID\", \"LOCATION\")]\n",
    "        table(mcols(d)$LOCATION[duplicated(d) == FALSE])\n",
    "    })"
   ]
  },
  {
   "cell_type": "markdown",
   "metadata": {},
   "source": [
    "<p class=\"back_to_top\">\n",
    "\\[ <a href=\"#top\">Back to top</a> \\]\n",
    "</p>\n",
    "<h3 id=\"TRPV_predict\">\n",
    "Amino acid coding changes in non-synonymous variants\n",
    "</h3>\n",
    "Amino acid coding for non-synonymous variants can be computed with the function predictCoding. The BSgenome.Hsapiens.UCSC.hg19 package is used as the source of the reference alleles. Variant alleles are provided by the user."
   ]
  },
  {
   "cell_type": "code",
   "execution_count": 14,
   "metadata": {},
   "outputs": [
    {
     "name": "stderr",
     "output_type": "stream",
     "text": [
      "Warning message:\n",
      "In .predictCodingGRangesList(query, cache[[\"cdsbytx\"]], seqSource, : records with missing 'varAllele' were ignoredWarning message:\n",
      "In .predictCodingGRangesList(query, cache[[\"cdsbytx\"]], seqSource, : 'varAllele' values with 'N', '.', '+' or '-' were not translated"
     ]
    }
   ],
   "source": [
    "library(BSgenome.Hsapiens.UCSC.hg19)\n",
    "seqlevelsStyle(vcf) <- \"UCSC\"\n",
    "seqlevelsStyle(txdb) <- \"UCSC\"\n",
    "aa <- predictCoding(vcf, txdb, Hsapiens)"
   ]
  },
  {
   "cell_type": "markdown",
   "metadata": {},
   "source": [
    "predictCoding returns results for coding variants only. As with locateVariants, the output has one row per variant-transcript match so multiple rows per variant are possible."
   ]
  },
  {
   "cell_type": "code",
   "execution_count": 15,
   "metadata": {},
   "outputs": [
    {
     "data": {
      "text/plain": [
       "\n",
       "FALSE \n",
       "   17 "
      ]
     },
     "execution_count": 15,
     "metadata": {},
     "output_type": "execute_result"
    },
    {
     "data": {
      "text/html": [
       "<dl class=dl-horizontal>\n",
       "\t<dt>162514</dt>\n",
       "\t\t<dd>6</dd>\n",
       "\t<dt>51393</dt>\n",
       "\t\t<dd>3</dd>\n",
       "\t<dt>7442</dt>\n",
       "\t\t<dd>8</dd>\n",
       "</dl>\n"
      ],
      "text/latex": [
       "\\begin{description*}\n",
       "\\item[162514] 6\n",
       "\\item[51393] 3\n",
       "\\item[7442] 8\n",
       "\\end{description*}\n"
      ],
      "text/markdown": [
       "162514\n",
       ":   651393\n",
       ":   37442\n",
       ":   8\n",
       "\n"
      ],
      "text/plain": [
       "162514  51393   7442 \n",
       "     6      3      8 "
      ]
     },
     "execution_count": 15,
     "metadata": {},
     "output_type": "execute_result"
    },
    {
     "data": {
      "text/html": [
       "<table>\n",
       "<thead><tr><th></th><th scope=col>162514</th><th scope=col>51393</th><th scope=col>7442</th></tr></thead>\n",
       "<tbody>\n",
       "\t<tr><th scope=row>nonsynonymous</th><td>2</td><td>0</td><td>2</td></tr>\n",
       "\t<tr><th scope=row>not translated</th><td>1</td><td>0</td><td>5</td></tr>\n",
       "\t<tr><th scope=row>synonymous</th><td>3</td><td>3</td><td>1</td></tr>\n",
       "</tbody>\n",
       "</table>\n"
      ],
      "text/latex": [
       "\\begin{tabular}{r|lll}\n",
       "  & 162514 & 51393 & 7442\\\\\n",
       "\\hline\n",
       "\tnonsynonymous & 2 & 0 & 2\\\\\n",
       "\tnot translated & 1 & 0 & 5\\\\\n",
       "\tsynonymous & 3 & 3 & 1\\\\\n",
       "\\end{tabular}\n"
      ],
      "text/markdown": [
       "1. 2\n",
       "2. 1\n",
       "3. 3\n",
       "4. 0\n",
       "5. 0\n",
       "6. 3\n",
       "7. 2\n",
       "8. 5\n",
       "9. 1\n",
       "\n",
       "\n"
      ],
      "text/plain": [
       "               162514 51393 7442\n",
       "nonsynonymous       2     0    2\n",
       "not translated      1     0    5\n",
       "synonymous          3     3    1"
      ]
     },
     "execution_count": 15,
     "metadata": {},
     "output_type": "execute_result"
    }
   ],
   "source": [
    "## Did any variants match more than one gene?\n",
    "table(sapply(split(mcols(aa)$GENEID, mcols(aa)$QUERYID), \n",
    "        function(x) length(unique(x)) > 1))\n",
    "\n",
    "## Summarize the number of variants by gene:\n",
    "idx <- sapply(split(mcols(aa)$QUERYID, mcols(aa)$GENEID, drop=TRUE), unique)\n",
    "sapply(idx, length)\n",
    "\n",
    "## Summarize variant consequence by gene:\n",
    "sapply(names(idx), \n",
    "       function(nm) {\n",
    "           d <- aa[mcols(aa)$GENEID %in% nm, c(\"QUERYID\",\"CONSEQUENCE\")]\n",
    "           table(mcols(d)$CONSEQUENCE[duplicated(d) == FALSE])\n",
    "       })"
   ]
  },
  {
   "cell_type": "markdown",
   "metadata": {},
   "source": [
    "The variants 'not translated' are explained by the warnings thrown when predictCoding was called. Variants that have a missing varAllele or have an 'N' in the varAllele are not translated. If the varAllele substitution had resulted in a frameshift the consequence would be 'frameshift'. See ?predictCoding for details.\n",
    "\n",
    "<p class=\"back_to_top\">\n",
    "\\[ <a href=\"#top\">Back to top</a> \\]\n",
    "</p>\n",
    "<h2 id=\"vep\">\n",
    "Annotating with the ensemblVEP package\n",
    "</h2>\n",
    "The ensemblVEP package provides access to the online Ensembl Variant Effect Predictor (VEP tool). The VEP tool ouputs predictions of functional consequences of known and unknown variants as reported by Sequence Ontology or Ensembl. Regulatory region consequences, HGNC, Ensembl protein identifiers, HGVS, co-located variants are optional outputs. ensemblVEP() accepts the name of a VCF file and returns a VCF on disk or GRanges in the R workspace."
   ]
  },
  {
   "cell_type": "code",
   "execution_count": 16,
   "metadata": {},
   "outputs": [
    {
     "ename": "ERROR",
     "evalue": "Error in library(ensemblVEP): there is no package called ‘ensemblVEP’\n",
     "output_type": "error",
     "traceback": [
      "Error in library(ensemblVEP): there is no package called ‘ensemblVEP’\n"
     ]
    }
   ],
   "source": [
    "## This code chunk was hidden in the original document, but was executed in the background\n",
    "suppressPackageStartupMessages(library(ensemblVEP))"
   ]
  },
  {
   "cell_type": "markdown",
   "metadata": {},
   "source": [
    "Load ensemblVEP:"
   ]
  },
  {
   "cell_type": "code",
   "execution_count": 17,
   "metadata": {},
   "outputs": [
    {
     "ename": "ERROR",
     "evalue": "Error in library(ensemblVEP): there is no package called ‘ensemblVEP’\n",
     "output_type": "error",
     "traceback": [
      "Error in library(ensemblVEP): there is no package called ‘ensemblVEP’\n"
     ]
    }
   ],
   "source": [
    "library(ensemblVEP)"
   ]
  },
  {
   "cell_type": "markdown",
   "metadata": {},
   "source": [
    "The 'file' argument to ensemblVEP must be a vcf file on disk. We'll write out the VCF object with the TRPV variants and submit that to ensemblVEP.\n",
    "\n",
    "Write the VCF object to a vcf file in tempfile():"
   ]
  },
  {
   "cell_type": "code",
   "execution_count": 18,
   "metadata": {},
   "outputs": [],
   "source": [
    "dest <- tempfile()\n",
    "writeVcf(vcf, dest)"
   ]
  },
  {
   "cell_type": "markdown",
   "metadata": {},
   "source": [
    "Call ensemblVEP with the file containing only the TRPV variants and the custom VEPParam object:"
   ]
  },
  {
   "cell_type": "markdown",
   "metadata": {},
   "source": [
    "``` r\n",
    "gr <- ensemblVEP(file = dest)\n",
    "```"
   ]
  },
  {
   "cell_type": "markdown",
   "metadata": {},
   "source": [
    "``` r\n",
    "2015-06-09 08:50:22 - Starting...\n",
    "2015-06-09 08:50:24 - Detected format of input file as vcf\n",
    "2015-06-09 08:50:24 - Read 277 variants into buffer\n",
    "2015-06-09 08:50:24 - Reading transcript data from cache and/or database\n",
    "[================================================================================================================================================================]  [ 100% ]\n",
    "2015-06-09 08:54:29 - Retrieved 55 transcripts (0 mem, 0 cached, 55 DB, 0 duplicates)\n",
    "2015-06-09 08:54:29 - Analyzing chromosome 17\n",
    "2015-06-09 08:54:29 - Analyzing variants\n",
    "[================================================================================================================================================================]  [ 100% ]\n",
    "2015-06-09 08:54:29 - Calculating consequences\n",
    "[================================================================================================================================================================]  [ 100% ]\n",
    "2015-06-09 08:54:30 - Processed 277 total variants (1 vars/sec, 1 vars/sec total)\n",
    "2015-06-09 08:54:30 - Wrote stats summary to /tmp/RtmppUYah1/file339f64bf5700_summary.html\n",
    "2015-06-09 08:54:30 - Finished!\n",
    "```"
   ]
  },
  {
   "cell_type": "markdown",
   "metadata": {},
   "source": [
    "``` r\n",
    "head(gr, 3)\n",
    "```"
   ]
  },
  {
   "cell_type": "markdown",
   "metadata": {},
   "source": [
    "``` r\n",
    "GRanges object with 3 ranges and 22 metadata columns:\n",
    "           seqnames             ranges strand |   Allele\n",
    "              <Rle>          <IRanges>  <Rle> | <factor>\n",
    "  rs402369    chr17 [3469401, 3469401]      * |        G\n",
    "  rs402369    chr17 [3469401, 3469401]      * |        G\n",
    "  rs402369    chr17 [3469401, 3469401]      * |        G\n",
    "                                    Consequence   IMPACT   SYMBOL\n",
    "                                       <factor> <factor> <factor>\n",
    "  rs402369 splice_region_variant&intron_variant      LOW  SPATA22\n",
    "  rs402369 splice_region_variant&intron_variant      LOW  SPATA22\n",
    "  rs402369                upstream_gene_variant MODIFIER     ASPA\n",
    "                      Gene Feature_type         Feature        BIOTYPE     EXON\n",
    "                  <factor>     <factor>        <factor>       <factor> <factor>\n",
    "  rs402369 ENSG00000141255   Transcript ENST00000397168 protein_coding     <NA>\n",
    "  rs402369 ENSG00000141255   Transcript ENST00000355380 protein_coding     <NA>\n",
    "  rs402369 ENSG00000108381   Transcript ENST00000456349 protein_coding     <NA>\n",
    "             INTRON    HGVSc    HGVSp cDNA_position CDS_position\n",
    "           <factor> <factor> <factor>      <factor>     <factor>\n",
    "  rs402369      1/8     <NA>     <NA>          <NA>         <NA>\n",
    "  rs402369      1/7     <NA>     <NA>          <NA>         <NA>\n",
    "  rs402369     <NA>     <NA>     <NA>          <NA>         <NA>\n",
    "           Protein_position Amino_acids   Codons Existing_variation DISTANCE\n",
    "                   <factor>    <factor> <factor>           <factor> <factor>\n",
    "  rs402369             <NA>        <NA>     <NA>               <NA>     <NA>\n",
    "  rs402369             <NA>        <NA>     <NA>               <NA>     <NA>\n",
    "  rs402369             <NA>        <NA>     <NA>               <NA>     4652\n",
    "             STRAND SYMBOL_SOURCE    HGNC_ID\n",
    "           <factor>      <factor>   <factor>\n",
    "  rs402369       -1          HGNC HGNC:30705\n",
    "  rs402369       -1          HGNC HGNC:30705\n",
    "  rs402369        1          HGNC   HGNC:756\n",
    "  -------\n",
    "  seqinfo: 25 sequences from  genome; no seqlengths\n",
    "```"
   ]
  },
  {
   "cell_type": "markdown",
   "metadata": {},
   "source": [
    "Data from the VEP tool is returned as metadata columns in the GRanges ('gr' object). You can further control what fields are returned by setting the runtime options in the VEPParam."
   ]
  },
  {
   "cell_type": "code",
   "execution_count": 19,
   "metadata": {},
   "outputs": [
    {
     "ename": "ERROR",
     "evalue": "Error in eval(expr, envir, enclos): could not find function \"VEPParam\"\n",
     "output_type": "error",
     "traceback": [
      "Error in eval(expr, envir, enclos): could not find function \"VEPParam\"\n"
     ]
    }
   ],
   "source": [
    "VEPParam()"
   ]
  },
  {
   "cell_type": "markdown",
   "metadata": {},
   "source": [
    "Each of the options, e.g., 'basic', 'inut', 'cache' etc. has multiple fields that can be set."
   ]
  },
  {
   "cell_type": "code",
   "execution_count": 20,
   "metadata": {},
   "outputs": [
    {
     "ename": "ERROR",
     "evalue": "Error in eval(expr, envir, enclos): could not find function \"basic\"\n",
     "output_type": "error",
     "traceback": [
      "Error in eval(expr, envir, enclos): could not find function \"basic\"\n"
     ]
    }
   ],
   "source": [
    "basic(VEPParam())"
   ]
  },
  {
   "cell_type": "markdown",
   "metadata": {},
   "source": [
    "For more details on runtime options see the ?VEPParam man page and the [Ensembl VEP web site](http://uswest.ensembl.org/info/docs/tools/vep/script/vep_options.html).\n",
    "\n",
    "<p class=\"back_to_top\">\n",
    "\\[ <a href=\"#top\">Back to top</a> \\]\n",
    "</p>\n",
    "<h2 id=\"content\">\n",
    "Exploring Package Content\n",
    "</h2>\n",
    "Packages have extensive help pages, and include vignettes highlighting common use cases. The help pages and vignettes are available from within R. After loading a package, use syntax like"
   ]
  },
  {
   "cell_type": "code",
   "execution_count": 21,
   "metadata": {},
   "outputs": [
    {
     "data": {
      "text/html": [
       "\n",
       "<table width=\"100%\" summary=\"page for predictCoding {VariantAnnotation}\"><tr><td>predictCoding {VariantAnnotation}</td><td style=\"text-align: right;\">R Documentation</td></tr></table>\n",
       "\n",
       "<h2>Predict amino acid coding changes for variants</h2>\n",
       "\n",
       "<h3>Description</h3>\n",
       "\n",
       "<p>Predict amino acid coding changes for variants a coding regions\n",
       "</p>\n",
       "\n",
       "\n",
       "<h3>Usage</h3>\n",
       "\n",
       "<pre>\n",
       "## S4 method for signature 'CollapsedVCF,TxDb,ANY,missing'\n",
       "predictCoding(query, subject, seqSource, varAllele, ..., ignore.strand=FALSE)\n",
       "## S4 method for signature 'ExpandedVCF,TxDb,ANY,missing'\n",
       "predictCoding(query, subject, seqSource, varAllele, ..., ignore.strand=FALSE)\n",
       "## S4 method for signature 'Ranges,TxDb,ANY,DNAStringSet'\n",
       "predictCoding(query, subject, seqSource, varAllele, ..., ignore.strand=FALSE)\n",
       "## S4 method for signature 'GRanges,TxDb,ANY,DNAStringSet'\n",
       "predictCoding(query, subject, seqSource, varAllele, ..., ignore.strand=FALSE)\n",
       "## S4 method for signature 'VRanges,TxDb,ANY,missing'\n",
       "predictCoding(query, subject, seqSource, varAllele, ..., ignore.strand=FALSE)\n",
       "</pre>\n",
       "\n",
       "\n",
       "<h3>Arguments</h3>\n",
       "\n",
       "<table summary=\"R argblock\">\n",
       "<tr valign=\"top\"><td><code>query</code></td>\n",
       "<td>\n",
       "<p>A VCF, Ranges, GRanges or\n",
       "<code>VRanges</code> instance containing the variants to be annotated. If\n",
       "<code>query</code> is a Ranges or <code>VRanges</code> it is coerced to\n",
       "a GRanges.  If a VCF is provided the <code>GRanges</code>\n",
       "returned by the <code>rowRanges()</code> accessor will be used. All metadata\n",
       "columns are ignored.\n",
       "</p>\n",
       "<p>When <code>query</code> is not a <code>VCF</code> object a <code>varAllele</code> must be\n",
       "provided. The <code>varAllele</code> must be a <code>DNAStringSet</code> the same length\n",
       "as the <code>query</code>. If there are multiple alternate alleles per variant the\n",
       "<code>query</code> must be expanded to one row per each alternate allele.  See\n",
       "examples.\n",
       "</p>\n",
       "<p>NOTE: Variants are expected to conform to the VCF specs as described\n",
       "on the 1000 Genomes page (see references). Indels must include\n",
       "the reference allele; zero-width ranges are not valid and return no matches.\n",
       "</p>\n",
       "</td></tr>\n",
       "<tr valign=\"top\"><td><code>subject</code></td>\n",
       "<td>\n",
       "<p>A TxDb object that serves \n",
       "as the annotation. GFF files can be converted to \n",
       "TxDb objects with \n",
       "<code>makeTxDbFromGFF()</code> in the <code>GenomicFeatures</code> package.\n",
       "</p>\n",
       "</td></tr> \n",
       "<tr valign=\"top\"><td><code>seqSource</code></td>\n",
       "<td>\n",
       "<p>A <code>BSgenome</code> instance or an FaFile\n",
       "to be used for sequence extraction.\n",
       "</p>\n",
       "</td></tr>\n",
       "<tr valign=\"top\"><td><code>varAllele</code></td>\n",
       "<td>\n",
       "<p>A DNAStringSet containing the variant\n",
       "(alternate) alleles. The length of <code>varAllele</code> must equal the length\n",
       "of <code>query</code>. Missing values are represented by a zero width empty \n",
       "element. Ranges with missing <code>varAllele</code> values are ignored; those with \n",
       "an &lsquo;N&rsquo; character are not translated.\n",
       "</p>\n",
       "<p>When the <code>query</code> is a <code>VCF</code> object the <code>varAllele</code> argument \n",
       "will be missing. This value is taken internally from the <code>VCF</code> with\n",
       "<code>alt(&lt;VCF&gt;)</code>.\n",
       "</p>\n",
       "</td></tr>\n",
       "<tr valign=\"top\"><td><code>...</code></td>\n",
       "<td>\n",
       "<p>Additional arguments passed to methods. Arguments\n",
       "<code>genetic.code</code> and <code>if.fuzzy.codon</code> are supported for the\n",
       "<code>translate</code> function.\n",
       "</p>\n",
       "</td></tr>\n",
       "<tr valign=\"top\"><td><code>ignore.strand</code></td>\n",
       "<td>\n",
       "<p>A <code>logical</code> indicating if strand should be ignored\n",
       "when performing overlaps.\n",
       "</p>\n",
       "<p>When <code>ignore.strand == TRUE</code> the <code>query</code> strand is set to\n",
       "'*' and can overlap with any strand of the <code>subject</code>. The\n",
       "return <code>GRanges</code> reflects the strand of the <code>subject</code> hit,\n",
       "however, the positions and alleles reported are computed as if \n",
       "both were from the '+' strand.\n",
       "</p>\n",
       "<p><code>ignore.strand == FALSE</code> requires the <code>query</code> and <code>subject</code>\n",
       "to have compatible strand. Again the return <code>GRanges</code> reports\n",
       "the strand of the <code>subject</code> hit but in this case positions and\n",
       "alleles are computed according to the strand of the <code>subject</code>.\n",
       "</p>\n",
       "</td></tr>\n",
       "</table>\n",
       "\n",
       "\n",
       "<h3>Details</h3>\n",
       "\n",
       "<p>This function returns the amino acid coding for variants that fall \n",
       "completely &lsquo;within&rsquo; a coding region. The reference sequences are \n",
       "taken from a fasta file or BSgenome. The width of \n",
       "the reference is determined from the start position and width of the \n",
       "range in the <code>query</code>. For guidance on how to represent an insertion, \n",
       "deletion or substitution see the 1000 Genomes VCF format (references). \n",
       "</p>\n",
       "<p>Variant alleles are taken from the <code>varAllele</code> when supplied.\n",
       "When the <code>query</code> is a <code>VCF</code> object the <code>varAllele</code> will\n",
       "be missing. This value is taken internally from the <code>VCF</code> with\n",
       "<code>alt(&lt;VCF&gt;)</code>. The variant allele is substituted \n",
       "into the reference sequences and transcribed. Transcription only \n",
       "occurs if the substitution, insertion or deletion results in a new sequence \n",
       "length divisible by 3.\n",
       "</p>\n",
       "<p>When the <code>query</code> is an unstranded (*) <code>GRanges</code> <code>predictCoding</code> \n",
       "will attempt to find overlaps on both the positive and negative strands of the\n",
       "<code>subject</code>. When the subject hit is on the negative strand the return \n",
       "<code>varAllele</code> is reverse complemented. The strand of the returned \n",
       "<code>GRanges</code> represents the strand of the subject hit.\n",
       "</p>\n",
       "\n",
       "\n",
       "<h3>Value</h3>\n",
       "\n",
       "<p>A GRanges with a row for each variant-transcript \n",
       "match. The result includes only variants that fell within coding regions.\n",
       "The strand of the output <code>GRanges</code> represents the strand of the \n",
       "<code>subject</code> hit.\n",
       "</p>\n",
       "<p>At a minimum, the metadata columns (accessible with <code>mcols</code>) include,\n",
       "</p>\n",
       "\n",
       "<dl>\n",
       "<dt><code>varAllele</code></dt><dd>\n",
       "<p>Variant allele. This value is reverse complemented for an unstranded \n",
       "<code>query</code> that overlaps a <code>subject</code> on the negative strand.\n",
       "</p>\n",
       "</dd>\n",
       "<dt><code>QUERYID</code></dt><dd>\n",
       "<p>Map back to the row in the original query\n",
       "</p>\n",
       "</dd>\n",
       "<dt><code>TXID</code></dt><dd>\n",
       "<p>Internal transcript id from the annotation\n",
       "</p>\n",
       "</dd>\n",
       "<dt><code>CDSID</code></dt><dd>\n",
       "<p>Internal coding region id from the annotation\n",
       "</p>\n",
       "</dd>\n",
       "<dt><code>GENEID</code></dt><dd>\n",
       "<p>Internal gene id from the annotation\n",
       "</p>\n",
       "</dd>\n",
       "<dt><code>CDSLOC</code></dt><dd>\n",
       "<p>Variant location in coding region-based coordinates. This position is \n",
       "relative to the start of the coding (cds) region defined in the \n",
       "<code>subject</code> annotation.\n",
       "</p>\n",
       "</dd>\n",
       "<dt><code>PROTEINLOC</code></dt><dd>\n",
       "<p>Variant codon triplet location in coding region-based coordinates.\n",
       "This position is relative to the start of the coding (cds) region\n",
       "defined in the <code>subject</code> annotation. \n",
       "</p>\n",
       "</dd>\n",
       "<dt><code>CONSEQUENCE</code></dt><dd>\n",
       "<p>Possible values are &lsquo;synonymous&rsquo;, &lsquo;nonsynonymous&rsquo;, &lsquo;frameshift&rsquo;, \n",
       "&lsquo;nonsense&rsquo; and &lsquo;not translated&rsquo;. Variant sequences are translated only \n",
       "when the codon sequence is a multiple of 3. The value will be &lsquo;frameshift&rsquo; \n",
       "when a sequence is of incompatible length. &lsquo;not translated&rsquo; is used\n",
       "when <code>varAllele</code> is missing or there is an &lsquo;N&rsquo; in the \n",
       "sequence. &lsquo;nonsense&rsquo; is used for premature stop codons.\n",
       "</p>\n",
       "</dd>\n",
       "<dt><code>REFCODON</code></dt><dd>\n",
       "<p>The reference codon sequence. This range is typically greater\n",
       "than the width of the range in the <code>GRanges</code> because it includes \n",
       "all codons involved in the sequence modification. If the reference \n",
       "sequence is of width 2 but the alternate allele is of width 4 then at \n",
       "least two codons must be included in the <code>REFSEQ</code>.\n",
       "</p>\n",
       "</dd>\n",
       "<dt><code>VARCODON</code></dt><dd>\n",
       "<p>This sequence is the result of inserting, deleting or replacing the \n",
       "position(s) in the reference sequence alternate allele. If the result \n",
       "of this substitution is not a multiple of 3 it will not be translated.\n",
       "</p>\n",
       "</dd>\n",
       "<dt><code>REFAA</code></dt><dd>\n",
       "<p>The reference amino acid column contains the translated <code>REFSEQ</code>.\n",
       "When translation is not possible this value is missing.\n",
       "</p>\n",
       "</dd>\n",
       "<dt><code>VARAA</code></dt><dd>\n",
       "<p>The variant amino acid column contains the translated <code>VARSEQ</code>. When\n",
       "translation is not possible this value is missing.\n",
       "</p>\n",
       "</dd>\n",
       "</dl>\n",
       "\n",
       "\n",
       "\n",
       "<h3>Author(s)</h3>\n",
       "\n",
       "<p>Michael Lawrence and Valerie Obenchain</p>\n",
       "\n",
       "\n",
       "<h3>References</h3>\n",
       "\n",
       "<p><a href=\"http://www.1000genomes.org/wiki/analysis/variant-call-format/\">http://www.1000genomes.org/wiki/analysis/variant-call-format/</a>\n",
       "<a href=\"http://vcftools.sourceforge.net/specs.html\">http://vcftools.sourceforge.net/specs.html</a>\n",
       "</p>\n",
       "\n",
       "\n",
       "<h3>See Also</h3>\n",
       "\n",
       "<p>readVcf,\n",
       "locateVariants,\n",
       "refLocsToLocalLocs\n",
       "getTranscriptSeqs\n",
       "</p>\n",
       "\n",
       "\n",
       "<h3>Examples</h3>\n",
       "\n",
       "<pre>\n",
       "  library(BSgenome.Hsapiens.UCSC.hg19)\n",
       "  library(TxDb.Hsapiens.UCSC.hg19.knownGene)\n",
       "  txdb &lt;- TxDb.Hsapiens.UCSC.hg19.knownGene \n",
       "\n",
       "  ## ----------------------------\n",
       "  ## VCF object as query \n",
       "  ## ----------------------------\n",
       "  ## Read variants from a VCF file \n",
       "  fl &lt;- system.file(\"extdata\", \"chr22.vcf.gz\", package=\"VariantAnnotation\")\n",
       "  vcf &lt;- readVcf(fl, \"hg19\")\n",
       "\n",
       "  ## Rename seqlevels in the VCF object to match those in the TxDb.\n",
       "  vcf &lt;- renameSeqlevels(vcf, \"chr22\")\n",
       "  ## Confirm common seqlevels\n",
       "  intersect(seqlevels(vcf), seqlevels(txdb))\n",
       " \n",
       "  ## When 'query' is a VCF object the varAllele argument is missing.\n",
       "  coding1 &lt;- predictCoding(vcf, txdb, Hsapiens)\n",
       "  head(coding1, 3)\n",
       "\n",
       "  ## Exon-centric or cDNA locations:\n",
       "  exonsbytx &lt;- exonsBy(txdb, \"tx\")\n",
       "  cDNA &lt;- mapToTranscripts(coding1[!duplicated(ranges(coding1))], exonsbytx)\n",
       "  coding1$cDNA &lt;- ranges(cDNA)[togroup(coding1$QUERYID)]\n",
       "\n",
       "  ## ----------------------------\n",
       "  ## GRanges object as query \n",
       "  ## ----------------------------\n",
       "  ## A GRanges can also be used as the 'query'. The seqlevels in the VCF\n",
       "  ## were adjusted in previous example so the GRanges extracted with\n",
       "  ## has the correct seqlevels.\n",
       "  rd &lt;- rowRanges(vcf)\n",
       " \n",
       "  ## The GRanges must be expanded to have one row per alternate allele. \n",
       "  ## Variants 1, 2 and 10 have two alternate alleles.\n",
       "  altallele &lt;- alt(vcf)\n",
       "  eltlen &lt;- elementLengths(altallele)\n",
       "  rd_exp &lt;- rep(rd, eltlen)\n",
       " \n",
       "  ## Call predictCoding() with the expanded GRanges and the unlisted\n",
       "  ## alternate allele as the 'varAllele'.\n",
       "  coding2 &lt;- predictCoding(rd_exp, txdb, Hsapiens, unlist(altallele)) \n",
       "</pre>\n",
       "\n",
       "<hr /><div style=\"text-align: center;\">[Package <em>VariantAnnotation</em> version 1.16.4 ]</div>"
      ],
      "text/latex": [
       "\\inputencoding{utf8}\n",
       "\\HeaderA{predictCoding}{Predict amino acid coding changes for variants}{predictCoding}\n",
       "\\aliasA{predictCoding,CollapsedVCF,TxDb,ANY,missing-method}{predictCoding}{predictCoding,CollapsedVCF,TxDb,ANY,missing.Rdash.method}\n",
       "\\aliasA{predictCoding,ExpandedVCF,TxDb,ANY,missing-method}{predictCoding}{predictCoding,ExpandedVCF,TxDb,ANY,missing.Rdash.method}\n",
       "\\aliasA{predictCoding,GRanges,TxDb,ANY,DNAStringSet-method}{predictCoding}{predictCoding,GRanges,TxDb,ANY,DNAStringSet.Rdash.method}\n",
       "\\aliasA{predictCoding,Ranges,TxDb,ANY,DNAStringSet-method}{predictCoding}{predictCoding,Ranges,TxDb,ANY,DNAStringSet.Rdash.method}\n",
       "\\aliasA{predictCoding,VRanges,TxDb,ANY,missing-method}{predictCoding}{predictCoding,VRanges,TxDb,ANY,missing.Rdash.method}\n",
       "\\keyword{methods}{predictCoding}\n",
       "%\n",
       "\\begin{Description}\\relax\n",
       "Predict amino acid coding changes for variants a coding regions\n",
       "\\end{Description}\n",
       "%\n",
       "\\begin{Usage}\n",
       "\\begin{verbatim}\n",
       "## S4 method for signature 'CollapsedVCF,TxDb,ANY,missing'\n",
       "predictCoding(query, subject, seqSource, varAllele, ..., ignore.strand=FALSE)\n",
       "## S4 method for signature 'ExpandedVCF,TxDb,ANY,missing'\n",
       "predictCoding(query, subject, seqSource, varAllele, ..., ignore.strand=FALSE)\n",
       "## S4 method for signature 'Ranges,TxDb,ANY,DNAStringSet'\n",
       "predictCoding(query, subject, seqSource, varAllele, ..., ignore.strand=FALSE)\n",
       "## S4 method for signature 'GRanges,TxDb,ANY,DNAStringSet'\n",
       "predictCoding(query, subject, seqSource, varAllele, ..., ignore.strand=FALSE)\n",
       "## S4 method for signature 'VRanges,TxDb,ANY,missing'\n",
       "predictCoding(query, subject, seqSource, varAllele, ..., ignore.strand=FALSE)\n",
       "\\end{verbatim}\n",
       "\\end{Usage}\n",
       "%\n",
       "\\begin{Arguments}\n",
       "\\begin{ldescription}\n",
       "\\item[\\code{query}] A \\LinkA{VCF}{VCF.Rdash.class}, \\LinkA{Ranges}{Ranges}, \\LinkA{GRanges}{GRanges} or\n",
       "\\code{VRanges} instance containing the variants to be annotated. If\n",
       "\\code{query} is a \\LinkA{Ranges}{Ranges} or \\code{VRanges} it is coerced to\n",
       "a \\LinkA{GRanges}{GRanges}.  If a \\LinkA{VCF}{VCF.Rdash.class} is provided the \\code{GRanges}\n",
       "returned by the \\code{rowRanges()} accessor will be used. All metadata\n",
       "columns are ignored.\n",
       "\n",
       "When \\code{query} is not a \\code{VCF} object a \\code{varAllele} must be\n",
       "provided. The \\code{varAllele} must be a \\code{DNAStringSet} the same length\n",
       "as the \\code{query}. If there are multiple alternate alleles per variant the\n",
       "\\code{query} must be expanded to one row per each alternate allele.  See\n",
       "examples.\n",
       "\n",
       "NOTE: Variants are expected to conform to the VCF specs as described\n",
       "on the 1000 Genomes page (see references). Indels must include\n",
       "the reference allele; zero-width ranges are not valid and return no matches.\n",
       "\n",
       "\\item[\\code{subject}] A \\LinkA{TxDb}{TxDb} object that serves \n",
       "as the annotation. GFF files can be converted to \n",
       "\\LinkA{TxDb}{TxDb} objects with \n",
       "\\code{makeTxDbFromGFF()} in the \\code{GenomicFeatures} package.\n",
       "\n",
       "\\item[\\code{seqSource}] A \\code{\\LinkA{BSgenome}{BSgenome}} instance or an \\LinkA{FaFile}{FaFile}\n",
       "to be used for sequence extraction.\n",
       "\n",
       "\\item[\\code{varAllele}] A \\LinkA{DNAStringSet}{DNAStringSet} containing the variant\n",
       "(alternate) alleles. The length of \\code{varAllele} must equal the length\n",
       "of \\code{query}. Missing values are represented by a zero width empty \n",
       "element. Ranges with missing \\code{varAllele} values are ignored; those with \n",
       "an `N' character are not translated.\n",
       "\n",
       "When the \\code{query} is a \\code{VCF} object the \\code{varAllele} argument \n",
       "will be missing. This value is taken internally from the \\code{VCF} with\n",
       "\\code{alt(<VCF>)}.\n",
       "\n",
       "\\item[\\code{...}] Additional arguments passed to methods. Arguments\n",
       "\\code{genetic.code} and \\code{if.fuzzy.codon} are supported for the\n",
       "\\code{translate} function.\n",
       "\n",
       "\\item[\\code{ignore.strand}] A \\code{logical} indicating if strand should be ignored\n",
       "when performing overlaps.\n",
       "\n",
       "When \\code{ignore.strand == TRUE} the \\code{query} strand is set to\n",
       "'*' and can overlap with any strand of the \\code{subject}. The\n",
       "return \\code{GRanges} reflects the strand of the \\code{subject} hit,\n",
       "however, the positions and alleles reported are computed as if \n",
       "both were from the '+' strand.\n",
       "\n",
       "\\code{ignore.strand == FALSE} requires the \\code{query} and \\code{subject}\n",
       "to have compatible strand. Again the return \\code{GRanges} reports\n",
       "the strand of the \\code{subject} hit but in this case positions and\n",
       "alleles are computed according to the strand of the \\code{subject}.\n",
       "\n",
       "\\end{ldescription}\n",
       "\\end{Arguments}\n",
       "%\n",
       "\\begin{Details}\\relax\n",
       "This function returns the amino acid coding for variants that fall \n",
       "completely `within' a coding region. The reference sequences are \n",
       "taken from a fasta file or \\LinkA{BSgenome}{BSgenome}. The width of \n",
       "the reference is determined from the start position and width of the \n",
       "range in the \\code{query}. For guidance on how to represent an insertion, \n",
       "deletion or substitution see the 1000 Genomes VCF format (references). \n",
       "\n",
       "Variant alleles are taken from the \\code{varAllele} when supplied.\n",
       "When the \\code{query} is a \\code{VCF} object the \\code{varAllele} will\n",
       "be missing. This value is taken internally from the \\code{VCF} with\n",
       "\\code{alt(<VCF>)}. The variant allele is substituted \n",
       "into the reference sequences and transcribed. Transcription only \n",
       "occurs if the substitution, insertion or deletion results in a new sequence \n",
       "length divisible by 3.\n",
       "\n",
       "When the \\code{query} is an unstranded (*) \\code{GRanges} \\code{predictCoding} \n",
       "will attempt to find overlaps on both the positive and negative strands of the\n",
       "\\code{subject}. When the subject hit is on the negative strand the return \n",
       "\\code{varAllele} is reverse complemented. The strand of the returned \n",
       "\\code{GRanges} represents the strand of the subject hit.\n",
       "\\end{Details}\n",
       "%\n",
       "\\begin{Value}\n",
       "A \\LinkA{GRanges}{GRanges} with a row for each variant-transcript \n",
       "match. The result includes only variants that fell within coding regions.\n",
       "The strand of the output \\code{GRanges} represents the strand of the \n",
       "\\code{subject} hit.\n",
       "\n",
       "At a minimum, the metadata columns (accessible with \\code{mcols}) include,\n",
       "\\begin{description}\n",
       "\n",
       "\\item[\\code{varAllele}] \n",
       "Variant allele. This value is reverse complemented for an unstranded \n",
       "\\code{query} that overlaps a \\code{subject} on the negative strand.\n",
       "\n",
       "\\item[\\code{QUERYID}] \n",
       "Map back to the row in the original query\n",
       "\n",
       "\\item[\\code{TXID}] \n",
       "Internal transcript id from the annotation\n",
       "\n",
       "\\item[\\code{CDSID}] \n",
       "Internal coding region id from the annotation\n",
       "\n",
       "\\item[\\code{GENEID}] \n",
       "Internal gene id from the annotation\n",
       "\n",
       "\\item[\\code{CDSLOC}] \n",
       "Variant location in coding region-based coordinates. This position is \n",
       "relative to the start of the coding (cds) region defined in the \n",
       "\\code{subject} annotation.\n",
       "\n",
       "\\item[\\code{PROTEINLOC}] \n",
       "Variant codon triplet location in coding region-based coordinates.\n",
       "This position is relative to the start of the coding (cds) region\n",
       "defined in the \\code{subject} annotation. \n",
       "\n",
       "\\item[\\code{CONSEQUENCE}] \n",
       "Possible values are `synonymous', `nonsynonymous', `frameshift', \n",
       "`nonsense' and `not translated'. Variant sequences are translated only \n",
       "when the codon sequence is a multiple of 3. The value will be `frameshift' \n",
       "when a sequence is of incompatible length. `not translated' is used\n",
       "when \\code{varAllele} is missing or there is an `N' in the \n",
       "sequence. `nonsense' is used for premature stop codons.\n",
       "\n",
       "\\item[\\code{REFCODON}] \n",
       "The reference codon sequence. This range is typically greater\n",
       "than the width of the range in the \\code{GRanges} because it includes \n",
       "all codons involved in the sequence modification. If the reference \n",
       "sequence is of width 2 but the alternate allele is of width 4 then at \n",
       "least two codons must be included in the \\code{REFSEQ}.\n",
       "\n",
       "\\item[\\code{VARCODON}] \n",
       "This sequence is the result of inserting, deleting or replacing the \n",
       "position(s) in the reference sequence alternate allele. If the result \n",
       "of this substitution is not a multiple of 3 it will not be translated.\n",
       "\n",
       "\\item[\\code{REFAA}] \n",
       "The reference amino acid column contains the translated \\code{REFSEQ}.\n",
       "When translation is not possible this value is missing.\n",
       "\n",
       "\\item[\\code{VARAA}] \n",
       "The variant amino acid column contains the translated \\code{VARSEQ}. When\n",
       "translation is not possible this value is missing.\n",
       "\n",
       "\n",
       "\\end{description}\n",
       "\n",
       "\\end{Value}\n",
       "%\n",
       "\\begin{Author}\\relax\n",
       "Michael Lawrence and Valerie Obenchain\n",
       "\\end{Author}\n",
       "%\n",
       "\\begin{References}\\relax\n",
       "\\url{http://www.1000genomes.org/wiki/analysis/variant-call-format/}\n",
       "\\url{http://vcftools.sourceforge.net/specs.html}\n",
       "\\end{References}\n",
       "%\n",
       "\\begin{SeeAlso}\\relax\n",
       "\\LinkA{readVcf}{readVcf},\n",
       "\\LinkA{locateVariants}{locateVariants},\n",
       "\\LinkA{refLocsToLocalLocs}{refLocsToLocalLocs}\n",
       "\\LinkA{getTranscriptSeqs}{getTranscriptSeqs}\n",
       "\\end{SeeAlso}\n",
       "%\n",
       "\\begin{Examples}\n",
       "\\begin{ExampleCode}\n",
       "  library(BSgenome.Hsapiens.UCSC.hg19)\n",
       "  library(TxDb.Hsapiens.UCSC.hg19.knownGene)\n",
       "  txdb <- TxDb.Hsapiens.UCSC.hg19.knownGene \n",
       "\n",
       "  ## ----------------------------\n",
       "  ## VCF object as query \n",
       "  ## ----------------------------\n",
       "  ## Read variants from a VCF file \n",
       "  fl <- system.file(\"extdata\", \"chr22.vcf.gz\", package=\"VariantAnnotation\")\n",
       "  vcf <- readVcf(fl, \"hg19\")\n",
       "\n",
       "  ## Rename seqlevels in the VCF object to match those in the TxDb.\n",
       "  vcf <- renameSeqlevels(vcf, \"chr22\")\n",
       "  ## Confirm common seqlevels\n",
       "  intersect(seqlevels(vcf), seqlevels(txdb))\n",
       " \n",
       "  ## When 'query' is a VCF object the varAllele argument is missing.\n",
       "  coding1 <- predictCoding(vcf, txdb, Hsapiens)\n",
       "  head(coding1, 3)\n",
       "\n",
       "  ## Exon-centric or cDNA locations:\n",
       "  exonsbytx <- exonsBy(txdb, \"tx\")\n",
       "  cDNA <- mapToTranscripts(coding1[!duplicated(ranges(coding1))], exonsbytx)\n",
       "  coding1$cDNA <- ranges(cDNA)[togroup(coding1$QUERYID)]\n",
       "\n",
       "  ## ----------------------------\n",
       "  ## GRanges object as query \n",
       "  ## ----------------------------\n",
       "  ## A GRanges can also be used as the 'query'. The seqlevels in the VCF\n",
       "  ## were adjusted in previous example so the GRanges extracted with\n",
       "  ## has the correct seqlevels.\n",
       "  rd <- rowRanges(vcf)\n",
       " \n",
       "  ## The GRanges must be expanded to have one row per alternate allele. \n",
       "  ## Variants 1, 2 and 10 have two alternate alleles.\n",
       "  altallele <- alt(vcf)\n",
       "  eltlen <- elementLengths(altallele)\n",
       "  rd_exp <- rep(rd, eltlen)\n",
       " \n",
       "  ## Call predictCoding() with the expanded GRanges and the unlisted\n",
       "  ## alternate allele as the 'varAllele'.\n",
       "  coding2 <- predictCoding(rd_exp, txdb, Hsapiens, unlist(altallele)) \n",
       "\\end{ExampleCode}\n",
       "\\end{Examples}"
      ],
      "text/plain": [
       "predictCoding        package:VariantAnnotation         R Documentation\n",
       "\n",
       "_\bP_\br_\be_\bd_\bi_\bc_\bt _\ba_\bm_\bi_\bn_\bo _\ba_\bc_\bi_\bd _\bc_\bo_\bd_\bi_\bn_\bg _\bc_\bh_\ba_\bn_\bg_\be_\bs _\bf_\bo_\br _\bv_\ba_\br_\bi_\ba_\bn_\bt_\bs\n",
       "\n",
       "_\bD_\be_\bs_\bc_\br_\bi_\bp_\bt_\bi_\bo_\bn:\n",
       "\n",
       "     Predict amino acid coding changes for variants a coding regions\n",
       "\n",
       "_\bU_\bs_\ba_\bg_\be:\n",
       "\n",
       "     ## S4 method for signature 'CollapsedVCF,TxDb,ANY,missing'\n",
       "     predictCoding(query, subject, seqSource, varAllele, ..., ignore.strand=FALSE)\n",
       "     ## S4 method for signature 'ExpandedVCF,TxDb,ANY,missing'\n",
       "     predictCoding(query, subject, seqSource, varAllele, ..., ignore.strand=FALSE)\n",
       "     ## S4 method for signature 'Ranges,TxDb,ANY,DNAStringSet'\n",
       "     predictCoding(query, subject, seqSource, varAllele, ..., ignore.strand=FALSE)\n",
       "     ## S4 method for signature 'GRanges,TxDb,ANY,DNAStringSet'\n",
       "     predictCoding(query, subject, seqSource, varAllele, ..., ignore.strand=FALSE)\n",
       "     ## S4 method for signature 'VRanges,TxDb,ANY,missing'\n",
       "     predictCoding(query, subject, seqSource, varAllele, ..., ignore.strand=FALSE)\n",
       "     \n",
       "_\bA_\br_\bg_\bu_\bm_\be_\bn_\bt_\bs:\n",
       "\n",
       "   query: A VCF, Ranges, GRanges or ‘VRanges’ instance containing the\n",
       "          variants to be annotated. If ‘query’ is a Ranges or ‘VRanges’\n",
       "          it is coerced to a GRanges.  If a VCF is provided the\n",
       "          ‘GRanges’ returned by the ‘rowRanges()’ accessor will be\n",
       "          used. All metadata columns are ignored.\n",
       "\n",
       "          When ‘query’ is not a ‘VCF’ object a ‘varAllele’ must be\n",
       "          provided. The ‘varAllele’ must be a ‘DNAStringSet’ the same\n",
       "          length as the ‘query’. If there are multiple alternate\n",
       "          alleles per variant the ‘query’ must be expanded to one row\n",
       "          per each alternate allele.  See examples.\n",
       "\n",
       "          NOTE: Variants are expected to conform to the VCF specs as\n",
       "          described on the 1000 Genomes page (see references). Indels\n",
       "          must include the reference allele; zero-width ranges are not\n",
       "          valid and return no matches.\n",
       "\n",
       " subject: A TxDb object that serves as the annotation. GFF files can be\n",
       "          converted to TxDb objects with ‘makeTxDbFromGFF()’ in the\n",
       "          ‘GenomicFeatures’ package.\n",
       "\n",
       "seqSource: A ‘BSgenome’ instance or an FaFile to be used for sequence\n",
       "          extraction.\n",
       "\n",
       "varAllele: A DNAStringSet containing the variant (alternate) alleles.\n",
       "          The length of ‘varAllele’ must equal the length of ‘query’.\n",
       "          Missing values are represented by a zero width empty element.\n",
       "          Ranges with missing ‘varAllele’ values are ignored; those\n",
       "          with an ‘N’ character are not translated.\n",
       "\n",
       "          When the ‘query’ is a ‘VCF’ object the ‘varAllele’ argument\n",
       "          will be missing. This value is taken internally from the\n",
       "          ‘VCF’ with ‘alt(<VCF>)’.\n",
       "\n",
       "     ...: Additional arguments passed to methods. Arguments\n",
       "          ‘genetic.code’ and ‘if.fuzzy.codon’ are supported for the\n",
       "          ‘translate’ function.\n",
       "\n",
       "ignore.strand: A ‘logical’ indicating if strand should be ignored when\n",
       "          performing overlaps.\n",
       "\n",
       "          When ‘ignore.strand == TRUE’ the ‘query’ strand is set to '*'\n",
       "          and can overlap with any strand of the ‘subject’. The return\n",
       "          ‘GRanges’ reflects the strand of the ‘subject’ hit, however,\n",
       "          the positions and alleles reported are computed as if both\n",
       "          were from the '+' strand.\n",
       "\n",
       "          ‘ignore.strand == FALSE’ requires the ‘query’ and ‘subject’\n",
       "          to have compatible strand. Again the return ‘GRanges’ reports\n",
       "          the strand of the ‘subject’ hit but in this case positions\n",
       "          and alleles are computed according to the strand of the\n",
       "          ‘subject’.\n",
       "\n",
       "_\bD_\be_\bt_\ba_\bi_\bl_\bs:\n",
       "\n",
       "     This function returns the amino acid coding for variants that fall\n",
       "     completely `within' a coding region. The reference sequences are\n",
       "     taken from a fasta file or BSgenome. The width of the reference is\n",
       "     determined from the start position and width of the range in the\n",
       "     ‘query’. For guidance on how to represent an insertion, deletion\n",
       "     or substitution see the 1000 Genomes VCF format (references).\n",
       "\n",
       "     Variant alleles are taken from the ‘varAllele’ when supplied.\n",
       "     When the ‘query’ is a ‘VCF’ object the ‘varAllele’ will be\n",
       "     missing. This value is taken internally from the ‘VCF’ with\n",
       "     ‘alt(<VCF>)’. The variant allele is substituted into the reference\n",
       "     sequences and transcribed. Transcription only occurs if the\n",
       "     substitution, insertion or deletion results in a new sequence\n",
       "     length divisible by 3.\n",
       "\n",
       "     When the ‘query’ is an unstranded (*) ‘GRanges’ ‘predictCoding’\n",
       "     will attempt to find overlaps on both the positive and negative\n",
       "     strands of the ‘subject’. When the subject hit is on the negative\n",
       "     strand the return ‘varAllele’ is reverse complemented. The strand\n",
       "     of the returned ‘GRanges’ represents the strand of the subject\n",
       "     hit.\n",
       "\n",
       "_\bV_\ba_\bl_\bu_\be:\n",
       "\n",
       "     A GRanges with a row for each variant-transcript match. The result\n",
       "     includes only variants that fell within coding regions.  The\n",
       "     strand of the output ‘GRanges’ represents the strand of the\n",
       "     ‘subject’ hit.\n",
       "\n",
       "     At a minimum, the metadata columns (accessible with ‘mcols’)\n",
       "     include,\n",
       "\n",
       "     ‘varAllele’ Variant allele. This value is reverse complemented for\n",
       "          an unstranded ‘query’ that overlaps a ‘subject’ on the\n",
       "          negative strand.\n",
       "\n",
       "     ‘QUERYID’ Map back to the row in the original query\n",
       "\n",
       "     ‘TXID’ Internal transcript id from the annotation\n",
       "\n",
       "     ‘CDSID’ Internal coding region id from the annotation\n",
       "\n",
       "     ‘GENEID’ Internal gene id from the annotation\n",
       "\n",
       "     ‘CDSLOC’ Variant location in coding region-based coordinates. This\n",
       "          position is relative to the start of the coding (cds) region\n",
       "          defined in the ‘subject’ annotation.\n",
       "\n",
       "     ‘PROTEINLOC’ Variant codon triplet location in coding region-based\n",
       "          coordinates.  This position is relative to the start of the\n",
       "          coding (cds) region defined in the ‘subject’ annotation.\n",
       "\n",
       "     ‘CONSEQUENCE’ Possible values are `synonymous', `nonsynonymous',\n",
       "          `frameshift', `nonsense' and `not translated'. Variant\n",
       "          sequences are translated only when the codon sequence is a\n",
       "          multiple of 3. The value will be `frameshift' when a sequence\n",
       "          is of incompatible length. `not translated' is used when\n",
       "          ‘varAllele’ is missing or there is an ‘N’ in the sequence.\n",
       "          `nonsense' is used for premature stop codons.\n",
       "\n",
       "     ‘REFCODON’ The reference codon sequence. This range is typically\n",
       "          greater than the width of the range in the ‘GRanges’ because\n",
       "          it includes all codons involved in the sequence modification.\n",
       "          If the reference sequence is of width 2 but the alternate\n",
       "          allele is of width 4 then at least two codons must be\n",
       "          included in the ‘REFSEQ’.\n",
       "\n",
       "     ‘VARCODON’ This sequence is the result of inserting, deleting or\n",
       "          replacing the position(s) in the reference sequence alternate\n",
       "          allele. If the result of this substitution is not a multiple\n",
       "          of 3 it will not be translated.\n",
       "\n",
       "     ‘REFAA’ The reference amino acid column contains the translated\n",
       "          ‘REFSEQ’.  When translation is not possible this value is\n",
       "          missing.\n",
       "\n",
       "     ‘VARAA’ The variant amino acid column contains the translated\n",
       "          ‘VARSEQ’. When translation is not possible this value is\n",
       "          missing.\n",
       "\n",
       "_\bA_\bu_\bt_\bh_\bo_\br(_\bs):\n",
       "\n",
       "     Michael Lawrence and Valerie Obenchain\n",
       "\n",
       "_\bR_\be_\bf_\be_\br_\be_\bn_\bc_\be_\bs:\n",
       "\n",
       "     <URL:\n",
       "     http://www.1000genomes.org/wiki/analysis/variant-call-format/>\n",
       "     <URL: http://vcftools.sourceforge.net/specs.html>\n",
       "\n",
       "_\bS_\be_\be _\bA_\bl_\bs_\bo:\n",
       "\n",
       "     readVcf, locateVariants, refLocsToLocalLocs getTranscriptSeqs\n",
       "\n",
       "_\bE_\bx_\ba_\bm_\bp_\bl_\be_\bs:\n",
       "\n",
       "       library(BSgenome.Hsapiens.UCSC.hg19)\n",
       "       library(TxDb.Hsapiens.UCSC.hg19.knownGene)\n",
       "       txdb <- TxDb.Hsapiens.UCSC.hg19.knownGene \n",
       "     \n",
       "       ## ----------------------------\n",
       "       ## VCF object as query \n",
       "       ## ----------------------------\n",
       "       ## Read variants from a VCF file \n",
       "       fl <- system.file(\"extdata\", \"chr22.vcf.gz\", package=\"VariantAnnotation\")\n",
       "       vcf <- readVcf(fl, \"hg19\")\n",
       "     \n",
       "       ## Rename seqlevels in the VCF object to match those in the TxDb.\n",
       "       vcf <- renameSeqlevels(vcf, \"chr22\")\n",
       "       ## Confirm common seqlevels\n",
       "       intersect(seqlevels(vcf), seqlevels(txdb))\n",
       "      \n",
       "       ## When 'query' is a VCF object the varAllele argument is missing.\n",
       "       coding1 <- predictCoding(vcf, txdb, Hsapiens)\n",
       "       head(coding1, 3)\n",
       "     \n",
       "       ## Exon-centric or cDNA locations:\n",
       "       exonsbytx <- exonsBy(txdb, \"tx\")\n",
       "       cDNA <- mapToTranscripts(coding1[!duplicated(ranges(coding1))], exonsbytx)\n",
       "       coding1$cDNA <- ranges(cDNA)[togroup(coding1$QUERYID)]\n",
       "     \n",
       "       ## ----------------------------\n",
       "       ## GRanges object as query \n",
       "       ## ----------------------------\n",
       "       ## A GRanges can also be used as the 'query'. The seqlevels in the VCF\n",
       "       ## were adjusted in previous example so the GRanges extracted with\n",
       "       ## has the correct seqlevels.\n",
       "       rd <- rowRanges(vcf)\n",
       "      \n",
       "       ## The GRanges must be expanded to have one row per alternate allele. \n",
       "       ## Variants 1, 2 and 10 have two alternate alleles.\n",
       "       altallele <- alt(vcf)\n",
       "       eltlen <- elementLengths(altallele)\n",
       "       rd_exp <- rep(rd, eltlen)\n",
       "      \n",
       "       ## Call predictCoding() with the expanded GRanges and the unlisted\n",
       "       ## alternate allele as the 'varAllele'.\n",
       "       coding2 <- predictCoding(rd_exp, txdb, Hsapiens, unlist(altallele)) \n",
       "     "
      ]
     },
     "execution_count": 21,
     "metadata": {},
     "output_type": "execute_result"
    }
   ],
   "source": [
    "help(package=\"VariantAnnotation\")\n",
    "?predictCoding"
   ]
  },
  {
   "cell_type": "markdown",
   "metadata": {},
   "source": [
    "to obtain an overview of help on the `VariantAnnotation` package, and the `predictCoding` function. View the package vignette with"
   ]
  },
  {
   "cell_type": "markdown",
   "metadata": {},
   "source": [
    "``` r\n",
    "browseVignettes(package=\"VariantAnnotation\")\n",
    "```"
   ]
  },
  {
   "cell_type": "markdown",
   "metadata": {},
   "source": [
    "To view vignettes providing a more comprehensive introduction to package functionality use"
   ]
  },
  {
   "cell_type": "markdown",
   "metadata": {},
   "source": [
    "``` r\n",
    "help.start()\n",
    "```"
   ]
  },
  {
   "cell_type": "markdown",
   "metadata": {},
   "source": [
    "<p class=\"back_to_top\">\n",
    "\\[ <a href=\"#top\">Back to top</a> \\]\n",
    "</p>\n",
    "<h2 id=\"session\">\n",
    "sessionInfo()\n",
    "</h2>"
   ]
  },
  {
   "cell_type": "code",
   "execution_count": 22,
   "metadata": {},
   "outputs": [
    {
     "data": {
      "text/plain": [
       "R version 3.2.2 (2015-08-14)\n",
       "Platform: x86_64-pc-linux-gnu (64-bit)\n",
       "Running under: Ubuntu 14.04.3 LTS\n",
       "\n",
       "locale:\n",
       " [1] LC_CTYPE=en_US.UTF-8       LC_NUMERIC=C              \n",
       " [3] LC_TIME=en_US.UTF-8        LC_COLLATE=en_US.UTF-8    \n",
       " [5] LC_MONETARY=de_DE.UTF-8    LC_MESSAGES=en_US.UTF-8   \n",
       " [7] LC_PAPER=de_DE.UTF-8       LC_NAME=C                 \n",
       " [9] LC_ADDRESS=C               LC_TELEPHONE=C            \n",
       "[11] LC_MEASUREMENT=de_DE.UTF-8 LC_IDENTIFICATION=C       \n",
       "\n",
       "attached base packages:\n",
       "[1] stats4    parallel  stats     graphics  grDevices utils     datasets \n",
       "[8] methods   base     \n",
       "\n",
       "other attached packages:\n",
       " [1] PolyPhen.Hsapiens.dbSNP131_1.0.2       \n",
       " [2] BSgenome.Hsapiens.UCSC.hg19_1.4.0      \n",
       " [3] BSgenome_1.38.0                        \n",
       " [4] rtracklayer_1.30.1                     \n",
       " [5] TxDb.Hsapiens.UCSC.hg19.knownGene_3.2.2\n",
       " [6] GenomicFeatures_1.22.6                 \n",
       " [7] org.Hs.eg.db_3.2.3                     \n",
       " [8] RSQLite_1.0.0                          \n",
       " [9] DBI_0.3.1                              \n",
       "[10] AnnotationDbi_1.32.2                   \n",
       "[11] cgdv17_0.8.0                           \n",
       "[12] VariantAnnotation_1.16.4               \n",
       "[13] Rsamtools_1.22.0                       \n",
       "[14] Biostrings_2.38.2                      \n",
       "[15] XVector_0.10.0                         \n",
       "[16] SummarizedExperiment_1.0.1             \n",
       "[17] Biobase_2.30.0                         \n",
       "[18] GenomicRanges_1.22.2                   \n",
       "[19] GenomeInfoDb_1.6.1                     \n",
       "[20] IRanges_2.4.6                          \n",
       "[21] S4Vectors_0.8.5                        \n",
       "[22] BiocGenerics_0.16.1                    \n",
       "\n",
       "loaded via a namespace (and not attached):\n",
       " [1] futile.logger_1.4.1     base64enc_0.1-3         bitops_1.0-6           \n",
       " [4] futile.options_1.0.0    tools_3.2.2             zlibbioc_1.16.0        \n",
       " [7] biomaRt_2.26.1          digest_0.6.8            uuid_0.1-2             \n",
       "[10] jsonlite_0.9.19         evaluate_0.8            IRdisplay_0.3          \n",
       "[13] IRkernel_0.5            rzmq_0.7.7              repr_0.4               \n",
       "[16] stringr_1.0.0           knitr_1.11              XML_3.98-1.3           \n",
       "[19] BiocParallel_1.4.0      lambda.r_1.1.7          magrittr_1.5           \n",
       "[22] GenomicAlignments_1.6.1 stringi_1.0-1           RCurl_1.95-4.7         "
      ]
     },
     "execution_count": 22,
     "metadata": {},
     "output_type": "execute_result"
    }
   ],
   "source": [
    "sessionInfo()"
   ]
  },
  {
   "cell_type": "markdown",
   "metadata": {},
   "source": [
    "<p class=\"back_to_top\">\n",
    "\\[ <a href=\"#top\">Back to top</a> \\]\n",
    "</p>"
   ]
  }
 ],
 "metadata": {
  "kernelspec": {
   "display_name": "R",
   "language": "R",
   "name": "ir"
  }
 },
 "nbformat": 4,
 "nbformat_minor": 0
}
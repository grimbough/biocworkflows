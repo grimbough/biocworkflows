{
 "cells": [
  {
   "cell_type": "markdown",
   "metadata": {

   },
   "source": [
    "<h1>\n",
    "Annotating Genomic Variants\n",
    "</h1>\n",
    "-   [Background](#background)\n",
    "-   [Set Up](#setup)\n",
    "-   [Exploring variants in the TRPV gene family](#TRPV)\n",
    "    -   [Examine header data in a vcf file](#TRPV_header)\n",
    "    -   [Convert gene symbols to gene ids](#TRPV_symbols)\n",
    "    -   [Create gene ranges](#TRPV_ranges)\n",
    "    -   [Extract variant subsets](#TRPV_subset)\n",
    "    -   [Variant location in the gene model](#TRPV_locate)\n",
    "    -   [Amino acid coding changes in non-synonymous variants](#TRPV_predict)\n",
    "-   [Annotating with the ensemblVEP package](#vep)\n",
    "-   [Exploring Package Content](#content)\n",
    "-   [sessionInfo()](#session)\n",
    "\n",
    "<h2 id=\"background\">\n",
    "Background\n",
    "</h2>\n",
    "The VariantAnnotation package has facilities for reading in all or subsets of Variant Call Format (VCF) files. These text files contain meta-information lines, a header line and data lines each containing information about a position in the genome. The format also may also contain genotype information on samples for each position. More on the file format can be found in the [VCF specs](http://samtools.github.io/hts-specs/VCFv4.2.pdf).\n",
    "\n",
    "The 'locateVariants' function in the VariantAnnotation package identifies where a variant is located with respect to the gene model (e.g., exon, intron, splice site, etc.). The 'predictCoding' function reports the amino acid change for non-synonymous coding variants. Consequences of the coding changes can be investigated with the SIFT and PolyPhen database packages. We'll use these functions to learn about variants located on the TRPV gene on chromosome\n",
    "\n",
    "<h2 id=\"setup\">\n",
    "Set Up\n",
    "</h2>\n",
    "This workflow requires several different Bioconductor packages. Usage of each will be described in detail in the following sections."
   ]
  },
  {
   "cell_type": "markdown",
   "metadata": {

   },
   "source": [
    "``` r\n",
    "library(VariantAnnotation)\n",
    "library(cgdv17)\n",
    "library(org.Hs.eg.db)\n",
    "library(TxDb.Hsapiens.UCSC.hg19.knownGene)\n",
    "library(BSgenome.Hsapiens.UCSC.hg19)\n",
    "library(PolyPhen.Hsapiens.dbSNP131)",
    "\n```"
   ]
  },
  {
   "cell_type": "markdown",
   "metadata": {

   },
   "source": "Use biocLite() to get the packages you don't have installed:"
  },
  {
   "cell_type": "markdown",
   "metadata": {

   },
   "source": [
    "``` r\n",
    "## try http:// if https:// URLs are not supported\n",
    "source(\"https://bioconductor.org/biocLite.R\")\n",
    "biocLite(\"mypackage\")",
    "\n```"
   ]
  },
  {
   "cell_type": "markdown",
   "metadata": {

   },
   "source": [
    "<h2 id=\"TRPV\">\n",
    "Exploring variants in the TRPV gene family\n",
    "</h2>\n",
    "This workflow focuses on variants located in the Transient Receptor Potential Vanilloid (TRPV) gene family on chromosome 17. Sample data are from the Bioconductor cgdv17 experimental data package which contains Complete Genomics Diversity panel data for chromosome 17 on 46 individuals. For more background on how these data were curated see the package vignette."
   ]
  },
  {
   "cell_type": "markdown",
   "metadata": {

   },
   "source": [
    "``` r\n",
    "browseVignettes(\"cgdv17\")",
    "\n```"
   ]
  },
  {
   "cell_type": "markdown",
   "metadata": {

   },
   "source": "We use a VCF file from the package that is a subset of chromosome 17 for a single individual from the CEU population."
  },
  {
   "cell_type": "code",
   "execution_count": null,
   "metadata": {

   },
   "outputs": [

   ],
   "source": [
    "library(VariantAnnotation)\n",
    "library(cgdv17)\n",
    "file <- system.file(\"vcf\", \"NA06985_17.vcf.gz\", package = \"cgdv17\")"
   ]
  },
  {
   "cell_type": "markdown",
   "metadata": {

   },
   "source": [
    "<h3 id=\"TRPV_header\">\n",
    "Examine header data in a vcf file\n",
    "</h3>\n",
    "To get an idea of what data are in the file we look at the header. scanVcfHeader() parses the file header into a VCFHeader object and the info() and geno() accessors extract field-specific data."
   ]
  },
  {
   "cell_type": "code",
   "execution_count": null,
   "metadata": {

   },
   "outputs": [

   ],
   "source": [
    "hdr <- scanVcfHeader(file)\n",
    " \n",
    "info(hdr) \n",
    " \n",
    "geno(hdr) "
   ]
  },
  {
   "cell_type": "markdown",
   "metadata": {

   },
   "source": "Variants in the VCF have been aligned to NCBI genome build GRCh37:"
  },
  {
   "cell_type": "code",
   "execution_count": null,
   "metadata": {

   },
   "outputs": [

   ],
   "source": "meta(hdr)$META"
  },
  {
   "cell_type": "markdown",
   "metadata": {

   },
   "source": [
    "<p class=\"back_to_top\">\n",
    "\\[ <a href=\"#top\">Back to top</a> \\]\n",
    "</p>\n",
    "<h3 id=\"TRPV_symbols\">\n",
    "Convert gene symbols to gene ids\n",
    "</h3>\n",
    "Use the org.Hs.eg.db package to convert gene symbols to gene ids."
   ]
  },
  {
   "cell_type": "code",
   "execution_count": null,
   "metadata": {

   },
   "outputs": [

   ],
   "source": [
    "## get entrez ids from gene symbols\n",
    "library(org.Hs.eg.db)\n",
    "genesym <- c(\"TRPV1\", \"TRPV2\", \"TRPV3\")\n",
    "geneid <- select(org.Hs.eg.db, keys=genesym, keytype=\"SYMBOL\",\n",
    "                 columns=\"ENTREZID\")\n",
    "geneid"
   ]
  },
  {
   "cell_type": "markdown",
   "metadata": {

   },
   "source": [
    "<p class=\"back_to_top\">\n",
    "\\[ <a href=\"#top\">Back to top</a> \\]\n",
    "</p>\n",
    "<h3 id=\"TRPV_ranges\">\n",
    "Create gene ranges\n",
    "</h3>\n",
    "We use the hg19 known gene track from UCSC to identify the TRPV gene ranges. These ranges will eventually be used to extract variants from a regions in the VCF file.\n",
    "\n",
    "Load the annotation package."
   ]
  },
  {
   "cell_type": "code",
   "execution_count": null,
   "metadata": {

   },
   "outputs": [

   ],
   "source": [
    "library(TxDb.Hsapiens.UCSC.hg19.knownGene)\n",
    "txdb <- TxDb.Hsapiens.UCSC.hg19.knownGene\n",
    "txdb"
   ]
  },
  {
   "cell_type": "markdown",
   "metadata": {

   },
   "source": "Our VCF file was aligned to a genome from NCBI and the known gene track was from UCSC. These institutions have different naming conventions for the chromosomes. In order to use these two pieces of data in a matching or overlap operation the chromosome names (also called sesqlevels) need to match. We will modify the txdb to match the VCF file."
  },
  {
   "cell_type": "code",
   "execution_count": null,
   "metadata": {

   },
   "outputs": [

   ],
   "source": [
    "txdb <- renameSeqlevels(txdb, gsub(\"chr\", \"\", seqlevels(txdb)))\n",
    "txdb <- keepSeqlevels(txdb, \"17\")"
   ]
  },
  {
   "cell_type": "markdown",
   "metadata": {

   },
   "source": "Create a list of transcripts by gene:"
  },
  {
   "cell_type": "code",
   "execution_count": null,
   "metadata": {

   },
   "outputs": [

   ],
   "source": "txbygene = transcriptsBy(txdb, \"gene\")"
  },
  {
   "cell_type": "markdown",
   "metadata": {

   },
   "source": "Create the gene ranges for the TRPV genes"
  },
  {
   "cell_type": "code",
   "execution_count": null,
   "metadata": {

   },
   "outputs": [

   ],
   "source": [
    "gnrng <- unlist(range(txbygene[geneid$ENTREZID]), use.names=FALSE)\n",
    "names(gnrng) <- geneid$SYMBOL"
   ]
  },
  {
   "cell_type": "markdown",
   "metadata": {

   },
   "source": [
    "<p class=\"back_to_top\">\n",
    "\\[ <a href=\"#top\">Back to top</a> \\]\n",
    "</p>\n",
    "<h3 id=\"TRPV_subset\">\n",
    "Extract variant subsets\n",
    "</h3>\n",
    "A ScanVcfParam object is used to retrieve data subsets. This object can specify genomic coordinates (ranges) or individual VCF elements. Extractions of ranges (vs fields) requires a tabix index. See ?indexTabix for details."
   ]
  },
  {
   "cell_type": "code",
   "execution_count": null,
   "metadata": {

   },
   "outputs": [

   ],
   "source": [
    "param <- ScanVcfParam(which = gnrng, info = \"DP\", geno = c(\"GT\", \"cPd\"))\n",
    "param\n",
    " \n",
    "## Extract the TRPV ranges from the VCF file \n",
    "vcf <- readVcf(file, \"hg19\", param)\n",
    "## Inspect the VCF object with the 'fixed', 'info' and 'geno' accessors\n",
    "vcf\n",
    " \n",
    "head(fixed(vcf))\n",
    "\n",
    "geno(vcf)"
   ]
  },
  {
   "cell_type": "markdown",
   "metadata": {

   },
   "source": [
    "<p class=\"back_to_top\">\n",
    "\\[ <a href=\"#top\">Back to top</a> \\]\n",
    "</p>\n",
    "<h3 id=\"TRPV_locate\">\n",
    "Variant location in the gene model\n",
    "</h3>\n",
    "The locateVariants function identifies where a variant falls with respect to gene structure, e.g., exon, utr, splice site, etc. We use the gene model from the TxDb.Hsapiens.UCSC.hg19.knownGene package loaded eariler."
   ]
  },
  {
   "cell_type": "markdown",
   "metadata": {

   },
   "source": [
    "``` r\n",
    "## Use the 'region' argument to define the region\n",
    "## of interest. See ?locateVariants for details.\n",
    "cds <- locateVariants(vcf, txdb, CodingVariants())\n",
    "five <- locateVariants(vcf, txdb, FiveUTRVariants())\n",
    "splice <- locateVariants(vcf, txdb, SpliceSiteVariants())\n",
    "intron <- locateVariants(vcf, txdb, IntronVariants())",
    "\n```"
   ]
  },
  {
   "cell_type": "code",
   "execution_count": null,
   "metadata": {

   },
   "outputs": [

   ],
   "source": "all <- locateVariants(vcf, txdb, AllVariants())"
  },
  {
   "cell_type": "markdown",
   "metadata": {

   },
   "source": "Each row in cds represents a variant-transcript match so multiple rows per variant are possible. If we are interested in gene-centric questions the data can be summarized by gene regardless of transcript."
  },
  {
   "cell_type": "code",
   "execution_count": null,
   "metadata": {

   },
   "outputs": [

   ],
   "source": [
    "## Did any variants match more than one gene?\n",
    "table(sapply(split(mcols(all)$GENEID, mcols(all)$QUERYID), \n",
    "      function(x) length(unique(x)) > 1))\n",
    " \n",
    "## Summarize the number of variants by gene:\n",
    "idx <- sapply(split(mcols(all)$QUERYID, mcols(all)$GENEID), unique)\n",
    "sapply(idx, length)\n",
    " \n",
    "## Summarize variant location by gene:\n",
    "sapply(names(idx), \n",
    "    function(nm) {\n",
    "        d <- all[mcols(all)$GENEID %in% nm, c(\"QUERYID\", \"LOCATION\")]\n",
    "        table(mcols(d)$LOCATION[duplicated(d) == FALSE])\n",
    "    })"
   ]
  },
  {
   "cell_type": "markdown",
   "metadata": {

   },
   "source": [
    "<p class=\"back_to_top\">\n",
    "\\[ <a href=\"#top\">Back to top</a> \\]\n",
    "</p>\n",
    "<h3 id=\"TRPV_predict\">\n",
    "Amino acid coding changes in non-synonymous variants\n",
    "</h3>\n",
    "Amino acid coding for non-synonymous variants can be computed with the function predictCoding. The BSgenome.Hsapiens.UCSC.hg19 package is used as the source of the reference alleles. Variant alleles are provided by the user."
   ]
  },
  {
   "cell_type": "code",
   "execution_count": null,
   "metadata": {

   },
   "outputs": [

   ],
   "source": [
    "library(BSgenome.Hsapiens.UCSC.hg19)\n",
    "seqlevelsStyle(vcf) <- \"UCSC\"\n",
    "seqlevelsStyle(txdb) <- \"UCSC\"\n",
    "aa <- predictCoding(vcf, txdb, Hsapiens)"
   ]
  },
  {
   "cell_type": "markdown",
   "metadata": {

   },
   "source": "predictCoding returns results for coding variants only. As with locateVariants, the output has one row per variant-transcript match so multiple rows per variant are possible."
  },
  {
   "cell_type": "code",
   "execution_count": null,
   "metadata": {

   },
   "outputs": [

   ],
   "source": [
    "## Did any variants match more than one gene?\n",
    "table(sapply(split(mcols(aa)$GENEID, mcols(aa)$QUERYID), \n",
    "        function(x) length(unique(x)) > 1))\n",
    "\n",
    "## Summarize the number of variants by gene:\n",
    "idx <- sapply(split(mcols(aa)$QUERYID, mcols(aa)$GENEID, drop=TRUE), unique)\n",
    "sapply(idx, length)\n",
    "\n",
    "## Summarize variant consequence by gene:\n",
    "sapply(names(idx), \n",
    "       function(nm) {\n",
    "           d <- aa[mcols(aa)$GENEID %in% nm, c(\"QUERYID\",\"CONSEQUENCE\")]\n",
    "           table(mcols(d)$CONSEQUENCE[duplicated(d) == FALSE])\n",
    "       })"
   ]
  },
  {
   "cell_type": "markdown",
   "metadata": {

   },
   "source": [
    "The variants 'not translated' are explained by the warnings thrown when predictCoding was called. Variants that have a missing varAllele or have an 'N' in the varAllele are not translated. If the varAllele substitution had resulted in a frameshift the consequence would be 'frameshift'. See ?predictCoding for details.\n",
    "\n",
    "<p class=\"back_to_top\">\n",
    "\\[ <a href=\"#top\">Back to top</a> \\]\n",
    "</p>\n",
    "<h2 id=\"vep\">\n",
    "Annotating with the ensemblVEP package\n",
    "</h2>\n",
    "The ensemblVEP package provides access to the online Ensembl Variant Effect Predictor (VEP tool). The VEP tool ouputs predictions of functional consequences of known and unknown variants as reported by Sequence Ontology or Ensembl. Regulatory region consequences, HGNC, Ensembl protein identifiers, HGVS, co-located variants are optional outputs. ensemblVEP() accepts the name of a VCF file and returns a VCF on disk or GRanges in the R workspace.\n",
    "\n",
    "Load ensemblVEP:"
   ]
  },
  {
   "cell_type": "code",
   "execution_count": null,
   "metadata": {

   },
   "outputs": [

   ],
   "source": "library(ensemblVEP)"
  },
  {
   "cell_type": "markdown",
   "metadata": {

   },
   "source": [
    "The 'file' argument to ensemblVEP must be a vcf file on disk. We'll write out the VCF object with the TRPV variants and submit that to ensemblVEP.\n",
    "\n",
    "Write the VCF object to a vcf file in tempfile():"
   ]
  },
  {
   "cell_type": "code",
   "execution_count": null,
   "metadata": {

   },
   "outputs": [

   ],
   "source": [
    "dest <- tempfile()\n",
    "writeVcf(vcf, dest)"
   ]
  },
  {
   "cell_type": "markdown",
   "metadata": {

   },
   "source": "Call ensemblVEP with the file containing only the TRPV variants and the custom VEPParam object:"
  },
  {
   "cell_type": "markdown",
   "metadata": {

   },
   "source": [
    "``` r\n",
    "gr <- ensemblVEP(file = dest)",
    "\n```"
   ]
  },
  {
   "cell_type": "markdown",
   "metadata": {

   },
   "source": [
    "``` r\n",
    "2015-06-09 08:50:22 - Starting...\n",
    "2015-06-09 08:50:24 - Detected format of input file as vcf\n",
    "2015-06-09 08:50:24 - Read 277 variants into buffer\n",
    "2015-06-09 08:50:24 - Reading transcript data from cache and/or database\n",
    "[================================================================================================================================================================]  [ 100% ]\n",
    "2015-06-09 08:54:29 - Retrieved 55 transcripts (0 mem, 0 cached, 55 DB, 0 duplicates)\n",
    "2015-06-09 08:54:29 - Analyzing chromosome 17\n",
    "2015-06-09 08:54:29 - Analyzing variants\n",
    "[================================================================================================================================================================]  [ 100% ]\n",
    "2015-06-09 08:54:29 - Calculating consequences\n",
    "[================================================================================================================================================================]  [ 100% ]\n",
    "2015-06-09 08:54:30 - Processed 277 total variants (1 vars/sec, 1 vars/sec total)\n",
    "2015-06-09 08:54:30 - Wrote stats summary to /tmp/RtmppUYah1/file339f64bf5700_summary.html\n",
    "2015-06-09 08:54:30 - Finished!",
    "\n```"
   ]
  },
  {
   "cell_type": "markdown",
   "metadata": {

   },
   "source": [
    "``` r\n",
    "head(gr, 3)",
    "\n```"
   ]
  },
  {
   "cell_type": "markdown",
   "metadata": {

   },
   "source": [
    "``` r\n",
    "GRanges object with 3 ranges and 22 metadata columns:\n",
    "           seqnames             ranges strand |   Allele\n",
    "              <Rle>          <IRanges>  <Rle> | <factor>\n",
    "  rs402369    chr17 [3469401, 3469401]      * |        G\n",
    "  rs402369    chr17 [3469401, 3469401]      * |        G\n",
    "  rs402369    chr17 [3469401, 3469401]      * |        G\n",
    "                                    Consequence   IMPACT   SYMBOL\n",
    "                                       <factor> <factor> <factor>\n",
    "  rs402369 splice_region_variant&intron_variant      LOW  SPATA22\n",
    "  rs402369 splice_region_variant&intron_variant      LOW  SPATA22\n",
    "  rs402369                upstream_gene_variant MODIFIER     ASPA\n",
    "                      Gene Feature_type         Feature        BIOTYPE     EXON\n",
    "                  <factor>     <factor>        <factor>       <factor> <factor>\n",
    "  rs402369 ENSG00000141255   Transcript ENST00000397168 protein_coding     <NA>\n",
    "  rs402369 ENSG00000141255   Transcript ENST00000355380 protein_coding     <NA>\n",
    "  rs402369 ENSG00000108381   Transcript ENST00000456349 protein_coding     <NA>\n",
    "             INTRON    HGVSc    HGVSp cDNA_position CDS_position\n",
    "           <factor> <factor> <factor>      <factor>     <factor>\n",
    "  rs402369      1/8     <NA>     <NA>          <NA>         <NA>\n",
    "  rs402369      1/7     <NA>     <NA>          <NA>         <NA>\n",
    "  rs402369     <NA>     <NA>     <NA>          <NA>         <NA>\n",
    "           Protein_position Amino_acids   Codons Existing_variation DISTANCE\n",
    "                   <factor>    <factor> <factor>           <factor> <factor>\n",
    "  rs402369             <NA>        <NA>     <NA>               <NA>     <NA>\n",
    "  rs402369             <NA>        <NA>     <NA>               <NA>     <NA>\n",
    "  rs402369             <NA>        <NA>     <NA>               <NA>     4652\n",
    "             STRAND SYMBOL_SOURCE    HGNC_ID\n",
    "           <factor>      <factor>   <factor>\n",
    "  rs402369       -1          HGNC HGNC:30705\n",
    "  rs402369       -1          HGNC HGNC:30705\n",
    "  rs402369        1          HGNC   HGNC:756\n",
    "  -------\n",
    "  seqinfo: 25 sequences from  genome; no seqlengths",
    "\n```"
   ]
  },
  {
   "cell_type": "markdown",
   "metadata": {

   },
   "source": "Data from the VEP tool is returned as metadata columns in the GRanges ('gr' object). You can further control what fields are returned by setting the runtime options in the VEPParam."
  },
  {
   "cell_type": "code",
   "execution_count": null,
   "metadata": {

   },
   "outputs": [

   ],
   "source": "VEPParam()"
  },
  {
   "cell_type": "markdown",
   "metadata": {

   },
   "source": "Each of the options, e.g., 'basic', 'inut', 'cache' etc. has multiple fields that can be set."
  },
  {
   "cell_type": "code",
   "execution_count": null,
   "metadata": {

   },
   "outputs": [

   ],
   "source": "basic(VEPParam())"
  },
  {
   "cell_type": "markdown",
   "metadata": {

   },
   "source": [
    "For more details on runtime options see the ?VEPParam man page and the [Ensembl VEP web site](http://uswest.ensembl.org/info/docs/tools/vep/script/vep_options.html).\n",
    "\n",
    "<p class=\"back_to_top\">\n",
    "\\[ <a href=\"#top\">Back to top</a> \\]\n",
    "</p>\n",
    "<h2 id=\"content\">\n",
    "Exploring Package Content\n",
    "</h2>\n",
    "Packages have extensive help pages, and include vignettes highlighting common use cases. The help pages and vignettes are available from within R. After loading a package, use syntax like"
   ]
  },
  {
   "cell_type": "code",
   "execution_count": null,
   "metadata": {

   },
   "outputs": [

   ],
   "source": [
    "help(package=\"VariantAnnotation\")\n",
    "?predictCoding"
   ]
  },
  {
   "cell_type": "markdown",
   "metadata": {

   },
   "source": "to obtain an overview of help on the `VariantAnnotation` package, and the `predictCoding` function. View the package vignette with"
  },
  {
   "cell_type": "markdown",
   "metadata": {

   },
   "source": [
    "``` r\n",
    "browseVignettes(package=\"VariantAnnotation\")",
    "\n```"
   ]
  },
  {
   "cell_type": "markdown",
   "metadata": {

   },
   "source": "To view vignettes providing a more comprehensive introduction to package functionality use"
  },
  {
   "cell_type": "markdown",
   "metadata": {

   },
   "source": [
    "``` r\n",
    "help.start()",
    "\n```"
   ]
  },
  {
   "cell_type": "markdown",
   "metadata": {

   },
   "source": [
    "<p class=\"back_to_top\">\n",
    "\\[ <a href=\"#top\">Back to top</a> \\]\n",
    "</p>\n",
    "<h2 id=\"session\">\n",
    "sessionInfo()\n",
    "</h2>"
   ]
  },
  {
   "cell_type": "code",
   "execution_count": null,
   "metadata": {

   },
   "outputs": [

   ],
   "source": "sessionInfo()"
  },
  {
   "cell_type": "markdown",
   "metadata": {

   },
   "source": [
    "<p class=\"back_to_top\">\n",
    "\\[ <a href=\"#top\">Back to top</a> \\]\n",
    "</p>"
   ]
  }
 ],
 "metadata": {
  "kernelspec": {
   "display_name": "R",
   "language": "R",
   "name": "ir"
  }
 },
 "nbformat": 4,
 "nbformat_minor": 0
}
